{
  "nbformat": 4,
  "nbformat_minor": 0,
  "metadata": {
    "colab": {
      "name": "ch5_03_package.ipynb",
      "provenance": [],
      "collapsed_sections": [],
      "include_colab_link": true
    },
    "kernelspec": {
      "name": "python3",
      "display_name": "Python 3"
    }
  },
  "cells": [
    {
      "cell_type": "markdown",
      "metadata": {
        "id": "view-in-github",
        "colab_type": "text"
      },
      "source": [
        "<a href=\"https://colab.research.google.com/github/swarthyPig/SM13/blob/master/ch05/ch5_03_package.ipynb\" target=\"_parent\"><img src=\"https://colab.research.google.com/assets/colab-badge.svg\" alt=\"Open In Colab\"/></a>"
      ]
    },
    {
      "cell_type": "markdown",
      "metadata": {
        "id": "zVFQjDIZWMXC",
        "colab_type": "text"
      },
      "source": [
        "# 패키지"
      ]
    },
    {
      "cell_type": "markdown",
      "metadata": {
        "id": "xz3JImwHWQ3i",
        "colab_type": "text"
      },
      "source": [
        "### 파이썬 모듈들을 모아놓은 폴더로 구성\n",
        "### 유사한 기능을 가진 모듈들을 묶어서 구성"
      ]
    },
    {
      "cell_type": "code",
      "metadata": {
        "id": "umpNM_gAWWGv",
        "colab_type": "code",
        "colab": {}
      },
      "source": [
        "# 가상의 game 패키지 예\n",
        "#\n",
        "\"\"\"\n",
        "game/\n",
        "    __init__.py\n",
        "    sound/\n",
        "        __init__.py\n",
        "        echo.py\n",
        "        wav.py\n",
        "    graphic/\n",
        "        __init__.py\n",
        "        screen.py\n",
        "        render.py\n",
        "    play/\n",
        "        __init__.py\n",
        "        run.py\n",
        "        test.py\n",
        "\"\"\"\n",
        "# game 디렉터리가 이 패키지의 루트 디렉터리이고\n",
        "# sound, graphic, play는 서브 디렉터리이다."
      ],
      "execution_count": 0,
      "outputs": []
    },
    {
      "cell_type": "markdown",
      "metadata": {
        "id": "10TFTDAFWXsf",
        "colab_type": "text"
      },
      "source": [
        "## 패키지 만들기"
      ]
    },
    {
      "cell_type": "markdown",
      "metadata": {
        "id": "Iog3LLHmWaC4",
        "colab_type": "text"
      },
      "source": [
        "#######################################\n",
        "### 패키지 기본 구성 요소 준비하기\n",
        "#######################################\n",
        "### 1. 루트폴더, 서버폴더 만들기\n",
        "### 2. *.py 소스파일 준비"
      ]
    },
    {
      "cell_type": "code",
      "metadata": {
        "id": "MwGSLvPbWeqo",
        "colab_type": "code",
        "colab": {}
      },
      "source": [
        "# 1. 루트폴더, 서버폴더 만들기\n",
        "\"\"\"\n",
        "./game/__init__.py\n",
        "./game/sound/__init__.py\n",
        "./game/sound/echo.py\n",
        "./game/graphic/__init__.py\n",
        "./game/graphic/render.py\n",
        "\"\"\""
      ],
      "execution_count": 0,
      "outputs": []
    },
    {
      "cell_type": "code",
      "metadata": {
        "id": "SfBw0OteWft_",
        "colab_type": "code",
        "colab": {}
      },
      "source": [
        "# 2. *.py 소스파일 준비\n",
        "\"\"\"\n",
        "각 디렉터리에 __init__.py 파일을 만들어 놓기만 하고 \n",
        "내용은 일단 비워 둔다.\n",
        "# echo.py\n",
        "def echo_test():\n",
        "    print (\"echo\")\n",
        "\n",
        "# render.py\n",
        "def render_test():\n",
        "    print (\"render\")\n",
        "\n",
        "\"\"\""
      ],
      "execution_count": 0,
      "outputs": []
    },
    {
      "cell_type": "markdown",
      "metadata": {
        "id": "y-7zC9m0WjIZ",
        "colab_type": "text"
      },
      "source": [
        "## 패키지 안의 함수 실행하기"
      ]
    },
    {
      "cell_type": "markdown",
      "metadata": {
        "id": "_-wr7SL5Wkqh",
        "colab_type": "text"
      },
      "source": [
        "## package를 import하여 내부 함수 실행"
      ]
    },
    {
      "cell_type": "markdown",
      "metadata": {
        "id": "aaGIXdCrWqF5",
        "colab_type": "text"
      },
      "source": [
        "### 1. echo 모듈을 import하여 실행"
      ]
    },
    {
      "cell_type": "code",
      "metadata": {
        "id": "aV8kc2xEWtCR",
        "colab_type": "code",
        "colab": {}
      },
      "source": [
        "import game.sound.echo\n",
        "\n",
        "game.sound.echo.echo_test()"
      ],
      "execution_count": 0,
      "outputs": []
    },
    {
      "cell_type": "markdown",
      "metadata": {
        "id": "tMEHebwVWuXZ",
        "colab_type": "text"
      },
      "source": [
        "### 2. echo 모듈이 있는 디렉터리까지를 from ... import하여 실행"
      ]
    },
    {
      "cell_type": "code",
      "metadata": {
        "id": "wu3CAMwbWwrp",
        "colab_type": "code",
        "colab": {}
      },
      "source": [
        "from game.sound import echo\n",
        "\n",
        "echo.echo_test()"
      ],
      "execution_count": 0,
      "outputs": []
    },
    {
      "cell_type": "markdown",
      "metadata": {
        "id": "8cO9QTcGWxAh",
        "colab_type": "text"
      },
      "source": [
        "### 3. echo 모듈의 echo_test 함수를 직접 import하여 실행"
      ]
    },
    {
      "cell_type": "code",
      "metadata": {
        "id": "0x-aAj4_W0PJ",
        "colab_type": "code",
        "colab": {}
      },
      "source": [
        "from game.sound.echo import echo_test\n",
        "\n",
        "echo_test()"
      ],
      "execution_count": 0,
      "outputs": []
    },
    {
      "cell_type": "markdown",
      "metadata": {
        "id": "VTK8wpVKW16x",
        "colab_type": "text"
      },
      "source": [
        "### 다음과 같이 echo_test 함수를 사용하는 것은 불가능"
      ]
    },
    {
      "cell_type": "code",
      "metadata": {
        "id": "4cIaKSo3W6fS",
        "colab_type": "code",
        "colab": {}
      },
      "source": [
        "import game\n",
        "\n",
        "game.sound.echo.echo_test()\n",
        "\n",
        "import game.sound.echo.echo_test  # ModuleNotFoundError:"
      ],
      "execution_count": 0,
      "outputs": []
    },
    {
      "cell_type": "markdown",
      "metadata": {
        "id": "BnnWT8h7W-MZ",
        "colab_type": "text"
      },
      "source": [
        "##  __init__.py 의 용도"
      ]
    },
    {
      "cell_type": "markdown",
      "metadata": {
        "id": "T45rLkXcXATx",
        "colab_type": "text"
      },
      "source": [
        "### __init__.py 파일은 해당 디렉터리가 패키지의 일부임을 알려주는 역할\n",
        "### 만약 game, sound, graphic 등 패키지에 포함된 디렉터리에\n",
        "### __init__.py 파일이 없다면 패키지로 인식되지 않는다."
      ]
    },
    {
      "cell_type": "code",
      "metadata": {
        "id": "F2hSDI5YXKRy",
        "colab_type": "code",
        "colab": {}
      },
      "source": [
        "from game.sound import *\n",
        "\n",
        "echo.echo_test()"
      ],
      "execution_count": 0,
      "outputs": []
    },
    {
      "cell_type": "markdown",
      "metadata": {
        "id": "08pprVH4XOSJ",
        "colab_type": "text"
      },
      "source": [
        "## relative 패키지"
      ]
    },
    {
      "cell_type": "markdown",
      "metadata": {
        "id": "VF5O7Xj0XS3S",
        "colab_type": "text"
      },
      "source": [
        "### 만약 graphic 디렉터리의 render.py 모듈이\n",
        "### sound 디렉터리의 echo.py 모듈을 사용\n",
        "\n",
        "### .. : parent folder\n",
        "###  . : current folder"
      ]
    },
    {
      "cell_type": "code",
      "metadata": {
        "id": "tqQOf0bGXVi6",
        "colab_type": "code",
        "colab": {}
      },
      "source": [
        "from game.graphic.render import render_test\n",
        "\n",
        "render_test()\n",
        "\n",
        "\"\"\"\n",
        "# render.py\n",
        "from ..sound.echo import echo_test\n",
        "\n",
        "def render_test():\n",
        "    print (\"render\")\n",
        "    echo_test()\n",
        "\"\"\"\n",
        "\n",
        "\n",
        "\"\"\"\n",
        "# render.py\n",
        "from game.sound.echo import echo_test\n",
        "def render_test():\n",
        "    print (\"render\")\n",
        "    echo_test()\n",
        "\"\"\""
      ],
      "execution_count": 0,
      "outputs": []
    },
    {
      "cell_type": "markdown",
      "metadata": {
        "id": "BAdsTbnFXWmO",
        "colab_type": "text"
      },
      "source": [
        "### Author: swarthyPig\n",
        "### 파이썬 코드: ch5_03_package.py"
      ]
    }
  ]
}