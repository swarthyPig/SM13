{
  "nbformat": 4,
  "nbformat_minor": 0,
  "metadata": {
    "colab": {
      "name": "ch5_05_internal_functions.ipynb",
      "provenance": [],
      "collapsed_sections": [],
      "include_colab_link": true
    },
    "kernelspec": {
      "name": "python3",
      "display_name": "Python 3"
    }
  },
  "cells": [
    {
      "cell_type": "markdown",
      "metadata": {
        "id": "view-in-github",
        "colab_type": "text"
      },
      "source": [
        "<a href=\"https://colab.research.google.com/github/swarthyPig/SM13/blob/master/ch05/ch5_05_internal_functions.ipynb\" target=\"_parent\"><img src=\"https://colab.research.google.com/assets/colab-badge.svg\" alt=\"Open In Colab\"/></a>"
      ]
    },
    {
      "cell_type": "markdown",
      "metadata": {
        "id": "9OVVEn1SWMD4",
        "colab_type": "text"
      },
      "source": [
        "# 내장함수"
      ]
    },
    {
      "cell_type": "markdown",
      "metadata": {
        "id": "G92iQZJqWPwZ",
        "colab_type": "text"
      },
      "source": [
        "### 파이썬 내장 함수는 미리 준비된 내부 모듈\n",
        "### 외부 모듈과 달리 import가 필요하지 않다."
      ]
    },
    {
      "cell_type": "markdown",
      "metadata": {
        "id": "IMRMUrKNWiYB",
        "colab_type": "text"
      },
      "source": [
        "## abs()\n",
        "###abs(x)는 어떤 숫자를 입력받았을 때,\n",
        "### 그 숫자의 절댓값을 돌려주는 함수"
      ]
    },
    {
      "cell_type": "code",
      "metadata": {
        "id": "4TWM34fNWseY",
        "colab_type": "code",
        "colab": {
          "base_uri": "https://localhost:8080/",
          "height": 70
        },
        "outputId": "02db8897-f95b-4cfc-bb44-48bbbb0ac54d"
      },
      "source": [
        "print(abs(3))\n",
        "print(abs(-3))\n",
        "print(abs(-1.2))"
      ],
      "execution_count": 1,
      "outputs": [
        {
          "output_type": "stream",
          "text": [
            "3\n",
            "3\n",
            "1.2\n"
          ],
          "name": "stdout"
        }
      ]
    },
    {
      "cell_type": "markdown",
      "metadata": {
        "id": "qzg8dnCKXAqR",
        "colab_type": "text"
      },
      "source": [
        "## all()\n",
        "### all(x)는 반복 가능한(iterable) 자료형 x를 입력 인수로 받으며\n",
        "### 이 x가 모두 참이면 True, 거짓이 하나라도 있으면 False를 돌려준다."
      ]
    },
    {
      "cell_type": "code",
      "metadata": {
        "id": "Qi4EttA6XIY6",
        "colab_type": "code",
        "colab": {
          "base_uri": "https://localhost:8080/",
          "height": 70
        },
        "outputId": "a9722c22-60e9-400b-c346-749925d9c53c"
      },
      "source": [
        "print(all([1, 2, 3]))\n",
        "print(all([0, 1, 2, 3]))\n",
        "\n",
        "# 참고\n",
        "print(bool([0, 1, 2, 3]), bool([0]), bool((0)), bool((0,)))"
      ],
      "execution_count": 3,
      "outputs": [
        {
          "output_type": "stream",
          "text": [
            "True\n",
            "False\n",
            "True True False True\n"
          ],
          "name": "stdout"
        }
      ]
    },
    {
      "cell_type": "markdown",
      "metadata": {
        "id": "6XcyOi34Xt1o",
        "colab_type": "text"
      },
      "source": [
        "## any()\n",
        "### any(x)는 x 중 하나라도 참이 있으면 True를 돌려주고,\n",
        "### x가 모두 거짓일 때에만 False를 돌려준다. all(x)의 반대이다."
      ]
    },
    {
      "cell_type": "code",
      "metadata": {
        "id": "OL6jBqE4X0AR",
        "colab_type": "code",
        "colab": {
          "base_uri": "https://localhost:8080/",
          "height": 52
        },
        "outputId": "f781db68-fb62-4cea-a04b-2662c971b850"
      },
      "source": [
        "print(any([0, 1, 2, 3]))\n",
        "\n",
        "print(any([0, \"\"]))"
      ],
      "execution_count": 4,
      "outputs": [
        {
          "output_type": "stream",
          "text": [
            "True\n",
            "False\n"
          ],
          "name": "stdout"
        }
      ]
    },
    {
      "cell_type": "markdown",
      "metadata": {
        "id": "6SUeNVm0YthB",
        "colab_type": "text"
      },
      "source": [
        "## chr()\n",
        "### chr(i)는 아스키(ASCII) 코드 값을 입력받아\n",
        "### 그 코드에 해당하는 문자를 출력하는 함수이다."
      ]
    },
    {
      "cell_type": "code",
      "metadata": {
        "id": "E3pd8ybPYyQp",
        "colab_type": "code",
        "colab": {
          "base_uri": "https://localhost:8080/",
          "height": 52
        },
        "outputId": "39de96d7-8d24-40fd-f62e-2575b2f96f69"
      },
      "source": [
        "print(chr(97))\n",
        "print(chr(48))"
      ],
      "execution_count": 5,
      "outputs": [
        {
          "output_type": "stream",
          "text": [
            "a\n",
            "0\n"
          ],
          "name": "stdout"
        }
      ]
    },
    {
      "cell_type": "markdown",
      "metadata": {
        "id": "1ulc0rPHZCiS",
        "colab_type": "text"
      },
      "source": [
        "## dir()\n",
        "### dir은 객체가 자체적으로 가지고 있는 변수나 함수를 보여 준다."
      ]
    },
    {
      "cell_type": "code",
      "metadata": {
        "id": "-SFgY9EaZFnq",
        "colab_type": "code",
        "colab": {
          "base_uri": "https://localhost:8080/",
          "height": 90
        },
        "outputId": "6ee41e49-67a8-44cb-99bd-9cb504a2391e"
      },
      "source": [
        "print(dir([1, 2, 3]))  # list object\n",
        "\n",
        "print(dir({\"1\": \"a\"}))  # dict object\n",
        "print(type({\"1\": \"a\"}))"
      ],
      "execution_count": 6,
      "outputs": [
        {
          "output_type": "stream",
          "text": [
            "['__add__', '__class__', '__contains__', '__delattr__', '__delitem__', '__dir__', '__doc__', '__eq__', '__format__', '__ge__', '__getattribute__', '__getitem__', '__gt__', '__hash__', '__iadd__', '__imul__', '__init__', '__init_subclass__', '__iter__', '__le__', '__len__', '__lt__', '__mul__', '__ne__', '__new__', '__reduce__', '__reduce_ex__', '__repr__', '__reversed__', '__rmul__', '__setattr__', '__setitem__', '__sizeof__', '__str__', '__subclasshook__', 'append', 'clear', 'copy', 'count', 'extend', 'index', 'insert', 'pop', 'remove', 'reverse', 'sort']\n",
            "['__class__', '__contains__', '__delattr__', '__delitem__', '__dir__', '__doc__', '__eq__', '__format__', '__ge__', '__getattribute__', '__getitem__', '__gt__', '__hash__', '__init__', '__init_subclass__', '__iter__', '__le__', '__len__', '__lt__', '__ne__', '__new__', '__reduce__', '__reduce_ex__', '__repr__', '__setattr__', '__setitem__', '__sizeof__', '__str__', '__subclasshook__', 'clear', 'copy', 'fromkeys', 'get', 'items', 'keys', 'pop', 'popitem', 'setdefault', 'update', 'values']\n",
            "<class 'dict'>\n"
          ],
          "name": "stdout"
        }
      ]
    },
    {
      "cell_type": "markdown",
      "metadata": {
        "id": "W8v266WWZNWC",
        "colab_type": "text"
      },
      "source": [
        "## divmod()\n",
        "### divmod(a, b)는 2개의 숫자를 입력으로 받는다.\n",
        "### 그리고 a를 b로 나눈 몫과 나머지를 튜플 형태로 돌려주는 함수"
      ]
    },
    {
      "cell_type": "code",
      "metadata": {
        "id": "tv77qqm5ZRUa",
        "colab_type": "code",
        "colab": {
          "base_uri": "https://localhost:8080/",
          "height": 34
        },
        "outputId": "16efeb4d-f84d-4725-f3fc-2d7634365ff5"
      },
      "source": [
        "print(divmod(7, 3))  # 결과값을 tuple로 반환"
      ],
      "execution_count": 7,
      "outputs": [
        {
          "output_type": "stream",
          "text": [
            "(2, 1)\n"
          ],
          "name": "stdout"
        }
      ]
    },
    {
      "cell_type": "markdown",
      "metadata": {
        "id": "CXUgYaG7Ze3q",
        "colab_type": "text"
      },
      "source": [
        "## enumerate()\n",
        "### enumerate는 \"열거하다\"라는 뜻이다.\n",
        "### 이 함수는 순서가 있는 자료형(리스트, 튜플, 문자열)을 입력으로\n",
        "### 받아 인덱스 값을 포함하는 enumerate 객체를 돌려준다."
      ]
    },
    {
      "cell_type": "code",
      "metadata": {
        "id": "_Z1IofmKZjri",
        "colab_type": "code",
        "colab": {
          "base_uri": "https://localhost:8080/",
          "height": 70
        },
        "outputId": "d1a29636-d578-4d75-cbc8-ad5219c9bcda"
      },
      "source": [
        "for i, name in enumerate([\"body\", \"foo\", \"bar\"]):\n",
        "    print(i, name)"
      ],
      "execution_count": 8,
      "outputs": [
        {
          "output_type": "stream",
          "text": [
            "0 body\n",
            "1 foo\n",
            "2 bar\n"
          ],
          "name": "stdout"
        }
      ]
    },
    {
      "cell_type": "markdown",
      "metadata": {
        "id": "h0lRt_3sZoaq",
        "colab_type": "text"
      },
      "source": [
        "## eval()\n",
        "### eval(expression )은 실행 가능한 문자열(1+2, 'hi' + 'a' 같은 것)을\n",
        "### 입력으로 받아 문자열을 실행한 결괏값을 돌려주는 함수"
      ]
    },
    {
      "cell_type": "code",
      "metadata": {
        "id": "6uZzIipCZsfq",
        "colab_type": "code",
        "colab": {
          "base_uri": "https://localhost:8080/",
          "height": 70
        },
        "outputId": "f5171af9-e5a0-443c-cca7-0c19516b5924"
      },
      "source": [
        "print(eval(\"1+2\"))\n",
        "print(eval(\"'hi' + 'a'\"))\n",
        "print(eval(\"divmod(4, 3)\"))"
      ],
      "execution_count": 9,
      "outputs": [
        {
          "output_type": "stream",
          "text": [
            "3\n",
            "hia\n",
            "(1, 1)\n"
          ],
          "name": "stdout"
        }
      ]
    },
    {
      "cell_type": "markdown",
      "metadata": {
        "id": "LmXv2aD6aP-6",
        "colab_type": "text"
      },
      "source": [
        "## filter()\n",
        "### filter 함수는 첫 번째 인수로 함수 이름을,\n",
        "### 두 번째 인수로 그 함수에 차례로 들어갈 반복 가능한 자료형을 받는다.\n",
        "### 그리고 두 번째 인수인 반복 가능한 자료형 요소가 첫 번째 인수인\n",
        "### 함수에 입력되었을 때 반환 값이 참인 것만 묶어서(걸러 내서) 돌려준다."
      ]
    },
    {
      "cell_type": "code",
      "metadata": {
        "id": "onsxdXnHaYMb",
        "colab_type": "code",
        "colab": {
          "base_uri": "https://localhost:8080/",
          "height": 52
        },
        "outputId": "99eaee48-2dd3-464b-9f93-aa7186d2852d"
      },
      "source": [
        "def positive(l):\n",
        "    result = []\n",
        "    for i in l:\n",
        "        if i > 0:\n",
        "            result.append(i)\n",
        "    return result\n",
        "\n",
        "\n",
        "print(positive([1, -3, 2, 0, -5, 6]))\n",
        "\n",
        "# filter() 함수 이용\n",
        "# filter1.py\n",
        "def positive(x):\n",
        "    return x > 0\n",
        "\n",
        "\n",
        "list(filter(positive, [1, -3, 2, 0, -5, 6]))\n",
        "\n",
        "# lambda를 사용하면 더욱 간편하게 코드를 작성할 수 있다.\n",
        "\n",
        "list(filter(lambda x: x > 0, [1, -3, 2, 0, -5, 6]))"
      ],
      "execution_count": 10,
      "outputs": [
        {
          "output_type": "stream",
          "text": [
            "[1, 2, 6]\n"
          ],
          "name": "stdout"
        },
        {
          "output_type": "execute_result",
          "data": {
            "text/plain": [
              "[1, 2, 6]"
            ]
          },
          "metadata": {
            "tags": []
          },
          "execution_count": 10
        }
      ]
    },
    {
      "cell_type": "markdown",
      "metadata": {
        "id": "qHsF0uGQag4a",
        "colab_type": "text"
      },
      "source": [
        "## hex()\n",
        "### hex(x)는 정수 값을 입력받아 16진수(hexadecimal)로\n",
        "### 변환하여 돌려주는 함수"
      ]
    },
    {
      "cell_type": "code",
      "metadata": {
        "id": "k78p5hVRakMz",
        "colab_type": "code",
        "colab": {
          "base_uri": "https://localhost:8080/",
          "height": 52
        },
        "outputId": "70c66769-e043-4fb5-f6e0-ca515b364675"
      },
      "source": [
        "print(hex(10))\n",
        "print(hex(234))"
      ],
      "execution_count": 12,
      "outputs": [
        {
          "output_type": "stream",
          "text": [
            "0xa\n",
            "0xea\n"
          ],
          "name": "stdout"
        }
      ]
    },
    {
      "cell_type": "markdown",
      "metadata": {
        "id": "86ZKHnLzarAe",
        "colab_type": "text"
      },
      "source": [
        "## id()\n",
        "### d(object)는 객체를 입력받아 객체의 고유 주소 값(레퍼런스)을 돌려주는 함수"
      ]
    },
    {
      "cell_type": "code",
      "metadata": {
        "id": "a4UF9QmRaueK",
        "colab_type": "code",
        "colab": {
          "base_uri": "https://localhost:8080/",
          "height": 87
        },
        "outputId": "823090c6-ec2d-4b36-e4df-31925ab655e3"
      },
      "source": [
        "a = 3\n",
        "print(id(3))\n",
        "print(id(a))\n",
        "b = a\n",
        "print(id(b))\n",
        "print(id(4))  # different address"
      ],
      "execution_count": 11,
      "outputs": [
        {
          "output_type": "stream",
          "text": [
            "10914560\n",
            "10914560\n",
            "10914560\n",
            "10914592\n"
          ],
          "name": "stdout"
        }
      ]
    },
    {
      "cell_type": "markdown",
      "metadata": {
        "id": "PfYS_WTLa-Ra",
        "colab_type": "text"
      },
      "source": [
        "## input()\n",
        "### input([prompt])은 사용자 입력을 받는 함수이다.\n",
        "### 매개변수로 문자열을 주면, 그 문자열은 프롬프트가 된다."
      ]
    },
    {
      "cell_type": "code",
      "metadata": {
        "id": "PUppI1ZDbYbT",
        "colab_type": "code",
        "colab": {
          "base_uri": "https://localhost:8080/",
          "height": 70
        },
        "outputId": "70447af7-d9db-4938-feb3-da4d642d4224"
      },
      "source": [
        "a = input()\n",
        "b = input(\"Enter: \")\n",
        "print(b)"
      ],
      "execution_count": 13,
      "outputs": [
        {
          "output_type": "stream",
          "text": [
            "1\n",
            "Enter: 2\n",
            "2\n"
          ],
          "name": "stdout"
        }
      ]
    },
    {
      "cell_type": "markdown",
      "metadata": {
        "id": "bSunb4hQbfmq",
        "colab_type": "text"
      },
      "source": [
        "## int()\n",
        "### int(x)는 문자열 형태의 숫자나 소수점이 있는 숫자 등을\n",
        "### 정수 형태로 돌려주는 함수"
      ]
    },
    {
      "cell_type": "code",
      "metadata": {
        "id": "i_VrbVvrbq2j",
        "colab_type": "code",
        "colab": {
          "base_uri": "https://localhost:8080/",
          "height": 34
        },
        "outputId": "8d1a9398-34f7-4533-a6d5-51bf5325aa63"
      },
      "source": [
        "int(3)\n",
        "int(\"3\")\n",
        "int(3.14)\n",
        "\n",
        "# int(x, radix)는 radix 진수로 표현된 문자열 x를 10진수로 변환\n",
        "int(\"11\", 2)\n",
        "# int(11, 2)  # TypeError:\n",
        "\n",
        "int(\"F\", 16)"
      ],
      "execution_count": 15,
      "outputs": [
        {
          "output_type": "execute_result",
          "data": {
            "text/plain": [
              "15"
            ]
          },
          "metadata": {
            "tags": []
          },
          "execution_count": 15
        }
      ]
    },
    {
      "cell_type": "markdown",
      "metadata": {
        "id": "LhRGxdIfbxgb",
        "colab_type": "text"
      },
      "source": [
        "## isinstance()\n",
        "### isinstance(object, class )는 첫 번째 인수로 인스턴스,\n",
        "### 두 번째 인수로 클래스 이름을 받는다.\n",
        "### 입력으로 받은 인스턴스가 그 클래스의 인스턴스인지를 판단하여\n",
        "### 참이면 True, 거짓이면 False를 돌려준다."
      ]
    },
    {
      "cell_type": "code",
      "metadata": {
        "id": "3w72mX6Ib6mL",
        "colab_type": "code",
        "colab": {
          "base_uri": "https://localhost:8080/",
          "height": 34
        },
        "outputId": "37d9c39c-355d-446d-e2b7-6aad0f614c9e"
      },
      "source": [
        "class Person:\n",
        "    pass\n",
        "\n",
        "\n",
        "a = Person()\n",
        "isinstance(a, Person)\n",
        "\n",
        "b = 3\n",
        "isinstance(b, Person)"
      ],
      "execution_count": 16,
      "outputs": [
        {
          "output_type": "execute_result",
          "data": {
            "text/plain": [
              "False"
            ]
          },
          "metadata": {
            "tags": []
          },
          "execution_count": 16
        }
      ]
    },
    {
      "cell_type": "markdown",
      "metadata": {
        "id": "JPO13ag0b8V8",
        "colab_type": "text"
      },
      "source": [
        "## len()\n",
        "### len(s)은 입력값 s의 길이(요소의 전체 개수)를 돌려주는 함수이다."
      ]
    },
    {
      "cell_type": "code",
      "metadata": {
        "id": "uYM7ZhvGb_WT",
        "colab_type": "code",
        "colab": {
          "base_uri": "https://localhost:8080/",
          "height": 87
        },
        "outputId": "4f28238e-93c0-4307-d5b3-7fefb036efb8"
      },
      "source": [
        "print(len(\"python\"))\n",
        "print(len([1, 2, 3]))\n",
        "print(len((1, \"a\")))\n",
        "print(len({a: 3}))"
      ],
      "execution_count": 17,
      "outputs": [
        {
          "output_type": "stream",
          "text": [
            "6\n",
            "3\n",
            "2\n",
            "1\n"
          ],
          "name": "stdout"
        }
      ]
    },
    {
      "cell_type": "markdown",
      "metadata": {
        "id": "o4QrKmskcFUE",
        "colab_type": "text"
      },
      "source": [
        "## list()\n",
        "### list(s)는 반복 가능한 자료형 s를 입력받아\n",
        "### 리스트로 만들어 돌려주는 함수"
      ]
    },
    {
      "cell_type": "code",
      "metadata": {
        "id": "5j0v74j-cJAU",
        "colab_type": "code",
        "colab": {
          "base_uri": "https://localhost:8080/",
          "height": 52
        },
        "outputId": "c367567d-b076-495e-95b9-36b932307466"
      },
      "source": [
        "print(list(\"python\"))\n",
        "print(list((1, 2, 3)))"
      ],
      "execution_count": 18,
      "outputs": [
        {
          "output_type": "stream",
          "text": [
            "['p', 'y', 't', 'h', 'o', 'n']\n",
            "[1, 2, 3]\n"
          ],
          "name": "stdout"
        }
      ]
    },
    {
      "cell_type": "markdown",
      "metadata": {
        "id": "Lp-h31lacTM8",
        "colab_type": "text"
      },
      "source": [
        "## map()\n",
        "### map(f, iterable)은 함수(f)와 반복 가능한(iterable) 자료형을\n",
        "### 입력으로 받는다.\n",
        "### map은 입력받은 자료형의 각 요소를 함수 f가 수행한 결과를\n",
        "### 묶어서 돌려주는 함수"
      ]
    },
    {
      "cell_type": "code",
      "metadata": {
        "id": "4oa3DZvBcaDU",
        "colab_type": "code",
        "colab": {}
      },
      "source": [
        "def two_times(numberList):\n",
        "    result = []\n",
        "    for number in numberList:\n",
        "        result.append(number * 2)\n",
        "    return result\n",
        "\n",
        "\n",
        "result = two_times([1, 2, 3, 4])\n",
        "print(result)\n",
        "\n",
        "# map 함수를 사용\n",
        "def two_times(x):\n",
        "    return x * 2\n",
        "\n",
        "\n",
        "list(map(two_times, [1, 2, 3, 4]))\n",
        "\n",
        "# lambda를 사용\n",
        "list(map(lambda a: a * 2, [1, 2, 3, 4]))"
      ],
      "execution_count": 0,
      "outputs": []
    },
    {
      "cell_type": "markdown",
      "metadata": {
        "id": "-8m1z_lzcckU",
        "colab_type": "text"
      },
      "source": [
        "## max()\n",
        "### max(iterable)는 인수로 반복 가능한 자료형을 입력받아\n",
        "### 그 최댓값을 돌려주는 함수"
      ]
    },
    {
      "cell_type": "code",
      "metadata": {
        "id": "yKeYCNT9cgBN",
        "colab_type": "code",
        "colab": {}
      },
      "source": [
        "max([1, 2, 3])\n",
        "max(\"python\")\n",
        "max(list(range(10)))\n",
        "max(range(10))"
      ],
      "execution_count": 0,
      "outputs": []
    },
    {
      "cell_type": "markdown",
      "metadata": {
        "id": "75hOesl2chJu",
        "colab_type": "text"
      },
      "source": [
        "## min()\n",
        "### min(iterable)은 max 함수와 반대로, 인수로 반복 가능한\n",
        "### 자료형을 입력받아 그 최솟값을 돌려주는 함수"
      ]
    },
    {
      "cell_type": "code",
      "metadata": {
        "id": "OGB-fZlrckjk",
        "colab_type": "code",
        "colab": {
          "base_uri": "https://localhost:8080/",
          "height": 34
        },
        "outputId": "a65ddfa0-3bb2-4463-d3d5-e15382e307a8"
      },
      "source": [
        "min([1, 2, 3])\n",
        "min(\"python\")\n",
        "min(range(10))\n"
      ],
      "execution_count": 19,
      "outputs": [
        {
          "output_type": "execute_result",
          "data": {
            "text/plain": [
              "0"
            ]
          },
          "metadata": {
            "tags": []
          },
          "execution_count": 19
        }
      ]
    },
    {
      "cell_type": "markdown",
      "metadata": {
        "id": "TVEkZXI8cmiT",
        "colab_type": "text"
      },
      "source": [
        "## oct()\n",
        "### oct(x)는 정수 형태의 숫자를 8진수 문자열로 바꾸어 돌려주는 함수"
      ]
    },
    {
      "cell_type": "code",
      "metadata": {
        "id": "6uCg0c_dcpZ8",
        "colab_type": "code",
        "colab": {}
      },
      "source": [
        "oct(9)\n",
        "oct(12345)"
      ],
      "execution_count": 0,
      "outputs": []
    },
    {
      "cell_type": "markdown",
      "metadata": {
        "id": "rIINEarmcqgc",
        "colab_type": "text"
      },
      "source": [
        "## ord()\n",
        "### ord(c)는 문자의 아스키 코드 값을 돌려주는 함수\n",
        "### ※ ord 함수는 chr 함수와 반대이다."
      ]
    },
    {
      "cell_type": "code",
      "metadata": {
        "id": "eX8o-5w4cwMc",
        "colab_type": "code",
        "colab": {}
      },
      "source": [
        "ord(\"a\")  # chr(97)\n",
        "ord(\"0\")"
      ],
      "execution_count": 0,
      "outputs": []
    },
    {
      "cell_type": "markdown",
      "metadata": {
        "id": "FUV3IHMEc1pd",
        "colab_type": "text"
      },
      "source": [
        "## pow()\n",
        "### pow(x, y)는 x의 y 제곱한 결괏값을 돌려주는 함수"
      ]
    },
    {
      "cell_type": "code",
      "metadata": {
        "id": "DNuYrLPtc4lN",
        "colab_type": "code",
        "colab": {}
      },
      "source": [
        "pow(2, 4)  # 2**4\n",
        "pow(3, 4)  # 3**4"
      ],
      "execution_count": 0,
      "outputs": []
    },
    {
      "cell_type": "markdown",
      "metadata": {
        "id": "2b8Xg7_0c5sL",
        "colab_type": "text"
      },
      "source": [
        "## range()\n",
        "### range([start,] stop [,step] )는 for문과 함께 자주 사용하는 함수\n",
        "### 이 함수는 입력받은 숫자에 해당하는 범위 값을 반복 가능한 객체로\n",
        "### 만들어 돌려준다."
      ]
    },
    {
      "cell_type": "code",
      "metadata": {
        "id": "sECwLBn3c_eE",
        "colab_type": "code",
        "colab": {}
      },
      "source": [
        "# 인수가 하나일 경우\n",
        "list(range(5))\n",
        "\n",
        "# 인수가 2개일 경우\n",
        "list(range(5, 10))\n",
        "\n",
        "# 인수가 3개일 경우\n",
        "list(range(1, 10, 2))\n",
        "\n",
        "list(range(0, -10, -1))"
      ],
      "execution_count": 0,
      "outputs": []
    },
    {
      "cell_type": "markdown",
      "metadata": {
        "id": "MWV5vGi_dBem",
        "colab_type": "text"
      },
      "source": [
        "## round()\n",
        "### round(number[, ndigits]) 함수는 숫자를 입력받아 반올림해 주는 함수\n",
        "### ※ [, ndigits]는 ndigits가 있을 수도 있고 없을 수도 있다는 의미이다.\n"
      ]
    },
    {
      "cell_type": "code",
      "metadata": {
        "id": "zqqI2f6qdF3s",
        "colab_type": "code",
        "colab": {}
      },
      "source": [
        "round(4.6)\n",
        "round(4.2)\n",
        "\n",
        "# 소수점 2자리까지만 반올림\n",
        "round(5.678, 2)"
      ],
      "execution_count": 0,
      "outputs": []
    },
    {
      "cell_type": "markdown",
      "metadata": {
        "id": "jdHT6kGxdIiU",
        "colab_type": "text"
      },
      "source": [
        "## sorted()\n",
        "### sorted(iterable) 함수는 입력값을 정렬한 후\n",
        "### 그 결과를 리스트로 돌려주는 함수\n",
        "### 'reverse' 속성으로 정렬순서 반전"
      ]
    },
    {
      "cell_type": "code",
      "metadata": {
        "id": "Ixk6nFsXdNjl",
        "colab_type": "code",
        "colab": {}
      },
      "source": [
        "sorted([3, 1, 2])\n",
        "sorted([3, 1, 2], reverse=True)\n",
        "\n",
        "sorted([\"a\", \"c\", \"b\"])\n",
        "sorted([\"a\", \"c\", \"b\"], reverse=True)\n",
        "\n",
        "sorted(\"zero\")\n",
        "sorted((3, 2, 1))  # list로 반환!!!"
      ],
      "execution_count": 0,
      "outputs": []
    },
    {
      "cell_type": "markdown",
      "metadata": {
        "id": "4s2SJOQvdO6u",
        "colab_type": "text"
      },
      "source": [
        "## str()\n",
        "### str(object)은 문자열 형태로 객체를 변환하여 돌려주는 함수"
      ]
    },
    {
      "cell_type": "code",
      "metadata": {
        "id": "iIjQnDxDdR6W",
        "colab_type": "code",
        "colab": {
          "base_uri": "https://localhost:8080/",
          "height": 70
        },
        "outputId": "c0804f2d-0519-4318-e049-0fb858744d29"
      },
      "source": [
        "print(str(3))\n",
        "print(str(100))\n",
        "print(str(\"hello\".upper()))"
      ],
      "execution_count": 20,
      "outputs": [
        {
          "output_type": "stream",
          "text": [
            "3\n",
            "100\n",
            "HELLO\n"
          ],
          "name": "stdout"
        }
      ]
    },
    {
      "cell_type": "markdown",
      "metadata": {
        "id": "d35OzCYHfq3f",
        "colab_type": "text"
      },
      "source": [
        "## sum()\n",
        "### sum(iterable) 은 입력받은 리스트나 튜플의\n",
        "### 모든 요소의 합을 돌려주는 함수"
      ]
    },
    {
      "cell_type": "code",
      "metadata": {
        "id": "etS9VClhfuNp",
        "colab_type": "code",
        "colab": {
          "base_uri": "https://localhost:8080/",
          "height": 52
        },
        "outputId": "9faa2bc7-a5d4-48c3-e27c-c655d25cf770"
      },
      "source": [
        "print(sum([1, 2, 3]))\n",
        "print(sum((4, 5, 6)))"
      ],
      "execution_count": 22,
      "outputs": [
        {
          "output_type": "stream",
          "text": [
            "6\n",
            "15\n"
          ],
          "name": "stdout"
        }
      ]
    },
    {
      "cell_type": "markdown",
      "metadata": {
        "id": "ewO7f7IYfyJ4",
        "colab_type": "text"
      },
      "source": [
        "## tuple()\n",
        "### tuple(iterable)은 반복 가능한 자료형을 입력받아\n",
        "### 튜플 형태로 바꾸어 돌려주는 함수"
      ]
    },
    {
      "cell_type": "code",
      "metadata": {
        "id": "-gs126uFf1I8",
        "colab_type": "code",
        "colab": {
          "base_uri": "https://localhost:8080/",
          "height": 52
        },
        "outputId": "6acecf24-a792-49c0-eb29-42d9062ea956"
      },
      "source": [
        "print(tuple(\"abc\"))\n",
        "print(tuple([1, 2, 3]))"
      ],
      "execution_count": 24,
      "outputs": [
        {
          "output_type": "stream",
          "text": [
            "('a', 'b', 'c')\n",
            "(1, 2, 3)\n"
          ],
          "name": "stdout"
        }
      ]
    },
    {
      "cell_type": "markdown",
      "metadata": {
        "id": "O_j1KdPVf8mm",
        "colab_type": "text"
      },
      "source": [
        "## type()\n",
        "### type(object)은 입력값의 자료형이 무엇인지 알려 주는 함수"
      ]
    },
    {
      "cell_type": "code",
      "metadata": {
        "id": "0PvqbHxIgB7m",
        "colab_type": "code",
        "colab": {}
      },
      "source": [
        "type(\"abc\")\n",
        "type([])\n",
        "type({a: 4})\n",
        "type(open(\"test\", \"w\"))"
      ],
      "execution_count": 0,
      "outputs": []
    },
    {
      "cell_type": "markdown",
      "metadata": {
        "id": "aXqz2_RcgDII",
        "colab_type": "text"
      },
      "source": [
        "## zip()\n",
        "### zip(*iterable)은 동일한 개수로 이루어진 자료형을\n",
        "### 묶어 주는 역할을 하는 함수"
      ]
    },
    {
      "cell_type": "code",
      "metadata": {
        "id": "5rJ2eT3CgG-A",
        "colab_type": "code",
        "colab": {}
      },
      "source": [
        "list(zip([1, 2, 3], [4, 5, 6]))\n",
        "list(zip([1, 2, 3], [4, 5, 6], [7, 8, 9]))\n",
        "list(zip(\"abc\", \"def\"))\n",
        "list(zip([1, 2, 3], \"def\"))"
      ],
      "execution_count": 0,
      "outputs": []
    },
    {
      "cell_type": "markdown",
      "metadata": {
        "id": "thOu1zyfgI0o",
        "colab_type": "text"
      },
      "source": [
        "### Author: swarthyPig\n",
        "### 파이썬 코드: ch5_05_internal_functions.py"
      ]
    }
  ]
}