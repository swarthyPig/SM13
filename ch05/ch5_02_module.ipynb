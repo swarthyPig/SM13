{
  "nbformat": 4,
  "nbformat_minor": 0,
  "metadata": {
    "colab": {
      "name": "ch5_02_module.ipynb",
      "provenance": [],
      "collapsed_sections": [],
      "include_colab_link": true
    },
    "kernelspec": {
      "name": "python3",
      "display_name": "Python 3"
    }
  },
  "cells": [
    {
      "cell_type": "markdown",
      "metadata": {
        "id": "view-in-github",
        "colab_type": "text"
      },
      "source": [
        "<a href=\"https://colab.research.google.com/github/swarthyPig/SM13/blob/master/ch05/ch5_02_module.ipynb\" target=\"_parent\"><img src=\"https://colab.research.google.com/assets/colab-badge.svg\" alt=\"Open In Colab\"/></a>"
      ]
    },
    {
      "cell_type": "markdown",
      "metadata": {
        "id": "tuXQlD8oUVsm",
        "colab_type": "text"
      },
      "source": [
        "# 모듈 "
      ]
    },
    {
      "cell_type": "markdown",
      "metadata": {
        "id": "Cr0QnNGvUYbs",
        "colab_type": "text"
      },
      "source": [
        "## 모듈이란 함수나 변수 또는 클래스를 모아 놓은 파이썬 파일"
      ]
    },
    {
      "cell_type": "markdown",
      "metadata": {
        "id": "VbWAiNibUb-F",
        "colab_type": "text"
      },
      "source": [
        "### 파이썬 확장자 .py로 만든 파이썬 파일은 모두 모듈이다."
      ]
    },
    {
      "cell_type": "markdown",
      "metadata": {
        "id": "vnu2vHgrUjSh",
        "colab_type": "text"
      },
      "source": [
        "## 모듈 불러오기"
      ]
    },
    {
      "cell_type": "markdown",
      "metadata": {
        "id": "xrAHJdzwUlOh",
        "colab_type": "text"
      },
      "source": [
        "### import 모듈명\n",
        "### import는 이미 만들어 놓은 파이썬 모듈을 사용할 수 있게 해주는 명령어"
      ]
    },
    {
      "cell_type": "code",
      "metadata": {
        "id": "1L_aRUEHUwVx",
        "colab_type": "code",
        "colab": {}
      },
      "source": [
        "# \n",
        "# 현재 폴더에 있는 모듈, mod1.py를 연결하기.\n",
        "#\n",
        "import mod1\n",
        "print(mod1.add(3, 4))\n",
        "\n",
        "print(mod1.sub(7, 2))"
      ],
      "execution_count": 0,
      "outputs": []
    },
    {
      "cell_type": "markdown",
      "metadata": {
        "id": "9tLOLycNUymh",
        "colab_type": "text"
      },
      "source": [
        "### 모듈 내부 함수 이용"
      ]
    },
    {
      "cell_type": "code",
      "metadata": {
        "id": "uv-wU_SZU03J",
        "colab_type": "code",
        "colab": {}
      },
      "source": [
        "# from 모듈이름 import 모듈함수\n",
        "\n",
        "from mod1 import add\n",
        "add(3, 4)\n",
        "\n",
        "# from 모듈이름 import *\n",
        "# from mod1 import add, sub\n",
        "from mod1 import *\n",
        "\n",
        "add(3, 4)\n",
        "sub(7, 3)"
      ],
      "execution_count": 0,
      "outputs": []
    },
    {
      "cell_type": "markdown",
      "metadata": {
        "id": "dKkOAhiCU7yB",
        "colab_type": "text"
      },
      "source": [
        "## if __name__ == \"__main__\": 의 의미"
      ]
    },
    {
      "cell_type": "markdown",
      "metadata": {
        "id": "Xg2lT44dU9Mq",
        "colab_type": "text"
      },
      "source": [
        "### import 모듈명\n",
        "### import는 이미 만들어 놓은 파이썬 모듈을 \n",
        "### 사용할 수 있게 해주는 명령어"
      ]
    },
    {
      "cell_type": "code",
      "metadata": {
        "id": "m-TkMnuQVm-a",
        "colab_type": "code",
        "colab": {}
      },
      "source": [
        "# mod1.py \n",
        "def add(a, b): \n",
        "    return a+b\n",
        "\n",
        "def sub(a, b): \n",
        "    return a-b\n",
        "\n",
        "print(add(1, 4))\n",
        "print(sub(4, 2))"
      ],
      "execution_count": 0,
      "outputs": []
    },
    {
      "cell_type": "code",
      "metadata": {
        "id": "xuZTEDhXVoRK",
        "colab_type": "code",
        "colab": {}
      },
      "source": [
        "import mod1\n",
        "# 5\n",
        "# 2\n",
        "print(__name__)"
      ],
      "execution_count": 0,
      "outputs": []
    },
    {
      "cell_type": "code",
      "metadata": {
        "id": "6Lwafub-VfPh",
        "colab_type": "code",
        "colab": {}
      },
      "source": [
        "# mod2.py \n",
        "def add(a, b): \n",
        "    return a+b\n",
        "\n",
        "def sub(a, b): \n",
        "    return a-b\n",
        "\n",
        "if __name__ == \"__main__\":\n",
        "    print(add(1, 4))\n",
        "    print(sub(4, 2))\n",
        "'''\n",
        "\n",
        "import mod2\n",
        "print(__name__)"
      ],
      "execution_count": 0,
      "outputs": []
    },
    {
      "cell_type": "markdown",
      "metadata": {
        "id": "jM4UlKueVgVC",
        "colab_type": "text"
      },
      "source": [
        "### if __name__ == \"__main__\"을 사용하면 C:\\doit>python mod1.py처럼 \n",
        "### 직접 이 파일을 실행했을 때는 __name__ == \"__main__\"이 참이 되어 \n",
        "### if문 다음 문장이 수행된다. \n",
        "### 반대로 대화형 인터프리터나 다른 파일에서 이 모듈을 불러서 사용할 때는 \n",
        "###__name__ == \"__main__\"이 거짓이 되어 if문 다음 문장이 수행되지 않는다."
      ]
    },
    {
      "cell_type": "markdown",
      "metadata": {
        "id": "J_CDp9s4VsQ5",
        "colab_type": "text"
      },
      "source": [
        "## 클래스나 변수 등을 포함한 모듈"
      ]
    },
    {
      "cell_type": "code",
      "metadata": {
        "id": "l10cCZawVwHx",
        "colab_type": "code",
        "colab": {}
      },
      "source": [
        "'''\n",
        "# mod3.py \n",
        "PI = 3.141592\n",
        "\n",
        "class Math: \n",
        "    def solv(self, r): \n",
        "        return PI * (r ** 2) \n",
        "\n",
        "def add(a, b): \n",
        "    return a+b \n",
        "'''"
      ],
      "execution_count": 0,
      "outputs": []
    },
    {
      "cell_type": "code",
      "metadata": {
        "id": "KSHojsW7Vxe5",
        "colab_type": "code",
        "colab": {}
      },
      "source": [
        "import mod3\n",
        "\n",
        "print(mod3.PI)\n",
        "\n",
        "a = mod3.Math()\n",
        "print(a.solv(2))\n",
        "\n",
        "print(mod3.add(mod3.PI, 4.4))"
      ],
      "execution_count": 0,
      "outputs": []
    },
    {
      "cell_type": "markdown",
      "metadata": {
        "id": "n_a1rEYvV0hB",
        "colab_type": "text"
      },
      "source": [
        "## 다른 파일에서 모듈 불러오기"
      ]
    },
    {
      "cell_type": "markdown",
      "metadata": {
        "id": "qeS9ahCnV3hq",
        "colab_type": "text"
      },
      "source": [
        "### 다른 파이썬 파일에서 이전에 만들어 놓은 \n",
        "### 모듈을 불러와서 사용하는 방법"
      ]
    },
    {
      "cell_type": "code",
      "metadata": {
        "id": "MQpEaErmV_Sy",
        "colab_type": "code",
        "colab": {}
      },
      "source": [
        "'''\n",
        "# modtest.py\n",
        "import mod2\n",
        "result = mod2.add(3, 4)\n",
        "print(result)\n",
        "'''"
      ],
      "execution_count": 0,
      "outputs": []
    },
    {
      "cell_type": "code",
      "metadata": {
        "id": "c88m4Fh1WBUS",
        "colab_type": "code",
        "colab": {}
      },
      "source": [
        "# 참고: 현재 폴더로 경로 설정 (path)\n",
        "# import sys\n",
        "# sys.path.append(\"current_path\")\n",
        "# sys.path"
      ],
      "execution_count": 0,
      "outputs": []
    },
    {
      "cell_type": "markdown",
      "metadata": {
        "id": "nk8-TIp6WCOh",
        "colab_type": "text"
      },
      "source": [
        "### Author: swarthyPig\n",
        "### 파이썬 코드: ch5_02_module.py"
      ]
    }
  ]
}