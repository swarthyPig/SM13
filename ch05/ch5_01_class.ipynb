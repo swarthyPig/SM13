{
  "nbformat": 4,
  "nbformat_minor": 0,
  "metadata": {
    "colab": {
      "name": "ch5_01_class.ipynb",
      "provenance": [],
      "collapsed_sections": [],
      "include_colab_link": true
    },
    "kernelspec": {
      "name": "python3",
      "display_name": "Python 3"
    }
  },
  "cells": [
    {
      "cell_type": "markdown",
      "metadata": {
        "id": "view-in-github",
        "colab_type": "text"
      },
      "source": [
        "<a href=\"https://colab.research.google.com/github/swarthyPig/SM13/blob/master/ch05/ch5_01_class.ipynb\" target=\"_parent\"><img src=\"https://colab.research.google.com/assets/colab-badge.svg\" alt=\"Open In Colab\"/></a>"
      ]
    },
    {
      "cell_type": "markdown",
      "metadata": {
        "id": "iyPkawehQg16",
        "colab_type": "text"
      },
      "source": [
        "# 클래스"
      ]
    },
    {
      "cell_type": "markdown",
      "metadata": {
        "id": "TD28IKijQjch",
        "colab_type": "text"
      },
      "source": [
        "## 클래스는 왜 필요한가?"
      ]
    },
    {
      "cell_type": "markdown",
      "metadata": {
        "id": "nta3EqFgQlFJ",
        "colab_type": "text"
      },
      "source": [
        "### 지정된 기능을 수행하는 변수와 함수의 모음\n",
        "### 인스턴스, 즉 객체를 생성하여 기능을 이용\n",
        "### 코딩을 객체화"
      ]
    },
    {
      "cell_type": "markdown",
      "metadata": {
        "id": "RwPe24e2QvTQ",
        "colab_type": "text"
      },
      "source": [
        "### [Ex] 이전에 계산한 결괏값을 기억하고 있는 계산기"
      ]
    },
    {
      "cell_type": "code",
      "metadata": {
        "id": "X462csnAQzyS",
        "colab_type": "code",
        "colab": {
          "base_uri": "https://localhost:8080/",
          "height": 125
        },
        "outputId": "25c6db45-c4e7-48c7-fdd3-2c5f99a04e38"
      },
      "source": [
        "result = 0\n",
        "\n",
        "def add(num):\n",
        "    global result\n",
        "    result += num\n",
        "    return result\n",
        "\n",
        "\n",
        "# 이전에 계산한 결괏값을 기억\n",
        "print(add(3))\n",
        "print(add(4))\n",
        "\n",
        "# 2대의 계산기가 필요한 상황이 발생하면?\n",
        "result1 = 0\n",
        "result2 = 0\n",
        "\n",
        "def add1(num):\n",
        "    global result1\n",
        "    result1 += num\n",
        "    return result1\n",
        "\n",
        "\n",
        "def add2(num):\n",
        "    global result2\n",
        "    result2 += num\n",
        "    return result2\n",
        "\n",
        "\n",
        "\n",
        "print(add1(3))\n",
        "print(add1(4))\n",
        "print(add2(3))\n",
        "print(add2(7))"
      ],
      "execution_count": 1,
      "outputs": [
        {
          "output_type": "stream",
          "text": [
            "3\n",
            "7\n",
            "3\n",
            "7\n",
            "3\n",
            "10\n"
          ],
          "name": "stdout"
        }
      ]
    },
    {
      "cell_type": "markdown",
      "metadata": {
        "id": "SmAKs3miRHZZ",
        "colab_type": "text"
      },
      "source": [
        "### 계산기 1의 결괏값이 계산기 2에 아무 영향을 끼치지 않음을 확인할 수 있다. \n",
        "### 하지만 계산기가 3개, 5개, 10개로 점점 더 많이 필요해진다면 어떻게 해야 할까? \n",
        "### 그때마다 전역 변수와 함수를 추가할 것인가? "
      ]
    },
    {
      "cell_type": "markdown",
      "metadata": {
        "id": "cO2RefAoRKuJ",
        "colab_type": "text"
      },
      "source": [
        "### 클래스를 사용하면 간단하게 해결"
      ]
    },
    {
      "cell_type": "code",
      "metadata": {
        "id": "IAL1JTNTRQiR",
        "colab_type": "code",
        "colab": {
          "base_uri": "https://localhost:8080/",
          "height": 89
        },
        "outputId": "5b6f12b7-4a6b-4775-9b5d-174b7d034718"
      },
      "source": [
        "class Calculator:\n",
        "    def __init__(self):\n",
        "        self.result = 0\n",
        "\n",
        "    def add(self, num):\n",
        "        self.result += num\n",
        "        return self.result\n",
        "    \n",
        "    # def sub(self, num):\n",
        "    #     self.result -= num\n",
        "    #     return self.result\n",
        "\n",
        "\n",
        "\n",
        "cal1 = Calculator()\n",
        "cal2 = Calculator()\n",
        "\n",
        "print(cal1.add(3))\n",
        "print(cal1.add(4))\n",
        "print(cal2.add(3))\n",
        "print(cal2.add(7))"
      ],
      "execution_count": 2,
      "outputs": [
        {
          "output_type": "stream",
          "text": [
            "3\n",
            "7\n",
            "3\n",
            "10\n"
          ],
          "name": "stdout"
        }
      ]
    },
    {
      "cell_type": "markdown",
      "metadata": {
        "id": "604HpNPwRVuy",
        "colab_type": "text"
      },
      "source": [
        "## 클래스와 객체"
      ]
    },
    {
      "cell_type": "markdown",
      "metadata": {
        "id": "rmn_u_vIRYbi",
        "colab_type": "text"
      },
      "source": [
        "### 클래스(class)란 똑같은 무엇인가를 계속해서 만들어 낼 수 있는 설계 도면\n",
        "### 객체(object)란 클래스로 만든 피조물(과자 틀을 사용해 만든 과자)\n",
        "\n",
        "### 클래스(class) : 과자 틀 \n",
        "### 객체(object) : 과자 틀을 사용해 만든 과자\n",
        "\n",
        "### 동일한 클래스로 만든 객체들은 서로 전혀 영향을 주지 않는다."
      ]
    },
    {
      "cell_type": "markdown",
      "metadata": {
        "id": "zeAT9aSvRvlC",
        "colab_type": "text"
      },
      "source": [
        "### 간단한 클래스와 객체 "
      ]
    },
    {
      "cell_type": "code",
      "metadata": {
        "id": "puuPtsQxRxFS",
        "colab_type": "code",
        "colab": {}
      },
      "source": [
        "class Cookie:\n",
        "    pass\n",
        "\n",
        "a = Cookie()\n",
        "b = Cookie()\n",
        "id(a), id(b)"
      ],
      "execution_count": 0,
      "outputs": []
    },
    {
      "cell_type": "markdown",
      "metadata": {
        "id": "uUbnl8ayRypq",
        "colab_type": "text"
      },
      "source": [
        "### 객체와 인스턴스의 차이\n",
        "###  a = Cookie() 이렇게 만든 a는 객체이다. \n",
        "### 그리고 a 객체는 Cookie의 인스턴스이다. \n",
        "### 즉 인스턴스라는 말은 특정 객체(a)가 \n",
        "### 어떤 클래스(Cookie)의 객체인지를 \n",
        "### 관계 위주로 설명할 때 사용한다"
      ]
    },
    {
      "cell_type": "markdown",
      "metadata": {
        "id": "5AOJxHC8R30q",
        "colab_type": "text"
      },
      "source": [
        "#############################\n",
        "### 사칙연산 클래스 만들기\n",
        "#############################"
      ]
    },
    {
      "cell_type": "markdown",
      "metadata": {
        "id": "AjBWIskTSGfZ",
        "colab_type": "text"
      },
      "source": [
        "### 사칙연산을 가능하게 하는 FourCal 클래스\n",
        "### class FourCal\n",
        "\n",
        "### Usage:\n",
        "### a = FourCal()\n",
        "### a.setdata(4, 2)\n",
        "### a.add(), a.sub(), a.mul(), a.div()"
      ]
    },
    {
      "cell_type": "markdown",
      "metadata": {
        "id": "ZetJcdNkSVix",
        "colab_type": "text"
      },
      "source": [
        "### 1. FourCal 클래스 구조 만들기"
      ]
    },
    {
      "cell_type": "markdown",
      "metadata": {
        "id": "wrDA-GhrSXzK",
        "colab_type": "text"
      },
      "source": [
        "class FourCal:\n",
        "    pass\n",
        "\n",
        "\n",
        "### 객체 만들기\n",
        "a = FourCal()\n",
        "\n",
        "type(a), id(a)"
      ]
    },
    {
      "cell_type": "markdown",
      "metadata": {
        "id": "iD364I2xSZ8B",
        "colab_type": "text"
      },
      "source": [
        "### 2. 객체에 숫자 지정할 수 있게 만들기"
      ]
    },
    {
      "cell_type": "code",
      "metadata": {
        "id": "RtY_YxIMSmeJ",
        "colab_type": "code",
        "colab": {
          "base_uri": "https://localhost:8080/",
          "height": 107
        },
        "outputId": "e90cc0c4-87a1-4cbf-8137-83a434e27ece"
      },
      "source": [
        "print(\"2. 객체에 숫자 지정할 수 있게 만들기\")\n",
        "# function setdata()  # method\n",
        "\n",
        "class FourCal:\n",
        "   def setdata(self, first, second):\n",
        "       self.first = first\n",
        "       self.second = second\n",
        "\n",
        "\n",
        "\n",
        "a = FourCal()\n",
        "a.setdata(4, 2)\n",
        "\n",
        "# 객체 변수\n",
        "a.first    # self.first\n",
        "a.second   # self.second\n",
        "\n",
        "\n",
        "# 객체를 이용하기\n",
        "a = FourCal()\n",
        "b = FourCal()\n",
        "\n",
        "a is b\n",
        "\n",
        "type(a), id(a)\n",
        "type(b), id(b)\n",
        "\n",
        "a.setdata(4, 2)\n",
        "print(a.first)\n",
        "b.setdata(3, 7)\n",
        "print(b.first)\n",
        "\n",
        "print(a.first)  # what value?\n",
        "# a 객체의 first 값은 b 객체의 first 값에 영향받지 않고 원래 값을 유지\n",
        "# 클래스로 만든 객체의 객체변수는 다른 객체의 객체변수에 상관없이 독립적인 값을 유지\n",
        "\n",
        "id(a.first), id(b.first)"
      ],
      "execution_count": 3,
      "outputs": [
        {
          "output_type": "stream",
          "text": [
            "2. 객체에 숫자 지정할 수 있게 만들기\n",
            "4\n",
            "3\n",
            "4\n"
          ],
          "name": "stdout"
        },
        {
          "output_type": "execute_result",
          "data": {
            "text/plain": [
              "(10968896, 10968864)"
            ]
          },
          "metadata": {
            "tags": []
          },
          "execution_count": 3
        }
      ]
    },
    {
      "cell_type": "markdown",
      "metadata": {
        "id": "CiDvtbt2SpAh",
        "colab_type": "text"
      },
      "source": [
        "### 3. 더하기 기능 만들기"
      ]
    },
    {
      "cell_type": "code",
      "metadata": {
        "id": "7JN1Thl8SrUo",
        "colab_type": "code",
        "colab": {
          "base_uri": "https://localhost:8080/",
          "height": 35
        },
        "outputId": "76a22c24-4bc0-4ab7-9ee2-b8e0ae6350e5"
      },
      "source": [
        "# function add()  # method\n",
        "\n",
        "class FourCal:\n",
        "    def setdata(self, first, second):\n",
        "        self.first = first\n",
        "        self.second = second\n",
        "\n",
        "    def add(self):\n",
        "        result = self.first + self.second\n",
        "        return result\n",
        "    \n",
        "\n",
        "a = FourCal()\n",
        "a.setdata(4, 2)\n",
        "a.add()"
      ],
      "execution_count": 4,
      "outputs": [
        {
          "output_type": "execute_result",
          "data": {
            "text/plain": [
              "6"
            ]
          },
          "metadata": {
            "tags": []
          },
          "execution_count": 4
        }
      ]
    },
    {
      "cell_type": "markdown",
      "metadata": {
        "id": "MbWeJ055SvuA",
        "colab_type": "text"
      },
      "source": [
        "### 4. 곱하기, 빼기, 나누기 기능 추가"
      ]
    },
    {
      "cell_type": "code",
      "metadata": {
        "id": "eNYjkizMSzVx",
        "colab_type": "code",
        "colab": {
          "base_uri": "https://localhost:8080/",
          "height": 35
        },
        "outputId": "4932e9dd-ea0c-4ef8-b77e-7106756a7ae2"
      },
      "source": [
        "# function sub(), mul(), div()\n",
        "\n",
        "class FourCal:\n",
        "    def setdata(self, first, second):\n",
        "        self.first = first\n",
        "        self.second = second\n",
        "        \n",
        "    def add(self):\n",
        "        result = self.first + self.second\n",
        "        return result\n",
        "\n",
        "    def sub(self):\n",
        "        result = self.first - self.second\n",
        "        return result\n",
        "\n",
        "    def mul(self):\n",
        "        result = self.first * self.second\n",
        "        return result\n",
        "\n",
        "    def div(self):\n",
        "        result = self.first / self.second\n",
        "        return result\n",
        "    \n",
        "\n",
        "  \n",
        "a = FourCal()\n",
        "b = FourCal()\n",
        "\n",
        "a.setdata(4, 2)\n",
        "b.setdata(3, 8)\n",
        "\n",
        "a.add(), a.sub(), a.mul(), a.div()\n",
        "b.add(), b.sub(), b.mul(), b.div()"
      ],
      "execution_count": 5,
      "outputs": [
        {
          "output_type": "execute_result",
          "data": {
            "text/plain": [
              "(11, -5, 24, 0.375)"
            ]
          },
          "metadata": {
            "tags": []
          },
          "execution_count": 5
        }
      ]
    },
    {
      "cell_type": "markdown",
      "metadata": {
        "id": "RB63oHkuS5H5",
        "colab_type": "text"
      },
      "source": [
        "### 생성자 (Constructor)"
      ]
    },
    {
      "cell_type": "code",
      "metadata": {
        "id": "uQEwmzbWTCei",
        "colab_type": "code",
        "colab": {}
      },
      "source": [
        "class FourCal:\n",
        "    def __init__(self, first, second):\n",
        "        self.first = first\n",
        "        self.second = second\n",
        "\n",
        "    def setdata(self, first, second):\n",
        "        self.first = first\n",
        "        self.second = second\n",
        "        \n",
        "    def add(self):\n",
        "        result = self.first + self.second\n",
        "        return result\n",
        "\n",
        "    def sub(self):\n",
        "        result = self.first - self.second\n",
        "        return result\n",
        "\n",
        "    def mul(self):\n",
        "        result = self.first * self.second\n",
        "        return result\n",
        "\n",
        "    def div(self):\n",
        "        result = self.first / self.second\n",
        "        return result"
      ],
      "execution_count": 0,
      "outputs": []
    },
    {
      "cell_type": "code",
      "metadata": {
        "id": "OLQXIWnCTEZS",
        "colab_type": "code",
        "colab": {}
      },
      "source": [
        "a = FourCal()   # TypeError:\n",
        "\n",
        "a = FourCal(4, 2)\n",
        "a.first, a.second\n",
        "\n",
        "a.mul()"
      ],
      "execution_count": 0,
      "outputs": []
    },
    {
      "cell_type": "markdown",
      "metadata": {
        "id": "4sToorBnTGl7",
        "colab_type": "text"
      },
      "source": [
        "## 클래스의 상속"
      ]
    },
    {
      "cell_type": "markdown",
      "metadata": {
        "id": "s_EptdmpTJuz",
        "colab_type": "text"
      },
      "source": [
        "### 상속은 기존 클래스를 변경하지 않고 기능을 추가하거나 \n",
        "### 기존 기능을 변경하려고 할 때 사용\n",
        "#######################################"
      ]
    },
    {
      "cell_type": "markdown",
      "metadata": {
        "id": "v-vYAvF9TLzC",
        "colab_type": "text"
      },
      "source": [
        "### class 클래스 이름(상속할 클래스 이름)\n",
        " \n",
        "### 클래스 FourCal를 상속하는 \n",
        "### class MoreFourCal\n",
        "### FourCal 클래스에 a^b (a의 b제곱)을 구할 수 있는 기능을 추가"
      ]
    },
    {
      "cell_type": "code",
      "metadata": {
        "id": "kVFdIEy8TSDT",
        "colab_type": "code",
        "colab": {}
      },
      "source": [
        "class MoreFourCal(FourCal):\n",
        "    pass\n",
        "\n",
        "\n",
        "a = MoreFourCal(4, 2)\n",
        "a.add(), a.mul()\n",
        "\n",
        "\n",
        "class MoreFourCal(FourCal):\n",
        "    def pow(self):\n",
        "        result = self.first ** self.second\n",
        "        return result\n",
        "    \n",
        "\n",
        "a = MoreFourCal(4, 2)\n",
        "a.add(), a.mul()\n",
        "\n",
        "a.pow()"
      ],
      "execution_count": 0,
      "outputs": []
    },
    {
      "cell_type": "markdown",
      "metadata": {
        "id": "N7t9giBzTTpB",
        "colab_type": "text"
      },
      "source": [
        "### 상속은 MoreFourCal 클래스처럼 기존 클래스(FourCal)는\n",
        "### 그대로 놔둔 채 클래스의 기능을 확장시킬 때 주로 사용."
      ]
    },
    {
      "cell_type": "markdown",
      "metadata": {
        "id": "aYPcGg2xTjHb",
        "colab_type": "text"
      },
      "source": [
        "## 메서드 오버라이딩"
      ]
    },
    {
      "cell_type": "markdown",
      "metadata": {
        "id": "c265ubGzTxBy",
        "colab_type": "text"
      },
      "source": [
        "### 기존의 함수(메소드)를 수정/보완하여 재정의"
      ]
    },
    {
      "cell_type": "code",
      "metadata": {
        "id": "CakoS31RT2JS",
        "colab_type": "code",
        "colab": {}
      },
      "source": [
        "class SafeFourCal(FourCal):\n",
        "    def div(self):\n",
        "        if self.second == 0:  # 나누는 값이 0인 경우 0을 리턴하도록 수정\n",
        "            print(\"분모는 0을 사용할 수 없다.\")\n",
        "            return 0\n",
        "        else:\n",
        "            return self.first / self.second\n",
        "    \n",
        "\n",
        "\n",
        "a = SafeFourCal(4, 0)\n",
        "a.div()  # 메서드 오버라이딩 사용"
      ],
      "execution_count": 0,
      "outputs": []
    },
    {
      "cell_type": "markdown",
      "metadata": {
        "id": "3e8OOXyET5GS",
        "colab_type": "text"
      },
      "source": [
        "## 클래스 변수"
      ]
    },
    {
      "cell_type": "markdown",
      "metadata": {
        "id": "FmMpgY7dT7vz",
        "colab_type": "text"
      },
      "source": [
        "### 객체변수와 클래스변수의 차이?\n",
        "### 객체변수   :   객체.변수\n",
        "### 클래스변수 : 클래스.변수"
      ]
    },
    {
      "cell_type": "code",
      "metadata": {
        "id": "j1mRbnzGUAsL",
        "colab_type": "code",
        "colab": {}
      },
      "source": [
        "class Family:\n",
        "    lastname = \"김\"   # 클래스변수\n",
        "\n",
        "\n",
        "# 클래스이름.클래스 변수로 사용\n",
        "Family.lastname\n",
        "\n",
        "# 객체변수로 접근\n",
        "a = Family()\n",
        "b = Family()\n",
        "\n",
        "print(a.lastname)\n",
        "print(b.lastname)\n",
        "id(a.lastname), id(b.lastname)\n",
        "\n",
        "# 클래스변수를 변경하면?\n",
        "Family.lastname = \"박\"\n",
        "\n",
        "print(a.lastname)\n",
        "print(b.lastname)\n",
        "id(a.lastname), id(b.lastname), id(Family.lastname)\n",
        "# 클래스 변수가 공유됨을 확인.\n",
        "\n",
        "# 객체변수를 변경하면?\n",
        "a.lastname = \"이\"\n",
        "a.lastname, b.lastname, Family.lastname\n",
        "id(a.lastname), id(b.lastname), id(Family.lastname)\n",
        "\n",
        "# 실무 프로그래밍에는 클래스 변수보다는 객체변수를 많이 사용."
      ],
      "execution_count": 0,
      "outputs": []
    },
    {
      "cell_type": "markdown",
      "metadata": {
        "id": "dnTynssGUB8i",
        "colab_type": "text"
      },
      "source": [
        "### Author: swarthyPig\n",
        "### 파이썬 코드: ch5_01_class.py\n"
      ]
    }
  ]
}