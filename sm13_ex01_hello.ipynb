{
  "nbformat": 4,
  "nbformat_minor": 0,
  "metadata": {
    "colab": {
      "name": "sm13_ex01_hello.ipynb",
      "version": "0.3.2",
      "provenance": [],
      "collapsed_sections": [],
      "toc_visible": true,
      "include_colab_link": true
    },
    "kernelspec": {
      "name": "python3",
      "display_name": "Python 3"
    }
  },
  "cells": [
    {
      "cell_type": "markdown",
      "metadata": {
        "id": "view-in-github",
        "colab_type": "text"
      },
      "source": [
        "<a href=\"https://colab.research.google.com/github/swarthyPig/SM13/blob/master/sm13_ex01_hello.ipynb\" target=\"_parent\"><img src=\"https://colab.research.google.com/assets/colab-badge.svg\" alt=\"Open In Colab\"/></a>"
      ]
    },
    {
      "cell_type": "markdown",
      "metadata": {
        "id": "RgUBA3pceD2R",
        "colab_type": "text"
      },
      "source": [
        "## SM01 report 1"
      ]
    },
    {
      "cell_type": "code",
      "metadata": {
        "id": "xBV6B6sfeFJu",
        "colab_type": "code",
        "colab": {
          "base_uri": "https://localhost:8080/",
          "height": 35
        },
        "outputId": "d4d625d2-cb1d-4540-b83c-7d6f76424fbf"
      },
      "source": [
        "a=1\n",
        "b=2\n",
        "c = a+b\n",
        "print(c)"
      ],
      "execution_count": 4,
      "outputs": [
        {
          "output_type": "stream",
          "text": [
            "3\n"
          ],
          "name": "stdout"
        }
      ]
    },
    {
      "cell_type": "markdown",
      "metadata": {
        "id": "9dJ3JW3Qe6FJ",
        "colab_type": "text"
      },
      "source": [
        "#### 문자열 출력"
      ]
    },
    {
      "cell_type": "code",
      "metadata": {
        "id": "3OBYMfS6eTMw",
        "colab_type": "code",
        "colab": {
          "base_uri": "https://localhost:8080/",
          "height": 35
        },
        "outputId": "01cbbbc3-4285-4a8c-f9df-3d775e35dd3b"
      },
      "source": [
        "############\n",
        "s1 = \"Hello Python!\"\n",
        "print(s1)"
      ],
      "execution_count": 8,
      "outputs": [
        {
          "output_type": "stream",
          "text": [
            "Hello Python!\n"
          ],
          "name": "stdout"
        }
      ]
    },
    {
      "cell_type": "markdown",
      "metadata": {
        "id": "NZB82c8ifDEC",
        "colab_type": "text"
      },
      "source": [
        "#### list 선언과 출력"
      ]
    },
    {
      "cell_type": "code",
      "metadata": {
        "id": "-GEUUSSSfB6B",
        "colab_type": "code",
        "colab": {
          "base_uri": "https://localhost:8080/",
          "height": 71
        },
        "outputId": "0b0182aa-def0-4fe5-d160-e76d30aabf77"
      },
      "source": [
        "############\n",
        "x = [1, 2, 3]\n",
        "y = [4, 5, 6]\n",
        "print(x)\n",
        "print(x,y)\n",
        "x+y"
      ],
      "execution_count": 9,
      "outputs": [
        {
          "output_type": "stream",
          "text": [
            "[1, 2, 3]\n",
            "[1, 2, 3] [4, 5, 6]\n"
          ],
          "name": "stdout"
        },
        {
          "output_type": "execute_result",
          "data": {
            "text/plain": [
              "[1, 2, 3, 4, 5, 6]"
            ]
          },
          "metadata": {
            "tags": []
          },
          "execution_count": 9
        }
      ]
    },
    {
      "cell_type": "markdown",
      "metadata": {
        "id": "WkiP16rkfMbJ",
        "colab_type": "text"
      },
      "source": [
        "#### 함수 정의와 실행"
      ]
    },
    {
      "cell_type": "code",
      "metadata": {
        "id": "6YjuZ8tsekBp",
        "colab_type": "code",
        "colab": {
          "base_uri": "https://localhost:8080/",
          "height": 53
        },
        "outputId": "bb58fee5-74ca-4548-a34c-e8d5a15fe0d2"
      },
      "source": [
        "#function\n",
        "def add(a,b):\n",
        "    return a+b\n",
        "print(add(1,2))\n",
        "print(add(x,y))"
      ],
      "execution_count": 7,
      "outputs": [
        {
          "output_type": "stream",
          "text": [
            "3\n",
            "[1, 2, 3, 4, 5, 6]\n"
          ],
          "name": "stdout"
        }
      ]
    }
  ]
}