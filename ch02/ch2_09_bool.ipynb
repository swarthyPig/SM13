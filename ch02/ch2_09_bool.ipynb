{
  "nbformat": 4,
  "nbformat_minor": 0,
  "metadata": {
    "colab": {
      "name": "ch2_09_bool.ipynb",
      "provenance": [],
      "collapsed_sections": [],
      "include_colab_link": true
    },
    "kernelspec": {
      "name": "python3",
      "display_name": "Python 3"
    }
  },
  "cells": [
    {
      "cell_type": "markdown",
      "metadata": {
        "id": "view-in-github",
        "colab_type": "text"
      },
      "source": [
        "<a href=\"https://colab.research.google.com/github/swarthyPig/SM13/blob/master/ch02/ch2_09_bool.ipynb\" target=\"_parent\"><img src=\"https://colab.research.google.com/assets/colab-badge.svg\" alt=\"Open In Colab\"/></a>"
      ]
    },
    {
      "cell_type": "markdown",
      "metadata": {
        "id": "jg08dX-BnHMe",
        "colab_type": "text"
      },
      "source": [
        "# 불(bool)"
      ]
    },
    {
      "cell_type": "markdown",
      "metadata": {
        "id": "RbULog52nK-7",
        "colab_type": "text"
      },
      "source": [
        "## 불: 불 자료형이란?"
      ]
    },
    {
      "cell_type": "markdown",
      "metadata": {
        "id": "3ifU2NGYnNAb",
        "colab_type": "text"
      },
      "source": [
        "### 불(bool) 자료형이란 참(True)과 거짓(False)을 나타내는 자료형이다.\n",
        "### 불 자료형은 다음 2가지 값만을 가질 수 있다.\n",
        "### True - 참\n",
        "### False - 거짓\n",
        "### True나 False는 파이썬의 예약어로 true, false와 같이 사용하지 말고\n",
        "### 첫 문자를 항상 대문자로 사용해야 한다."
      ]
    },
    {
      "cell_type": "code",
      "metadata": {
        "id": "EvnTcqRHndR7",
        "colab_type": "code",
        "outputId": "33fb66be-dde6-42ed-9b93-bb52e116c98e",
        "colab": {
          "base_uri": "https://localhost:8080/",
          "height": 35
        }
      },
      "source": [
        "a = True\n",
        "b = False\n",
        "type(a), type(b)"
      ],
      "execution_count": 0,
      "outputs": [
        {
          "output_type": "execute_result",
          "data": {
            "text/plain": [
              "(bool, bool)"
            ]
          },
          "metadata": {
            "tags": []
          },
          "execution_count": 1
        }
      ]
    },
    {
      "cell_type": "markdown",
      "metadata": {
        "id": "52xXiE0BnpLj",
        "colab_type": "text"
      },
      "source": [
        "### 참과 거짓"
      ]
    },
    {
      "cell_type": "code",
      "metadata": {
        "id": "nKHtBGO2np2r",
        "colab_type": "code",
        "outputId": "dde4d7ff-36f9-42c7-9277-df18b4b0e1a3",
        "colab": {
          "base_uri": "https://localhost:8080/",
          "height": 107
        }
      },
      "source": [
        "print(1 == 1)\n",
        "print(2 > 1)\n",
        "print(2 < 1)\n",
        "print(True + 1)\n",
        "print(False + 1)"
      ],
      "execution_count": 0,
      "outputs": [
        {
          "output_type": "stream",
          "text": [
            "True\n",
            "True\n",
            "False\n",
            "2\n",
            "1\n"
          ],
          "name": "stdout"
        }
      ]
    },
    {
      "cell_type": "markdown",
      "metadata": {
        "id": "QpZZjuhfnwqa",
        "colab_type": "text"
      },
      "source": [
        "### 자료형의 참과 거짓"
      ]
    },
    {
      "cell_type": "code",
      "metadata": {
        "id": "RvJXflR0nyYD",
        "colab_type": "code",
        "outputId": "ae43def5-7288-482a-a3f7-fea063e7b910",
        "colab": {
          "base_uri": "https://localhost:8080/",
          "height": 179
        }
      },
      "source": [
        "print(bool(\"python\"))\n",
        "print(bool(\"\"))\n",
        "print(bool([1, 2, 3]))\n",
        "print(bool([]))\n",
        "print(bool(()))\n",
        "print(bool({}))\n",
        "print(bool(1))\n",
        "print(bool(0))\n",
        "print(bool(None))"
      ],
      "execution_count": 0,
      "outputs": [
        {
          "output_type": "stream",
          "text": [
            "True\n",
            "False\n",
            "True\n",
            "False\n",
            "False\n",
            "False\n",
            "True\n",
            "False\n",
            "False\n"
          ],
          "name": "stdout"
        }
      ]
    },
    {
      "cell_type": "markdown",
      "metadata": {
        "id": "PVgGfT5jn7dC",
        "colab_type": "text"
      },
      "source": [
        "### 불 값을 이용한 코드"
      ]
    },
    {
      "cell_type": "code",
      "metadata": {
        "id": "ffSbrZbMoE1D",
        "colab_type": "code",
        "outputId": "b5d0691d-16dc-42d8-d29a-09c97523b134",
        "colab": {
          "base_uri": "https://localhost:8080/",
          "height": 89
        }
      },
      "source": [
        "a = [1, 2, 3, 4]\n",
        "while a:\n",
        "    print(a.pop())"
      ],
      "execution_count": 0,
      "outputs": [
        {
          "output_type": "stream",
          "text": [
            "4\n",
            "3\n",
            "2\n",
            "1\n"
          ],
          "name": "stdout"
        }
      ]
    },
    {
      "cell_type": "code",
      "metadata": {
        "id": "gZo4li6WoHnj",
        "colab_type": "code",
        "outputId": "b31e64b7-76ad-4ff0-ae9c-b8c5d42555a1",
        "colab": {
          "base_uri": "https://localhost:8080/",
          "height": 35
        }
      },
      "source": [
        "if []:\n",
        "    print(\"참\")\n",
        "else:\n",
        "    print(\"거짓\")"
      ],
      "execution_count": 0,
      "outputs": [
        {
          "output_type": "stream",
          "text": [
            "거짓\n"
          ],
          "name": "stdout"
        }
      ]
    },
    {
      "cell_type": "markdown",
      "metadata": {
        "id": "5e77c0s_oM9D",
        "colab_type": "text"
      },
      "source": [
        "### Representation error\n",
        "### double precision representation of floating-point numbers"
      ]
    },
    {
      "cell_type": "code",
      "metadata": {
        "id": "TibHFrfqoSDL",
        "colab_type": "code",
        "outputId": "a9881f3a-c1aa-4c87-d220-79e312cf8f4b",
        "colab": {
          "base_uri": "https://localhost:8080/",
          "height": 71
        }
      },
      "source": [
        "1-0.9\n",
        "# 0.09999999999999998\n",
        "1-0.9==.1\n",
        "# False\n",
        "\n",
        "#####\n",
        "import decimal\n",
        "x=decimal.Decimal(3.14)\n",
        "y=decimal.Decimal(2.74)\n",
        "print(x,y)\n",
        "\n",
        "print(x*y)\n",
        "# Decimal('8.603600000000001010036498883')\n",
        "decimal.getcontext().prec=4\n",
        "print(x*y)\n",
        "# Decimal('8.604')\n",
        "#"
      ],
      "execution_count": 0,
      "outputs": [
        {
          "output_type": "stream",
          "text": [
            "3.140000000000000124344978758017532527446746826171875 2.7400000000000002131628207280300557613372802734375\n",
            "8.604\n",
            "8.604\n"
          ],
          "name": "stdout"
        }
      ]
    },
    {
      "cell_type": "markdown",
      "metadata": {
        "id": "M8ESwMRjoUSj",
        "colab_type": "text"
      },
      "source": [
        "### Author: swarthyPig\n",
        "### 파이썬 코드: ch2_09_bool.py"
      ]
    }
  ]
}