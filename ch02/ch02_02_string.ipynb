{
  "nbformat": 4,
  "nbformat_minor": 0,
  "metadata": {
    "colab": {
      "name": "ch02_02_string.ipynb",
      "provenance": [],
      "collapsed_sections": [],
      "include_colab_link": true
    },
    "kernelspec": {
      "name": "python3",
      "display_name": "Python 3"
    }
  },
  "cells": [
    {
      "cell_type": "markdown",
      "metadata": {
        "id": "view-in-github",
        "colab_type": "text"
      },
      "source": [
        "<a href=\"https://colab.research.google.com/github/swarthyPig/SM13/blob/master/ch02/ch02_02_string.ipynb\" target=\"_parent\"><img src=\"https://colab.research.google.com/assets/colab-badge.svg\" alt=\"Open In Colab\"/></a>"
      ]
    },
    {
      "cell_type": "markdown",
      "metadata": {
        "id": "LQuFWagCnfbx",
        "colab_type": "text"
      },
      "source": [
        "# 문자열"
      ]
    },
    {
      "cell_type": "code",
      "metadata": {
        "id": "hnWaLgztnNj3",
        "colab_type": "code",
        "colab": {}
      },
      "source": [
        "# ch2_02_string.py\n",
        "# \"Life is too short, you need python\"\n",
        "# 'Life is too short, you need python'\n",
        "# \"\"\"Life is too short, you need python\"\"\"\n",
        "# '''Life is too short, you need python'''"
      ],
      "execution_count": 0,
      "outputs": []
    },
    {
      "cell_type": "markdown",
      "metadata": {
        "id": "pMF8XiIinV7c",
        "colab_type": "text"
      },
      "source": [
        "## 문자열"
      ]
    },
    {
      "cell_type": "code",
      "metadata": {
        "id": "NIWIuGSOnh5h",
        "colab_type": "code",
        "outputId": "43f25acb-57e7-40d7-8321-0e2709b1ce57",
        "colab": {
          "base_uri": "https://localhost:8080/",
          "height": 35
        }
      },
      "source": [
        "food = \"Python's favorite food is perl\"\n",
        "food\n",
        "\n",
        "# food = 'Python's favorite food is perl'  # Error\n",
        "\n",
        "# say = '\"Python is very easy.\" he says."
      ],
      "execution_count": 0,
      "outputs": [
        {
          "output_type": "execute_result",
          "data": {
            "text/plain": [
              "\"Python's favorite food is perl\""
            ]
          },
          "metadata": {
            "tags": []
          },
          "execution_count": 3
        }
      ]
    },
    {
      "cell_type": "markdown",
      "metadata": {
        "id": "CZwITSYhnv1h",
        "colab_type": "text"
      },
      "source": [
        "## 문자열: \\ 이용"
      ]
    },
    {
      "cell_type": "code",
      "metadata": {
        "id": "D0-8xl1wny_Y",
        "colab_type": "code",
        "outputId": "991e2a9b-f757-4d5b-8d9a-144f9403a527",
        "colab": {
          "base_uri": "https://localhost:8080/",
          "height": 53
        }
      },
      "source": [
        "food = 'Python\\'s favorite food is perl'\n",
        "print(food)\n",
        "\n",
        "say = \"\\\"Python is very easy.\\\" he says.\"\n",
        "print(say)"
      ],
      "execution_count": 0,
      "outputs": [
        {
          "output_type": "stream",
          "text": [
            "Python's favorite food is perl\n",
            "\"Python is very easy.\" he says.\n"
          ],
          "name": "stdout"
        }
      ]
    },
    {
      "cell_type": "markdown",
      "metadata": {
        "id": "N-Z10ZJFn7fC",
        "colab_type": "text"
      },
      "source": [
        "## 문자열: 이스케이프 코드 이용"
      ]
    },
    {
      "cell_type": "code",
      "metadata": {
        "id": "y0GIsLiJn9O5",
        "colab_type": "code",
        "outputId": "352b69cd-70c6-46b9-9883-fcda0e08fdc2",
        "colab": {
          "base_uri": "https://localhost:8080/",
          "height": 53
        }
      },
      "source": [
        "multiline = \"Life is too short\\nYou need python\"\n",
        "print(multiline)"
      ],
      "execution_count": 0,
      "outputs": [
        {
          "output_type": "stream",
          "text": [
            "Life is too short\n",
            "You need python\n"
          ],
          "name": "stdout"
        }
      ]
    },
    {
      "cell_type": "markdown",
      "metadata": {
        "id": "MI8NHPnDoO6C",
        "colab_type": "text"
      },
      "source": [
        "## 문자열 : 여러줄 문자열 처리\n"
      ]
    },
    {
      "cell_type": "code",
      "metadata": {
        "id": "7a2y-dyWoRgi",
        "colab_type": "code",
        "outputId": "35041456-3744-457b-f211-9644dece2a6e",
        "colab": {
          "base_uri": "https://localhost:8080/",
          "height": 89
        }
      },
      "source": [
        "multiline = '''\n",
        "... Life is too short\n",
        "... You need python\n",
        "... '''\n",
        "\n",
        "print(multiline)"
      ],
      "execution_count": 20,
      "outputs": [
        {
          "output_type": "stream",
          "text": [
            "\n",
            "Life is too short\n",
            "You need python\n",
            "\n"
          ],
          "name": "stdout"
        }
      ]
    },
    {
      "cell_type": "markdown",
      "metadata": {
        "id": "9m7IGTgCoGgS",
        "colab_type": "text"
      },
      "source": [
        "## 문자열 연산: 더하기"
      ]
    },
    {
      "cell_type": "code",
      "metadata": {
        "id": "kly3QA1VoIWq",
        "colab_type": "code",
        "outputId": "81491cd0-86ee-4391-f690-0803b8de7034",
        "colab": {
          "base_uri": "https://localhost:8080/",
          "height": 35
        }
      },
      "source": [
        "head = \"Python\"\n",
        "tail = \" is fun!\"\n",
        "\n",
        "print(head + tail)"
      ],
      "execution_count": 0,
      "outputs": [
        {
          "output_type": "stream",
          "text": [
            "Python is fun!\n"
          ],
          "name": "stdout"
        }
      ]
    },
    {
      "cell_type": "markdown",
      "metadata": {
        "id": "G_1y6GkQoWfz",
        "colab_type": "text"
      },
      "source": [
        "## 문자열 연산: 곱하기"
      ]
    },
    {
      "cell_type": "code",
      "metadata": {
        "id": "aQ4GKfX4oW-T",
        "colab_type": "code",
        "outputId": "f496455f-deb9-413c-af66-2b5148d35693",
        "colab": {
          "base_uri": "https://localhost:8080/",
          "height": 35
        }
      },
      "source": [
        "a = \"python\"\n",
        "print(a * 2)"
      ],
      "execution_count": 0,
      "outputs": [
        {
          "output_type": "stream",
          "text": [
            "pythonpython\n"
          ],
          "name": "stdout"
        }
      ]
    },
    {
      "cell_type": "markdown",
      "metadata": {
        "id": "ki0VMJrLoiJq",
        "colab_type": "text"
      },
      "source": [
        "## multistring.py"
      ]
    },
    {
      "cell_type": "code",
      "metadata": {
        "id": "-IgGtsm2oisi",
        "colab_type": "code",
        "outputId": "d369055c-64b1-4139-ae80-366a53732aca",
        "colab": {
          "base_uri": "https://localhost:8080/",
          "height": 71
        }
      },
      "source": [
        "print(\"=\" * 50)\n",
        "print(\"I am now coding Python!\")\n",
        "print(\"=\" * 50)"
      ],
      "execution_count": 0,
      "outputs": [
        {
          "output_type": "stream",
          "text": [
            "==================================================\n",
            "I am now coding Python!\n",
            "==================================================\n"
          ],
          "name": "stdout"
        }
      ]
    },
    {
      "cell_type": "markdown",
      "metadata": {
        "id": "y3WCWSrHontK",
        "colab_type": "text"
      },
      "source": [
        "## 내장함수: len()"
      ]
    },
    {
      "cell_type": "code",
      "metadata": {
        "id": "J6XBbK9GopNz",
        "colab_type": "code",
        "outputId": "fea24d10-5640-44ae-d9ad-59b610e0002d",
        "colab": {
          "base_uri": "https://localhost:8080/",
          "height": 53
        }
      },
      "source": [
        "print(\"문자열 연산: 길이 구하기 - len()\")\n",
        "a = \"Life is too short\"\n",
        "len(a)"
      ],
      "execution_count": 0,
      "outputs": [
        {
          "output_type": "stream",
          "text": [
            "문자열 연산: 길이 구하기 - len()\n"
          ],
          "name": "stdout"
        },
        {
          "output_type": "execute_result",
          "data": {
            "text/plain": [
              "17"
            ]
          },
          "metadata": {
            "tags": []
          },
          "execution_count": 13
        }
      ]
    },
    {
      "cell_type": "markdown",
      "metadata": {
        "id": "pnTRoMZSosCT",
        "colab_type": "text"
      },
      "source": [
        "# 문자열 인덱싱과 슬라이싱"
      ]
    },
    {
      "cell_type": "markdown",
      "metadata": {
        "id": "5jEjBf1io2uq",
        "colab_type": "text"
      },
      "source": [
        "## 문자열: 인덱싱이란?"
      ]
    },
    {
      "cell_type": "code",
      "metadata": {
        "id": "h2rI9uyuo0yy",
        "colab_type": "code",
        "outputId": "d991c59a-8de4-4e14-9a0c-3654850185b0",
        "colab": {
          "base_uri": "https://localhost:8080/",
          "height": 53
        }
      },
      "source": [
        "a = \"Life is too short, You need Python\"\n",
        "print(a[3])\n",
        "print(a[15])"
      ],
      "execution_count": 0,
      "outputs": [
        {
          "output_type": "stream",
          "text": [
            "e\n",
            "r\n"
          ],
          "name": "stdout"
        }
      ]
    },
    {
      "cell_type": "markdown",
      "metadata": {
        "id": "pHvtkuwio_zq",
        "colab_type": "text"
      },
      "source": [
        "## 문자열: 인덱싱 활용"
      ]
    },
    {
      "cell_type": "code",
      "metadata": {
        "id": "gyNxTbklpAiq",
        "colab_type": "code",
        "outputId": "d730e326-1644-4679-f70a-a2a9bf261dcd",
        "colab": {
          "base_uri": "https://localhost:8080/",
          "height": 125
        }
      },
      "source": [
        "# \"파이썬은 0부터 숫자를 센다.\"\n",
        "\n",
        "a = \"Life is too short, You need Python\"\n",
        "print(a[0])\n",
        "\n",
        "print(a[12])\n",
        "\n",
        "print(a[-1])\n",
        "\n",
        "# a[-0]\n",
        "print(a[-2])\n",
        "print(a[-5])\n",
        "print(a[-12])"
      ],
      "execution_count": 0,
      "outputs": [
        {
          "output_type": "stream",
          "text": [
            "L\n",
            "s\n",
            "n\n",
            "o\n",
            "y\n",
            " \n"
          ],
          "name": "stdout"
        }
      ]
    },
    {
      "cell_type": "markdown",
      "metadata": {
        "id": "UhaV07U1pLeS",
        "colab_type": "text"
      },
      "source": [
        "## 문자열: 슬라이싱이란?"
      ]
    },
    {
      "cell_type": "code",
      "metadata": {
        "id": "BQaU8yMJpMD6",
        "colab_type": "code",
        "outputId": "28f412ba-d123-445e-ad0d-6f7004f00d98",
        "colab": {
          "base_uri": "https://localhost:8080/",
          "height": 197
        }
      },
      "source": [
        "a = \"Life is too short, You need Python\"\n",
        "\n",
        "# Life 를 뽑아낼려면 어떻게?\n",
        "b = a[0] + a[1] + a[2] + a[3]  # 문자열 뎌하기 연산\n",
        "print(b)\n",
        "\n",
        "\n",
        "# slicing (슬라이싱)\n",
        "print(a[0:4])  # 0 <= index < 4\n",
        "\n",
        "print(a[0:5])\n",
        "print(a[5:7])\n",
        "print(a[12:17])\n",
        "\n",
        "\n",
        "# : 의 사용\n",
        "print(a[:4])\n",
        "print(a[19:])\n",
        "print(a[:17])\n",
        "\n",
        "print(a[:])\n",
        "\n",
        "# a[19:-7] ?\n",
        "print(a[19:-7])"
      ],
      "execution_count": 0,
      "outputs": [
        {
          "output_type": "stream",
          "text": [
            "Life\n",
            "Life\n",
            "Life \n",
            "is\n",
            "short\n",
            "Life\n",
            "You need Python\n",
            "Life is too short\n",
            "Life is too short, You need Python\n",
            "You need\n"
          ],
          "name": "stdout"
        }
      ]
    },
    {
      "cell_type": "markdown",
      "metadata": {
        "id": "MYT75N87pjMr",
        "colab_type": "text"
      },
      "source": [
        "## 문자열: 슬라이싱 응용?"
      ]
    },
    {
      "cell_type": "code",
      "metadata": {
        "id": "oedvFNPXpk_C",
        "colab_type": "code",
        "outputId": "93e5d261-77ca-4299-f620-adb6116bee3c",
        "colab": {
          "base_uri": "https://localhost:8080/",
          "height": 89
        }
      },
      "source": [
        "a = \"20190909Sunny\"\n",
        "\n",
        "date = a[:8]\n",
        "weather = a[8:]\n",
        "\n",
        "print(date)\n",
        "print(weather)\n",
        "\n",
        "a = \"20190917Rainy\"\n",
        "\n",
        "year = a[:4]\n",
        "day = a[4:8]\n",
        "weather = a[8:]\n",
        "\n",
        "print(year,day,weather)\n",
        "\n",
        "# \"Pithon\"이라는 문자열을 \"Python\"으로 바꾸려면?\n",
        "\n",
        "a = \"Pithon\"\n",
        "a[1]\n",
        "# a[1] = 'y'  # Error (immutable한 자료형)\n",
        "\n",
        "#################\n",
        "\n",
        "a = \"Pithon\"\n",
        "a[:1]\n",
        "a[2:]\n",
        "print(a[:1] + 'y' + a[2:])  # Python"
      ],
      "execution_count": 0,
      "outputs": [
        {
          "output_type": "stream",
          "text": [
            "20190909\n",
            "Sunny\n",
            "2019 0917 Rainy\n",
            "Python\n"
          ],
          "name": "stdout"
        }
      ]
    },
    {
      "cell_type": "markdown",
      "metadata": {
        "id": "NKcH9oKgu3_8",
        "colab_type": "text"
      },
      "source": [
        "# 문자열 포맷팅"
      ]
    },
    {
      "cell_type": "markdown",
      "metadata": {
        "id": "igOjhdEvu5sS",
        "colab_type": "text"
      },
      "source": [
        "## 문자열: 포매팅이란?"
      ]
    },
    {
      "cell_type": "code",
      "metadata": {
        "id": "qbSyKBwEu8uE",
        "colab_type": "code",
        "colab": {
          "base_uri": "https://localhost:8080/",
          "height": 89
        },
        "outputId": "18aa547d-780c-483b-825b-0bba6d6d42a8"
      },
      "source": [
        "# 1. 숫자 바로 대입\n",
        "print(\"I eat %d apples.\" % 3)\n",
        "\n",
        "# 2. 문자열 바로 대입\n",
        "print(\"I eat %s apples.\" % \"five\")\n",
        "\n",
        "# 3. 숫자 값을 나타내는 변수로 대입\n",
        "number = 3\n",
        "print(\"I eat %d apples.\" % number)\n",
        "\n",
        "# 4. 2개 이상의 값 넣기\n",
        "number = 10\n",
        "day = \"three\"\n",
        "\n",
        "#\"I ate %d apples. so I was sick for %s days.\" % number  # , day   # Error\n",
        "print(\"I ate %d apples. so I was sick for %s days.\" % (number, day))\n",
        "\n",
        "# 소괄호 안에 콤마(,)로 구분하여 각각의 값을 넣어 준다."
      ],
      "execution_count": 21,
      "outputs": [
        {
          "output_type": "stream",
          "text": [
            "I eat 3 apples.\n",
            "I eat five apples.\n",
            "I eat 3 apples.\n",
            "I ate 10 apples. so I was sick for three days.\n"
          ],
          "name": "stdout"
        }
      ]
    },
    {
      "cell_type": "markdown",
      "metadata": {
        "id": "Wk7BQhoju_Ir",
        "colab_type": "text"
      },
      "source": [
        "## 문자열: 포맷 코드"
      ]
    },
    {
      "cell_type": "code",
      "metadata": {
        "id": "icS4E8ELvAm0",
        "colab_type": "code",
        "colab": {
          "base_uri": "https://localhost:8080/",
          "height": 89
        },
        "outputId": "fca97880-4cbb-4617-8adb-5bd8618cf309"
      },
      "source": [
        "# %d, %s, %c, %f, %o, %x, %%\n",
        "# %s, 묵시적 형변환\n",
        "\n",
        "print(\"I have %s apples\" % 3)\n",
        "print(\"rate is %s\" % 3.234)\n",
        "\n",
        "print(\"Error is %d.\" % 98)\n",
        "print(\"Error is %d%%.\" % 98)"
      ],
      "execution_count": 22,
      "outputs": [
        {
          "output_type": "stream",
          "text": [
            "I have 3 apples\n",
            "rate is 3.234\n",
            "Error is 98.\n",
            "Error is 98%.\n"
          ],
          "name": "stdout"
        }
      ]
    },
    {
      "cell_type": "markdown",
      "metadata": {
        "id": "slmQCWsTvDca",
        "colab_type": "text"
      },
      "source": [
        "## 문자열: 포맷 코드와 숫자 함께 사용하기"
      ]
    },
    {
      "cell_type": "code",
      "metadata": {
        "id": "zm0AjcgLvEAD",
        "colab_type": "code",
        "colab": {
          "base_uri": "https://localhost:8080/",
          "height": 89
        },
        "outputId": "417f9aaf-7ce4-447e-9ca2-7aaf57854bec"
      },
      "source": [
        "# 1. 정렬과 공백\n",
        "print(\"%10s\" % \"hi\")\n",
        "print(\"%-10sjane.\" % \"hi\")\n",
        "\n",
        "# 2. 소수점 표현하기\n",
        "print(\"%0.4f\" % 3.42134234)\n",
        "print(\"%10.4f\" % 3.42134234)"
      ],
      "execution_count": 23,
      "outputs": [
        {
          "output_type": "stream",
          "text": [
            "        hi\n",
            "hi        jane.\n",
            "3.4213\n",
            "    3.4213\n"
          ],
          "name": "stdout"
        }
      ]
    },
    {
      "cell_type": "markdown",
      "metadata": {
        "id": "TmftTtEsvGaM",
        "colab_type": "text"
      },
      "source": [
        "## 문자열: format 함수를 사용한 포매팅"
      ]
    },
    {
      "cell_type": "code",
      "metadata": {
        "id": "V_mZvQuCvG8U",
        "colab_type": "code",
        "colab": {
          "base_uri": "https://localhost:8080/",
          "height": 503
        },
        "outputId": "6634b9d9-5e5f-47a1-f1e9-e3ec78b2a950"
      },
      "source": [
        "# 1. 숫자 바로 대입하기\n",
        "print(\"I eat {0} apples\".format(3))\n",
        "print(\"I eat {0} {1} apples\".format(3, 4))\n",
        "\n",
        "# 2. 문자열 바로 대입하기\n",
        "print(\"I eat {0} apples\".format(\"five\"))\n",
        "print(\"I eat {0} apples from {1} boxes\".format(\"five\", \"three\"))\n",
        "\n",
        "# 3. 숫자 값을 가진 변수로 대입하기\n",
        "number = 3\n",
        "print(\"I eat {0} apples\".format(number))\n",
        "print(\"I eat {0} apples\".format(number + 1))\n",
        "\n",
        "# 2개 이상의 값 넣기\n",
        "number = 10\n",
        "day = \"three\"\n",
        "print(\"I ate {0} apples. so I was sick for {1} days.\".format(number, day))\n",
        "\n",
        "# 이름으로 넣기\n",
        "print(\"I ate {number} apples. so I was sick for {day} days.\".format(number=10, day=3))\n",
        "\n",
        "# 인덱스와 이름을 혼용해서 넣기\n",
        "print(\"I ate {0} apples. so I was sick for {day} days.\".format(10, day=3))\n",
        "\n",
        "#\n",
        "######################################\n",
        "# 왼쪽 정렬/ 오른쪽 정렬\n",
        "print(\"{0:<10}\".format(\"hi\"))\n",
        "print(\"{0:>10}\".format(\"hi\"))\n",
        "\n",
        "# 가운데 정렬\n",
        "print(\"{0:^10}\".format(\"hi\"))\n",
        "\n",
        "# 공백 채우기\n",
        "print(\"{0:=^10}\".format(\"hi\"))\n",
        "print(\"{0:!<10}\".format(\"hi\"))\n",
        "\n",
        "# 도전하기\n",
        "# \"{0:<10}{1:>10}\".format(\"hi\",'comsi')\n",
        "\n",
        "#########################################\n",
        "\n",
        "# 소수점 표현하기\n",
        "y = 3.42134234\n",
        "print(\"{0:0.4f}\".format(y))\n",
        "print(\"{0:10.4f}\".format(y))\n",
        "\n",
        "# { 또는 } 문자 표현하기\n",
        "print(\"{{ and }}\".format())\n",
        "\n",
        "##########################\n",
        "##### f 문자열 포매팅 #####\n",
        "##### .format() 대체\n",
        "##########################\n",
        "\n",
        "print(\"문자열: f 문자열 포매팅\")\n",
        "name = \"홍길동\"\n",
        "age = 30\n",
        "print(f\"나의 이름은 {name}입니다. 나이는 {age}입니다.\")\n",
        "\n",
        "age = 30\n",
        "print(f\"나는 내년이면 {age+1}살이 된다.\")\n",
        "\n",
        "\n",
        "\n",
        "# 딕셔너리는 f 문자열 포매팅에서 다음과 같이 사용\n",
        "d = {\"name\": \"홍길동\", \"age\": 30}\n",
        "print(f'나의 이름은 {d[\"name\"]}입니다. 나이는 {d[\"age\"]}입니다.')\n",
        "\n",
        "\n",
        "\n",
        "# 정렬\n",
        "print(f'{\"hi\":<10}')  # 왼쪽 정렬\n",
        "print(f'{\"hi\":>10}')  # 오른쪽 정렬\n",
        "print(f'{\"hi\":^10}')  # 가운데 정렬\n",
        "\n",
        "\n",
        "\n",
        "# 공백 채우기\n",
        "y = 3.42134234\n",
        "print(f\"{y:0.4f}\")  # 소수점 4자리까지만 표현\n",
        "print(f\"{y:10.4f}\")  # 소수점 4자리까지 표현하고 총 자리수를 10으로 맞춤\n",
        "\n",
        "\n",
        "\n",
        "# { } 문자를 표시\n",
        "print(f\"{{ and }}\")"
      ],
      "execution_count": 24,
      "outputs": [
        {
          "output_type": "stream",
          "text": [
            "I eat 3 apples\n",
            "I eat 3 4 apples\n",
            "I eat five apples\n",
            "I eat five apples from three boxes\n",
            "I eat 3 apples\n",
            "I eat 4 apples\n",
            "I ate 10 apples. so I was sick for three days.\n",
            "I ate 10 apples. so I was sick for 3 days.\n",
            "I ate 10 apples. so I was sick for 3 days.\n",
            "hi        \n",
            "        hi\n",
            "    hi    \n",
            "====hi====\n",
            "hi!!!!!!!!\n",
            "3.4213\n",
            "    3.4213\n",
            "{ and }\n",
            "문자열: f 문자열 포매팅\n",
            "나의 이름은 홍길동입니다. 나이는 30입니다.\n",
            "나는 내년이면 31살이 된다.\n",
            "나의 이름은 홍길동입니다. 나이는 30입니다.\n",
            "hi        \n",
            "        hi\n",
            "    hi    \n",
            "3.4213\n",
            "    3.4213\n",
            "{ and }\n"
          ],
          "name": "stdout"
        }
      ]
    },
    {
      "cell_type": "markdown",
      "metadata": {
        "id": "svG_xFyIvLwg",
        "colab_type": "text"
      },
      "source": [
        "## 문자열: 관련 내장 함수들"
      ]
    },
    {
      "cell_type": "code",
      "metadata": {
        "id": "bWTAHwcVvOUM",
        "colab_type": "code",
        "colab": {
          "base_uri": "https://localhost:8080/",
          "height": 287
        },
        "outputId": "cd015af8-9bc2-46c4-db25-4298e188e4f1"
      },
      "source": [
        "# 문자 개수 세기(count)\n",
        "a = \"hobby\"\n",
        "print(a.count(\"b\"))\n",
        "\n",
        "\n",
        "# 위치 알려주기1(find)\n",
        "a = \"Python is the best choice\"\n",
        "print(a.find(\"b\"))\n",
        "# print(a.find(\"k\"))  # what value?\n",
        "\n",
        "\n",
        "# 위치 알려주기2(index)\n",
        "a = \"Life is too short\"\n",
        "print(a.index(\"t\"))\n",
        "# print(a.index(\"k\"))\n",
        "\n",
        "\n",
        "# 문자열 삽입(join)\n",
        "print(\",\".join(\"abcd\"))\n",
        "print(\",\".join([\"a\", \"b\", \"c\", \"d\"]))\n",
        "\n",
        "\n",
        "# 소문자를 대문자로 바꾸기(upper)\n",
        "a = \"hi\"\n",
        "print(a.upper())\n",
        "\n",
        "\n",
        "# 대문자를 소문자로 바꾸기(lower)\n",
        "a = \"IoT\"\n",
        "print(a.lower())\n",
        "\n",
        "\n",
        "# 왼쪽 공백 지우기(lstrip)\n",
        "a = \" hi \"\n",
        "print(a.lstrip())\n",
        "\n",
        "\n",
        "# 오른쪽 공백 지우기(rstrip)\n",
        "print(a.rstrip())\n",
        "\n",
        "\n",
        "# 양쪽 공백 지우기(strip)\n",
        "print(a.strip())\n",
        "\n",
        "\n",
        "# 문자열 바꾸기(replace)\n",
        "a = \"Life is too short\"\n",
        "print(a.replace(\"Life\", \"Your leg\"))\n",
        "\n",
        "# 문자열 나누기(split) -> 리스트로 변환하여 반환\n",
        "a = \"Life is too short\"\n",
        "print(a.split())\n",
        "\n",
        "b = \"a:b:c:d\"\n",
        "print(b.split(\":\"))\n",
        "\n",
        "#### 도전하기 #####\n",
        "# format 함수 또는 f 문자열 포매팅을 이용해서 '!!!python!!!' 문자열을 출력해보시오.\n",
        "print(\"{0:!^12}\".format(\"python\"))\n",
        "print(f'{\"python\":!^12}')"
      ],
      "execution_count": 25,
      "outputs": [
        {
          "output_type": "stream",
          "text": [
            "2\n",
            "14\n",
            "8\n",
            "a,b,c,d\n",
            "a,b,c,d\n",
            "HI\n",
            "iot\n",
            "hi \n",
            " hi\n",
            "hi\n",
            "Your leg is too short\n",
            "['Life', 'is', 'too', 'short']\n",
            "['a', 'b', 'c', 'd']\n",
            "!!!python!!!\n",
            "!!!python!!!\n"
          ],
          "name": "stdout"
        }
      ]
    },
    {
      "cell_type": "markdown",
      "metadata": {
        "id": "10OpSgTzp63y",
        "colab_type": "text"
      },
      "source": [
        "### ***********************************\n",
        "### Author: swarthyPig\n",
        "### 파이썬 코드: ch2_02_string.py\n",
        "### ***********************************"
      ]
    }
  ]
}