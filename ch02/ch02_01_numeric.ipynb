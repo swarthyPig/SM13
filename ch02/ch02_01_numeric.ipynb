{
  "nbformat": 4,
  "nbformat_minor": 0,
  "metadata": {
    "colab": {
      "name": "ch02_01_numeric.ipynb",
      "provenance": [],
      "collapsed_sections": [],
      "include_colab_link": true
    },
    "kernelspec": {
      "name": "python3",
      "display_name": "Python 3"
    }
  },
  "cells": [
    {
      "cell_type": "markdown",
      "metadata": {
        "id": "view-in-github",
        "colab_type": "text"
      },
      "source": [
        "<a href=\"https://colab.research.google.com/github/swarthyPig/SM13/blob/master/ch02/ch02_01_numeric.ipynb\" target=\"_parent\"><img src=\"https://colab.research.google.com/assets/colab-badge.svg\" alt=\"Open In Colab\"/></a>"
      ]
    },
    {
      "cell_type": "markdown",
      "metadata": {
        "id": "8Q8z9uxWlI3i",
        "colab_type": "text"
      },
      "source": [
        "# ch2_01_numeric.py"
      ]
    },
    {
      "cell_type": "markdown",
      "metadata": {
        "id": "NTe_LTDilaoB",
        "colab_type": "text"
      },
      "source": [
        "## 숫자형: 정수"
      ]
    },
    {
      "cell_type": "code",
      "metadata": {
        "id": "8vQJoB_clexR",
        "colab_type": "code",
        "outputId": "e22e7fe6-e96f-46b9-e014-c57a70328dd5",
        "colab": {
          "base_uri": "https://localhost:8080/",
          "height": 71
        }
      },
      "source": [
        "a = 123\n",
        "print(a)\n",
        "\n",
        "a = -178\n",
        "print(a)\n",
        "\n",
        "a = 0\n",
        "print(a)"
      ],
      "execution_count": 0,
      "outputs": [
        {
          "output_type": "stream",
          "text": [
            "123\n",
            "-178\n",
            "0\n"
          ],
          "name": "stdout"
        }
      ]
    },
    {
      "cell_type": "markdown",
      "metadata": {
        "id": "Jr__jrF8lpNy",
        "colab_type": "text"
      },
      "source": [
        "## 숫자형: 실수"
      ]
    },
    {
      "cell_type": "code",
      "metadata": {
        "id": "QRa_cLLflt6B",
        "colab_type": "code",
        "outputId": "270499a2-699c-4874-a350-01b394ddcb9d",
        "colab": {
          "base_uri": "https://localhost:8080/",
          "height": 89
        }
      },
      "source": [
        "a = 1.2\n",
        "print(a)\n",
        "\n",
        "a = -3.48\n",
        "print(a)\n",
        "\n",
        "a = 4.24e10\n",
        "print(\"4.24e10 =\",a)\n",
        "\n",
        "a = 4.24e-10\n",
        "print(a)"
      ],
      "execution_count": 15,
      "outputs": [
        {
          "output_type": "stream",
          "text": [
            "1.2\n",
            "-3.48\n",
            "4.24e10 = 42400000000.0\n",
            "4.24e-10\n"
          ],
          "name": "stdout"
        }
      ]
    },
    {
      "cell_type": "markdown",
      "metadata": {
        "id": "lciGHHEGma1y",
        "colab_type": "text"
      },
      "source": [
        "## 숫자형: 8진수와 16진수"
      ]
    },
    {
      "cell_type": "code",
      "metadata": {
        "id": "874LBACtmbla",
        "colab_type": "code",
        "outputId": "4552996d-c01d-4fb4-e45d-b7f2dc11ac0d",
        "colab": {
          "base_uri": "https://localhost:8080/",
          "height": 71
        }
      },
      "source": [
        "# o는 8진수 \n",
        "# x는 16진수\n",
        "# b는 2진수\n",
        "\n",
        "a = 0o177\n",
        "print(\"8진수 0o177 =\",a)\n",
        "\n",
        "a = 0x8FF\n",
        "print(\"16진수 0x8FF =\",a)\n",
        "\n",
        "a = 0xABC\n",
        "print(\"16진수0xABC =\",a)"
      ],
      "execution_count": 19,
      "outputs": [
        {
          "output_type": "stream",
          "text": [
            "8진수 0o177 = 127\n",
            "16진수 0x8FF = 2303\n",
            "16진수0xABC = 2748\n"
          ],
          "name": "stdout"
        }
      ]
    },
    {
      "cell_type": "markdown",
      "metadata": {
        "id": "SIxtWtDnmjQT",
        "colab_type": "text"
      },
      "source": [
        "## 숫자형: 연산자와 연산"
      ]
    },
    {
      "cell_type": "code",
      "metadata": {
        "id": "tgmkISfDmkK6",
        "colab_type": "code",
        "outputId": "a1f01fe5-e58c-4ac2-dbe3-9946085069e4",
        "colab": {
          "base_uri": "https://localhost:8080/",
          "height": 161
        }
      },
      "source": [
        "a = 3\n",
        "b = 4\n",
        "\n",
        "print(\"덧셈 :\",a + b)\n",
        "\n",
        "print(\"곱셈 :\",a * b)\n",
        "\n",
        "print(\"나눗셈 :\",a / b)\n",
        "\n",
        "print(\"제곱 :\",a ** b)\n",
        "\n",
        "print(\"나머지 :\",a % b)\n",
        "\n",
        "print(\"정수형 나눗셈 :\",a // b)\n",
        "\n",
        "print(\"정수형 나눗셈 :\",14 // 3) # 나눗셈의 몫을 정수로 출력\n",
        "\n",
        "print(\"나머지 :\",14 % 3)"
      ],
      "execution_count": 21,
      "outputs": [
        {
          "output_type": "stream",
          "text": [
            "덧셈 : 7\n",
            "곱셈 : 12\n",
            "나눗셈 : 0.75\n",
            "제곱 : 81\n",
            "나머지 : 3\n",
            "정수형 나눗셈 : 0\n",
            "정수형 나눗셈 : 4\n",
            "나머지 : 2\n"
          ],
          "name": "stdout"
        }
      ]
    },
    {
      "cell_type": "markdown",
      "metadata": {
        "id": "DJUZRyJvnGQq",
        "colab_type": "text"
      },
      "source": [
        "### ***********************************\n",
        "### Author: swarthyPig\n",
        "### 파이썬 코드: ch2_01_numeric.py\n",
        "### ***********************************"
      ]
    }
  ]
}