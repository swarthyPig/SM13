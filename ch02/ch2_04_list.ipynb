{
  "nbformat": 4,
  "nbformat_minor": 0,
  "metadata": {
    "colab": {
      "name": "ch2_04_list.ipynb",
      "provenance": [],
      "collapsed_sections": [],
      "include_colab_link": true
    },
    "kernelspec": {
      "name": "python3",
      "display_name": "Python 3"
    }
  },
  "cells": [
    {
      "cell_type": "markdown",
      "metadata": {
        "id": "view-in-github",
        "colab_type": "text"
      },
      "source": [
        "<a href=\"https://colab.research.google.com/github/swarthyPig/SM13/blob/master/ch02/ch2_04_list.ipynb\" target=\"_parent\"><img src=\"https://colab.research.google.com/assets/colab-badge.svg\" alt=\"Open In Colab\"/></a>"
      ]
    },
    {
      "cell_type": "markdown",
      "metadata": {
        "id": "WrVSs-g2S3PA",
        "colab_type": "text"
      },
      "source": [
        "# 리스트"
      ]
    },
    {
      "cell_type": "markdown",
      "metadata": {
        "id": "dPekdNjGTWgo",
        "colab_type": "text"
      },
      "source": [
        "### 리스트: list 란?"
      ]
    },
    {
      "cell_type": "code",
      "metadata": {
        "id": "iTA7ZXxZS5t3",
        "colab_type": "code",
        "outputId": "a262c636-ae5c-4f25-def8-3eb0487b8858",
        "colab": {
          "base_uri": "https://localhost:8080/",
          "height": 251
        }
      },
      "source": [
        "odd = [1, 3, 5, 7, 9]\n",
        "print(odd)\n",
        "\n",
        "print('*'*40)\n",
        "\n",
        "# 여러 가지 리스트\n",
        "a = []   # list 초기화\n",
        "print(a)\n",
        "\n",
        "print('*'*40)\n",
        "\n",
        "b = [1, 2, 3]\n",
        "print(b)\n",
        "\n",
        "print('*'*40)\n",
        "\n",
        "c = ['Life', 'is', 'too', 'short'] # 문자열을 원소로 가지는 list\n",
        "print(c)\n",
        "\n",
        "print('*'*40)\n",
        "\n",
        "d = [1, 2, 'Life', 'is'] # 문자열과 숫자를 같이 원소로 가지는 list\n",
        "print(d)\n",
        "\n",
        "print('*'*40)\n",
        "\n",
        "e = [1, 2, ['Life', 'is']] # 이중 list\n",
        "print(e)\n",
        "\n",
        "print('*'*40)\n",
        "a = list()\n",
        "a   # []"
      ],
      "execution_count": 0,
      "outputs": [
        {
          "output_type": "stream",
          "text": [
            "[1, 3, 5, 7, 9]\n",
            "****************************************\n",
            "[]\n",
            "****************************************\n",
            "[1, 2, 3]\n",
            "****************************************\n",
            "['Life', 'is', 'too', 'short']\n",
            "****************************************\n",
            "[1, 2, 'Life', 'is']\n",
            "****************************************\n",
            "[1, 2, ['Life', 'is']]\n",
            "****************************************\n"
          ],
          "name": "stdout"
        },
        {
          "output_type": "execute_result",
          "data": {
            "text/plain": [
              "[]"
            ]
          },
          "metadata": {
            "tags": []
          },
          "execution_count": 13
        }
      ]
    },
    {
      "cell_type": "markdown",
      "metadata": {
        "id": "yNbxzFNQTvGe",
        "colab_type": "text"
      },
      "source": [
        "### 리스트: 리스트의 인덱싱과 슬라이싱"
      ]
    },
    {
      "cell_type": "code",
      "metadata": {
        "id": "KgGPd0EwTvsO",
        "colab_type": "code",
        "outputId": "e91f5fe6-0e06-46d0-8433-23e1badd6fa6",
        "colab": {
          "base_uri": "https://localhost:8080/",
          "height": 215
        }
      },
      "source": [
        "a = [1, 2, 3]\n",
        "print(a)\n",
        "\n",
        "print('*'*40)\n",
        "\n",
        "print(a[0])\n",
        "# print(a[3]) # error -> out of range\n",
        "print(a[0]+a[2])\n",
        "print(a[-1])\n",
        "\n",
        "print('*'*40)\n",
        "\n",
        "a = [1, 2, 3, ['a', 'b', 'c']]\n",
        "print(a)\n",
        "\n",
        "print('*'*40)\n",
        "\n",
        "print(a[0])\n",
        "print(a[3])\n",
        "print(a[-1])\n",
        "# chack this: a[0] + a[-1] -> TypeError"
      ],
      "execution_count": 0,
      "outputs": [
        {
          "output_type": "stream",
          "text": [
            "[1, 2, 3]\n",
            "****************************************\n",
            "1\n",
            "4\n",
            "3\n",
            "****************************************\n",
            "[1, 2, 3, ['a', 'b', 'c']]\n",
            "****************************************\n",
            "1\n",
            "['a', 'b', 'c']\n",
            "['a', 'b', 'c']\n"
          ],
          "name": "stdout"
        }
      ]
    },
    {
      "cell_type": "markdown",
      "metadata": {
        "id": "sseatbDtUnoJ",
        "colab_type": "text"
      },
      "source": [
        "### Indexing inner list"
      ]
    },
    {
      "cell_type": "code",
      "metadata": {
        "id": "eCKMDNMfUszP",
        "colab_type": "code",
        "outputId": "2add14d8-e54f-492b-8a66-19393ff1b9c7",
        "colab": {
          "base_uri": "https://localhost:8080/",
          "height": 89
        }
      },
      "source": [
        "a = [1, 2, 3, ['a', 'b', 'c']]\n",
        "print(a)\n",
        "\n",
        "print('*'*40)\n",
        "\n",
        "print(a[-1][0])\n",
        "print(a[-1][-1])"
      ],
      "execution_count": 0,
      "outputs": [
        {
          "output_type": "stream",
          "text": [
            "[1, 2, 3, ['a', 'b', 'c']]\n",
            "****************************************\n",
            "a\n",
            "c\n"
          ],
          "name": "stdout"
        }
      ]
    },
    {
      "cell_type": "markdown",
      "metadata": {
        "id": "95CJ_ctPUgdQ",
        "colab_type": "text"
      },
      "source": [
        "### 삼중 리스트에서 인덱싱하기"
      ]
    },
    {
      "cell_type": "code",
      "metadata": {
        "id": "gB2PvYLEUkSn",
        "colab_type": "code",
        "outputId": "e94e9385-ea7d-48d8-dd71-2972b2091c44",
        "colab": {
          "base_uri": "https://localhost:8080/",
          "height": 395
        }
      },
      "source": [
        "a = [1, 2, ['a', 'b', ['Life', 'is']]]\n",
        "print(a)\n",
        "\n",
        "print('*'*40)\n",
        "\n",
        "print(a[2])\n",
        "print(a[2][-1])\n",
        "print(a[2][-1][0]) # 'Life'\n",
        "\n",
        "print('*'*40)\n",
        "\n",
        "#\n",
        "# 리스트의 슬라이싱\n",
        "#\n",
        "a = [1, 2, 3, 4, 5]\n",
        "print(a)\n",
        "\n",
        "print('*'*40)\n",
        "\n",
        "print(a[0:2])\n",
        "a = \"12345\"\n",
        "print(a)\n",
        "print(a[0:2])\n",
        "\n",
        "print('*'*40)\n",
        "\n",
        "a = [1, 2, 3, 4, 5]\n",
        "print(a)\n",
        "\n",
        "print('*'*40)\n",
        "\n",
        "print(a[0:2])\n",
        "print(a[2:])\n",
        "print(a[0:4:2])  # a[start:end:step]\n",
        "\n",
        "print('*'*40)\n",
        "\n",
        "#\n",
        "# 중첩된 리스트에서 슬라이싱하기\n",
        "#\n",
        "a = [1, 2, 3, ['a', 'b', 'c'], 4, 5]\n",
        "print(a)\n",
        "print(a[2:5])\n",
        "print(a[3][:2])"
      ],
      "execution_count": 0,
      "outputs": [
        {
          "output_type": "stream",
          "text": [
            "[1, 2, ['a', 'b', ['Life', 'is']]]\n",
            "****************************************\n",
            "['a', 'b', ['Life', 'is']]\n",
            "['Life', 'is']\n",
            "Life\n",
            "****************************************\n",
            "[1, 2, 3, 4, 5]\n",
            "****************************************\n",
            "[1, 2]\n",
            "12345\n",
            "12\n",
            "****************************************\n",
            "[1, 2, 3, 4, 5]\n",
            "****************************************\n",
            "[1, 2]\n",
            "[3, 4, 5]\n",
            "[1, 3]\n",
            "****************************************\n",
            "[1, 2, 3, ['a', 'b', 'c'], 4, 5]\n",
            "[3, ['a', 'b', 'c'], 4]\n",
            "['a', 'b']\n"
          ],
          "name": "stdout"
        }
      ]
    },
    {
      "cell_type": "markdown",
      "metadata": {
        "id": "CTpaDmtMV7lI",
        "colab_type": "text"
      },
      "source": [
        "### 인덱싱, 슬라이싱 연습"
      ]
    },
    {
      "cell_type": "code",
      "metadata": {
        "id": "rguTRm-MV80o",
        "colab_type": "code",
        "outputId": "aa70ce16-cda1-400b-e415-84bbb9e299d2",
        "colab": {
          "base_uri": "https://localhost:8080/",
          "height": 359
        }
      },
      "source": [
        "x = [1, 2, 3, 4, 5, 6, 7, 8, 9]\n",
        "print(a)\n",
        "\n",
        "print('*'*40)\n",
        "\n",
        "print(x[0:3])\n",
        "\n",
        "print('*'*40)\n",
        "\n",
        "print(x[3:])\n",
        "\n",
        "print('*'*40)\n",
        "\n",
        "print(x[:6])\n",
        "\n",
        "print('*'*40)\n",
        "\n",
        "print(x[0:6:2])  # x[:6:2]\n",
        "\n",
        "print('*'*40)\n",
        "\n",
        "print(x[-1])\n",
        "\n",
        "print('*'*40)\n",
        "\n",
        "print(x[-3])\n",
        "\n",
        "print('*'*40)\n",
        "\n",
        "print(x[:-3])\n",
        "\n",
        "print('*'*40)\n",
        "\n",
        "print(x[::-1])\n",
        "\n",
        "print('*'*40)\n",
        "\n",
        "print(x[-3::-1])"
      ],
      "execution_count": 0,
      "outputs": [
        {
          "output_type": "stream",
          "text": [
            "[1, 2, 3, ['a', 'b', 'c'], 4, 5]\n",
            "****************************************\n",
            "[1, 2, 3]\n",
            "****************************************\n",
            "[4, 5, 6, 7, 8, 9]\n",
            "****************************************\n",
            "[1, 2, 3, 4, 5, 6]\n",
            "****************************************\n",
            "[1, 3, 5]\n",
            "****************************************\n",
            "9\n",
            "****************************************\n",
            "7\n",
            "****************************************\n",
            "[1, 2, 3, 4, 5, 6]\n",
            "****************************************\n",
            "[9, 8, 7, 6, 5, 4, 3, 2, 1]\n",
            "****************************************\n",
            "[7, 6, 5, 4, 3, 2, 1]\n"
          ],
          "name": "stdout"
        }
      ]
    },
    {
      "cell_type": "markdown",
      "metadata": {
        "id": "2ZMy56OEWW2X",
        "colab_type": "text"
      },
      "source": [
        " ### 리스트 연산하기"
      ]
    },
    {
      "cell_type": "code",
      "metadata": {
        "id": "JYZdFEx-Wafv",
        "colab_type": "code",
        "outputId": "50f6fd2f-c914-4994-db84-fdaba377b696",
        "colab": {
          "base_uri": "https://localhost:8080/",
          "height": 341
        }
      },
      "source": [
        "#\n",
        "# 리스트 더하기(+)\n",
        "#\n",
        "a = [1, 2, 3]\n",
        "print(a)\n",
        "b = [4, 5, 6]\n",
        "print(b)\n",
        "print(a + b)\n",
        "\n",
        "print('*'*40)\n",
        "\n",
        "#\n",
        "# 리스트 반복하기(*)\n",
        "#\n",
        "print(a * 3)\n",
        "\n",
        "print('*'*40)\n",
        "\n",
        "#\n",
        "# 리스트 길이구하기\n",
        "#\n",
        "print(len(a))\n",
        "\n",
        "print('*'*40)\n",
        "\n",
        "#\n",
        "# 초보자가 범하기 쉬운 리스트 연산 오류\n",
        "#\n",
        "a = [1, 2, 3]\n",
        "print(a)\n",
        "#print(a[2] + \"hi\")\n",
        "print(str(a[2]) + \"hi\")\n",
        "\n",
        "print('*'*40)\n",
        "\n",
        "#\n",
        "# 리스트의 수정과 삭제\n",
        "#\n",
        "a = [1, 2, 3]\n",
        "a[2] = 4  # list is mutable!!!\n",
        "print(a)\n",
        "\n",
        "print('*'*40)\n",
        "\n",
        "#\n",
        "# del 함수 사용해 리스트 요소 삭제하기\n",
        "#\n",
        "a = [1, 2, 3]\n",
        "print(a)\n",
        "del a[1]\n",
        "print(a)\n",
        "\n",
        "print('*'*40)\n",
        "\n",
        "a = [1, 2, 3, 4, 5]\n",
        "print(a)\n",
        "del a[2:]\n",
        "print(a)"
      ],
      "execution_count": 0,
      "outputs": [
        {
          "output_type": "stream",
          "text": [
            "[1, 2, 3]\n",
            "[4, 5, 6]\n",
            "[1, 2, 3, 4, 5, 6]\n",
            "****************************************\n",
            "[1, 2, 3, 1, 2, 3, 1, 2, 3]\n",
            "****************************************\n",
            "3\n",
            "****************************************\n",
            "[1, 2, 3]\n",
            "3hi\n",
            "****************************************\n",
            "[1, 2, 4]\n",
            "****************************************\n",
            "[1, 2, 3]\n",
            "[1, 3]\n",
            "****************************************\n",
            "[1, 2, 3, 4, 5]\n",
            "[1, 2]\n"
          ],
          "name": "stdout"
        }
      ]
    },
    {
      "cell_type": "markdown",
      "metadata": {
        "id": "321BDxcbXRGA",
        "colab_type": "text"
      },
      "source": [
        "\n",
        "### Author: swarthypig\n",
        "### 파이썬 코드: ch2_04_list.py\n"
      ]
    }
  ]
}