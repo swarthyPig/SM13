{
  "nbformat": 4,
  "nbformat_minor": 0,
  "metadata": {
    "colab": {
      "name": "ch2_06_tuple.ipynb",
      "provenance": [],
      "collapsed_sections": [],
      "include_colab_link": true
    },
    "kernelspec": {
      "name": "python3",
      "display_name": "Python 3"
    }
  },
  "cells": [
    {
      "cell_type": "markdown",
      "metadata": {
        "id": "view-in-github",
        "colab_type": "text"
      },
      "source": [
        "<a href=\"https://colab.research.google.com/github/swarthyPig/SM13/blob/master/ch02/ch2_06_tuple.ipynb\" target=\"_parent\"><img src=\"https://colab.research.google.com/assets/colab-badge.svg\" alt=\"Open In Colab\"/></a>"
      ]
    },
    {
      "cell_type": "markdown",
      "metadata": {
        "id": "piu4-39vb2nP",
        "colab_type": "text"
      },
      "source": [
        "# 튜플: tuple 이란?"
      ]
    },
    {
      "cell_type": "markdown",
      "metadata": {
        "id": "afpsy40ab32G",
        "colab_type": "text"
      },
      "source": [
        "## 리스트는 [ ]으로 둘러싸지만 튜플은 ( )으로 둘러싼다.\n",
        "## 리스트는 그 값의 생성, 삭제, 수정이 가능하지만 튜플은 그 값을 바꿀 수 없다.\n"
      ]
    },
    {
      "cell_type": "markdown",
      "metadata": {
        "id": "gigERzJ9eNat",
        "colab_type": "text"
      },
      "source": [
        "### 여러 가지 튜플"
      ]
    },
    {
      "cell_type": "code",
      "metadata": {
        "id": "WBVuzK6QeOzV",
        "colab_type": "code",
        "colab": {}
      },
      "source": [
        "even = (2, 4, 6, 8)\n",
        "# 여러 가지 튜플\n",
        "\n",
        "t1 = ()  # 튜플 초기화\n",
        "t2 = (1,)\n",
        "t3 = (1, 2, 3)\n",
        "t4 = 1, 2, 3\n",
        "t5 = (\"a\", \"b\", (\"ab\", \"cd\"))\n",
        "\n",
        "# t2 = (1,)처럼 단지 1개의 요소만을 가질 때는 요소 뒤에\n",
        "# 콤마(,)를 반드시 붙여야 한다는 것과\n",
        "# t4 = 1, 2, 3처럼 괄호( )를 생략해도 무방하다."
      ],
      "execution_count": 0,
      "outputs": []
    },
    {
      "cell_type": "markdown",
      "metadata": {
        "id": "4auYxF3heYUN",
        "colab_type": "text"
      },
      "source": [
        "### 튜플의 요소값을 지우거나 변경하려고 하면 어떻게 될까?\n",
        "\n",
        "### -> 에러가 발생한다"
      ]
    },
    {
      "cell_type": "markdown",
      "metadata": {
        "id": "IFkhzIQ4efN9",
        "colab_type": "text"
      },
      "source": [
        "### 인덱싱하기"
      ]
    },
    {
      "cell_type": "code",
      "metadata": {
        "id": "O6Ju0IOfetc9",
        "colab_type": "code",
        "outputId": "5e7fa7ba-a549-4c1d-f77b-448a53f091a4",
        "colab": {
          "base_uri": "https://localhost:8080/",
          "height": 53
        }
      },
      "source": [
        "#\n",
        "# 인덱싱하기\n",
        "#\n",
        "t1 = (1, 2, \"a\", \"b\")\n",
        "print(t1[0])\n",
        "print(t1[3])"
      ],
      "execution_count": 0,
      "outputs": [
        {
          "output_type": "stream",
          "text": [
            "1\n",
            "b\n"
          ],
          "name": "stdout"
        }
      ]
    },
    {
      "cell_type": "markdown",
      "metadata": {
        "id": "zEcSOp_Tehr1",
        "colab_type": "text"
      },
      "source": [
        "### 슬라이싱하기"
      ]
    },
    {
      "cell_type": "code",
      "metadata": {
        "id": "UiuBBEkAevRl",
        "colab_type": "code",
        "outputId": "25818c60-169f-4bbe-f9d9-19e67dbb6950",
        "colab": {
          "base_uri": "https://localhost:8080/",
          "height": 71
        }
      },
      "source": [
        "#\n",
        "# 슬라이싱하기\n",
        "#\n",
        "t1 = (1, 2, \"a\", \"b\")\n",
        "print(t1[1:])\n",
        "print(t1[2:-1])  # ('a',)\n",
        "print(t1[2:])"
      ],
      "execution_count": 0,
      "outputs": [
        {
          "output_type": "stream",
          "text": [
            "(2, 'a', 'b')\n",
            "('a',)\n",
            "('a', 'b')\n"
          ],
          "name": "stdout"
        }
      ]
    },
    {
      "cell_type": "markdown",
      "metadata": {
        "id": "veBev4cvejy9",
        "colab_type": "text"
      },
      "source": [
        "### 튜플 더하기"
      ]
    },
    {
      "cell_type": "code",
      "metadata": {
        "id": "1Zn7gM3WeyJV",
        "colab_type": "code",
        "outputId": "ee44e681-bb6b-4628-f734-4be1b2016474",
        "colab": {
          "base_uri": "https://localhost:8080/",
          "height": 35
        }
      },
      "source": [
        "#\n",
        "# 튜플 더하기\n",
        "#\n",
        "t1 = (1, 2, \"a\", \"b\")\n",
        "t2 = (3, 4)\n",
        "\n",
        "print(t1 + t2)"
      ],
      "execution_count": 0,
      "outputs": [
        {
          "output_type": "stream",
          "text": [
            "(1, 2, 'a', 'b', 3, 4)\n"
          ],
          "name": "stdout"
        }
      ]
    },
    {
      "cell_type": "markdown",
      "metadata": {
        "id": "4VF40KY3el0t",
        "colab_type": "text"
      },
      "source": [
        "### 튜플 곱하기"
      ]
    },
    {
      "cell_type": "code",
      "metadata": {
        "id": "x2IRNv0hez6l",
        "colab_type": "code",
        "outputId": "ebcdca8b-573b-47ad-d9e8-2020e50a9d8c",
        "colab": {
          "base_uri": "https://localhost:8080/",
          "height": 53
        }
      },
      "source": [
        "#\n",
        "# 튜플 곱하기\n",
        "#\n",
        "t2 = (3, 4)\n",
        "id(t2)\n",
        "\n",
        "t2 * 3\n",
        "id(t2)\n",
        "\n",
        "t2 = t2 * 3\n",
        "id(t2)"
      ],
      "execution_count": 0,
      "outputs": [
        {
          "output_type": "stream",
          "text": [
            "****************************************\n"
          ],
          "name": "stdout"
        },
        {
          "output_type": "execute_result",
          "data": {
            "text/plain": [
              "140276843309384"
            ]
          },
          "metadata": {
            "tags": []
          },
          "execution_count": 7
        }
      ]
    },
    {
      "cell_type": "markdown",
      "metadata": {
        "id": "KEgtkUIfeoSd",
        "colab_type": "text"
      },
      "source": [
        "### 튜플 길이 구하기"
      ]
    },
    {
      "cell_type": "code",
      "metadata": {
        "id": "NzSsArnie1zd",
        "colab_type": "code",
        "outputId": "13e8b112-4e70-4466-c6bb-c9f071314153",
        "colab": {
          "base_uri": "https://localhost:8080/",
          "height": 35
        }
      },
      "source": [
        "#\n",
        "# 튜플 길이 구하기\n",
        "#\n",
        "\n",
        "t1 = (1, 2, \"a\", \"b\")\n",
        "len(t1)"
      ],
      "execution_count": 0,
      "outputs": [
        {
          "output_type": "execute_result",
          "data": {
            "text/plain": [
              "4"
            ]
          },
          "metadata": {
            "tags": []
          },
          "execution_count": 6
        }
      ]
    },
    {
      "cell_type": "markdown",
      "metadata": {
        "id": "J5KLjSOUe3N1",
        "colab_type": "text"
      },
      "source": [
        "### Author: swarthyPig\n",
        "### 파이썬 코드: ch2_06_tuple.py\n"
      ]
    }
  ]
}