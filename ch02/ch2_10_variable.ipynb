{
  "nbformat": 4,
  "nbformat_minor": 0,
  "metadata": {
    "colab": {
      "name": "ch2_10_variable.ipynb",
      "provenance": [],
      "collapsed_sections": [],
      "include_colab_link": true
    },
    "kernelspec": {
      "name": "python3",
      "display_name": "Python 3"
    }
  },
  "cells": [
    {
      "cell_type": "markdown",
      "metadata": {
        "id": "view-in-github",
        "colab_type": "text"
      },
      "source": [
        "<a href=\"https://colab.research.google.com/github/swarthyPig/SM13/blob/master/ch02/ch2_10_variable.ipynb\" target=\"_parent\"><img src=\"https://colab.research.google.com/assets/colab-badge.svg\" alt=\"Open In Colab\"/></a>"
      ]
    },
    {
      "cell_type": "markdown",
      "metadata": {
        "id": "AkAo_ZdprFAr",
        "colab_type": "text"
      },
      "source": [
        "# 변수"
      ]
    },
    {
      "cell_type": "markdown",
      "metadata": {
        "id": "zNxP8PVwrHMD",
        "colab_type": "text"
      },
      "source": [
        "## 변수란?"
      ]
    },
    {
      "cell_type": "markdown",
      "metadata": {
        "id": "CMlEjeovrJ76",
        "colab_type": "text"
      },
      "source": [
        "### 변수는 자료(값)을 저장하는 공간이다."
      ]
    },
    {
      "cell_type": "code",
      "metadata": {
        "id": "pT1cF7v4rLnl",
        "colab_type": "code",
        "outputId": "3ae505f8-55a1-4c98-97f4-081a632fc23e",
        "colab": {
          "base_uri": "https://localhost:8080/",
          "height": 35
        }
      },
      "source": [
        "a = [1, 2, 3]\n",
        "id(a)  # a 변수가 가리키는 메모리의 주소"
      ],
      "execution_count": 0,
      "outputs": [
        {
          "output_type": "execute_result",
          "data": {
            "text/plain": [
              "139897150672136"
            ]
          },
          "metadata": {
            "tags": []
          },
          "execution_count": 1
        }
      ]
    },
    {
      "cell_type": "markdown",
      "metadata": {
        "id": "mEgixQ1KrQJq",
        "colab_type": "text"
      },
      "source": [
        "### list"
      ]
    },
    {
      "cell_type": "code",
      "metadata": {
        "id": "StmBViHHrQyq",
        "colab_type": "code",
        "outputId": "2d0d2036-f58f-46d3-a3e0-52f72c0b949d",
        "colab": {
          "base_uri": "https://localhost:8080/",
          "height": 125
        }
      },
      "source": [
        "a = [1, 2, 3]\n",
        "print(id(a))\n",
        "\n",
        "b = a\n",
        "print(id(a), id(b))\n",
        "\n",
        "a is b\n",
        "a[1] = 4\n",
        "print(a, b)\n",
        "\n",
        "print(a is b)\n",
        "\n",
        "b = [1, 2, 3]\n",
        "print(id(b))\n",
        "print(a is b)"
      ],
      "execution_count": 0,
      "outputs": [
        {
          "output_type": "stream",
          "text": [
            "139897516384200\n",
            "139897516384200 139897516384200\n",
            "[1, 4, 3] [1, 4, 3]\n",
            "True\n",
            "139897150672136\n",
            "False\n"
          ],
          "name": "stdout"
        }
      ]
    },
    {
      "cell_type": "markdown",
      "metadata": {
        "id": "oUDm6GVrriAK",
        "colab_type": "text"
      },
      "source": [
        "### b 변수를 생성할 때 a 변수의 값을 가져오면서\n",
        "### a와는 다른 주소를 가리키도록 만들수는 없을까?\n",
        "### 다음 2가지 방법이 있다."
      ]
    },
    {
      "cell_type": "markdown",
      "metadata": {
        "id": "WDxuf-FTrke5",
        "colab_type": "text"
      },
      "source": [
        "### 1. [:] 이용"
      ]
    },
    {
      "cell_type": "code",
      "metadata": {
        "id": "rUy1xdlfrnSp",
        "colab_type": "code",
        "outputId": "88ea52c1-717e-4fdc-c055-5e2adc638932",
        "colab": {
          "base_uri": "https://localhost:8080/",
          "height": 35
        }
      },
      "source": [
        "a = [1, 2, 3]\n",
        "b = a[:]\n",
        "a[1] = 4\n",
        "print(a, b)"
      ],
      "execution_count": 0,
      "outputs": [
        {
          "output_type": "stream",
          "text": [
            "[1, 4, 3] [1, 2, 3]\n"
          ],
          "name": "stdout"
        }
      ]
    },
    {
      "cell_type": "markdown",
      "metadata": {
        "id": "ijGHiqqUrnvJ",
        "colab_type": "text"
      },
      "source": [
        "### 2. copy 모듈 이용"
      ]
    },
    {
      "cell_type": "code",
      "metadata": {
        "id": "G_lRMeJYrsPK",
        "colab_type": "code",
        "outputId": "7c4fddb3-c6ee-436d-b133-9b64f35d3a8c",
        "colab": {
          "base_uri": "https://localhost:8080/",
          "height": 35
        }
      },
      "source": [
        "a = [1, 2, 3]\n",
        "from copy import copy\n",
        "b = copy(a)\n",
        "\n",
        "print(b is a, a is b)\n"
      ],
      "execution_count": 0,
      "outputs": [
        {
          "output_type": "stream",
          "text": [
            "False False\n"
          ],
          "name": "stdout"
        }
      ]
    },
    {
      "cell_type": "markdown",
      "metadata": {
        "id": "icqfTrgUrtNC",
        "colab_type": "text"
      },
      "source": [
        "### 변수를 만드는 여러 가지 방법"
      ]
    },
    {
      "cell_type": "code",
      "metadata": {
        "id": "ZtW0Jv0srvrK",
        "colab_type": "code",
        "outputId": "1eef90ab-8b16-406c-84e6-80c3725faf63",
        "colab": {
          "base_uri": "https://localhost:8080/",
          "height": 143
        }
      },
      "source": [
        "a, b = (\"python\", \"life\")\n",
        "print(a)\n",
        "print(b)\n",
        "print(a, b)\n",
        "\n",
        "[a, b] = [\"python\", \"life\"]\n",
        "print(a)\n",
        "print(b)\n",
        "\n",
        "a = 3\n",
        "b = 5\n",
        "#print(a, b = b, a)\n",
        "print(a)\n",
        "print(b)"
      ],
      "execution_count": 0,
      "outputs": [
        {
          "output_type": "stream",
          "text": [
            "python\n",
            "life\n",
            "python life\n",
            "python\n",
            "life\n",
            "3\n",
            "5\n"
          ],
          "name": "stdout"
        }
      ]
    },
    {
      "cell_type": "markdown",
      "metadata": {
        "id": "Le_qS5gjrws0",
        "colab_type": "text"
      },
      "source": [
        "### Author: swarthyPig\n",
        "### 파이썬 코드: ch2_10_variable.py"
      ]
    }
  ]
}