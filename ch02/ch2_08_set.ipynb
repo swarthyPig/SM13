{
  "nbformat": 4,
  "nbformat_minor": 0,
  "metadata": {
    "colab": {
      "name": "ch2_08_set.ipynb",
      "provenance": [],
      "collapsed_sections": [],
      "include_colab_link": true
    },
    "kernelspec": {
      "name": "python3",
      "display_name": "Python 3"
    }
  },
  "cells": [
    {
      "cell_type": "markdown",
      "metadata": {
        "id": "view-in-github",
        "colab_type": "text"
      },
      "source": [
        "<a href=\"https://colab.research.google.com/github/swarthyPig/SM13/blob/master/ch02/ch2_08_set.ipynb\" target=\"_parent\"><img src=\"https://colab.research.google.com/assets/colab-badge.svg\" alt=\"Open In Colab\"/></a>"
      ]
    },
    {
      "cell_type": "markdown",
      "metadata": {
        "id": "rStLZuu9jeiN",
        "colab_type": "text"
      },
      "source": [
        "# 집합(Set)"
      ]
    },
    {
      "cell_type": "markdown",
      "metadata": {
        "id": "y8M3NIhTjgHc",
        "colab_type": "text"
      },
      "source": [
        "## 집합(Set)이란?"
      ]
    },
    {
      "cell_type": "markdown",
      "metadata": {
        "id": "XW2hV7g3jiVM",
        "colab_type": "text"
      },
      "source": [
        "### 집합에 관련된 것을 쉽게 처리하기 위해 만든 자료형\n",
        "### 중복된 값을 허용하지 않는다."
      ]
    },
    {
      "cell_type": "markdown",
      "metadata": {
        "id": "DK0xJTNIjo7U",
        "colab_type": "text"
      },
      "source": [
        "### set 키워드를 사용해서 집합자료형을 만든다"
      ]
    },
    {
      "cell_type": "code",
      "metadata": {
        "id": "a655C0LhjnSU",
        "colab_type": "code",
        "outputId": "91ee9ce9-8acc-4fc1-fc51-b462c7e8b9c8",
        "colab": {
          "base_uri": "https://localhost:8080/",
          "height": 107
        }
      },
      "source": [
        "s1 = set([1, 2, 3])\n",
        "print(s1)\n",
        "\n",
        "print('*' * 40)\n",
        "\n",
        "s1n = set([1, 2, 3, 2])\n",
        "print(s1n)\n",
        "\n",
        "print('*' * 40)\n",
        "\n",
        "s2 = set(\"Hello\")\n",
        "print(s2)"
      ],
      "execution_count": 0,
      "outputs": [
        {
          "output_type": "stream",
          "text": [
            "{1, 2, 3}\n",
            "****************************************\n",
            "{1, 2, 3}\n",
            "****************************************\n",
            "{'H', 'l', 'e', 'o'}\n"
          ],
          "name": "stdout"
        }
      ]
    },
    {
      "cell_type": "markdown",
      "metadata": {
        "id": "STHAnUXsj4G6",
        "colab_type": "text"
      },
      "source": [
        "## 집합 자료형의 특징"
      ]
    },
    {
      "cell_type": "markdown",
      "metadata": {
        "id": "XC2_MK-yj55S",
        "colab_type": "text"
      },
      "source": [
        "### 1. 중복을 허용하지 않는다.\n",
        "### 2. 순서가 없다(Unordered).\n",
        "### *** set 자료형은 순서가 없기(unordered) 때문에 인덱싱으로 값을 얻을 수 없다."
      ]
    },
    {
      "cell_type": "code",
      "metadata": {
        "id": "B1Dc3-BXkHas",
        "colab_type": "code",
        "outputId": "6bdb45ad-8fb4-44bb-f929-2f0eb05ebb3d",
        "colab": {
          "base_uri": "https://localhost:8080/",
          "height": 125
        }
      },
      "source": [
        "s1 = set([1,2,3])\n",
        "#print(s1[0])\n",
        "\n",
        "print('*' * 40)\n",
        "\n",
        "l1=list(s1)\n",
        "print(l1)\n",
        "print(l1[0])\n",
        "\n",
        "print('*' * 40)\n",
        "\n",
        "#\n",
        "t1=tuple(s1)\n",
        "print(t1)\n",
        "print(t1[0])"
      ],
      "execution_count": 0,
      "outputs": [
        {
          "output_type": "stream",
          "text": [
            "****************************************\n",
            "[1, 2, 3]\n",
            "1\n",
            "****************************************\n",
            "(1, 2, 3)\n",
            "1\n"
          ],
          "name": "stdout"
        }
      ]
    },
    {
      "cell_type": "markdown",
      "metadata": {
        "id": "wVBkIAIlkgo0",
        "colab_type": "text"
      },
      "source": [
        "### 교집합, 합집합, 차집합 구하기"
      ]
    },
    {
      "cell_type": "code",
      "metadata": {
        "id": "LE7Ojj0fkja0",
        "colab_type": "code",
        "colab": {}
      },
      "source": [
        "s1 = set([1, 2, 3, 4, 5, 6])\n",
        "s2 = set([4, 5, 6, 7, 8, 9])"
      ],
      "execution_count": 0,
      "outputs": []
    },
    {
      "cell_type": "markdown",
      "metadata": {
        "id": "RuZACaY4kk1k",
        "colab_type": "text"
      },
      "source": [
        "### 1. 교집합"
      ]
    },
    {
      "cell_type": "code",
      "metadata": {
        "id": "Q8iBa6mhmBUs",
        "colab_type": "code",
        "outputId": "dff924a8-07a1-491f-ec63-57a01fea5c7e",
        "colab": {
          "base_uri": "https://localhost:8080/",
          "height": 35
        }
      },
      "source": [
        "s1 & s2\n",
        "s1.intersection(s2)"
      ],
      "execution_count": 0,
      "outputs": [
        {
          "output_type": "execute_result",
          "data": {
            "text/plain": [
              "{4, 5, 6}"
            ]
          },
          "metadata": {
            "tags": []
          },
          "execution_count": 7
        }
      ]
    },
    {
      "cell_type": "markdown",
      "metadata": {
        "id": "99gmoyYYkoiE",
        "colab_type": "text"
      },
      "source": [
        "### 2.합집합"
      ]
    },
    {
      "cell_type": "code",
      "metadata": {
        "id": "D38ndALamDbM",
        "colab_type": "code",
        "outputId": "1fec5c8f-a189-4d13-f5ed-c29a7595de84",
        "colab": {
          "base_uri": "https://localhost:8080/",
          "height": 35
        }
      },
      "source": [
        "s1 | s2\n",
        "s1.union(s2)"
      ],
      "execution_count": 0,
      "outputs": [
        {
          "output_type": "execute_result",
          "data": {
            "text/plain": [
              "{1, 2, 3, 4, 5, 6, 7, 8, 9}"
            ]
          },
          "metadata": {
            "tags": []
          },
          "execution_count": 8
        }
      ]
    },
    {
      "cell_type": "markdown",
      "metadata": {
        "id": "kvQAaxzKksgs",
        "colab_type": "text"
      },
      "source": [
        "### 3. 차집합"
      ]
    },
    {
      "cell_type": "code",
      "metadata": {
        "id": "Pe483RchmGTs",
        "colab_type": "code",
        "outputId": "c0cae195-1b80-4739-fe67-f23944a7980e",
        "colab": {
          "base_uri": "https://localhost:8080/",
          "height": 35
        }
      },
      "source": [
        "s1 - s2\n",
        "s2 - s1\n",
        "s1.difference(s2)\n",
        "s2.difference(s1)"
      ],
      "execution_count": 0,
      "outputs": [
        {
          "output_type": "execute_result",
          "data": {
            "text/plain": [
              "{7, 8, 9}"
            ]
          },
          "metadata": {
            "tags": []
          },
          "execution_count": 9
        }
      ]
    },
    {
      "cell_type": "markdown",
      "metadata": {
        "id": "qMdpxC0Bk-2t",
        "colab_type": "text"
      },
      "source": [
        "### 집합 (set): 관련 내장 함수들"
      ]
    },
    {
      "cell_type": "markdown",
      "metadata": {
        "id": "BUzdZM_flAsE",
        "colab_type": "text"
      },
      "source": [
        "### 값 1개 추가하기(add)"
      ]
    },
    {
      "cell_type": "code",
      "metadata": {
        "id": "PkNvXXrsmN21",
        "colab_type": "code",
        "outputId": "c62c9218-d4fa-4b19-c608-2765904c7d0d",
        "colab": {
          "base_uri": "https://localhost:8080/",
          "height": 35
        }
      },
      "source": [
        "s1 = set([1, 2, 3])\n",
        "s1.add(4)\n",
        "s1"
      ],
      "execution_count": 0,
      "outputs": [
        {
          "output_type": "execute_result",
          "data": {
            "text/plain": [
              "{1, 2, 3, 4}"
            ]
          },
          "metadata": {
            "tags": []
          },
          "execution_count": 10
        }
      ]
    },
    {
      "cell_type": "markdown",
      "metadata": {
        "id": "1ob8dI41lCYk",
        "colab_type": "text"
      },
      "source": [
        "### 값 여러 개 추가하기(update)"
      ]
    },
    {
      "cell_type": "code",
      "metadata": {
        "id": "46NaDO1WmiwE",
        "colab_type": "code",
        "outputId": "226fec73-90f6-4c99-899f-52bd3c54bccb",
        "colab": {
          "base_uri": "https://localhost:8080/",
          "height": 53
        }
      },
      "source": [
        "s1 = set([1, 2, 3])\n",
        "s1.update([4,5,6])\n",
        "print(s1)\n",
        "s1.add(5)\n",
        "print(s1)"
      ],
      "execution_count": 0,
      "outputs": [
        {
          "output_type": "stream",
          "text": [
            "{1, 2, 3, 4, 5, 6}\n",
            "{1, 2, 3, 4, 5, 6}\n"
          ],
          "name": "stdout"
        }
      ]
    },
    {
      "cell_type": "markdown",
      "metadata": {
        "id": "K0GftAgJqVS1",
        "colab_type": "text"
      },
      "source": [
        "### 특정 값 제거하기(remove)"
      ]
    },
    {
      "cell_type": "code",
      "metadata": {
        "id": "EEDaN6L-qWVj",
        "colab_type": "code",
        "outputId": "a11e753b-47cf-4d21-9245-dba0c2ca91fc",
        "colab": {
          "base_uri": "https://localhost:8080/",
          "height": 35
        }
      },
      "source": [
        "s1 = set([1, 2, 3])\n",
        "s1.remove(2)\n",
        "print(s1)"
      ],
      "execution_count": 0,
      "outputs": [
        {
          "output_type": "stream",
          "text": [
            "{1, 3}\n"
          ],
          "name": "stdout"
        }
      ]
    },
    {
      "cell_type": "markdown",
      "metadata": {
        "id": "vZVsLqIdqYeD",
        "colab_type": "text"
      },
      "source": [
        "### frozenset()  # immutable set"
      ]
    },
    {
      "cell_type": "code",
      "metadata": {
        "id": "NtDTYaSuqamj",
        "colab_type": "code",
        "outputId": "627036df-1872-41bd-c13d-8286331d16ca",
        "colab": {
          "base_uri": "https://localhost:8080/",
          "height": 89
        }
      },
      "source": [
        "small_primes = frozenset([2, 3, 5, 7])\n",
        "bigger_primes = frozenset([5, 7, 11])\n",
        "\n",
        "print(small_primes)\n",
        "print(bigger_primes)\n",
        "\n",
        "#small_primes.add(11)  # we cannot add to a frozenset -> AttributeError\n",
        "\n",
        "#small_primes.remove(2)  # neither we can remove -> AttributeError\n",
        "\n",
        "small_primes & bigger_primes  # intersect, union, etc. allowed\n",
        "# frozenset({5, 7})\n",
        "print(small_primes)\n",
        "print(bigger_primes)"
      ],
      "execution_count": 0,
      "outputs": [
        {
          "output_type": "stream",
          "text": [
            "frozenset({2, 3, 5, 7})\n",
            "frozenset({11, 5, 7})\n",
            "frozenset({2, 3, 5, 7})\n",
            "frozenset({11, 5, 7})\n"
          ],
          "name": "stdout"
        }
      ]
    },
    {
      "cell_type": "markdown",
      "metadata": {
        "id": "SkvLaa_NmjDU",
        "colab_type": "text"
      },
      "source": [
        "### Author: swarthyPig\n",
        "### 파이썬 코드: ch2_08_set.py"
      ]
    }
  ]
}