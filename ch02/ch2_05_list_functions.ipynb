{
  "nbformat": 4,
  "nbformat_minor": 0,
  "metadata": {
    "colab": {
      "name": "ch2_05_list_functions.ipynb",
      "provenance": [],
      "collapsed_sections": [],
      "include_colab_link": true
    },
    "kernelspec": {
      "name": "python3",
      "display_name": "Python 3"
    }
  },
  "cells": [
    {
      "cell_type": "markdown",
      "metadata": {
        "id": "view-in-github",
        "colab_type": "text"
      },
      "source": [
        "<a href=\"https://colab.research.google.com/github/swarthyPig/SM13/blob/master/ch02/ch2_05_list_functions.ipynb\" target=\"_parent\"><img src=\"https://colab.research.google.com/assets/colab-badge.svg\" alt=\"Open In Colab\"/></a>"
      ]
    },
    {
      "cell_type": "markdown",
      "metadata": {
        "id": "uMzIO4_PYCyP",
        "colab_type": "text"
      },
      "source": [
        "# 리스트의 함수"
      ]
    },
    {
      "cell_type": "markdown",
      "metadata": {
        "id": "N0U6ZkahYLb-",
        "colab_type": "text"
      },
      "source": [
        "### 리스트에 요소 추가(append)"
      ]
    },
    {
      "cell_type": "code",
      "metadata": {
        "id": "kicn9DURYEnu",
        "colab_type": "code",
        "outputId": "2a9bf987-2d0e-453b-c669-0d1b912864cb",
        "colab": {
          "base_uri": "https://localhost:8080/",
          "height": 71
        }
      },
      "source": [
        "#\n",
        "# 리스트에 요소 추가(append)\n",
        "#\n",
        "a = [1, 2, 3]\n",
        "a.append(4)\n",
        "print(a)\n",
        "\n",
        "print('*' * 40)\n",
        "\n",
        "# 리스트 안에는 어떤 자료형도 추가할 수 있다.\n",
        "# 리스트에 다시 리스트를 추가한 결과\n",
        "a.append([5, 6])\n",
        "print(a)"
      ],
      "execution_count": 0,
      "outputs": [
        {
          "output_type": "stream",
          "text": [
            "[1, 2, 3, 4]\n",
            "****************************************\n",
            "[1, 2, 3, 4, [5, 6]]\n"
          ],
          "name": "stdout"
        }
      ]
    },
    {
      "cell_type": "markdown",
      "metadata": {
        "id": "nRMtqfL2Ygd2",
        "colab_type": "text"
      },
      "source": [
        "### 리스트 정렬(sort)"
      ]
    },
    {
      "cell_type": "code",
      "metadata": {
        "id": "UuMGOJyhZE6u",
        "colab_type": "code",
        "outputId": "3653290c-b7c2-450e-baee-a2e693c1085d",
        "colab": {
          "base_uri": "https://localhost:8080/",
          "height": 71
        }
      },
      "source": [
        "#\n",
        "# 리스트 정렬(sort)\n",
        "#\n",
        "a = [1, 4, 3, 2]\n",
        "a.sort()\n",
        "print(a)\n",
        "\n",
        "print('*' * 40)\n",
        "\n",
        "s = [\"a\", \"c\", \"b\"]\n",
        "s.sort()\n",
        "print(s)"
      ],
      "execution_count": 0,
      "outputs": [
        {
          "output_type": "stream",
          "text": [
            "[1, 2, 3, 4]\n",
            "****************************************\n",
            "['a', 'b', 'c']\n"
          ],
          "name": "stdout"
        }
      ]
    },
    {
      "cell_type": "markdown",
      "metadata": {
        "id": "FOVC9WSWYj-O",
        "colab_type": "text"
      },
      "source": [
        "### 리스트 뒤집기(reverse)"
      ]
    },
    {
      "cell_type": "code",
      "metadata": {
        "id": "niSCGlyoZPRG",
        "colab_type": "code",
        "outputId": "84e53720-5243-47e2-99b6-fe41b679639c",
        "colab": {
          "base_uri": "https://localhost:8080/",
          "height": 53
        }
      },
      "source": [
        "#\n",
        "# 리스트 뒤집기(reverse)\n",
        "#\n",
        "\n",
        "a = [\"a\", \"c\", \"b\"]\n",
        "print(a)\n",
        "a.reverse()\n",
        "print(a)"
      ],
      "execution_count": 0,
      "outputs": [
        {
          "output_type": "stream",
          "text": [
            "['a', 'c', 'b']\n",
            "['b', 'c', 'a']\n"
          ],
          "name": "stdout"
        }
      ]
    },
    {
      "cell_type": "markdown",
      "metadata": {
        "id": "7w9TRPEQYnH3",
        "colab_type": "text"
      },
      "source": [
        "### 위치 반환(index)"
      ]
    },
    {
      "cell_type": "code",
      "metadata": {
        "id": "Os_Bmj2uZa4W",
        "colab_type": "code",
        "outputId": "0ae85795-ae84-41c7-cb99-5bb226095fea",
        "colab": {
          "base_uri": "https://localhost:8080/",
          "height": 125
        }
      },
      "source": [
        "#\n",
        "# 위치 반환(index)\n",
        "#\n",
        "\n",
        "a = [1, 2, 3]\n",
        "print(a)\n",
        "print(a.index(3))\n",
        "print(a.index(1))\n",
        "# print(a.index(0)) # list에서 0을 찾을 수 없음\n",
        "\n",
        "print('*' * 40)\n",
        "\n",
        "s = [\"a\", \"c\", \"b\"]\n",
        "print(s)\n",
        "#s.index(3)  # Error\n",
        "#s.index(a)  # Error\n",
        "print(s.index(\"a\"))"
      ],
      "execution_count": 0,
      "outputs": [
        {
          "output_type": "stream",
          "text": [
            "[1, 2, 3]\n",
            "2\n",
            "0\n",
            "****************************************\n",
            "['a', 'c', 'b']\n",
            "0\n"
          ],
          "name": "stdout"
        }
      ]
    },
    {
      "cell_type": "markdown",
      "metadata": {
        "id": "vYY2t-GqYqs-",
        "colab_type": "text"
      },
      "source": [
        "### 리스트에 요소 삽입(insert)"
      ]
    },
    {
      "cell_type": "code",
      "metadata": {
        "id": "-WTsLHqWY9ge",
        "colab_type": "code",
        "outputId": "fac5fdd1-604e-43f4-a50c-ca96cbea6383",
        "colab": {
          "base_uri": "https://localhost:8080/",
          "height": 71
        }
      },
      "source": [
        "#\n",
        "# 리스트에 요소 삽입(insert)\n",
        "#\n",
        "a = [1, 2, 3]\n",
        "print(a)\n",
        "a.insert(0, 4)\n",
        "print(a)\n",
        "a.insert(3, 5)\n",
        "print(a)"
      ],
      "execution_count": 0,
      "outputs": [
        {
          "output_type": "stream",
          "text": [
            "[1, 2, 3]\n",
            "[4, 1, 2, 3]\n",
            "[4, 1, 2, 5, 3]\n"
          ],
          "name": "stdout"
        }
      ]
    },
    {
      "cell_type": "markdown",
      "metadata": {
        "id": "SuvnqbTuYtKH",
        "colab_type": "text"
      },
      "source": [
        "### 리스트 요소 제거(remove)"
      ]
    },
    {
      "cell_type": "code",
      "metadata": {
        "id": "fKPveamZZ4YW",
        "colab_type": "code",
        "outputId": "49873b81-28b8-4f32-953a-a5c8c3dab0ba",
        "colab": {
          "base_uri": "https://localhost:8080/",
          "height": 71
        }
      },
      "source": [
        "#\n",
        "# 리스트 요소 제거(remove)\n",
        "#\n",
        "a = [1, 2, 3, 1, 2, 3]\n",
        "print(a)\n",
        "a.remove(3)\n",
        "print(a)\n",
        "# 3을 리스트 a에서 완전히 제거\n",
        "a.remove(3)\n",
        "print(a)\n",
        "#a.remove(3)  # ValueError"
      ],
      "execution_count": 0,
      "outputs": [
        {
          "output_type": "stream",
          "text": [
            "[1, 2, 3, 1, 2, 3]\n",
            "[1, 2, 1, 2, 3]\n",
            "[1, 2, 1, 2]\n"
          ],
          "name": "stdout"
        }
      ]
    },
    {
      "cell_type": "markdown",
      "metadata": {
        "id": "A6E_HZoqYzCe",
        "colab_type": "text"
      },
      "source": [
        "### 리스트 요소 끄집어내기(pop)"
      ]
    },
    {
      "cell_type": "code",
      "metadata": {
        "id": "vUHwdI6_Z8hv",
        "colab_type": "code",
        "outputId": "c2fdd8f1-1573-47a2-d471-88c021081a19",
        "colab": {
          "base_uri": "https://localhost:8080/",
          "height": 35
        }
      },
      "source": [
        "#\n",
        "# 리스트 요소 끄집어내기(pop)\n",
        "#\n",
        "a = [1, 2, 3]\n",
        "#a[2] + \"hi\"  # TypeError\n",
        "print(str(a[2]) + \"hi\")"
      ],
      "execution_count": 0,
      "outputs": [
        {
          "output_type": "stream",
          "text": [
            "3hi\n"
          ],
          "name": "stdout"
        }
      ]
    },
    {
      "cell_type": "markdown",
      "metadata": {
        "id": "dUTnOGPUY0G2",
        "colab_type": "text"
      },
      "source": [
        "### 리스트의 수정과 삭제"
      ]
    },
    {
      "cell_type": "code",
      "metadata": {
        "id": "OagABP2MaEEv",
        "colab_type": "code",
        "outputId": "73402dc3-f314-410b-864e-c7ba28fa82ac",
        "colab": {
          "base_uri": "https://localhost:8080/",
          "height": 107
        }
      },
      "source": [
        "#\n",
        "# 리스트의 수정과 삭제\n",
        "#\n",
        "a = [1, 2, 3]\n",
        "print(a)\n",
        "\n",
        "print('*' * 40)\n",
        "\n",
        "# pop()은 리스트의 맨 마지막 요소를 돌려주고 그 요소는 삭제한다.\n",
        "a.pop()\n",
        "print(a)\n",
        "\n",
        "print('*' * 40)\n",
        "\n",
        "#\n",
        "a = [1, 2, 3]\n",
        "# pop(x)는 리스트의 index가 x인 요소를 돌려주고 그 요소는 삭제한다.\n",
        "a.pop(1)\n",
        "print(a)\n",
        "# a.pop(2)  # IndexError\n"
      ],
      "execution_count": 0,
      "outputs": [
        {
          "output_type": "stream",
          "text": [
            "[1, 2, 3]\n",
            "****************************************\n",
            "[1, 2]\n",
            "****************************************\n",
            "[1, 3]\n"
          ],
          "name": "stdout"
        }
      ]
    },
    {
      "cell_type": "markdown",
      "metadata": {
        "id": "rpDBv4ZnY2N_",
        "colab_type": "text"
      },
      "source": [
        "### 리스트에 포함된 요소 x의 개수 세기(count)"
      ]
    },
    {
      "cell_type": "code",
      "metadata": {
        "id": "W-LBAS7PaGum",
        "colab_type": "code",
        "outputId": "44af08e7-10ec-4bba-c7f1-b5ed6bf1b3cc",
        "colab": {
          "base_uri": "https://localhost:8080/",
          "height": 35
        }
      },
      "source": [
        "#\n",
        "# 리스트에 포함된 요소 x의 개수 세기(count)\n",
        "#\n",
        "a = [1, 2, 3, 1]\n",
        "print(a.count(1))"
      ],
      "execution_count": 0,
      "outputs": [
        {
          "output_type": "stream",
          "text": [
            "2\n"
          ],
          "name": "stdout"
        }
      ]
    },
    {
      "cell_type": "markdown",
      "metadata": {
        "id": "C1bZbszjY8RP",
        "colab_type": "text"
      },
      "source": [
        "### 리스트 확장(extend)"
      ]
    },
    {
      "cell_type": "code",
      "metadata": {
        "id": "s9l-YQOvaJBH",
        "colab_type": "code",
        "outputId": "bc18e6f6-8f7b-4a3e-fb27-542466dc8e91",
        "colab": {
          "base_uri": "https://localhost:8080/",
          "height": 53
        }
      },
      "source": [
        "#\n",
        "# 리스트 확장(extend)\n",
        "#\n",
        "a = [1, 2, 3]\n",
        "a.extend([4, 5])\n",
        "print(a)  # a.extend([4, 5])는 a += [4, 5]와 동일\n",
        "\n",
        "b = [6, 7]\n",
        "a.extend(b)\n",
        "print(a)"
      ],
      "execution_count": 0,
      "outputs": [
        {
          "output_type": "stream",
          "text": [
            "[1, 2, 3, 4, 5]\n",
            "[1, 2, 3, 4, 5, 6, 7]\n"
          ],
          "name": "stdout"
        }
      ]
    },
    {
      "cell_type": "markdown",
      "metadata": {
        "id": "wmQHBOfBaKN2",
        "colab_type": "text"
      },
      "source": [
        "\n",
        "### Author: swarthyPig\n",
        "### 파이썬 코드: ch2_05_list_functions.py\n"
      ]
    }
  ]
}