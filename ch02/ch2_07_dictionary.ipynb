{
  "nbformat": 4,
  "nbformat_minor": 0,
  "metadata": {
    "colab": {
      "name": "ch2_07_dictionary.ipynb",
      "provenance": [],
      "collapsed_sections": [],
      "include_colab_link": true
    },
    "kernelspec": {
      "name": "python3",
      "display_name": "Python 3"
    }
  },
  "cells": [
    {
      "cell_type": "markdown",
      "metadata": {
        "id": "view-in-github",
        "colab_type": "text"
      },
      "source": [
        "<a href=\"https://colab.research.google.com/github/swarthyPig/SM13/blob/master/ch02/ch2_07_dictionary.ipynb\" target=\"_parent\"><img src=\"https://colab.research.google.com/assets/colab-badge.svg\" alt=\"Open In Colab\"/></a>"
      ]
    },
    {
      "cell_type": "markdown",
      "metadata": {
        "id": "9-ufd9QKgVmG",
        "colab_type": "text"
      },
      "source": [
        "# 딕셔너리(Dictionary)"
      ]
    },
    {
      "cell_type": "markdown",
      "metadata": {
        "id": "LaKibFTZgZF0",
        "colab_type": "text"
      },
      "source": [
        "## 딕셔너리: 딕셔너리(Dictionary)란?"
      ]
    },
    {
      "cell_type": "markdown",
      "metadata": {
        "id": "ZQYI9R6qgbcM",
        "colab_type": "text"
      },
      "source": [
        "### -> 딕셔너리란 대응 관계를 나타내는 자료형.\n",
        "### -> 연관 배열(Associative array) 또는 해시(Hash)\n",
        "### -> 딕셔너리는 Key와 Value를 한 쌍으로 갖는 자료형"
      ]
    },
    {
      "cell_type": "markdown",
      "metadata": {
        "id": "uIaP5Mfugk7F",
        "colab_type": "text"
      },
      "source": [
        "### 기본 딕셔너리의 모습"
      ]
    },
    {
      "cell_type": "code",
      "metadata": {
        "id": "aILWzThwgndk",
        "colab_type": "code",
        "outputId": "babfa66f-1c7c-486c-d7a2-01cc78f754de",
        "colab": {
          "base_uri": "https://localhost:8080/",
          "height": 35
        }
      },
      "source": [
        "# {Key1:Value1, Key2:Value2, Key3:Value3, ...}\n",
        "\n",
        "# Key와 Value의 쌍 여러 개가 { }로 둘러싸여 있다.\n",
        "\n",
        "# 각각의 요소는 Key : Value 형태로 이루어져 있고 쉼표(,)로 구분\n",
        "\n",
        "dic = {\"name\": \"pey\", \"phone\": \"0119993323\", \"birth\": \"1118\"}\n",
        "print(dic)\n",
        "\n",
        "# Key는 각각 'name', 'phone', 'birth'\n",
        "# 각 Key에 해당하는 Value는 'pey', '0119993323', '1118'"
      ],
      "execution_count": 0,
      "outputs": [
        {
          "output_type": "stream",
          "text": [
            "{'name': 'pey', 'phone': '0119993323', 'birth': '1118'}\n"
          ],
          "name": "stdout"
        }
      ]
    },
    {
      "cell_type": "markdown",
      "metadata": {
        "id": "1UnGU--xgypF",
        "colab_type": "text"
      },
      "source": [
        "### 여러 가지 딕셔너리"
      ]
    },
    {
      "cell_type": "code",
      "metadata": {
        "id": "ZI_LmNFCg1V1",
        "colab_type": "code",
        "outputId": "ba8e205e-ded0-4b60-985a-4ff4936dccba",
        "colab": {
          "base_uri": "https://localhost:8080/",
          "height": 107
        }
      },
      "source": [
        "a = {1: \"hi\"}\n",
        "print(a[1])\n",
        "\n",
        "print('*' * 40)\n",
        "\n",
        "a = {\"a\": [1, 2, 3]}  # value에는 복합 자료형도 사용된다.\n",
        "\n",
        "print(len(a))\n",
        "\n",
        "print('*' * 40)\n",
        "\n",
        "# a[a]  # TypeError\n",
        "a[\"a\"]"
      ],
      "execution_count": 0,
      "outputs": [
        {
          "output_type": "stream",
          "text": [
            "hi\n",
            "****************************************\n",
            "1\n",
            "****************************************\n"
          ],
          "name": "stdout"
        },
        {
          "output_type": "execute_result",
          "data": {
            "text/plain": [
              "[1, 2, 3]"
            ]
          },
          "metadata": {
            "tags": []
          },
          "execution_count": 4
        }
      ]
    },
    {
      "cell_type": "markdown",
      "metadata": {
        "id": "XYm3IzEXg2FU",
        "colab_type": "text"
      },
      "source": [
        "### 딕셔너리 쌍 추가하기"
      ]
    },
    {
      "cell_type": "code",
      "metadata": {
        "id": "Nw_Jb2Olg4Ds",
        "colab_type": "code",
        "outputId": "3ecb77a9-3deb-4466-ebf2-4daacbb6e266",
        "colab": {
          "base_uri": "https://localhost:8080/",
          "height": 89
        }
      },
      "source": [
        "a = {1: \"a\"}\n",
        "a[2] = \"b\"\n",
        "\n",
        "print('*' * 40)\n",
        "\n",
        "a[\"name\"] = \"pey\"\n",
        "print(a)\n",
        "\n",
        "print('*' * 40)\n",
        "\n",
        "a[3] = [1, 2, 3]\n",
        "print(a)"
      ],
      "execution_count": 0,
      "outputs": [
        {
          "output_type": "stream",
          "text": [
            "****************************************\n",
            "{1: 'a', 2: 'b', 'name': 'pey'}\n",
            "****************************************\n",
            "{1: 'a', 2: 'b', 'name': 'pey', 3: [1, 2, 3]}\n"
          ],
          "name": "stdout"
        }
      ]
    },
    {
      "cell_type": "markdown",
      "metadata": {
        "id": "9wY8oQrXg6As",
        "colab_type": "text"
      },
      "source": [
        "### 딕셔너리 쌍 삭제하기"
      ]
    },
    {
      "cell_type": "code",
      "metadata": {
        "id": "BN6c8idLg7g1",
        "colab_type": "code",
        "outputId": "f20eea26-76f5-4634-da45-3bc9021d0d50",
        "colab": {
          "base_uri": "https://localhost:8080/",
          "height": 35
        }
      },
      "source": [
        "del a[1]\n",
        "a"
      ],
      "execution_count": 0,
      "outputs": [
        {
          "output_type": "execute_result",
          "data": {
            "text/plain": [
              "{2: 'b', 3: [1, 2, 3], 'name': 'pey'}"
            ]
          },
          "metadata": {
            "tags": []
          },
          "execution_count": 7
        }
      ]
    },
    {
      "cell_type": "markdown",
      "metadata": {
        "id": "NpP4axCDg9tm",
        "colab_type": "text"
      },
      "source": [
        "### 딕셔너리: 사용 방법"
      ]
    },
    {
      "cell_type": "code",
      "metadata": {
        "id": "1j7LGoNtg-f8",
        "colab_type": "code",
        "outputId": "e955afbb-5d6f-4f18-8102-5e430dea4c4a",
        "colab": {
          "base_uri": "https://localhost:8080/",
          "height": 35
        }
      },
      "source": [
        "d = {\"김연아\": \"피겨스케이팅\", \"류현진\": \"야구\", \"손흥민\": \"축구\", \"귀도\": \"파이썬\"}\n",
        "\n",
        "d[\"손흥민\"]"
      ],
      "execution_count": 0,
      "outputs": [
        {
          "output_type": "execute_result",
          "data": {
            "text/plain": [
              "'축구'"
            ]
          },
          "metadata": {
            "tags": []
          },
          "execution_count": 9
        }
      ]
    },
    {
      "cell_type": "markdown",
      "metadata": {
        "id": "WqwUgVsBhAa0",
        "colab_type": "text"
      },
      "source": [
        "### 딕셔너리에서 Key 사용해 Value 얻기\n"
      ]
    },
    {
      "cell_type": "code",
      "metadata": {
        "id": "CehQy_5_hB-l",
        "colab_type": "code",
        "outputId": "15a9ec04-7a0e-4a1e-db14-c834dc99dc36",
        "colab": {
          "base_uri": "https://localhost:8080/",
          "height": 179
        }
      },
      "source": [
        "grade = {\"pey\": 10, \"julliet\": 99}\n",
        "print(grade[\"pey\"])\n",
        "print(grade[\"julliet\"])\n",
        "\n",
        "print('*' * 40)\n",
        "\n",
        "#\n",
        "a = {1: \"a\", 2: \"b\"}\n",
        "print(a[1])  # 1은 key\n",
        "\n",
        "print('*' * 40)\n",
        "\n",
        "#\n",
        "a = {\"a\": 1, \"b\": 2}\n",
        "print(a[\"b\"])\n",
        "#a[b]  # TypeError\n",
        "\n",
        "print('*' * 40)\n",
        "\n",
        "#\n",
        "dic = {\"name\": \"pey\", \"phone\": \"0109993323\", \"birth\": \"1118\"}\n",
        "print(dic[\"birth\"])\n",
        "print(dic[\"phone\"])"
      ],
      "execution_count": 0,
      "outputs": [
        {
          "output_type": "stream",
          "text": [
            "10\n",
            "99\n",
            "****************************************\n",
            "a\n",
            "****************************************\n",
            "2\n",
            "****************************************\n",
            "1118\n",
            "0109993323\n"
          ],
          "name": "stdout"
        }
      ]
    },
    {
      "cell_type": "markdown",
      "metadata": {
        "id": "wXj_mvIuhVhV",
        "colab_type": "text"
      },
      "source": [
        "### 딕셔너리 만들 때 주의할 사항"
      ]
    },
    {
      "cell_type": "code",
      "metadata": {
        "id": "WaFqSf18hWvG",
        "colab_type": "code",
        "outputId": "7924c526-5547-4b96-b34a-8e0d1066e050",
        "colab": {
          "base_uri": "https://localhost:8080/",
          "height": 35
        }
      },
      "source": [
        "# 딕셔너리에서 Key는 고유한 값이므로 중복되는 Key 값을 설정해 놓으면\n",
        "# 하나를 제외한 나머지 것들이 모두 무시된다\n",
        "#\n",
        "a = {1: \"a\", 1: \"b\"}\n",
        "a[1]"
      ],
      "execution_count": 0,
      "outputs": [
        {
          "output_type": "execute_result",
          "data": {
            "text/plain": [
              "'b'"
            ]
          },
          "metadata": {
            "tags": []
          },
          "execution_count": 14
        }
      ]
    },
    {
      "cell_type": "markdown",
      "metadata": {
        "id": "h8bueO6shYMN",
        "colab_type": "text"
      },
      "source": [
        "### 관련 내장 함수들"
      ]
    },
    {
      "cell_type": "code",
      "metadata": {
        "id": "k8Ifk4E-heiG",
        "colab_type": "code",
        "outputId": "b917ee30-2cf7-4323-ecc7-24fb87277b32",
        "colab": {
          "base_uri": "https://localhost:8080/",
          "height": 35
        }
      },
      "source": [
        "#\n",
        "# Key 리스트 만들기(keys)\n",
        "#\n",
        "a = {\"name\": \"pey\", \"phone\": \"0119993323\", \"birth\": \"1118\"}\n",
        "a.keys()\n",
        "list(a.keys())"
      ],
      "execution_count": 0,
      "outputs": [
        {
          "output_type": "execute_result",
          "data": {
            "text/plain": [
              "['name', 'phone', 'birth']"
            ]
          },
          "metadata": {
            "tags": []
          },
          "execution_count": 15
        }
      ]
    },
    {
      "cell_type": "code",
      "metadata": {
        "id": "uRzkZpZEhgk9",
        "colab_type": "code",
        "outputId": "dedc94a2-7c24-4977-a505-e9d12609d18e",
        "colab": {
          "base_uri": "https://localhost:8080/",
          "height": 71
        }
      },
      "source": [
        "#################################################\n",
        "# 기본적인 반복(iterate) 구문(예: for문)을 실행\n",
        "#################################################\n",
        "for k in a.keys():\n",
        "    print(k)"
      ],
      "execution_count": 0,
      "outputs": [
        {
          "output_type": "stream",
          "text": [
            "name\n",
            "phone\n",
            "birth\n"
          ],
          "name": "stdout"
        }
      ]
    },
    {
      "cell_type": "code",
      "metadata": {
        "id": "HhSVGuewhjNN",
        "colab_type": "code",
        "outputId": "c6a4ddc9-1c9c-4a20-c36b-2487bde7900f",
        "colab": {
          "base_uri": "https://localhost:8080/",
          "height": 35
        }
      },
      "source": [
        "# Value 리스트 만들기(values)\n",
        "#\n",
        "a.values()"
      ],
      "execution_count": 0,
      "outputs": [
        {
          "output_type": "execute_result",
          "data": {
            "text/plain": [
              "dict_values(['pey', '0119993323', '1118'])"
            ]
          },
          "metadata": {
            "tags": []
          },
          "execution_count": 17
        }
      ]
    },
    {
      "cell_type": "code",
      "metadata": {
        "id": "5YzBgLcHhlNl",
        "colab_type": "code",
        "outputId": "2f364db2-fa2f-4c61-a3bc-eab3125c84ef",
        "colab": {
          "base_uri": "https://localhost:8080/",
          "height": 35
        }
      },
      "source": [
        "# Key, Value 쌍 얻기(items)\n",
        "#\n",
        "a.items()  # Key와 Value의 쌍을 튜플로 묶은 값을 dict_items 객체로 돌려준다."
      ],
      "execution_count": 0,
      "outputs": [
        {
          "output_type": "execute_result",
          "data": {
            "text/plain": [
              "dict_items([('name', 'pey'), ('phone', '0119993323'), ('birth', '1118')])"
            ]
          },
          "metadata": {
            "tags": []
          },
          "execution_count": 18
        }
      ]
    },
    {
      "cell_type": "code",
      "metadata": {
        "id": "f93Wh6pKhpB9",
        "colab_type": "code",
        "outputId": "f79dc486-b4de-4448-b72d-b8edfdc5d722",
        "colab": {
          "base_uri": "https://localhost:8080/",
          "height": 35
        }
      },
      "source": [
        "# Key: Value 쌍 모두 지우기(clear)\n",
        "#\n",
        "a.clear()\n",
        "a"
      ],
      "execution_count": 0,
      "outputs": [
        {
          "output_type": "execute_result",
          "data": {
            "text/plain": [
              "{}"
            ]
          },
          "metadata": {
            "tags": []
          },
          "execution_count": 19
        }
      ]
    },
    {
      "cell_type": "code",
      "metadata": {
        "id": "NmQN8hQchsR9",
        "colab_type": "code",
        "outputId": "30ba4c3c-264c-4420-a8f1-9ef99a462dc5",
        "colab": {
          "base_uri": "https://localhost:8080/",
          "height": 143
        }
      },
      "source": [
        "# Key로 Value얻기(get)\n",
        "#\n",
        "a = {\"name\": \"pey\", \"phone\": \"0119993323\", \"birth\": \"1118\"}\n",
        "print(a.get(\"name\"))  # a['name']\n",
        "print(a.get(\"phone\"))  # a['phone']\n",
        "\n",
        "print('*' * 40)\n",
        "\n",
        "#print(a[\"nokey\"])  # KeyError\n",
        "#\n",
        "# get(x, '디폴트 값')\n",
        "#\n",
        "# 딕셔너리 안에 찾으려는 Key 값이 없을 경우\n",
        "# 미리 정해 둔 디폴트 값을 대신 가져오게 설정.\n",
        "#\n",
        "print(a.get(\"foo\", \"bar\"))\n",
        "print(a.get(\"name\", \"bar\"))\n",
        "\n",
        "print('*' * 40)\n",
        "\n",
        "#\n",
        "# 해당 Key가 딕셔너리 안에 있는지 조사하기(in)\n",
        "#\n",
        "a = {\"name\": \"pey\", \"phone\": \"0119993323\", \"birth\": \"1118\"}\n",
        "\"name\" in a\n",
        "\"foo\" in a"
      ],
      "execution_count": 0,
      "outputs": [
        {
          "output_type": "stream",
          "text": [
            "pey\n",
            "0119993323\n",
            "****************************************\n",
            "bar\n",
            "pey\n",
            "****************************************\n"
          ],
          "name": "stdout"
        },
        {
          "output_type": "execute_result",
          "data": {
            "text/plain": [
              "False"
            ]
          },
          "metadata": {
            "tags": []
          },
          "execution_count": 23
        }
      ]
    },
    {
      "cell_type": "markdown",
      "metadata": {
        "id": "ennEkphyjCX9",
        "colab_type": "text"
      },
      "source": [
        "### Author: swarthyPig\n",
        "### 파이썬 코드: ch2_07_dictionary.py"
      ]
    }
  ]
}