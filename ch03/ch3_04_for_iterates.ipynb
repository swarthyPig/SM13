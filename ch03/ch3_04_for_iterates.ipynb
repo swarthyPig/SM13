{
  "nbformat": 4,
  "nbformat_minor": 0,
  "metadata": {
    "colab": {
      "name": "ch3_04_for_iterates.ipynb",
      "provenance": [],
      "collapsed_sections": [],
      "include_colab_link": true
    },
    "kernelspec": {
      "name": "python3",
      "display_name": "Python 3"
    }
  },
  "cells": [
    {
      "cell_type": "markdown",
      "metadata": {
        "id": "view-in-github",
        "colab_type": "text"
      },
      "source": [
        "<a href=\"https://colab.research.google.com/github/swarthyPig/SM13/blob/master/ch03/ch3_04_for_iterates.ipynb\" target=\"_parent\"><img src=\"https://colab.research.google.com/assets/colab-badge.svg\" alt=\"Open In Colab\"/></a>"
      ]
    },
    {
      "cell_type": "markdown",
      "metadata": {
        "id": "TwAij9EoXYD2",
        "colab_type": "text"
      },
      "source": [
        "# for 문과 itrator"
      ]
    },
    {
      "cell_type": "code",
      "metadata": {
        "id": "Me74dhHBXZw2",
        "colab_type": "code",
        "outputId": "59176ef1-223a-437c-fae4-37a734562c56",
        "colab": {
          "base_uri": "https://localhost:8080/",
          "height": 179
        }
      },
      "source": [
        "subjects = ['python', 'english', 'math', 'science']\n",
        "scores = [88, 77, 66, 95]\n",
        "\n",
        "print(\"과목명 출력\")\n",
        "for subject in subjects:\n",
        "    print(subject,end=', ')\n",
        "\n",
        "\n",
        "print('')\n",
        "print(\"과목 점수 출력\")\n",
        "for score in scores:\n",
        "    print(score,end=', ')\n",
        "\n",
        "\n",
        "print('')\n",
        "print(\"enumerate()를 이용한 출력\")\n",
        "for position, subject in enumerate(subjects):\n",
        "    print(position,subject,end=', ')\n",
        "\n",
        "\n",
        "print('')\n",
        "for position, subject in enumerate(subjects):\n",
        "    print(subjects[position],end=', ')\n",
        "\n",
        "\n",
        "print('')\n",
        "print(\"enumerate()를 이용하여 점수를 출력해보시오.\")\n",
        "for position, scores in enumerate(scores):\n",
        "    print(position,scores,end=', ')"
      ],
      "execution_count": 0,
      "outputs": [
        {
          "output_type": "stream",
          "text": [
            "과목명 출력\n",
            "python, english, math, science, \n",
            "과목 점수 출력\n",
            "88, 77, 66, 95, \n",
            "enumerate()를 이용한 출력\n",
            "0 python, 1 english, 2 math, 3 science, \n",
            "python, english, math, science, \n",
            "enumerate()를 이용하여 점수를 출력해보시오.\n",
            "0 88, 1 77, 2 66, 3 95, "
          ],
          "name": "stdout"
        }
      ]
    },
    {
      "cell_type": "markdown",
      "metadata": {
        "id": "8IR_qKjCYJcl",
        "colab_type": "text"
      },
      "source": [
        "### for 문과 itrator의 응용: 복합 문자열 리스트"
      ]
    },
    {
      "cell_type": "code",
      "metadata": {
        "id": "lRJ1Fc3zYMz0",
        "colab_type": "code",
        "outputId": "661e09a7-d0b9-4c32-a2f3-55a0b6fab8b7",
        "colab": {
          "base_uri": "https://localhost:8080/",
          "height": 287
        }
      },
      "source": [
        "subjects = ['python', 'english', 'math', 'science']\n",
        "scores = [88, 77, 66, 95]\n",
        "\n",
        "# Method-1\n",
        "for position in range(len(subjects)):\n",
        "    subject = subjects[position]\n",
        "    score = scores[position]\n",
        "    print(subject, score)\n",
        "print('')\n",
        "\n",
        "\n",
        "# Method-2\n",
        "for position, subject in enumerate(subjects):\n",
        "    score = scores[position]\n",
        "    print(subject, score)\n",
        "print('')\n",
        "\n",
        "\n",
        "\n",
        "# Method-3\n",
        "for subject, score in zip(subjects, scores):\n",
        "    print(subject, score)\n",
        "print('')"
      ],
      "execution_count": 0,
      "outputs": [
        {
          "output_type": "stream",
          "text": [
            "python 88\n",
            "english 77\n",
            "math 66\n",
            "science 95\n",
            "\n",
            "python 88\n",
            "english 77\n",
            "math 66\n",
            "science 95\n",
            "\n",
            "python 88\n",
            "english 77\n",
            "math 66\n",
            "science 95\n",
            "\n"
          ],
          "name": "stdout"
        }
      ]
    },
    {
      "cell_type": "markdown",
      "metadata": {
        "id": "hw9_wMz3YNWD",
        "colab_type": "text"
      },
      "source": [
        "### 응용 코드 : 평균 성적을 구하시오."
      ]
    },
    {
      "cell_type": "code",
      "metadata": {
        "id": "lIGCnz8IYQuO",
        "colab_type": "code",
        "outputId": "c49cb5f5-f6db-40ea-dea9-560f52758253",
        "colab": {
          "base_uri": "https://localhost:8080/",
          "height": 107
        }
      },
      "source": [
        "subjects = ['python', 'english', 'math', 'science']\n",
        "scores = [88, 77, 66, 95]\n",
        "\n",
        "average = 0\n",
        "total = 0\n",
        "for subject, score in zip(subjects, scores):\n",
        "    total += score\n",
        "    print(subject, score)\n",
        "\n",
        "print(\"평균 점수 = {0}\".format(total/len(subjects)))\n",
        "\n",
        "# Cool! "
      ],
      "execution_count": 0,
      "outputs": [
        {
          "output_type": "stream",
          "text": [
            "python 88\n",
            "english 77\n",
            "math 66\n",
            "science 95\n",
            "평균 점수 = 81.5\n"
          ],
          "name": "stdout"
        }
      ]
    },
    {
      "cell_type": "markdown",
      "metadata": {
        "id": "y_x8o212YRGz",
        "colab_type": "text"
      },
      "source": [
        "### Author: swarthyPig\n",
        "### 파이썬 코드: ch3_04_for_iterates.py"
      ]
    }
  ]
}