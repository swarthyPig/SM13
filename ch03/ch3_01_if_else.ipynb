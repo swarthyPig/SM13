{
  "nbformat": 4,
  "nbformat_minor": 0,
  "metadata": {
    "colab": {
      "name": "ch3_01_if_else.ipynb",
      "provenance": [],
      "collapsed_sections": [],
      "include_colab_link": true
    },
    "kernelspec": {
      "name": "python3",
      "display_name": "Python 3"
    }
  },
  "cells": [
    {
      "cell_type": "markdown",
      "metadata": {
        "id": "view-in-github",
        "colab_type": "text"
      },
      "source": [
        "<a href=\"https://colab.research.google.com/github/swarthyPig/SM13/blob/master/ch03/ch3_01_if_else.ipynb\" target=\"_parent\"><img src=\"https://colab.research.google.com/assets/colab-badge.svg\" alt=\"Open In Colab\"/></a>"
      ]
    },
    {
      "cell_type": "markdown",
      "metadata": {
        "id": "iZQMMA6VLOH8",
        "colab_type": "text"
      },
      "source": [
        "# 조건문(if else elif)"
      ]
    },
    {
      "cell_type": "markdown",
      "metadata": {
        "id": "BXxwgvXPLb0L",
        "colab_type": "text"
      },
      "source": [
        "### if문은 어떻게 사용?"
      ]
    },
    {
      "cell_type": "code",
      "metadata": {
        "id": "H6XF4f5QLfJr",
        "colab_type": "code",
        "outputId": "ba744ec4-8348-4117-dd74-4f5c4c5616c2",
        "colab": {
          "base_uri": "https://localhost:8080/",
          "height": 35
        }
      },
      "source": [
        "money = True\n",
        "\n",
        "if money: # 만약 money가 참이면\n",
        "    print(\"택시를 타고 가라\")\n",
        "else:\n",
        "    print(\"걸어 가라\")"
      ],
      "execution_count": 0,
      "outputs": [
        {
          "output_type": "stream",
          "text": [
            "택시를 타고 가라\n"
          ],
          "name": "stdout"
        }
      ]
    },
    {
      "cell_type": "markdown",
      "metadata": {
        "id": "TEZ0j8zVLmrL",
        "colab_type": "text"
      },
      "source": [
        "### if문의 기본 구조"
      ]
    },
    {
      "cell_type": "code",
      "metadata": {
        "id": "_L5ogk9jLn7r",
        "colab_type": "code",
        "colab": {}
      },
      "source": [
        "'''\n",
        "if 조건문:\n",
        "    수행할 문장1\n",
        "    수행할 문장2\n",
        "    ...\n",
        "else:\n",
        "    수행할 문장A\n",
        "    수행할 문장B\n",
        "    ...\n",
        "'''"
      ],
      "execution_count": 0,
      "outputs": []
    },
    {
      "cell_type": "markdown",
      "metadata": {
        "id": "k027wEckLrFj",
        "colab_type": "text"
      },
      "source": [
        "### 들여 쓰기"
      ]
    },
    {
      "cell_type": "code",
      "metadata": {
        "id": "jN3BKtOVLvzb",
        "colab_type": "code",
        "outputId": "f41c21c7-1b56-4b7c-dc32-8307383f0b1e",
        "colab": {
          "base_uri": "https://localhost:8080/",
          "height": 125
        }
      },
      "source": [
        "# 예-1\n",
        "money = True\n",
        "if money:\n",
        "    print(\"택시를\")\n",
        "    print(\"타고\")\n",
        "    print(\"가라\")\n",
        "\n",
        "\n",
        "\n",
        "# 예-2\n",
        "money = True\n",
        "if money:\n",
        "    print(\"택시를\")\n",
        "    print(\"타고\")\n",
        "    print(\"가라\")"
      ],
      "execution_count": 0,
      "outputs": [
        {
          "output_type": "stream",
          "text": [
            "택시를\n",
            "타고\n",
            "가라\n",
            "택시를\n",
            "타고\n",
            "가라\n"
          ],
          "name": "stdout"
        }
      ]
    },
    {
      "cell_type": "markdown",
      "metadata": {
        "id": "FgJ7tirjL8qD",
        "colab_type": "text"
      },
      "source": [
        "### 조건식: 비교연산자"
      ]
    },
    {
      "cell_type": "code",
      "metadata": {
        "id": "ZBez5xLEMA5z",
        "colab_type": "code",
        "outputId": "9449a8ad-629f-4b39-b789-9ba76a888c01",
        "colab": {
          "base_uri": "https://localhost:8080/",
          "height": 71
        }
      },
      "source": [
        "# 비교연산자(<, >, ==, !=, >=, <=)를 쓰는 방법\n",
        "x=3\n",
        "y=2\n",
        "x>y\n",
        "\n",
        "print(x<y)\n",
        "print(x==y)\n",
        "print(x!=y)"
      ],
      "execution_count": 0,
      "outputs": [
        {
          "output_type": "stream",
          "text": [
            "False\n",
            "False\n",
            "True\n"
          ],
          "name": "stdout"
        }
      ]
    },
    {
      "cell_type": "markdown",
      "metadata": {
        "id": "GR0wAZ8oMB4r",
        "colab_type": "text"
      },
      "source": [
        "### 조건식 만들기"
      ]
    },
    {
      "cell_type": "code",
      "metadata": {
        "id": "YriFiaBrMErD",
        "colab_type": "code",
        "outputId": "e496da9b-ef5a-4a0d-deb9-10052e7ef7ce",
        "colab": {
          "base_uri": "https://localhost:8080/",
          "height": 35
        }
      },
      "source": [
        "# \"만약 3000원 이상의 돈을 가지고 있으면 택시를 타고 그렇지 않으면 걸어 가라.\"\n",
        "\n",
        "money = 2000\n",
        "\n",
        "if money >= 3000: # 가지고 있는 돈이 3000원보다 많거나 같으면\n",
        "    print(\"택시를 타고 가라\")\n",
        "else: # 가지고 있는 돈이 3000원보다 적으면\n",
        "    print(\"걸어가라\")"
      ],
      "execution_count": 0,
      "outputs": [
        {
          "output_type": "stream",
          "text": [
            "걸어가라\n"
          ],
          "name": "stdout"
        }
      ]
    },
    {
      "cell_type": "markdown",
      "metadata": {
        "id": "my37ixa7MJ91",
        "colab_type": "text"
      },
      "source": [
        "### 복합 조건식"
      ]
    },
    {
      "cell_type": "code",
      "metadata": {
        "id": "_N-zgae_MKs9",
        "colab_type": "code",
        "outputId": "f545f628-d976-432b-fad3-222969cb90d6",
        "colab": {
          "base_uri": "https://localhost:8080/",
          "height": 35
        }
      },
      "source": [
        "###################################\n",
        "# 복합 조건식: or, and, not\n",
        "###################################\n",
        "# 연산자\t설명\n",
        "# x or y  :\tx와 y 둘중에 하나만 참이면 참이다\n",
        "# x and y :\tx와 y 모두 참이어야 참이다\n",
        "# not x\t  : x가 거짓이면 참이다\n",
        "###################################\n",
        "# or 복합 조건식 이용\n",
        "\n",
        "# \"돈이 3000원 이상 있거나 카드가 있다면 택시를 타고 그렇지 않으면 걸어 가라.\"\n",
        "\n",
        "money = 2000\n",
        "card = True\n",
        "if money >= 3000 or card: # money가 3000 이상이거나 card가 있으면\n",
        "    print(\"택시를 타고 가라\")\n",
        "else:\n",
        "    print(\"걸어가라\")"
      ],
      "execution_count": 0,
      "outputs": [
        {
          "output_type": "stream",
          "text": [
            "택시를 타고 가라\n"
          ],
          "name": "stdout"
        }
      ]
    },
    {
      "cell_type": "markdown",
      "metadata": {
        "id": "ByTJLbrxMN6F",
        "colab_type": "text"
      },
      "source": [
        "### 조건식: in, not in"
      ]
    },
    {
      "cell_type": "code",
      "metadata": {
        "id": "fWdF3SnRMQH9",
        "colab_type": "code",
        "outputId": "864ba413-b42f-4078-b0b2-459d1fe839a8",
        "colab": {
          "base_uri": "https://localhost:8080/",
          "height": 35
        }
      },
      "source": [
        "###################################\n",
        "#   in\t          not in\n",
        "# x in 리스트\tx not in 리스트\n",
        "# x in 튜플\t    x not in 튜플\n",
        "# x in 문자열\tx not in 문자열\n",
        "###################################\n",
        "\n",
        "\n",
        "# list\n",
        "1 in [1, 2, 3]\n",
        "1 not in [1, 2, 3]\n",
        "\n",
        "# tuple\n",
        "'a' in ('a', 'b', 'c')\n",
        "\n",
        "# string\n",
        "'j' not in 'python'\n",
        "\n",
        "# in을 이용한 코드\n",
        "\n",
        "# \"만약 주머니에 돈이 있으면 택시를 타고, 없으면 걸어 가라.\"\n",
        "pocket = ['paper', 'cellphone', 'money']\n",
        "if 'money' in pocket:\n",
        "    print(\"택시를 타고 가라\")\n",
        "else:\n",
        "    print(\"걸어가라\")"
      ],
      "execution_count": 0,
      "outputs": [
        {
          "output_type": "stream",
          "text": [
            "택시를 타고 가라\n"
          ],
          "name": "stdout"
        }
      ]
    },
    {
      "cell_type": "markdown",
      "metadata": {
        "id": "1a9wJVNfMVGz",
        "colab_type": "text"
      },
      "source": [
        "### 조건식: pass"
      ]
    },
    {
      "cell_type": "code",
      "metadata": {
        "id": "ImNriENaMWf8",
        "colab_type": "code",
        "colab": {}
      },
      "source": [
        "pocket = ['paper', 'cellphone', 'money']\n",
        "if 'money' in pocket:\n",
        "    # print(\"택시를 타고 가라\")\n",
        "    pass\n",
        "else:\n",
        "    print(\"걸어가라\")"
      ],
      "execution_count": 0,
      "outputs": []
    },
    {
      "cell_type": "markdown",
      "metadata": {
        "id": "nBIwLW1xMaDr",
        "colab_type": "text"
      },
      "source": [
        "### 다중 조건식: elif"
      ]
    },
    {
      "cell_type": "code",
      "metadata": {
        "id": "B1cC5IGhMazr",
        "colab_type": "code",
        "outputId": "6995080a-2748-4900-dc00-8b0c4fd187c3",
        "colab": {
          "base_uri": "https://localhost:8080/",
          "height": 35
        }
      },
      "source": [
        "# 다양한 조건을 판단\n",
        "###################################\n",
        "\n",
        "# \"주머니에 돈이 있으면 택시를 타고, \n",
        "# 주머니에 돈은 없지만 카드가 있으면 택시를 타고, \n",
        "# 돈도 없고 카드도 없으면 걸어 가라.\"\n",
        "\n",
        "\n",
        "pocket = ['paper', 'handphone']\n",
        "card = True\n",
        "\n",
        "if 'money' in pocket:\n",
        "    print(\"택시를 타고가라\")\n",
        "else:\n",
        "    if card:\n",
        "        print(\"택시를 타고가라\")\n",
        "    else:\n",
        "        print(\"걸어가라\")"
      ],
      "execution_count": 0,
      "outputs": [
        {
          "output_type": "stream",
          "text": [
            "택시를 타고가라\n"
          ],
          "name": "stdout"
        }
      ]
    },
    {
      "cell_type": "markdown",
      "metadata": {
        "id": "mjMzezu-MfpD",
        "colab_type": "text"
      },
      "source": [
        "### elif 이용한 코드"
      ]
    },
    {
      "cell_type": "code",
      "metadata": {
        "id": "kbLcjjDXMgRL",
        "colab_type": "code",
        "outputId": "38214c2b-40ed-439f-b36b-782c57e7bda4",
        "colab": {
          "base_uri": "https://localhost:8080/",
          "height": 35
        }
      },
      "source": [
        "pocket = ['paper', 'handphone']\n",
        "card = True\n",
        "\n",
        "if 'money' in pocket:\n",
        "    print(\"택시를 타고가라\")\n",
        "elif card:\n",
        "    print(\"택시를 타고가라\")\n",
        "else:\n",
        "    print(\"걸어가라\")"
      ],
      "execution_count": 0,
      "outputs": [
        {
          "output_type": "stream",
          "text": [
            "택시를 타고가라\n"
          ],
          "name": "stdout"
        }
      ]
    },
    {
      "cell_type": "markdown",
      "metadata": {
        "id": "DTl-olLNMhrL",
        "colab_type": "text"
      },
      "source": [
        "### if문을 한 줄로 작성하기"
      ]
    },
    {
      "cell_type": "code",
      "metadata": {
        "id": "pGJ2ITEbMjj7",
        "colab_type": "code",
        "colab": {}
      },
      "source": [
        "pocket = ['paper', 'cellphone', 'money']\n",
        "\n",
        "if 'money' in pocket:\n",
        "    pass\n",
        "else:\n",
        "    print(\"카드를 사용해라.\")\n",
        "\n",
        "\n",
        "# 한줄 코드\n",
        "if 'money' in pocket: pass \n",
        "else: print(\"카드를 사용해라.\")"
      ],
      "execution_count": 0,
      "outputs": []
    },
    {
      "cell_type": "markdown",
      "metadata": {
        "id": "d12Cuv0kMlVz",
        "colab_type": "text"
      },
      "source": [
        "### 조건부 표현식 (conditional expression)"
      ]
    },
    {
      "cell_type": "code",
      "metadata": {
        "id": "3OAOxx4yMoqc",
        "colab_type": "code",
        "outputId": "46408cac-a020-4874-e313-b0423932e528",
        "colab": {
          "base_uri": "https://localhost:8080/",
          "height": 53
        }
      },
      "source": [
        "# 조건문이 참인 경우 if 조건문 else 조건문이 거짓인 경우\n",
        "######################################################\n",
        "\n",
        "score=80\n",
        "if score >= 60:\n",
        "    message = \"success\"\n",
        "else:\n",
        "    message = \"failure\"\n",
        "\n",
        "print(message)\n",
        "\n",
        "# 한줄 코드\n",
        "message = \"success\" if score >= 60 else \"failure\"\n",
        "print(message)"
      ],
      "execution_count": 0,
      "outputs": [
        {
          "output_type": "stream",
          "text": [
            "success\n",
            "success\n"
          ],
          "name": "stdout"
        }
      ]
    },
    {
      "cell_type": "markdown",
      "metadata": {
        "id": "oHBvrNAHMq6z",
        "colab_type": "text"
      },
      "source": [
        "### Author: swarthyPig\n",
        "### 파이썬 코드: ch3_01_if_else.py"
      ]
    }
  ]
}