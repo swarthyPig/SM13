{
  "nbformat": 4,
  "nbformat_minor": 0,
  "metadata": {
    "colab": {
      "name": "py_module_2A_mnist.ipynb",
      "provenance": [],
      "collapsed_sections": [],
      "include_colab_link": true
    },
    "kernelspec": {
      "display_name": "Python 3",
      "language": "python",
      "name": "python3"
    }
  },
  "cells": [
    {
      "cell_type": "markdown",
      "metadata": {
        "id": "view-in-github",
        "colab_type": "text"
      },
      "source": [
        "<a href=\"https://colab.research.google.com/github/swarthyPig/SM13/blob/master/py_modules/py_module_2A_mnist.ipynb\" target=\"_parent\"><img src=\"https://colab.research.google.com/assets/colab-badge.svg\" alt=\"Open In Colab\"/></a>"
      ]
    },
    {
      "cell_type": "markdown",
      "metadata": {
        "id": "vo1LVmXUuIgg",
        "colab_type": "text"
      },
      "source": [
        "## Application of numpy & matplotlib to mnist data\n",
        "\n",
        "> Go colab"
      ]
    },
    {
      "cell_type": "markdown",
      "metadata": {
        "colab_type": "text",
        "id": "cO5pCuHVzOur"
      },
      "source": [
        "### Images of hand-written numbers in sample_data folder of colab"
      ]
    },
    {
      "cell_type": "code",
      "metadata": {
        "colab_type": "code",
        "id": "sU3HVwR4rfr4",
        "outputId": "9d99eb38-12ae-42c5-b518-c6227c90dafc",
        "colab": {
          "base_uri": "https://localhost:8080/",
          "height": 35
        }
      },
      "source": [
        "ls"
      ],
      "execution_count": 0,
      "outputs": [
        {
          "output_type": "stream",
          "text": [
            "\u001b[0m\u001b[01;34msample_data\u001b[0m/\n"
          ],
          "name": "stdout"
        }
      ]
    },
    {
      "cell_type": "code",
      "metadata": {
        "colab_type": "code",
        "id": "dvD9bavSsgRl",
        "outputId": "52d08d65-637e-44fe-8c66-983fdcc9560b",
        "colab": {
          "base_uri": "https://localhost:8080/",
          "height": 71
        }
      },
      "source": [
        "ls sample_data"
      ],
      "execution_count": 0,
      "outputs": [
        {
          "output_type": "stream",
          "text": [
            "\u001b[0m\u001b[01;32manscombe.json\u001b[0m*                mnist_test.csv\n",
            "california_housing_test.csv   mnist_train_small.csv\n",
            "california_housing_train.csv  \u001b[01;32mREADME.md\u001b[0m*\n"
          ],
          "name": "stdout"
        }
      ]
    },
    {
      "cell_type": "code",
      "metadata": {
        "colab_type": "code",
        "id": "8bY2C49es5uf",
        "colab": {}
      },
      "source": [
        "import numpy as np"
      ],
      "execution_count": 0,
      "outputs": []
    },
    {
      "cell_type": "markdown",
      "metadata": {
        "id": "_aFKcYwpuIgt",
        "colab_type": "text"
      },
      "source": [
        "### train data set\n",
        "- 20000 images with targets"
      ]
    },
    {
      "cell_type": "code",
      "metadata": {
        "colab_type": "code",
        "id": "GFIc05W-sjKt",
        "colab": {}
      },
      "source": [
        "data = np.loadtxt(\"sample_data/mnist_train_small.csv\", delimiter=\",\")"
      ],
      "execution_count": 0,
      "outputs": []
    },
    {
      "cell_type": "code",
      "metadata": {
        "colab_type": "code",
        "id": "OMZ76vHytDXl",
        "outputId": "621eef5c-f7ef-4863-9559-3db55fb549fd",
        "colab": {
          "base_uri": "https://localhost:8080/",
          "height": 35
        }
      },
      "source": [
        "data.shape"
      ],
      "execution_count": 0,
      "outputs": [
        {
          "output_type": "execute_result",
          "data": {
            "text/plain": [
              "(20000, 785)"
            ]
          },
          "metadata": {
            "tags": []
          },
          "execution_count": 6
        }
      ]
    },
    {
      "cell_type": "markdown",
      "metadata": {
        "id": "4X93K0kPJ0ps",
        "colab_type": "text"
      },
      "source": [
        "#### Hand-written number images and target level\n",
        "- data: images of hand-written numbers (28 X 28 pixels)\n",
        "- target: numbers (0 ~ 9)  "
      ]
    },
    {
      "cell_type": "code",
      "metadata": {
        "colab_type": "code",
        "id": "KJjmq4lKtJz9",
        "outputId": "e2612f9a-22b0-4d5f-e2b9-770f378d220e",
        "colab": {
          "base_uri": "https://localhost:8080/",
          "height": 35
        }
      },
      "source": [
        "data[:,0]  # target (hand-written numbers)"
      ],
      "execution_count": 0,
      "outputs": [
        {
          "output_type": "execute_result",
          "data": {
            "text/plain": [
              "array([6., 5., 7., ..., 2., 9., 5.])"
            ]
          },
          "metadata": {
            "tags": []
          },
          "execution_count": 7
        }
      ]
    },
    {
      "cell_type": "code",
      "metadata": {
        "id": "3IT1j1kjyeze",
        "colab_type": "code",
        "outputId": "c5dc65c3-f2e3-469b-ef01-9314b4412c50",
        "colab": {
          "base_uri": "https://localhost:8080/",
          "height": 35
        }
      },
      "source": [
        "data[-1,0]"
      ],
      "execution_count": 0,
      "outputs": [
        {
          "output_type": "execute_result",
          "data": {
            "text/plain": [
              "5.0"
            ]
          },
          "metadata": {
            "tags": []
          },
          "execution_count": 8
        }
      ]
    },
    {
      "cell_type": "code",
      "metadata": {
        "id": "AU5LKlfKyrY6",
        "colab_type": "code",
        "outputId": "3c633593-c050-41f6-93af-a0bfa3d24f1f",
        "colab": {
          "base_uri": "https://localhost:8080/",
          "height": 35
        }
      },
      "source": [
        "data[-5:,0]"
      ],
      "execution_count": 0,
      "outputs": [
        {
          "output_type": "execute_result",
          "data": {
            "text/plain": [
              "array([0., 1., 2., 9., 5.])"
            ]
          },
          "metadata": {
            "tags": []
          },
          "execution_count": 9
        }
      ]
    },
    {
      "cell_type": "code",
      "metadata": {
        "id": "d6-CF9P9uIg_",
        "colab_type": "code",
        "outputId": "b9d2d082-ec94-4ad9-b422-ba2a88f36ebb",
        "colab": {
          "base_uri": "https://localhost:8080/",
          "height": 35
        }
      },
      "source": [
        "data[:,0].shape  # target of 20,000 hand-written images\n",
        "# target = [0, 1, 2, 3, 4, 5, 6, 7, 8, 9]"
      ],
      "execution_count": 0,
      "outputs": [
        {
          "output_type": "execute_result",
          "data": {
            "text/plain": [
              "(20000,)"
            ]
          },
          "metadata": {
            "tags": []
          },
          "execution_count": 11
        }
      ]
    },
    {
      "cell_type": "code",
      "metadata": {
        "colab_type": "code",
        "id": "JdOSuQmGzt4L",
        "colab": {}
      },
      "source": [
        "target = data[:,0]"
      ],
      "execution_count": 0,
      "outputs": []
    },
    {
      "cell_type": "code",
      "metadata": {
        "id": "QqE8nTFXy-UD",
        "colab_type": "code",
        "outputId": "4fbebced-7f77-4241-8868-0d302f4bf880",
        "colab": {
          "base_uri": "https://localhost:8080/",
          "height": 35
        }
      },
      "source": [
        "target[:5],target[-5:]"
      ],
      "execution_count": 0,
      "outputs": [
        {
          "output_type": "execute_result",
          "data": {
            "text/plain": [
              "(array([6., 5., 7., 9., 5.]), array([0., 1., 2., 9., 5.]))"
            ]
          },
          "metadata": {
            "tags": []
          },
          "execution_count": 13
        }
      ]
    },
    {
      "cell_type": "code",
      "metadata": {
        "colab_type": "code",
        "id": "y37WYpAXtNrt",
        "outputId": "2b19a014-b7e0-41b6-e02d-2620433aebab",
        "colab": {
          "base_uri": "https://localhost:8080/",
          "height": 53
        }
      },
      "source": [
        "ndata = data[:,1:]  # ndata (iamge of hand-written numbers), 784 pixels for each number\n",
        "print(ndata.shape)\n",
        "print(\"784 = {}\".format(28*28))"
      ],
      "execution_count": 0,
      "outputs": [
        {
          "output_type": "stream",
          "text": [
            "(20000, 784)\n",
            "784 = 784\n"
          ],
          "name": "stdout"
        }
      ]
    },
    {
      "cell_type": "markdown",
      "metadata": {
        "colab_type": "text",
        "id": "Kd71pEeCvXiy"
      },
      "source": [
        "### 행벡터(1X784)를 이미지 배열 (28X28)로 재구성"
      ]
    },
    {
      "cell_type": "code",
      "metadata": {
        "colab_type": "code",
        "id": "LotN9u-5uRX9",
        "outputId": "e46bd010-cd13-46c7-9959-717cca8a109f",
        "colab": {
          "base_uri": "https://localhost:8080/",
          "height": 1000
        }
      },
      "source": [
        "ndata[0,0:]  # first number"
      ],
      "execution_count": 0,
      "outputs": [
        {
          "output_type": "execute_result",
          "data": {
            "text/plain": [
              "array([  0.,   0.,   0.,   0.,   0.,   0.,   0.,   0.,   0.,   0.,   0.,\n",
              "         0.,   0.,   0.,   0.,   0.,   0.,   0.,   0.,   0.,   0.,   0.,\n",
              "         0.,   0.,   0.,   0.,   0.,   0.,   0.,   0.,   0.,   0.,   0.,\n",
              "         0.,   0.,   0.,   0.,   0.,   0.,   0.,   0.,   0.,   0.,   0.,\n",
              "         0.,   0.,   0.,   0.,   0.,   0.,   0.,   0.,   0.,   0.,   0.,\n",
              "         0.,   0.,   0.,   0.,   0.,   0.,   0.,   0.,   0.,   0.,   0.,\n",
              "         0.,   0.,   0.,   0.,   0.,   0.,   0.,   0.,   0.,   0.,   0.,\n",
              "         0.,   0.,   0.,   0.,   0.,   0.,   0.,   0.,   0.,   0.,   0.,\n",
              "         0.,   0.,   0.,   0.,   0.,   0.,   0.,   0.,   0.,   0.,   0.,\n",
              "         0.,   0.,   0.,   0.,   0.,   0.,   0.,   0.,   0.,   0.,   0.,\n",
              "         0.,   0.,   0.,   0.,   0.,   0.,   0.,   0.,   0.,   0.,   0.,\n",
              "         0.,  24.,  67.,  67.,  18.,   0.,   0.,   0.,   0.,   0.,   0.,\n",
              "         0.,   0.,   0.,   0.,   0.,   0.,   0.,   0.,   0.,   0.,   0.,\n",
              "         0.,   0.,   0.,   0.,   0.,   0.,   0., 131., 252., 252.,  66.,\n",
              "         0.,   0.,   0.,   0.,   0.,   0.,   0.,   0.,   0.,   0.,   0.,\n",
              "         0.,   0.,   0.,   0.,   0.,   0.,   0.,   0.,   0.,   0.,   0.,\n",
              "         0., 159., 250., 232.,  30.,  32.,   0.,   0.,   0.,   0.,   0.,\n",
              "         0.,   0.,   0.,   0.,   0.,   0.,   0.,   0.,   0.,   0.,   0.,\n",
              "         0.,   0.,   0.,   0.,   0.,   0.,  15., 222., 252., 108.,   0.,\n",
              "         0.,   0.,   0.,   0.,   0.,   0.,   0.,   0.,   0.,   0.,   0.,\n",
              "         0.,   0.,   0.,   0.,   0.,   0.,   0.,   0.,   0.,   0.,   0.,\n",
              "         0., 147., 252., 183.,   5.,   0.,   0.,   0.,   0.,   0.,   0.,\n",
              "         0.,  20.,  89.,  89.,  73.,   0.,   0.,   0.,   0.,   0.,   0.,\n",
              "         0.,   0.,   0.,   0.,   0.,   0.,  48., 247., 252., 159.,   0.,\n",
              "         0.,   0.,   0.,   0.,   0.,   0.,  79., 236., 252., 252., 249.,\n",
              "       198.,  16.,   0.,   0.,   0.,   0.,   0.,   0.,   0.,   0.,   0.,\n",
              "        41., 193., 252., 199.,  22.,   0.,   0.,   0.,   0.,   0.,  12.,\n",
              "       135., 248., 252., 252., 252., 252., 252., 100.,   0.,   0.,   0.,\n",
              "         0.,   0.,   0.,   0.,   0.,   0., 100., 252., 252.,  88.,   0.,\n",
              "         0.,   0.,   0.,   0.,  11., 171., 252., 252., 235., 175., 178.,\n",
              "       252., 252., 224.,   0.,   0.,   0.,   0.,   0.,   0.,   0.,   0.,\n",
              "        15., 209., 252., 233.,  12.,   0.,   0.,   0.,   0.,  49., 177.,\n",
              "       252., 252.,  89.,  26.,   0.,   2., 166., 252., 252.,   0.,   0.,\n",
              "         0.,   0.,   0.,   0.,   0.,   0.,  96., 253., 253.,  59.,   0.,\n",
              "         0.,   0.,   0.,  11., 177., 255., 253.,  92.,   0.,   0.,   0.,\n",
              "         0., 155., 253., 128.,   0.,   0.,   0.,   0.,   0.,   0.,   0.,\n",
              "         0., 143., 252., 252.,  10.,   0.,   0.,   0.,  12., 171., 252.,\n",
              "       216., 110.,  13.,   0.,   0.,   0.,   3., 180., 232.,  24.,   0.,\n",
              "         0.,   0.,   0.,   0.,   0.,   0.,   0., 143., 252., 170.,   2.,\n",
              "         0.,   0.,   0., 135., 252., 209.,  19.,   0.,   0.,   0.,   0.,\n",
              "         0.,  12., 252., 132.,   0.,   0.,   0.,   0.,   0.,   0.,   0.,\n",
              "         0.,   0., 249., 252.,  96.,   0.,   0.,   0.,  21., 248., 246.,\n",
              "        34.,   0.,   0.,   0.,   0.,   5.,  61., 234., 152.,   3.,   0.,\n",
              "         0.,   0.,   0.,   0.,   0.,   0.,   0.,   0., 253., 252.,  44.,\n",
              "         0.,   0.,   0., 145., 252., 104.,   0.,   0.,   0.,  46., 114.,\n",
              "       184., 252., 149.,  34.,   0.,   0.,   0.,   0.,   0.,   0.,   0.,\n",
              "         0.,   0.,   0., 253., 252.,  82.,   0.,   0.,  31., 239., 252.,\n",
              "        66.,  39.,  89., 165., 243., 252., 233., 126.,   5.,   0.,   0.,\n",
              "         0.,   0.,   0.,   0.,   0.,   0.,   0.,   0.,   0., 249., 252.,\n",
              "       244., 126.,  98., 143., 252., 252., 237., 240., 253., 252., 243.,\n",
              "       174.,  17.,   0.,   0.,   0.,   0.,   0.,   0.,   0.,   0.,   0.,\n",
              "         0.,   0.,   0.,   0., 119., 239., 252., 252., 252., 252., 252.,\n",
              "       252., 252., 252., 228., 179.,  17.,   0.,   0.,   0.,   0.,   0.,\n",
              "         0.,   0.,   0.,   0.,   0.,   0.,   0.,   0.,   0.,   0.,   0.,\n",
              "        46.,  66.,  66.,  66.,  66.,  66.,  66.,  66.,  66.,  29.,   0.,\n",
              "         0.,   0.,   0.,   0.,   0.,   0.,   0.,   0.,   0.,   0.,   0.,\n",
              "         0.,   0.,   0.,   0.,   0.,   0.,   0.,   0.,   0.,   0.,   0.,\n",
              "         0.,   0.,   0.,   0.,   0.,   0.,   0.,   0.,   0.,   0.,   0.,\n",
              "         0.,   0.,   0.,   0.,   0.,   0.,   0.,   0.,   0.,   0.,   0.,\n",
              "         0.,   0.,   0.,   0.,   0.,   0.,   0.,   0.,   0.,   0.,   0.,\n",
              "         0.,   0.,   0.,   0.,   0.,   0.,   0.,   0.,   0.,   0.,   0.,\n",
              "         0.,   0.,   0.,   0.,   0.,   0.,   0.,   0.,   0.,   0.,   0.,\n",
              "         0.,   0.,   0.,   0.,   0.,   0.,   0.,   0.,   0.,   0.,   0.,\n",
              "         0.,   0.,   0.,   0.,   0.,   0.,   0.,   0.,   0.,   0.,   0.,\n",
              "         0.,   0.,   0.,   0.,   0.,   0.,   0.,   0.,   0.,   0.,   0.,\n",
              "         0.,   0.,   0.,   0.,   0.,   0.,   0.,   0.,   0.,   0.,   0.,\n",
              "         0.,   0.,   0.,   0.,   0.,   0.,   0.,   0.,   0.,   0.,   0.,\n",
              "         0.,   0.,   0.,   0.,   0.,   0.,   0.,   0.,   0.,   0.,   0.,\n",
              "         0.,   0.,   0.,   0.,   0.,   0.,   0.,   0.,   0.,   0.,   0.,\n",
              "         0.,   0.,   0.,   0.,   0.,   0.,   0.,   0.,   0.,   0.,   0.,\n",
              "         0.,   0.,   0.,   0.,   0.,   0.,   0.,   0.,   0.,   0.,   0.,\n",
              "         0.,   0.,   0.])"
            ]
          },
          "metadata": {
            "tags": []
          },
          "execution_count": 15
        }
      ]
    },
    {
      "cell_type": "code",
      "metadata": {
        "colab_type": "code",
        "id": "k88CVOPSvfVE",
        "outputId": "f233b471-f0f7-4ded-839f-cd2b83534645",
        "colab": {
          "base_uri": "https://localhost:8080/",
          "height": 35
        }
      },
      "source": [
        "ndata[0,0:].shape, target[0]  # 첫번째 숫자는 6   "
      ],
      "execution_count": 0,
      "outputs": [
        {
          "output_type": "execute_result",
          "data": {
            "text/plain": [
              "((784,), 6.0)"
            ]
          },
          "metadata": {
            "tags": []
          },
          "execution_count": 16
        }
      ]
    },
    {
      "cell_type": "code",
      "metadata": {
        "colab_type": "code",
        "id": "N6ho4oBKwEQ9",
        "colab": {}
      },
      "source": [
        "first_num = ndata[0,0:].reshape(28,28)\n",
        "\n",
        "last_num = ndata[-1,0:].reshape(28,28)"
      ],
      "execution_count": 0,
      "outputs": []
    },
    {
      "cell_type": "code",
      "metadata": {
        "colab_type": "code",
        "id": "5VXgqcUDwUBe",
        "colab": {}
      },
      "source": [
        "import matplotlib.pyplot as plt\n",
        "import matplotlib as mpl\n",
        "%matplotlib inline"
      ],
      "execution_count": 0,
      "outputs": []
    },
    {
      "cell_type": "code",
      "metadata": {
        "colab_type": "code",
        "id": "-5HoIZqhwkxt",
        "outputId": "5c66a098-333f-49d4-d0fa-17fc9dca2354",
        "colab": {
          "base_uri": "https://localhost:8080/",
          "height": 143
        }
      },
      "source": [
        "plt.figure(figsize=(2, 2))\n",
        "plt.imshow(last_num, cmap=mpl.cm.binary) #bone_r)\n",
        "plt.grid(False)\n",
        "plt.xticks([])\n",
        "plt.yticks([])\n",
        "plt.show()"
      ],
      "execution_count": 0,
      "outputs": [
        {
          "output_type": "display_data",
          "data": {
            "image/png": "[encoded data removed]",
            "text/plain": [
              "<Figure size 144x144 with 1 Axes>"
            ]
          },
          "metadata": {
            "tags": []
          }
        }
      ]
    },
    {
      "cell_type": "code",
      "metadata": {
        "colab_type": "code",
        "id": "kDB3DcxY0Edz",
        "outputId": "a5be43b9-3aeb-4375-885a-bf591d6aa278",
        "colab": {
          "base_uri": "https://localhost:8080/",
          "height": 35
        }
      },
      "source": [
        "target[0], target[-1]   # check number "
      ],
      "execution_count": 0,
      "outputs": [
        {
          "output_type": "execute_result",
          "data": {
            "text/plain": [
              "(6.0, 5.0)"
            ]
          },
          "metadata": {
            "tags": []
          },
          "execution_count": 26
        }
      ]
    },
    {
      "cell_type": "markdown",
      "metadata": {
        "colab_type": "text",
        "id": "3FpkxUUbxDSJ"
      },
      "source": [
        "### Show images of some numbers in train dataset"
      ]
    },
    {
      "cell_type": "code",
      "metadata": {
        "colab_type": "code",
        "id": "aR5jRpDxwsFW",
        "colab": {}
      },
      "source": [
        "# function plot_digits\n",
        "# import numpy as np\n",
        "# import matplotlib as mpl\n",
        "def plot_digits(instances, images_per_row=10, **options):\n",
        "    size = 28\n",
        "    images_per_row = min(len(instances), images_per_row)\n",
        "    images = [instance.reshape(size,size) for instance in instances]\n",
        "    n_rows = (len(instances) - 1) // images_per_row + 1\n",
        "    row_images = []\n",
        "    n_empty = n_rows * images_per_row - len(instances)\n",
        "    images.append(np.zeros((size, size * n_empty)))\n",
        "    for row in range(n_rows):\n",
        "        rimages = images[row * images_per_row : (row + 1) * images_per_row]\n",
        "        row_images.append(np.concatenate(rimages, axis=1))\n",
        "    image_all = np.concatenate(row_images, axis=0)\n",
        "    plt.imshow(image_all, cmap = mpl.cm.binary, **options)\n",
        "    plt.axis(\"off\")"
      ],
      "execution_count": 0,
      "outputs": []
    },
    {
      "cell_type": "markdown",
      "metadata": {
        "colab_type": "text",
        "id": "cjLepZIixoMu"
      },
      "source": [
        "### images of  reshaped ndata"
      ]
    },
    {
      "cell_type": "code",
      "metadata": {
        "colab_type": "code",
        "id": "8W54-4Mzyo4C",
        "outputId": "d7fc857c-aba9-461e-b6ac-5bd017a9f61b",
        "colab": {
          "base_uri": "https://localhost:8080/",
          "height": 35
        }
      },
      "source": [
        "ndata[:34].shape"
      ],
      "execution_count": 0,
      "outputs": [
        {
          "output_type": "execute_result",
          "data": {
            "text/plain": [
              "(34, 784)"
            ]
          },
          "metadata": {
            "tags": []
          },
          "execution_count": 28
        }
      ]
    },
    {
      "cell_type": "code",
      "metadata": {
        "colab_type": "code",
        "id": "-hgxPNbTxSGF",
        "outputId": "d956700c-c710-4ce8-dc10-64c187cc290b",
        "colab": {
          "base_uri": "https://localhost:8080/",
          "height": 232
        }
      },
      "source": [
        "plt.figure(figsize=(9,9))\n",
        "example_images = np.r_[ndata[:34]]\n",
        "plot_digits(example_images, images_per_row=10)\n",
        "\n",
        "plt.show()"
      ],
      "execution_count": 0,
      "outputs": [
        {
          "output_type": "display_data",
          "data": {
            "image/png": "[encoded data removed]",
            "text/plain": [
              "<Figure size 648x648 with 1 Axes>"
            ]
          },
          "metadata": {
            "tags": []
          }
        }
      ]
    },
    {
      "cell_type": "markdown",
      "metadata": {
        "colab_type": "text",
        "id": "T_Vlmu8X0hJ3"
      },
      "source": [
        "### 처음 숫자 50개 확인"
      ]
    },
    {
      "cell_type": "code",
      "metadata": {
        "colab_type": "code",
        "id": "sKmQUYZuysj1",
        "outputId": "2a5f80f3-ebbc-4955-e262-d5860b68a647",
        "colab": {
          "base_uri": "https://localhost:8080/",
          "height": 107
        }
      },
      "source": [
        "target[:50].reshape(5,10)"
      ],
      "execution_count": 0,
      "outputs": [
        {
          "output_type": "execute_result",
          "data": {
            "text/plain": [
              "array([[6., 5., 7., 9., 5., 2., 0., 6., 5., 5.],\n",
              "       [2., 7., 7., 6., 8., 9., 3., 5., 7., 6.],\n",
              "       [9., 4., 3., 4., 9., 2., 9., 1., 3., 9.],\n",
              "       [7., 7., 5., 8., 6., 1., 7., 2., 7., 8.],\n",
              "       [8., 7., 1., 3., 7., 4., 1., 1., 9., 2.]])"
            ]
          },
          "metadata": {
            "tags": []
          },
          "execution_count": 30
        }
      ]
    },
    {
      "cell_type": "markdown",
      "metadata": {
        "id": "pFuMg89QuknS",
        "colab_type": "text"
      },
      "source": [
        "\n",
        "\n",
        "---\n",
        "\n"
      ]
    },
    {
      "cell_type": "markdown",
      "metadata": {
        "id": "OSxddpthOdk-",
        "colab_type": "text"
      },
      "source": [
        "#### 테스트데이터 샘플을 로드하여 확인해보자."
      ]
    },
    {
      "cell_type": "markdown",
      "metadata": {
        "colab_type": "text",
        "id": "ScWdSg7o-D50"
      },
      "source": [
        "### Test data set"
      ]
    },
    {
      "cell_type": "code",
      "metadata": {
        "colab_type": "code",
        "id": "oTwRHz_f0V6V",
        "outputId": "1effdea7-0925-4ea4-8fcd-25212aeaf309",
        "colab": {
          "base_uri": "https://localhost:8080/",
          "height": 71
        }
      },
      "source": [
        "ls sample_data"
      ],
      "execution_count": 0,
      "outputs": [
        {
          "output_type": "stream",
          "text": [
            "\u001b[0m\u001b[01;32manscombe.json\u001b[0m*                mnist_test.csv\n",
            "california_housing_test.csv   mnist_train_small.csv\n",
            "california_housing_train.csv  \u001b[01;32mREADME.md\u001b[0m*\n"
          ],
          "name": "stdout"
        }
      ]
    },
    {
      "cell_type": "code",
      "metadata": {
        "colab_type": "code",
        "id": "8YMZmRNY-IPn",
        "colab": {}
      },
      "source": [
        "tdata = np.loadtxt(\"sample_data/mnist_test.csv\", delimiter=\",\")"
      ],
      "execution_count": 0,
      "outputs": []
    },
    {
      "cell_type": "code",
      "metadata": {
        "colab_type": "code",
        "id": "LuByKuNo-P-e",
        "outputId": "68f851e9-3832-413d-9889-e084097f3f4c",
        "colab": {
          "base_uri": "https://localhost:8080/",
          "height": 35
        }
      },
      "source": [
        "tdata.shape"
      ],
      "execution_count": 0,
      "outputs": [
        {
          "output_type": "execute_result",
          "data": {
            "text/plain": [
              "(10000, 785)"
            ]
          },
          "metadata": {
            "tags": []
          },
          "execution_count": 34
        }
      ]
    },
    {
      "cell_type": "code",
      "metadata": {
        "colab_type": "code",
        "id": "C2ytfBdj-UKf",
        "outputId": "40d84e60-d991-49ae-88ff-09fd00b8df5b",
        "colab": {
          "base_uri": "https://localhost:8080/",
          "height": 35
        }
      },
      "source": [
        "# target of test data\n",
        "ty = tdata[:,0]\n",
        "ty"
      ],
      "execution_count": 0,
      "outputs": [
        {
          "output_type": "execute_result",
          "data": {
            "text/plain": [
              "array([7., 2., 1., ..., 4., 5., 6.])"
            ]
          },
          "metadata": {
            "tags": []
          },
          "execution_count": 35
        }
      ]
    },
    {
      "cell_type": "code",
      "metadata": {
        "colab_type": "code",
        "id": "Sk_0HDR7-kMf",
        "colab": {}
      },
      "source": [
        "# test data\n",
        "tX = tdata[:,1:]"
      ],
      "execution_count": 0,
      "outputs": []
    },
    {
      "cell_type": "code",
      "metadata": {
        "colab_type": "code",
        "id": "KZL7IgKJ-zlw",
        "outputId": "42861cd7-3fbd-4866-a1e0-41bb075687b7",
        "colab": {
          "base_uri": "https://localhost:8080/",
          "height": 282
        }
      },
      "source": [
        "# Plot first 50 digits\n",
        "plt.figure(figsize=(9,9))\n",
        "example_images = np.r_[tX[:50]]\n",
        "plot_digits(example_images, images_per_row=10)\n",
        "\n",
        "plt.show()"
      ],
      "execution_count": 0,
      "outputs": [
        {
          "output_type": "display_data",
          "data": {
            "image/png": "[encoded data removed]",
            "text/plain": [
              "<Figure size 648x648 with 1 Axes>"
            ]
          },
          "metadata": {
            "tags": []
          }
        }
      ]
    },
    {
      "cell_type": "code",
      "metadata": {
        "colab_type": "code",
        "id": "_jNsTUo5-7n3",
        "outputId": "db0ca155-80d9-4a68-d05e-4989489203ea",
        "colab": {
          "base_uri": "https://localhost:8080/",
          "height": 107
        }
      },
      "source": [
        "ty[:50].reshape(5,10)"
      ],
      "execution_count": 0,
      "outputs": [
        {
          "output_type": "execute_result",
          "data": {
            "text/plain": [
              "array([[7., 2., 1., 0., 4., 1., 4., 9., 5., 9.],\n",
              "       [0., 6., 9., 0., 1., 5., 9., 7., 3., 4.],\n",
              "       [9., 6., 6., 5., 4., 0., 7., 4., 0., 1.],\n",
              "       [3., 1., 3., 4., 7., 2., 7., 1., 2., 1.],\n",
              "       [1., 7., 4., 2., 3., 5., 1., 2., 4., 4.]])"
            ]
          },
          "metadata": {
            "tags": []
          },
          "execution_count": 39
        }
      ]
    },
    {
      "cell_type": "markdown",
      "metadata": {
        "id": "cH1tzOtZLN66",
        "colab_type": "text"
      },
      "source": [
        "\n",
        "\n",
        "---\n",
        "\n"
      ]
    },
    {
      "cell_type": "markdown",
      "metadata": {
        "id": "ZXsWSLclLaIx",
        "colab_type": "text"
      },
      "source": [
        "#### train data set를 80% 트래이닝데이터와 20% 검증(validation)데이터로 분리하기\n",
        "- train data set : ndata  (20000, 784)\n",
        "- sklearn module 사용"
      ]
    },
    {
      "cell_type": "code",
      "metadata": {
        "id": "Pjv26CEaMru1",
        "colab_type": "code",
        "colab": {}
      },
      "source": [
        "# sklearn module: Python machine learning\n",
        "from sklearn.model_selection import train_test_split"
      ],
      "execution_count": 0,
      "outputs": []
    },
    {
      "cell_type": "code",
      "metadata": {
        "id": "NkMSwgIeLJrS",
        "colab_type": "code",
        "colab": {}
      },
      "source": [
        "def train_val_split(data, val_pct=0.2):\n",
        "    size = data.shape[0]\n",
        "    train, val = train_test_split(data, test_size=val_pct)\n",
        "    return train, val"
      ],
      "execution_count": 0,
      "outputs": []
    },
    {
      "cell_type": "code",
      "metadata": {
        "id": "qCx6589XMjr-",
        "colab_type": "code",
        "outputId": "4c9086a4-82f5-4a62-9d0e-292e43c6943a",
        "colab": {
          "base_uri": "https://localhost:8080/",
          "height": 35
        }
      },
      "source": [
        "train, val = train_val_split(ndata)\n",
        "train.shape,val.shape\n",
        "\n",
        "# train_test_split(data, test_size=0.2)"
      ],
      "execution_count": 0,
      "outputs": [
        {
          "output_type": "execute_result",
          "data": {
            "text/plain": [
              "((16000, 784), (4000, 784))"
            ]
          },
          "metadata": {
            "tags": []
          },
          "execution_count": 42
        }
      ]
    },
    {
      "cell_type": "markdown",
      "metadata": {
        "id": "pLm7P-VTZXMO",
        "colab_type": "text"
      },
      "source": [
        "#### 분리된 데이터를 딕셔너리로 관리"
      ]
    },
    {
      "cell_type": "code",
      "metadata": {
        "id": "D00al2BpYgcz",
        "colab_type": "code",
        "colab": {}
      },
      "source": [
        "dataset = dict()\n",
        "dataset[\"train\"], dataset[\"val\"] = train_val_split(data)"
      ],
      "execution_count": 0,
      "outputs": []
    },
    {
      "cell_type": "code",
      "metadata": {
        "id": "zDx3-169Yum5",
        "colab_type": "code",
        "outputId": "f56aa2e0-8afe-4779-c341-5c8d73341608",
        "colab": {
          "base_uri": "https://localhost:8080/",
          "height": 35
        }
      },
      "source": [
        "type(dataset[\"train\"]), type(dataset[\"val\"])"
      ],
      "execution_count": 0,
      "outputs": [
        {
          "output_type": "execute_result",
          "data": {
            "text/plain": [
              "(numpy.ndarray, numpy.ndarray)"
            ]
          },
          "metadata": {
            "tags": []
          },
          "execution_count": 44
        }
      ]
    },
    {
      "cell_type": "code",
      "metadata": {
        "id": "NTo7jKPLZLc1",
        "colab_type": "code",
        "outputId": "022f10f5-3ebc-4b2a-ea8e-fc474ad7b454",
        "colab": {
          "base_uri": "https://localhost:8080/",
          "height": 35
        }
      },
      "source": [
        "dataset[\"train\"].shape, dataset[\"val\"].shape"
      ],
      "execution_count": 0,
      "outputs": [
        {
          "output_type": "execute_result",
          "data": {
            "text/plain": [
              "((16000, 785), (4000, 785))"
            ]
          },
          "metadata": {
            "tags": []
          },
          "execution_count": 45
        }
      ]
    },
    {
      "cell_type": "markdown",
      "metadata": {
        "id": "qEyq7sW8ZkBT",
        "colab_type": "text"
      },
      "source": [
        "\n",
        "\n",
        "---\n",
        "\n"
      ]
    },
    {
      "cell_type": "markdown",
      "metadata": {
        "id": "3TiDMwXoMXoi",
        "colab_type": "text"
      },
      "source": [
        "#### train-val-test splitting (80%, 10%, 10%)"
      ]
    },
    {
      "cell_type": "code",
      "metadata": {
        "id": "V_gVq9zyMVCb",
        "colab_type": "code",
        "colab": {}
      },
      "source": [
        "def train_val_test_split(data, val_pct=0.1, test_pct=0.1):\n",
        "    size = data.shape[0]\n",
        "    val_pct = (val_pct * size) / (size * (1 - test_pct))\n",
        "    train_val, test = train_test_split(data, test_size=test_pct)\n",
        "    train, val = train_test_split(train_val, test_size=val_pct)\n",
        "    return train, val, test"
      ],
      "execution_count": 0,
      "outputs": []
    },
    {
      "cell_type": "markdown",
      "metadata": {
        "id": "lh00WaAIPjOh",
        "colab_type": "text"
      },
      "source": [
        "#### ndata를 60%,20%,20%의 train, val, test 로 분리하고 shape를 확인해보시오."
      ]
    },
    {
      "cell_type": "code",
      "metadata": {
        "id": "io2Gvc2IPuxP",
        "colab_type": "code",
        "colab": {}
      },
      "source": [
        "train, val, test = train_val_test_split(ndata, val_pct=0.2, test_pct=0.2)"
      ],
      "execution_count": 0,
      "outputs": []
    }
  ]
}