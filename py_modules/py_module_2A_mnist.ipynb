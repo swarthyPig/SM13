{
  "nbformat": 4,
  "nbformat_minor": 0,
  "metadata": {
    "colab": {
      "name": "py_module_2A_mnist.ipynb",
      "provenance": [],
      "private_outputs": true,
      "collapsed_sections": [],
      "include_colab_link": true
    },
    "kernelspec": {
      "name": "python3",
      "display_name": "Python 3"
    }
  },
  "cells": [
    {
      "cell_type": "markdown",
      "metadata": {
        "id": "view-in-github",
        "colab_type": "text"
      },
      "source": [
        "<a href=\"https://colab.research.google.com/github/swarthyPig/SM13/blob/master/py_modules/py_module_2A_mnist.ipynb\" target=\"_parent\"><img src=\"https://colab.research.google.com/assets/colab-badge.svg\" alt=\"Open In Colab\"/></a>"
      ]
    },
    {
      "cell_type": "markdown",
      "metadata": {
        "id": "vo1LVmXUuIgg",
        "colab_type": "text"
      },
      "source": [
        "## Application of numpy & matplotlib to mnist data\n",
        "\n",
        "> Go colab"
      ]
    },
    {
      "cell_type": "markdown",
      "metadata": {
        "colab_type": "text",
        "id": "cO5pCuHVzOur"
      },
      "source": [
        "### Images of hand-written numbers in sample_data folder of colab"
      ]
    },
    {
      "cell_type": "code",
      "metadata": {
        "colab_type": "code",
        "id": "sU3HVwR4rfr4",
        "colab": {}
      },
      "source": [
        "ls\n"
      ],
      "execution_count": 0,
      "outputs": []
    },
    {
      "cell_type": "code",
      "metadata": {
        "colab_type": "code",
        "id": "dvD9bavSsgRl",
        "colab": {}
      },
      "source": [
        "ls sample_data"
      ],
      "execution_count": 0,
      "outputs": []
    },
    {
      "cell_type": "code",
      "metadata": {
        "colab_type": "code",
        "id": "8bY2C49es5uf",
        "colab": {}
      },
      "source": [
        "import numpy as np"
      ],
      "execution_count": 0,
      "outputs": []
    },
    {
      "cell_type": "markdown",
      "metadata": {
        "id": "_aFKcYwpuIgt",
        "colab_type": "text"
      },
      "source": [
        "### train data set\n",
        "- 20000 images with targets"
      ]
    },
    {
      "cell_type": "code",
      "metadata": {
        "colab_type": "code",
        "id": "GFIc05W-sjKt",
        "colab": {}
      },
      "source": [
        "data = np.loadtxt(\"sample_data/mnist_train_small.csv\", delimiter=\",\")"
      ],
      "execution_count": 0,
      "outputs": []
    },
    {
      "cell_type": "code",
      "metadata": {
        "colab_type": "code",
        "id": "OMZ76vHytDXl",
        "colab": {}
      },
      "source": [
        "data.shape,type(data)"
      ],
      "execution_count": 0,
      "outputs": []
    },
    {
      "cell_type": "markdown",
      "metadata": {
        "id": "4X93K0kPJ0ps",
        "colab_type": "text"
      },
      "source": [
        "#### Hand-written number images and target level\n",
        "- data: images of hand-written numbers (28 X 28 pixels)\n",
        "- target: numbers (0 ~ 9)  "
      ]
    },
    {
      "cell_type": "code",
      "metadata": {
        "colab_type": "code",
        "id": "KJjmq4lKtJz9",
        "colab": {}
      },
      "source": [
        "data[:,0]  # target (hand-written numbers)"
      ],
      "execution_count": 0,
      "outputs": []
    },
    {
      "cell_type": "code",
      "metadata": {
        "id": "3IT1j1kjyeze",
        "colab_type": "code",
        "colab": {}
      },
      "source": [
        "data[-1,0]"
      ],
      "execution_count": 0,
      "outputs": []
    },
    {
      "cell_type": "code",
      "metadata": {
        "id": "AU5LKlfKyrY6",
        "colab_type": "code",
        "colab": {}
      },
      "source": [
        "data[-5:,0]"
      ],
      "execution_count": 0,
      "outputs": []
    },
    {
      "cell_type": "code",
      "metadata": {
        "id": "d6-CF9P9uIg_",
        "colab_type": "code",
        "colab": {}
      },
      "source": [
        "data[:,0].shape  # target of 20,000 hand-written images\n",
        "# target = [0, 1, 2, 3, 4, 5, 6, 7, 8, 9]"
      ],
      "execution_count": 0,
      "outputs": []
    },
    {
      "cell_type": "code",
      "metadata": {
        "colab_type": "code",
        "id": "JdOSuQmGzt4L",
        "colab": {}
      },
      "source": [
        "target = data[:,0]"
      ],
      "execution_count": 0,
      "outputs": []
    },
    {
      "cell_type": "code",
      "metadata": {
        "id": "QqE8nTFXy-UD",
        "colab_type": "code",
        "colab": {}
      },
      "source": [
        "target[:5],target[-5:]"
      ],
      "execution_count": 0,
      "outputs": []
    },
    {
      "cell_type": "code",
      "metadata": {
        "colab_type": "code",
        "id": "y37WYpAXtNrt",
        "colab": {}
      },
      "source": [
        "ndata = data[:,1:]  # ndata (iamge of hand-written numbers), 784 pixels for each number\n",
        "print(ndata.shape)\n",
        "print(\"784 = {}\".format(28*28))\n",
        "print(type(ndata))"
      ],
      "execution_count": 0,
      "outputs": []
    },
    {
      "cell_type": "markdown",
      "metadata": {
        "colab_type": "text",
        "id": "Kd71pEeCvXiy"
      },
      "source": [
        "### 행벡터(1X784)를 이미지 배열 (28X28)로 재구성"
      ]
    },
    {
      "cell_type": "code",
      "metadata": {
        "colab_type": "code",
        "id": "LotN9u-5uRX9",
        "colab": {}
      },
      "source": [
        "ndata[0,0:]  # first number"
      ],
      "execution_count": 0,
      "outputs": []
    },
    {
      "cell_type": "code",
      "metadata": {
        "colab_type": "code",
        "id": "k88CVOPSvfVE",
        "colab": {}
      },
      "source": [
        "ndata[0,0:].shape, target[0]  # 첫번째 숫자는 6   "
      ],
      "execution_count": 0,
      "outputs": []
    },
    {
      "cell_type": "code",
      "metadata": {
        "colab_type": "code",
        "id": "N6ho4oBKwEQ9",
        "colab": {}
      },
      "source": [
        "first_num = ndata[0,0:].reshape(28,28)\n",
        "last_num = ndata[-1,0:].reshape(28,28)\n",
        "type(last_num)"
      ],
      "execution_count": 0,
      "outputs": []
    },
    {
      "cell_type": "code",
      "metadata": {
        "colab_type": "code",
        "id": "5VXgqcUDwUBe",
        "colab": {}
      },
      "source": [
        "import matplotlib.pyplot as plt\n",
        "import matplotlib as mpl\n",
        "%matplotlib inline"
      ],
      "execution_count": 0,
      "outputs": []
    },
    {
      "cell_type": "code",
      "metadata": {
        "colab_type": "code",
        "id": "-5HoIZqhwkxt",
        "colab": {}
      },
      "source": [
        "plt.figure(figsize=(2, 2))\n",
        "plt.imshow(last_num, cmap=mpl.cm.binary) #bone_r)\n",
        "plt.grid(False)\n",
        "plt.xticks([])\n",
        "plt.yticks([])\n",
        "plt.show()"
      ],
      "execution_count": 0,
      "outputs": []
    },
    {
      "cell_type": "code",
      "metadata": {
        "colab_type": "code",
        "id": "kDB3DcxY0Edz",
        "colab": {}
      },
      "source": [
        "target[0], target[-1]   # check number "
      ],
      "execution_count": 0,
      "outputs": []
    },
    {
      "cell_type": "markdown",
      "metadata": {
        "colab_type": "text",
        "id": "3FpkxUUbxDSJ"
      },
      "source": [
        "### Show images of some numbers in train dataset"
      ]
    },
    {
      "cell_type": "code",
      "metadata": {
        "colab_type": "code",
        "id": "aR5jRpDxwsFW",
        "colab": {}
      },
      "source": [
        "# function plot_digits\n",
        "# import numpy as np\n",
        "# import matplotlib as mpl\n",
        "def plot_digits(instances, images_per_row=10, **options):\n",
        "    size = 28\n",
        "    images_per_row = min(len(instances), images_per_row)\n",
        "    images = [instance.reshape(size,size) for instance in instances]\n",
        "    n_rows = (len(instances) - 1) // images_per_row + 1\n",
        "    row_images = []\n",
        "    n_empty = n_rows * images_per_row - len(instances)\n",
        "    images.append(np.zeros((size, size * n_empty)))\n",
        "    for row in range(n_rows):\n",
        "        rimages = images[row * images_per_row : (row + 1) * images_per_row]\n",
        "        print(len(rimages))\n",
        "        row_images.append(np.concatenate(rimages, axis=1))\n",
        "        print(len(row_images))\n",
        "    image_all = np.concatenate(row_images, axis=0)\n",
        "    print(image_all.shape)\n",
        "    plt.imshow(image_all, cmap = mpl.cm.binary, **options)\n",
        "    plt.axis(\"off\")"
      ],
      "execution_count": 0,
      "outputs": []
    },
    {
      "cell_type": "markdown",
      "metadata": {
        "colab_type": "text",
        "id": "cjLepZIixoMu"
      },
      "source": [
        "### Draw images of  reshaped ndata"
      ]
    },
    {
      "cell_type": "code",
      "metadata": {
        "colab_type": "code",
        "id": "8W54-4Mzyo4C",
        "colab": {}
      },
      "source": [
        "ndata[:34].shape"
      ],
      "execution_count": 0,
      "outputs": []
    },
    {
      "cell_type": "markdown",
      "metadata": {
        "id": "6-NYJ-1Kt7EG",
        "colab_type": "text"
      },
      "source": [
        "#### np.r_[], np.c_[], and concatenate()\n",
        "\n",
        "> [Python의 numpy 라이브러리에 있는 함수들을 이용해서 두 개의 배열(array)을 옆으로 붙이기, 배열을 위 아래로 붙이기](https://rfriend.tistory.com/352)"
      ]
    },
    {
      "cell_type": "code",
      "metadata": {
        "colab_type": "code",
        "id": "-hgxPNbTxSGF",
        "colab": {}
      },
      "source": [
        "plt.figure(figsize=(9,9))\n",
        "example_images = np.r_[ndata[:50]]\n",
        "plot_digits(ndata[:50], images_per_row=10)\n",
        "# plot_digits(example_images, images_per_row=10)\n",
        "\n",
        "plt.show()\n",
        "\n",
        "print(\"============================\")\n",
        "print(ndata[:50].shape)\n",
        "print(example_images.shape)\n",
        "print(type(example_images))"
      ],
      "execution_count": 0,
      "outputs": []
    },
    {
      "cell_type": "markdown",
      "metadata": {
        "colab_type": "text",
        "id": "T_Vlmu8X0hJ3"
      },
      "source": [
        "### 처음 숫자 50개 확인"
      ]
    },
    {
      "cell_type": "code",
      "metadata": {
        "colab_type": "code",
        "id": "sKmQUYZuysj1",
        "colab": {}
      },
      "source": [
        "target[:50].reshape(5,10)"
      ],
      "execution_count": 0,
      "outputs": []
    },
    {
      "cell_type": "markdown",
      "metadata": {
        "id": "pFuMg89QuknS",
        "colab_type": "text"
      },
      "source": [
        "\n",
        "\n",
        "---\n",
        "\n"
      ]
    },
    {
      "cell_type": "markdown",
      "metadata": {
        "id": "OSxddpthOdk-",
        "colab_type": "text"
      },
      "source": [
        "#### 테스트데이터 샘플을 로드하여 확인해보자."
      ]
    },
    {
      "cell_type": "markdown",
      "metadata": {
        "colab_type": "text",
        "id": "ScWdSg7o-D50"
      },
      "source": [
        "### Test data set"
      ]
    },
    {
      "cell_type": "code",
      "metadata": {
        "colab_type": "code",
        "id": "oTwRHz_f0V6V",
        "colab": {}
      },
      "source": [
        "ls sample_data"
      ],
      "execution_count": 0,
      "outputs": []
    },
    {
      "cell_type": "code",
      "metadata": {
        "colab_type": "code",
        "id": "8YMZmRNY-IPn",
        "colab": {}
      },
      "source": [
        "tdata = np.loadtxt(\"sample_data/mnist_test.csv\", delimiter=\",\")"
      ],
      "execution_count": 0,
      "outputs": []
    },
    {
      "cell_type": "code",
      "metadata": {
        "colab_type": "code",
        "id": "LuByKuNo-P-e",
        "colab": {}
      },
      "source": [
        "tdata.shape"
      ],
      "execution_count": 0,
      "outputs": []
    },
    {
      "cell_type": "code",
      "metadata": {
        "colab_type": "code",
        "id": "C2ytfBdj-UKf",
        "colab": {}
      },
      "source": [
        "# target of test data\n",
        "ty = tdata[:,0]\n",
        "ty"
      ],
      "execution_count": 0,
      "outputs": []
    },
    {
      "cell_type": "code",
      "metadata": {
        "colab_type": "code",
        "id": "Sk_0HDR7-kMf",
        "colab": {}
      },
      "source": [
        "# test data\n",
        "tX = tdata[:,1:]"
      ],
      "execution_count": 0,
      "outputs": []
    },
    {
      "cell_type": "code",
      "metadata": {
        "colab_type": "code",
        "id": "KZL7IgKJ-zlw",
        "colab": {}
      },
      "source": [
        "# Plot first 50 digits\n",
        "plt.figure(figsize=(9,9))\n",
        "example_images = np.r_[tX[:50]]  # Convert to numpy array\n",
        "plot_digits(example_images, images_per_row=10)\n",
        "\n",
        "plt.show()"
      ],
      "execution_count": 0,
      "outputs": []
    },
    {
      "cell_type": "code",
      "metadata": {
        "colab_type": "code",
        "id": "_jNsTUo5-7n3",
        "colab": {}
      },
      "source": [
        "ty[:50].reshape(5,10)"
      ],
      "execution_count": 0,
      "outputs": []
    },
    {
      "cell_type": "markdown",
      "metadata": {
        "id": "cH1tzOtZLN66",
        "colab_type": "text"
      },
      "source": [
        "\n",
        "\n",
        "---\n",
        "\n"
      ]
    },
    {
      "cell_type": "markdown",
      "metadata": {
        "id": "ZXsWSLclLaIx",
        "colab_type": "text"
      },
      "source": [
        "#### train data set를 80% 트래이닝데이터와 20% 검증(validation)데이터로 분리하기\n",
        "- train data set : ndata  (20000, 784)\n",
        "- sklearn module 사용"
      ]
    },
    {
      "cell_type": "code",
      "metadata": {
        "id": "Pjv26CEaMru1",
        "colab_type": "code",
        "colab": {}
      },
      "source": [
        "# sklearn module: Python machine learning\n",
        "from sklearn.model_selection import train_test_split"
      ],
      "execution_count": 0,
      "outputs": []
    },
    {
      "cell_type": "code",
      "metadata": {
        "id": "Mcp58JFPNRsX",
        "colab_type": "code",
        "colab": {}
      },
      "source": [
        "ndata.shape,ndata.shape[0]\n"
      ],
      "execution_count": 0,
      "outputs": []
    },
    {
      "cell_type": "code",
      "metadata": {
        "id": "NkMSwgIeLJrS",
        "colab_type": "code",
        "colab": {}
      },
      "source": [
        "def train_val_split(data, val_pct=0.2):\n",
        "    size = data.shape[0]\n",
        "    train, val = train_test_split(data, test_size=val_pct)\n",
        "    return train, val"
      ],
      "execution_count": 0,
      "outputs": []
    },
    {
      "cell_type": "code",
      "metadata": {
        "id": "qCx6589XMjr-",
        "colab_type": "code",
        "colab": {}
      },
      "source": [
        "train, val = train_val_split(ndata)\n",
        "train.shape,val.shape\n",
        "\n",
        "# train_test_split(data, test_size=0.2)"
      ],
      "execution_count": 0,
      "outputs": []
    },
    {
      "cell_type": "markdown",
      "metadata": {
        "id": "pLm7P-VTZXMO",
        "colab_type": "text"
      },
      "source": [
        "#### 분리된 데이터를 딕셔너리로 관리"
      ]
    },
    {
      "cell_type": "code",
      "metadata": {
        "id": "D00al2BpYgcz",
        "colab_type": "code",
        "colab": {}
      },
      "source": [
        "dataset = dict()\n",
        "dataset[\"train\"], dataset[\"val\"] = train_val_split(ndata)"
      ],
      "execution_count": 0,
      "outputs": []
    },
    {
      "cell_type": "code",
      "metadata": {
        "id": "zDx3-169Yum5",
        "colab_type": "code",
        "colab": {}
      },
      "source": [
        "type(dataset[\"train\"]), type(dataset[\"val\"])"
      ],
      "execution_count": 0,
      "outputs": []
    },
    {
      "cell_type": "code",
      "metadata": {
        "id": "NTo7jKPLZLc1",
        "colab_type": "code",
        "colab": {}
      },
      "source": [
        "dataset[\"train\"].shape, dataset[\"val\"].shape"
      ],
      "execution_count": 0,
      "outputs": []
    },
    {
      "cell_type": "markdown",
      "metadata": {
        "id": "qEyq7sW8ZkBT",
        "colab_type": "text"
      },
      "source": [
        "\n",
        "\n",
        "---\n",
        "\n"
      ]
    },
    {
      "cell_type": "markdown",
      "metadata": {
        "id": "3TiDMwXoMXoi",
        "colab_type": "text"
      },
      "source": [
        "#### train-val-test splitting (80%, 10%, 10%)"
      ]
    },
    {
      "cell_type": "code",
      "metadata": {
        "id": "V_gVq9zyMVCb",
        "colab_type": "code",
        "colab": {}
      },
      "source": [
        "def train_val_test_split(data, val_pct=0.1, test_pct=0.1):\n",
        "    size = data.shape[0]\n",
        "    val_pct = (val_pct * size) / (size * (1 - test_pct))\n",
        "    train_val, test = train_test_split(data, test_size=test_pct)\n",
        "    train, val = train_test_split(train_val, test_size=val_pct)\n",
        "    return train, val, test"
      ],
      "execution_count": 0,
      "outputs": []
    },
    {
      "cell_type": "markdown",
      "metadata": {
        "id": "lh00WaAIPjOh",
        "colab_type": "text"
      },
      "source": [
        "#### ndata를 60%,20%,20%의 train, val, test 로 분리하고 shape를 확인해보시오."
      ]
    },
    {
      "cell_type": "code",
      "metadata": {
        "id": "io2Gvc2IPuxP",
        "colab_type": "code",
        "colab": {}
      },
      "source": [
        "train,val,test = train_val_test_split(ndata, val_pct=0.2, test_pct=0.2)"
      ],
      "execution_count": 0,
      "outputs": []
    },
    {
      "cell_type": "code",
      "metadata": {
        "id": "cGG8q3lgPGFy",
        "colab_type": "code",
        "colab": {}
      },
      "source": [
        "train.shape, val.shape, test.shape"
      ],
      "execution_count": 0,
      "outputs": []
    },
    {
      "cell_type": "code",
      "metadata": {
        "id": "Xca8RMVvwE78",
        "colab_type": "code",
        "colab": {}
      },
      "source": [
        ""
      ],
      "execution_count": 0,
      "outputs": []
    }
  ]
}