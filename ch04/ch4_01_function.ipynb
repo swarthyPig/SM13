{
  "nbformat": 4,
  "nbformat_minor": 0,
  "metadata": {
    "colab": {
      "name": "ch4_01_function.ipynb",
      "provenance": [],
      "collapsed_sections": [],
      "include_colab_link": true
    },
    "kernelspec": {
      "name": "python3",
      "display_name": "Python 3"
    }
  },
  "cells": [
    {
      "cell_type": "markdown",
      "metadata": {
        "id": "view-in-github",
        "colab_type": "text"
      },
      "source": [
        "<a href=\"https://colab.research.google.com/github/swarthyPig/SM13/blob/master/ch04/ch4_01_function.ipynb\" target=\"_parent\"><img src=\"https://colab.research.google.com/assets/colab-badge.svg\" alt=\"Open In Colab\"/></a>"
      ]
    },
    {
      "cell_type": "markdown",
      "metadata": {
        "id": "-WydSiGJNtv6",
        "colab_type": "text"
      },
      "source": [
        "# 함수(function)"
      ]
    },
    {
      "cell_type": "markdown",
      "metadata": {
        "id": "Q6pRxumkOPkv",
        "colab_type": "text"
      },
      "source": [
        "## 함수란 무엇인가?\n",
        "\n",
        "### 입력값을 가지고 어떤 일을 수행한 다음에 \n",
        "### 그 결과물을 내어놓는 것"
      ]
    },
    {
      "cell_type": "markdown",
      "metadata": {
        "id": "4CgsBPtdOX0v",
        "colab_type": "text"
      },
      "source": [
        "## 함수를 사용하는 이유는 무엇일까?\n",
        "\n",
        "### 반복되는 부분을 함수로 전환.\n",
        "### 코딩을 모듈화"
      ]
    },
    {
      "cell_type": "markdown",
      "metadata": {
        "id": "Yw_yOx_iOfjn",
        "colab_type": "text"
      },
      "source": [
        "## 파이썬 함수의 구조"
      ]
    },
    {
      "cell_type": "code",
      "metadata": {
        "colab_type": "code",
        "id": "-OQ2sLzxbd4I",
        "colab": {}
      },
      "source": [
        "\"\"\"\n",
        "def 함수명(매개변수):\n",
        "    <수행할 문장1>\n",
        "    <수행할 문장2>\n",
        "    ...\n",
        "\"\"\""
      ],
      "execution_count": 0,
      "outputs": []
    },
    {
      "cell_type": "markdown",
      "metadata": {
        "id": "Qxv7-HkJO3h3",
        "colab_type": "text"
      },
      "source": [
        "### add() 함수를 정의"
      ]
    },
    {
      "cell_type": "code",
      "metadata": {
        "id": "jbWPJ3Z7O2bH",
        "colab_type": "code",
        "colab": {}
      },
      "source": [
        "def add(a, b): \n",
        "    return a + b"
      ],
      "execution_count": 0,
      "outputs": []
    },
    {
      "cell_type": "markdown",
      "metadata": {
        "id": "YC7ZNTz3O8BX",
        "colab_type": "text"
      },
      "source": [
        "### add() 함수를 사용"
      ]
    },
    {
      "cell_type": "code",
      "metadata": {
        "id": "EdnQLiJpO_Df",
        "colab_type": "code",
        "colab": {
          "base_uri": "https://localhost:8080/",
          "height": 53
        },
        "outputId": "4d8bf38c-ad2f-433c-c866-9da49d67ff08"
      },
      "source": [
        "a=3\n",
        "b=4\n",
        "c=add(a,b)\n",
        "\n",
        "print(c)\n",
        "\n",
        "x=[1,2,3]\n",
        "y=[4,5,6]\n",
        "z=x+y\n",
        "\n",
        "print(z)"
      ],
      "execution_count": 4,
      "outputs": [
        {
          "output_type": "stream",
          "text": [
            "7\n",
            "[1, 2, 3, 4, 5, 6]\n"
          ],
          "name": "stdout"
        }
      ]
    },
    {
      "cell_type": "markdown",
      "metadata": {
        "id": "xoxntCfYPFuI",
        "colab_type": "text"
      },
      "source": [
        "## 매개변수와 인수의 차이를 이해하자!\n",
        "\n",
        "### 매개변수는 함수에 입력으로 전달된 값을 받는 변수\n",
        "### 인수는 함수를 호출할 때 전달하는 입력값을 의미"
      ]
    },
    {
      "cell_type": "markdown",
      "metadata": {
        "id": "cp1ljKpZPRQP",
        "colab_type": "text"
      },
      "source": [
        "### add() 함수에서의 매개변수와 인수"
      ]
    },
    {
      "cell_type": "code",
      "metadata": {
        "id": "vDuD00ScPTJP",
        "colab_type": "code",
        "colab": {}
      },
      "source": [
        "\"\"\"\n",
        "def add(a, b):  # a, b는 매개변수\n",
        "    return a+b\n",
        "\n",
        "print(add(3, 4))  # 3, 4는 인수\n",
        "\n",
        "\"\"\""
      ],
      "execution_count": 0,
      "outputs": []
    },
    {
      "cell_type": "markdown",
      "metadata": {
        "id": "LxcUKv_lPVrv",
        "colab_type": "text"
      },
      "source": [
        "## 입력값과 결괏값에 따른 함수의 형태\n",
        "\n",
        "### 입력값 ---> 함수 ----> 결괏값\n",
        "### 일반적인 함수\n",
        "### 입력값과 결괏값이 있는 함수"
      ]
    },
    {
      "cell_type": "code",
      "metadata": {
        "id": "TrtDNEQSPd33",
        "colab_type": "code",
        "colab": {}
      },
      "source": [
        "\"\"\"\n",
        "def 함수이름(매개변수):\n",
        "    <수행할 문장>\n",
        "    ...\n",
        "    return 결과값\n",
        "\"\"\""
      ],
      "execution_count": 0,
      "outputs": []
    },
    {
      "cell_type": "code",
      "metadata": {
        "id": "nvChGJkoPgFv",
        "colab_type": "code",
        "colab": {}
      },
      "source": [
        "def add2(a, b): \n",
        "    \n",
        "    result = a + b \n",
        "    \n",
        "    return result"
      ],
      "execution_count": 0,
      "outputs": []
    },
    {
      "cell_type": "markdown",
      "metadata": {
        "id": "OSwO1QLpQO1_",
        "colab_type": "text"
      },
      "source": [
        "### 입력값과 결괏값이 있는 함수의 사용법\n",
        "### 결괏값을 받을 변수 = 함수이름(입력인수1, 입력인수2, ...)"
      ]
    },
    {
      "cell_type": "code",
      "metadata": {
        "id": "1S7GYH2hc1DI",
        "colab_type": "code",
        "colab": {
          "base_uri": "https://localhost:8080/",
          "height": 35
        },
        "outputId": "7a68a954-f3f4-46eb-9a57-49e84d6f12cb"
      },
      "source": [
        "a = add2(3, 4)\n",
        "print(a)"
      ],
      "execution_count": 6,
      "outputs": [
        {
          "output_type": "stream",
          "text": [
            "7\n"
          ],
          "name": "stdout"
        }
      ]
    },
    {
      "cell_type": "markdown",
      "metadata": {
        "id": "6jj5cCjnQVtv",
        "colab_type": "text"
      },
      "source": [
        "### 입력값이 없는 함수"
      ]
    },
    {
      "cell_type": "code",
      "metadata": {
        "id": "jlv_zSXVQW94",
        "colab_type": "code",
        "colab": {}
      },
      "source": [
        "def say(): \n",
        "    return 'Hi'"
      ],
      "execution_count": 0,
      "outputs": []
    },
    {
      "cell_type": "markdown",
      "metadata": {
        "id": "Ja0Y8X0TQaJX",
        "colab_type": "text"
      },
      "source": [
        "### 입력값이 없는 함수의 사용법\n",
        "### 결괏값을 받을 변수 = 함수이름()"
      ]
    },
    {
      "cell_type": "code",
      "metadata": {
        "id": "e4Bn8xY9QcxO",
        "colab_type": "code",
        "colab": {
          "base_uri": "https://localhost:8080/",
          "height": 35
        },
        "outputId": "639a2068-2085-420e-faa1-c20e2b4a2432"
      },
      "source": [
        "a = say()\n",
        "print(a)"
      ],
      "execution_count": 8,
      "outputs": [
        {
          "output_type": "stream",
          "text": [
            "Hi\n"
          ],
          "name": "stdout"
        }
      ]
    },
    {
      "cell_type": "markdown",
      "metadata": {
        "id": "1ASXy5sOQkl_",
        "colab_type": "text"
      },
      "source": [
        "### 결괏값이 없는 함수"
      ]
    },
    {
      "cell_type": "code",
      "metadata": {
        "id": "KCncplgQQltX",
        "colab_type": "code",
        "colab": {}
      },
      "source": [
        "def add3(a, b): \n",
        "    print(\"%d, %d의 합은 %d입니다.\" % (a, b, a+b))"
      ],
      "execution_count": 0,
      "outputs": []
    },
    {
      "cell_type": "markdown",
      "metadata": {
        "id": "Ey7-strAQoGX",
        "colab_type": "text"
      },
      "source": [
        "### 결괏값이 없는 함수의 사용법\n",
        "### 함수이름(입력인수1, 입력인수2, ...)"
      ]
    },
    {
      "cell_type": "code",
      "metadata": {
        "id": "4RruEr65Qq6f",
        "colab_type": "code",
        "colab": {
          "base_uri": "https://localhost:8080/",
          "height": 35
        },
        "outputId": "2d661f1d-a1cb-4f3c-876f-322a619a8424"
      },
      "source": [
        "add3(3, 4)"
      ],
      "execution_count": 11,
      "outputs": [
        {
          "output_type": "stream",
          "text": [
            "3, 4의 합은 7입니다.\n"
          ],
          "name": "stdout"
        }
      ]
    },
    {
      "cell_type": "markdown",
      "metadata": {
        "id": "4O8ccFN_Qr1Q",
        "colab_type": "text"
      },
      "source": [
        "### 다음 결과는 무엇인가?"
      ]
    },
    {
      "cell_type": "code",
      "metadata": {
        "id": "MT6e41YUQtvg",
        "colab_type": "code",
        "colab": {
          "base_uri": "https://localhost:8080/",
          "height": 53
        },
        "outputId": "d6cee523-0486-4058-bf73-b0daf01ff2de"
      },
      "source": [
        "a = add3(3, 4)\n",
        "print(a)"
      ],
      "execution_count": 12,
      "outputs": [
        {
          "output_type": "stream",
          "text": [
            "3, 4의 합은 7입니다.\n",
            "None\n"
          ],
          "name": "stdout"
        }
      ]
    },
    {
      "cell_type": "markdown",
      "metadata": {
        "id": "lOLQlshbQu3I",
        "colab_type": "text"
      },
      "source": [
        "### 입력값도 결괏값도 없는 함수"
      ]
    },
    {
      "cell_type": "code",
      "metadata": {
        "id": "104ESnl9Qwhg",
        "colab_type": "code",
        "colab": {}
      },
      "source": [
        "def say2(): \n",
        "    print('Hi')"
      ],
      "execution_count": 0,
      "outputs": []
    },
    {
      "cell_type": "markdown",
      "metadata": {
        "id": "FCMH8fadQzBf",
        "colab_type": "text"
      },
      "source": [
        "### 매개변수의 값을 지정하여 호출하기"
      ]
    },
    {
      "cell_type": "code",
      "metadata": {
        "id": "-TwF4-DrQ0z4",
        "colab_type": "code",
        "colab": {
          "base_uri": "https://localhost:8080/",
          "height": 35
        },
        "outputId": "49f17379-b8be-4467-8846-b1d3a76799c7"
      },
      "source": [
        "def add4(a, b):\n",
        "    return a+b\n",
        "\n",
        "\n",
        "result = add4(a=3, b=7)  # a에 3, b에 7을 전달\n",
        "print(result)"
      ],
      "execution_count": 14,
      "outputs": [
        {
          "output_type": "stream",
          "text": [
            "10\n"
          ],
          "name": "stdout"
        }
      ]
    },
    {
      "cell_type": "markdown",
      "metadata": {
        "id": "UIhRvjbtQ2GI",
        "colab_type": "text"
      },
      "source": [
        "### 매개변수의 순서에 상관없이 사용"
      ]
    },
    {
      "cell_type": "code",
      "metadata": {
        "id": "CK1mcU49Q3nn",
        "colab_type": "code",
        "colab": {
          "base_uri": "https://localhost:8080/",
          "height": 35
        },
        "outputId": "9cc4a2b8-c141-4ef2-c2f8-62e4cedadd7a"
      },
      "source": [
        "result = add4(b=5, a=3)  # b에 5, a에 3을 전달\n",
        "print(result)"
      ],
      "execution_count": 15,
      "outputs": [
        {
          "output_type": "stream",
          "text": [
            "8\n"
          ],
          "name": "stdout"
        }
      ]
    },
    {
      "cell_type": "markdown",
      "metadata": {
        "id": "VkiRFIejQ5BA",
        "colab_type": "text"
      },
      "source": [
        "### 입력값이 몇 개가 될지 모를 때는 어떻게 해야 할까?"
      ]
    },
    {
      "cell_type": "code",
      "metadata": {
        "id": "fSZgura2Q8So",
        "colab_type": "code",
        "colab": {
          "base_uri": "https://localhost:8080/",
          "height": 35
        },
        "outputId": "4671acb7-de7f-499f-c323-c5518de9ff9a"
      },
      "source": [
        "\"\"\"\n",
        "def 함수이름(*매개변수): \n",
        "    <수행할 문장>\n",
        "    ...\n",
        "\"\"\""
      ],
      "execution_count": 16,
      "outputs": [
        {
          "output_type": "execute_result",
          "data": {
            "text/plain": [
              "'\\ndef 함수이름(*매개변수): \\n    <수행할 문장>\\n    ...\\n'"
            ]
          },
          "metadata": {
            "tags": []
          },
          "execution_count": 16
        }
      ]
    },
    {
      "cell_type": "code",
      "metadata": {
        "id": "il5S0t_sQ8fX",
        "colab_type": "code",
        "colab": {}
      },
      "source": [
        "def add_many(*args):\n",
        "    result = 0 \n",
        "    for i in args: \n",
        "        result = result + i \n",
        "    return result "
      ],
      "execution_count": 0,
      "outputs": []
    },
    {
      "cell_type": "code",
      "metadata": {
        "id": "pgaWcDAVQ-ZP",
        "colab_type": "code",
        "colab": {
          "base_uri": "https://localhost:8080/",
          "height": 53
        },
        "outputId": "30d24426-af2e-4a95-acbe-0f6bccccb9f3"
      },
      "source": [
        "print(add_many(1, 2, 3))\n",
        "print(add_many(1, 2, 3, 4, 5, 6, 7, 8, 9))"
      ],
      "execution_count": 20,
      "outputs": [
        {
          "output_type": "stream",
          "text": [
            "6\n",
            "45\n"
          ],
          "name": "stdout"
        }
      ]
    },
    {
      "cell_type": "code",
      "metadata": {
        "id": "HAux62ZjQ_H4",
        "colab_type": "code",
        "colab": {
          "base_uri": "https://localhost:8080/",
          "height": 35
        },
        "outputId": "b76e94e4-089b-4d0a-ce5b-b5679dbbfca9"
      },
      "source": [
        "result = add_many(1,2,3,4,5,6,7,8,9,10)\n",
        "print(result)"
      ],
      "execution_count": 21,
      "outputs": [
        {
          "output_type": "stream",
          "text": [
            "55\n"
          ],
          "name": "stdout"
        }
      ]
    },
    {
      "cell_type": "markdown",
      "metadata": {
        "id": "1i6SXh7xRASQ",
        "colab_type": "text"
      },
      "source": [
        "### 여러 개의 입력을 처리하는 함수(*args)"
      ]
    },
    {
      "cell_type": "code",
      "metadata": {
        "id": "Pk76-YnKRCBw",
        "colab_type": "code",
        "colab": {}
      },
      "source": [
        "def add_mul(choice, *args):\n",
        "    if choice == \"add\":\n",
        "        result = 0 \n",
        "        for i in args:\n",
        "            result = result + i \n",
        "    elif choice == \"mul\":\n",
        "        result = 1 \n",
        "        for i in args: \n",
        "            result = result * i \n",
        "    return result "
      ],
      "execution_count": 0,
      "outputs": []
    },
    {
      "cell_type": "markdown",
      "metadata": {
        "id": "EHt4-hDHRD7g",
        "colab_type": "text"
      },
      "source": [
        "### add"
      ]
    },
    {
      "cell_type": "code",
      "metadata": {
        "id": "aHX6cFTKRFeA",
        "colab_type": "code",
        "colab": {
          "base_uri": "https://localhost:8080/",
          "height": 35
        },
        "outputId": "4f120d40-21ef-4bb8-b3d4-953c77bec005"
      },
      "source": [
        "result = add_mul('add', 1,2,3,4,5)\n",
        "print(result)"
      ],
      "execution_count": 23,
      "outputs": [
        {
          "output_type": "stream",
          "text": [
            "15\n"
          ],
          "name": "stdout"
        }
      ]
    },
    {
      "cell_type": "markdown",
      "metadata": {
        "id": "4eyY-d-6RGV4",
        "colab_type": "text"
      },
      "source": [
        "### multiply"
      ]
    },
    {
      "cell_type": "code",
      "metadata": {
        "id": "8IJVf1u8dSLh",
        "colab_type": "code",
        "colab": {
          "base_uri": "https://localhost:8080/",
          "height": 35
        },
        "outputId": "069ba1e6-8bd7-4b1a-8590-5758908caed4"
      },
      "source": [
        "result = add_mul('mul', 1,2,3,4,5)\n",
        "print(result)"
      ],
      "execution_count": 24,
      "outputs": [
        {
          "output_type": "stream",
          "text": [
            "120\n"
          ],
          "name": "stdout"
        }
      ]
    },
    {
      "cell_type": "markdown",
      "metadata": {
        "id": "LophRZmWRLJQ",
        "colab_type": "text"
      },
      "source": [
        "### 키워드 파라미터 kwargs"
      ]
    },
    {
      "cell_type": "code",
      "metadata": {
        "id": "Ttt8KQ-RRRk4",
        "colab_type": "code",
        "colab": {}
      },
      "source": [
        "def print_kwargs(**kwargs):\n",
        "    print(kwargs)"
      ],
      "execution_count": 0,
      "outputs": []
    },
    {
      "cell_type": "markdown",
      "metadata": {
        "id": "tsg3OUN6RUpq",
        "colab_type": "text"
      },
      "source": [
        "### print_kwargs 함수는 매개변수 kwargs를 출력하는 함수"
      ]
    },
    {
      "cell_type": "code",
      "metadata": {
        "id": "w2sUfcXpRVwY",
        "colab_type": "code",
        "colab": {
          "base_uri": "https://localhost:8080/",
          "height": 53
        },
        "outputId": "23c22748-e50f-48f4-b94f-8a752aa5f973"
      },
      "source": [
        "print_kwargs(a=1)\n",
        "\n",
        "print_kwargs(name='foo', age=3)\n",
        "\n",
        "#\n",
        "# **kwargs처럼 매개변수 이름 앞에 **을 붙이면 매개변수 \n",
        "# kwargs는 딕셔너리가 되고 모든 key=value 형태의 결괏값이 \n",
        "# 그 딕셔너리에 저장된다.\n",
        "#"
      ],
      "execution_count": 26,
      "outputs": [
        {
          "output_type": "stream",
          "text": [
            "{'a': 1}\n",
            "{'name': 'foo', 'age': 3}\n"
          ],
          "name": "stdout"
        }
      ]
    },
    {
      "cell_type": "markdown",
      "metadata": {
        "id": "vwA1jOlsRav5",
        "colab_type": "text"
      },
      "source": [
        "### 함수의 결괏값은 언제나 하나"
      ]
    },
    {
      "cell_type": "code",
      "metadata": {
        "id": "M2bsHuygReJg",
        "colab_type": "code",
        "colab": {}
      },
      "source": [
        "def add_and_mul(a,b): \n",
        "    return a+b, a*b"
      ],
      "execution_count": 0,
      "outputs": []
    },
    {
      "cell_type": "markdown",
      "metadata": {
        "id": "w_YuLNEiRg5o",
        "colab_type": "text"
      },
      "source": [
        "### add_and_mul() 사용 1."
      ]
    },
    {
      "cell_type": "code",
      "metadata": {
        "id": "kLTc6KywRiT6",
        "colab_type": "code",
        "colab": {
          "base_uri": "https://localhost:8080/",
          "height": 35
        },
        "outputId": "8484cc2d-eac2-4fa6-ab6b-e635d7d5f9e3"
      },
      "source": [
        "result = add_and_mul(3,4)\n",
        "\n",
        "print(result)"
      ],
      "execution_count": 28,
      "outputs": [
        {
          "output_type": "stream",
          "text": [
            "(7, 12)\n"
          ],
          "name": "stdout"
        }
      ]
    },
    {
      "cell_type": "markdown",
      "metadata": {
        "id": "bGKb24v1RjRg",
        "colab_type": "text"
      },
      "source": [
        "### add_and_mul() 사용 2."
      ]
    },
    {
      "cell_type": "code",
      "metadata": {
        "id": "HdbRWZVERlIg",
        "colab_type": "code",
        "colab": {
          "base_uri": "https://localhost:8080/",
          "height": 35
        },
        "outputId": "71f1eace-22db-4528-d9b6-aa47b36dc465"
      },
      "source": [
        "result1, result2 = add_and_mul(3, 4)\n",
        "\n",
        "result1, result2"
      ],
      "execution_count": 29,
      "outputs": [
        {
          "output_type": "execute_result",
          "data": {
            "text/plain": [
              "(7, 12)"
            ]
          },
          "metadata": {
            "tags": []
          },
          "execution_count": 29
        }
      ]
    },
    {
      "cell_type": "markdown",
      "metadata": {
        "id": "8MBfd5EVRmlY",
        "colab_type": "text"
      },
      "source": [
        "### 잘못된 함수"
      ]
    },
    {
      "cell_type": "code",
      "metadata": {
        "id": "Lqyk1TjKRoUA",
        "colab_type": "code",
        "colab": {
          "base_uri": "https://localhost:8080/",
          "height": 35
        },
        "outputId": "522bca09-880c-4f2d-91cd-4208382de987"
      },
      "source": [
        "def add_and_mul2(a,b): \n",
        "    return a+b \n",
        "    #return a*b  # Not working!!\n",
        "    \n",
        "result = add_and_mul2(2, 3)\n",
        "print(result)"
      ],
      "execution_count": 30,
      "outputs": [
        {
          "output_type": "stream",
          "text": [
            "5\n"
          ],
          "name": "stdout"
        }
      ]
    },
    {
      "cell_type": "markdown",
      "metadata": {
        "id": "sUK_UzA6Rz1x",
        "colab_type": "text"
      },
      "source": [
        "### return 의 용도: 함수 실행 종료"
      ]
    },
    {
      "cell_type": "code",
      "metadata": {
        "id": "MEPnLFI2R1VI",
        "colab_type": "code",
        "colab": {
          "base_uri": "https://localhost:8080/",
          "height": 35
        },
        "outputId": "c9f7dbe0-e30c-4e35-e551-39bf3a01f4ad"
      },
      "source": [
        "def say_nick(nick): \n",
        "    if nick == \"바보\": \n",
        "        return \n",
        "    print(\"나의 별명은 %s 입니다.\" % nick)\n",
        "\n",
        "\n",
        "say_nick(\"홍길동\")\n",
        "say_nick(\"바보\")\n",
        "\n"
      ],
      "execution_count": 31,
      "outputs": [
        {
          "output_type": "stream",
          "text": [
            "나의 별명은 홍길동 입니다.\n"
          ],
          "name": "stdout"
        }
      ]
    },
    {
      "cell_type": "markdown",
      "metadata": {
        "id": "kjYo7ePBR2rw",
        "colab_type": "text"
      },
      "source": [
        "### 매개변수에 초깃값 미리 설정하기"
      ]
    },
    {
      "cell_type": "code",
      "metadata": {
        "id": "lxoH5lOpR5FI",
        "colab_type": "code",
        "colab": {
          "base_uri": "https://localhost:8080/",
          "height": 217
        },
        "outputId": "4eb9f8d1-70b7-41e2-aaaa-3aa8e7b6e8af"
      },
      "source": [
        "def say_myself(name, old, man=True): \n",
        "    print(\"나의 이름은 %s 입니다.\" % name) \n",
        "    print(\"나이는 %d살입니다.\" % old) \n",
        "    if man: \n",
        "        print(\"남자입니다.\")\n",
        "    else: \n",
        "        print(\"여자입니다.\")\n",
        "    \n",
        "\n",
        "say_myself(\"박응용\", 27)\n",
        "say_myself(\"박응용\", 27, True)\n",
        "\n",
        "say_myself(\"박응용\", 27, False)\n",
        "\n",
        "\"\"\"\n",
        "def say_myself2(name, man=True, old): \n",
        "    print(\"나의 이름은 %s 입니다.\" % name) \n",
        "    print(\"나이는 %d살입니다.\" % old) \n",
        "    if man: \n",
        "        print(\"남자입니다.\") \n",
        "    else:\n",
        "        print(\"여자입니다.\")\n",
        "    \n",
        "\n",
        "\n",
        "\"\"\"\n",
        "# 초깃값을 설정해 놓은 매개변수 뒤에 \n",
        "# 초깃값을 설정해 놓지 않은 매개변수는 사용할 수 없다\n",
        "# 초기화시키고 싶은 매개변수를 항상 뒤쪽에 놓는다."
      ],
      "execution_count": 32,
      "outputs": [
        {
          "output_type": "stream",
          "text": [
            "나의 이름은 박응용 입니다.\n",
            "나이는 27살입니다.\n",
            "남자입니다.\n",
            "나의 이름은 박응용 입니다.\n",
            "나이는 27살입니다.\n",
            "남자입니다.\n",
            "나의 이름은 박응용 입니다.\n",
            "나이는 27살입니다.\n",
            "여자입니다.\n"
          ],
          "name": "stdout"
        },
        {
          "output_type": "execute_result",
          "data": {
            "text/plain": [
              "'\\ndef say_myself2(name, man=True, old): \\n    print(\"나의 이름은 %s 입니다.\" % name) \\n    print(\"나이는 %d살입니다.\" % old) \\n    if man: \\n        print(\"남자입니다.\") \\n    else:\\n        print(\"여자입니다.\")\\n    \\n\\n\\n'"
            ]
          },
          "metadata": {
            "tags": []
          },
          "execution_count": 32
        }
      ]
    },
    {
      "cell_type": "markdown",
      "metadata": {
        "id": "YHiWtFe3SdM4",
        "colab_type": "text"
      },
      "source": [
        "### 함수 안에서 선언한 변수의 효력 범위\n",
        "\n",
        "### 전역변수\n",
        "### 지역 변수, 자동 변수"
      ]
    },
    {
      "cell_type": "code",
      "metadata": {
        "id": "CbMQF4bYSjUo",
        "colab_type": "code",
        "colab": {
          "base_uri": "https://localhost:8080/",
          "height": 53
        },
        "outputId": "77c258e7-8883-4af6-9d78-1c8980628d2d"
      },
      "source": [
        "a = 1\n",
        "def vartest(a):\n",
        "    a = a +1\n",
        "\n",
        "vartest(a)\n",
        "print(a)\n",
        "\n",
        "# vartest_error.py\n",
        "def vartest2(z):\n",
        "    z = z + 1\n",
        "\n",
        "vartest2(3)\n",
        "print(z)  # Error"
      ],
      "execution_count": 33,
      "outputs": [
        {
          "output_type": "stream",
          "text": [
            "1\n",
            "[1, 2, 3, 4, 5, 6]\n"
          ],
          "name": "stdout"
        }
      ]
    },
    {
      "cell_type": "markdown",
      "metadata": {
        "id": "glsSjGW6SlK4",
        "colab_type": "text"
      },
      "source": [
        "### 함수 안에서 함수 밖의 변수를 변경하는 방법\n",
        "\n",
        "### return 사용\n",
        "### global 변수 사용"
      ]
    },
    {
      "cell_type": "markdown",
      "metadata": {
        "id": "2OwLU6jWStNI",
        "colab_type": "text"
      },
      "source": [
        "### 1. return 사용하기"
      ]
    },
    {
      "cell_type": "code",
      "metadata": {
        "id": "1zYBkfWGSu1a",
        "colab_type": "code",
        "colab": {
          "base_uri": "https://localhost:8080/",
          "height": 35
        },
        "outputId": "09bef18b-35dd-4396-c724-5054015bc3ba"
      },
      "source": [
        "a = 1 \n",
        "def vartest3(a): \n",
        "    a = a +1 \n",
        "    return a\n",
        "\n",
        "a = vartest3(a) \n",
        "print(a)"
      ],
      "execution_count": 34,
      "outputs": [
        {
          "output_type": "stream",
          "text": [
            "2\n"
          ],
          "name": "stdout"
        }
      ]
    },
    {
      "cell_type": "markdown",
      "metadata": {
        "id": "JuFK0HNRSvyx",
        "colab_type": "text"
      },
      "source": [
        "### 2. global 명령어 사용하기"
      ]
    },
    {
      "cell_type": "code",
      "metadata": {
        "id": "GBWJZHQ8SwxC",
        "colab_type": "code",
        "colab": {
          "base_uri": "https://localhost:8080/",
          "height": 35
        },
        "outputId": "ddf13ae8-e96e-44ca-9667-3af2d995a19d"
      },
      "source": [
        "a = 1 \n",
        "def vartest4(): \n",
        "    global a \n",
        "    a = a+1\n",
        "\n",
        "vartest4() \n",
        "print(a)"
      ],
      "execution_count": 35,
      "outputs": [
        {
          "output_type": "stream",
          "text": [
            "2\n"
          ],
          "name": "stdout"
        }
      ]
    },
    {
      "cell_type": "markdown",
      "metadata": {
        "id": "ED6ziccRS2dg",
        "colab_type": "text"
      },
      "source": [
        "# lambda"
      ]
    },
    {
      "cell_type": "markdown",
      "metadata": {
        "id": "UFt-gIZdS6tI",
        "colab_type": "text"
      },
      "source": [
        "### lambda는 함수를 생성할 때 사용하는 예약어로 def와 동일한 역할을 한다. \n",
        "### 보통 함수를 한줄로 간결하게 만들 때 사용한다.\n",
        "\n",
        "### lambda 사용법\n",
        "\n",
        "### lambda 매개변수1, 매개변수2, ... : 매개변수를 이용한 표현식"
      ]
    },
    {
      "cell_type": "markdown",
      "metadata": {
        "id": "pQ9Y7X1lS_ig",
        "colab_type": "text"
      },
      "source": [
        "### lambda를 이용한 add 함수"
      ]
    },
    {
      "cell_type": "code",
      "metadata": {
        "id": "8hwOVEqlTBup",
        "colab_type": "code",
        "colab": {
          "base_uri": "https://localhost:8080/",
          "height": 35
        },
        "outputId": "13d47916-84a9-4840-f95f-b61e9fecbe25"
      },
      "source": [
        "add = lambda a, b: a+b\n",
        "\n",
        "result = add(3, 4)\n",
        "print(result)\n",
        "\n",
        "# lambda 예약어로 만든 함수는 return 명령어가 없어도 결괏값을 돌려준다."
      ],
      "execution_count": 36,
      "outputs": [
        {
          "output_type": "stream",
          "text": [
            "7\n"
          ],
          "name": "stdout"
        }
      ]
    },
    {
      "cell_type": "markdown",
      "metadata": {
        "id": "eHPfOMNgTEm4",
        "colab_type": "text"
      },
      "source": [
        "### lambda 함수의 응용"
      ]
    },
    {
      "cell_type": "code",
      "metadata": {
        "id": "1sBbX2DRTGKR",
        "colab_type": "code",
        "colab": {
          "base_uri": "https://localhost:8080/",
          "height": 35
        },
        "outputId": "969ecec0-4b57-4b33-cacf-e1b5309f1e79"
      },
      "source": [
        "models = ['K-3000', 'N-1000', 'T-2000', 'X-5000']\n",
        "sorted(models, key=lambda x: x[-4:])"
      ],
      "execution_count": 37,
      "outputs": [
        {
          "output_type": "execute_result",
          "data": {
            "text/plain": [
              "['N-1000', 'T-2000', 'K-3000', 'X-5000']"
            ]
          },
          "metadata": {
            "tags": []
          },
          "execution_count": 37
        }
      ]
    },
    {
      "cell_type": "markdown",
      "metadata": {
        "id": "lEnn7g8ATHNR",
        "colab_type": "text"
      },
      "source": [
        "### Author: swarthyPig\n",
        "## 파이썬 코드: ch4_01_function.py\n"
      ]
    }
  ]
}