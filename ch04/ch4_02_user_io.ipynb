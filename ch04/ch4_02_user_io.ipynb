{
  "nbformat": 4,
  "nbformat_minor": 0,
  "metadata": {
    "colab": {
      "name": "ch4_02_user_io.ipynb",
      "provenance": [],
      "collapsed_sections": [],
      "include_colab_link": true
    },
    "kernelspec": {
      "name": "python3",
      "display_name": "Python 3"
    }
  },
  "cells": [
    {
      "cell_type": "markdown",
      "metadata": {
        "id": "view-in-github",
        "colab_type": "text"
      },
      "source": [
        "<a href=\"https://colab.research.google.com/github/swarthyPig/SM13/blob/master/ch04/ch4_02_user_io.ipynb\" target=\"_parent\"><img src=\"https://colab.research.google.com/assets/colab-badge.svg\" alt=\"Open In Colab\"/></a>"
      ]
    },
    {
      "cell_type": "markdown",
      "metadata": {
        "id": "dRx9hNsETrSn",
        "colab_type": "text"
      },
      "source": [
        "# User IO"
      ]
    },
    {
      "cell_type": "markdown",
      "metadata": {
        "id": "bLHr-Z3sT75_",
        "colab_type": "text"
      },
      "source": [
        "### input의 사용"
      ]
    },
    {
      "cell_type": "code",
      "metadata": {
        "id": "b71RmfLQT9Xa",
        "colab_type": "code",
        "colab": {
          "base_uri": "https://localhost:8080/",
          "height": 53
        },
        "outputId": "adbb1208-c8d4-4e4f-d0b6-1c26e402f908"
      },
      "source": [
        "a = input()\n",
        "# Life is too short, you need python\n",
        "\n",
        "print(a)"
      ],
      "execution_count": 1,
      "outputs": [
        {
          "output_type": "stream",
          "text": [
            "Life is too short, you need python\n",
            "Life is too short, you need python\n"
          ],
          "name": "stdout"
        }
      ]
    },
    {
      "cell_type": "markdown",
      "metadata": {
        "id": "u45uyvAPUAJW",
        "colab_type": "text"
      },
      "source": [
        "### 입력 안내 문구를 이용한 input의 사용"
      ]
    },
    {
      "cell_type": "code",
      "metadata": {
        "id": "6vS7NiTIUZvX",
        "colab_type": "code",
        "colab": {
          "base_uri": "https://localhost:8080/",
          "height": 53
        },
        "outputId": "cae1b1cd-fef3-4f7c-a662-dc082a272a58"
      },
      "source": [
        "number = input(\"숫자를 입력하세요: \")\n",
        "\n",
        "print(number)"
      ],
      "execution_count": 2,
      "outputs": [
        {
          "output_type": "stream",
          "text": [
            "숫자를 입력하세요: 123\n",
            "123\n"
          ],
          "name": "stdout"
        }
      ]
    },
    {
      "cell_type": "markdown",
      "metadata": {
        "id": "oIPMo-aqUhsG",
        "colab_type": "text"
      },
      "source": [
        "### print의 사용"
      ]
    },
    {
      "cell_type": "code",
      "metadata": {
        "id": "khuWDsaeUlb3",
        "colab_type": "code",
        "colab": {
          "base_uri": "https://localhost:8080/",
          "height": 71
        },
        "outputId": "fce90d2f-2e3e-48ec-bf28-7488c0ae2d08"
      },
      "source": [
        "a = 123\n",
        "print(a)\n",
        "\n",
        "a = \"Python\"\n",
        "print(a)\n",
        "\n",
        "a = [1, 2, 3]\n",
        "print(a)\n"
      ],
      "execution_count": 3,
      "outputs": [
        {
          "output_type": "stream",
          "text": [
            "123\n",
            "Python\n",
            "[1, 2, 3]\n"
          ],
          "name": "stdout"
        }
      ]
    },
    {
      "cell_type": "markdown",
      "metadata": {
        "id": "GCLXGq6AUpvf",
        "colab_type": "text"
      },
      "source": [
        "### 큰따옴표(\\\")로 둘러싸인 문자열은 + 연산과 동일"
      ]
    },
    {
      "cell_type": "code",
      "metadata": {
        "id": "jqI2hT3kUsm_",
        "colab_type": "code",
        "colab": {
          "base_uri": "https://localhost:8080/",
          "height": 53
        },
        "outputId": "2eb4b4bf-1d99-4e02-b7fa-cae576bfc398"
      },
      "source": [
        "print(\"life\" \"is\" \"too short\")\n",
        "print(\"life\"+\"is\"+\"too short\")"
      ],
      "execution_count": 4,
      "outputs": [
        {
          "output_type": "stream",
          "text": [
            "lifeistoo short\n",
            "lifeistoo short\n"
          ],
          "name": "stdout"
        }
      ]
    },
    {
      "cell_type": "markdown",
      "metadata": {
        "id": "4QvLodDMUt2v",
        "colab_type": "text"
      },
      "source": [
        "### 문자열 띄어쓰기는 콤마로 한다"
      ]
    },
    {
      "cell_type": "code",
      "metadata": {
        "id": "pqvIHNZ7UyMx",
        "colab_type": "code",
        "colab": {
          "base_uri": "https://localhost:8080/",
          "height": 35
        },
        "outputId": "9983e2fe-32d6-4bef-8717-2b24870455ed"
      },
      "source": [
        "print(\"life\", \"is\", \"too short\")"
      ],
      "execution_count": 5,
      "outputs": [
        {
          "output_type": "stream",
          "text": [
            "life is too short\n"
          ],
          "name": "stdout"
        }
      ]
    },
    {
      "cell_type": "markdown",
      "metadata": {
        "id": "fd_TwCEoU1B_",
        "colab_type": "text"
      },
      "source": [
        "### 한 줄에 결괏값 출력하기"
      ]
    },
    {
      "cell_type": "code",
      "metadata": {
        "id": "lXy8SGjqU2u_",
        "colab_type": "code",
        "colab": {
          "base_uri": "https://localhost:8080/",
          "height": 35
        },
        "outputId": "cce875de-17f6-4ec2-f09f-f7a0c2d74c87"
      },
      "source": [
        "for i in range(10):\n",
        "    print(i, end=' ')\n"
      ],
      "execution_count": 6,
      "outputs": [
        {
          "output_type": "stream",
          "text": [
            "0 1 2 3 4 5 6 7 8 9 "
          ],
          "name": "stdout"
        }
      ]
    },
    {
      "cell_type": "markdown",
      "metadata": {
        "id": "XWIinzgVU3wv",
        "colab_type": "text"
      },
      "source": [
        "### Author: swarthyPig\n",
        "### 파이썬 코드: ch4_02_user_io.py"
      ]
    }
  ]
}