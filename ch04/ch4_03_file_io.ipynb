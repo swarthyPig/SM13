{
  "nbformat": 4,
  "nbformat_minor": 0,
  "metadata": {
    "colab": {
      "name": "ch4_03_file_io.ipynb",
      "provenance": [],
      "collapsed_sections": [],
      "include_colab_link": true
    },
    "kernelspec": {
      "name": "python3",
      "display_name": "Python 3"
    }
  },
  "cells": [
    {
      "cell_type": "markdown",
      "metadata": {
        "id": "view-in-github",
        "colab_type": "text"
      },
      "source": [
        "<a href=\"https://colab.research.google.com/github/swarthyPig/SM13/blob/master/ch04/ch4_03_file_io.ipynb\" target=\"_parent\"><img src=\"https://colab.research.google.com/assets/colab-badge.svg\" alt=\"Open In Colab\"/></a>"
      ]
    },
    {
      "cell_type": "markdown",
      "metadata": {
        "id": "e4B1DTXQVcXX",
        "colab_type": "text"
      },
      "source": [
        "# File IO"
      ]
    },
    {
      "cell_type": "markdown",
      "metadata": {
        "id": "_dnACcf4Vf5u",
        "colab_type": "text"
      },
      "source": [
        "### 파일 쓰기(생성하기)"
      ]
    },
    {
      "cell_type": "markdown",
      "metadata": {
        "id": "x-2wWNNsV2JW",
        "colab_type": "text"
      },
      "source": [
        "### 출력 파일의 한글이 깨지면\n",
        "### 파일 > 기본설정 > 설정 > Files: Auto Guess Encoding 을 지정(check)"
      ]
    },
    {
      "cell_type": "markdown",
      "metadata": {
        "id": "vWZZDMdQVkI-",
        "colab_type": "text"
      },
      "source": [
        "### 파일 객체 = open(파일 이름, 파일 열기 모드)\n",
        "\n",
        "### 파일열기모드\n",
        "### r\t읽기모드 - 파일을 읽기만 할 때 사용\n",
        "### w\t쓰기모드 - 파일에 내용을 쓸 때 사용\n",
        "### a\t추가모드 - 파일의 마지막에 새로운 내용을 추가 시킬 때 사용"
      ]
    },
    {
      "cell_type": "code",
      "metadata": {
        "id": "B686n2rqVocG",
        "colab_type": "code",
        "colab": {
          "base_uri": "https://localhost:8080/",
          "height": 35
        },
        "outputId": "26da4d06-5947-4c5a-fc10-58df35dc64f0"
      },
      "source": [
        "f = open(\"새파일.txt\", \"w\")\n",
        "f.close()\n",
        "# 파일이 어디에 만들어졌는 지 확인하시오!!!\n",
        "\n",
        "# 다른 폴더에 파일 생성\n",
        "\"\"\"\n",
        "f = open(\"C:/doit/새파일.txt\", 'w')\n",
        "f.close()\n",
        "\"\"\""
      ],
      "execution_count": 3,
      "outputs": [
        {
          "output_type": "execute_result",
          "data": {
            "text/plain": [
              "'\\nf = open(\"C:/doit/새파일.txt\", \\'w\\')\\nf.close()\\n'"
            ]
          },
          "metadata": {
            "tags": []
          },
          "execution_count": 3
        }
      ]
    },
    {
      "cell_type": "markdown",
      "metadata": {
        "id": "h77xkW2nVqDP",
        "colab_type": "text"
      },
      "source": [
        "### 파일을 쓰기 모드로 열어 출력값 적기\n",
        "\n",
        "### 프로그램의 출력값을 파일에 직접 써 보자."
      ]
    },
    {
      "cell_type": "markdown",
      "metadata": {
        "id": "UFtUfwjgVuLI",
        "colab_type": "text"
      },
      "source": [
        "### 모니터에 출력"
      ]
    },
    {
      "cell_type": "code",
      "metadata": {
        "id": "ocj0P4VIVvk_",
        "colab_type": "code",
        "colab": {
          "base_uri": "https://localhost:8080/",
          "height": 377
        },
        "outputId": "e3cd8745-9db0-461b-960c-5df9fcb2152e"
      },
      "source": [
        "for i in range(1, 11):\n",
        "    data = \"%d번째 줄입니다.\\n\" % i\n",
        "    print(data)"
      ],
      "execution_count": 1,
      "outputs": [
        {
          "output_type": "stream",
          "text": [
            "1번째 줄입니다.\n",
            "\n",
            "2번째 줄입니다.\n",
            "\n",
            "3번째 줄입니다.\n",
            "\n",
            "4번째 줄입니다.\n",
            "\n",
            "5번째 줄입니다.\n",
            "\n",
            "6번째 줄입니다.\n",
            "\n",
            "7번째 줄입니다.\n",
            "\n",
            "8번째 줄입니다.\n",
            "\n",
            "9번째 줄입니다.\n",
            "\n",
            "10번째 줄입니다.\n",
            "\n"
          ],
          "name": "stdout"
        }
      ]
    },
    {
      "cell_type": "markdown",
      "metadata": {
        "id": "Z94tMt1YVwO2",
        "colab_type": "text"
      },
      "source": [
        "### 파일에 기록(출력)"
      ]
    },
    {
      "cell_type": "code",
      "metadata": {
        "id": "j6XzYAJ6Vyq-",
        "colab_type": "code",
        "colab": {}
      },
      "source": [
        "# writedata.py\n",
        "f = open(\"./새파일.txt\", \"w\")\n",
        "for i in range(1, 11):\n",
        "    data = \"%d번째 줄입니다.\\n\" % i\n",
        "    f.write(data)\n",
        "\n",
        "\n",
        "f.close()"
      ],
      "execution_count": 0,
      "outputs": []
    },
    {
      "cell_type": "markdown",
      "metadata": {
        "id": "ztCuOZEJV5V2",
        "colab_type": "text"
      },
      "source": [
        "### 파일 읽기\n",
        "\n",
        "### 파일 객체 = open(파일 이름, 파일 열기 모드)\n",
        "\n",
        "### 파일읽기\n",
        "### readline() 함수 이용하기\n",
        "### readlines 함수 사용하기\n",
        "### read 함수 사용하기"
      ]
    },
    {
      "cell_type": "markdown",
      "metadata": {
        "id": "emooTZGCWE23",
        "colab_type": "text"
      },
      "source": [
        "### 1. readline() 함수"
      ]
    },
    {
      "cell_type": "code",
      "metadata": {
        "id": "YIrCTfiPWIn3",
        "colab_type": "code",
        "colab": {
          "base_uri": "https://localhost:8080/",
          "height": 53
        },
        "outputId": "510a2c0a-17c1-4332-c7e2-657322db9023"
      },
      "source": [
        "# readline_test.py\n",
        "f = open(\"새파일.txt\", \"r\")\n",
        "line = f.readline()\n",
        "print(line)\n",
        "f.close()"
      ],
      "execution_count": 5,
      "outputs": [
        {
          "output_type": "stream",
          "text": [
            "1번째 줄입니다.\n",
            "\n"
          ],
          "name": "stdout"
        }
      ]
    },
    {
      "cell_type": "markdown",
      "metadata": {
        "id": "vp51nV4FWKV2",
        "colab_type": "text"
      },
      "source": [
        "## readline_all.py"
      ]
    },
    {
      "cell_type": "code",
      "metadata": {
        "id": "EkcdlUSwWPqG",
        "colab_type": "code",
        "colab": {
          "base_uri": "https://localhost:8080/",
          "height": 377
        },
        "outputId": "268c646b-5cb5-4135-8b50-a6d5300b078c"
      },
      "source": [
        "f = open(\"새파일.txt\", \"r\")\n",
        "while True:\n",
        "    line = f.readline()\n",
        "    if not line:\n",
        "        break\n",
        "    print(line)\n",
        "f.close()"
      ],
      "execution_count": 6,
      "outputs": [
        {
          "output_type": "stream",
          "text": [
            "1번째 줄입니다.\n",
            "\n",
            "2번째 줄입니다.\n",
            "\n",
            "3번째 줄입니다.\n",
            "\n",
            "4번째 줄입니다.\n",
            "\n",
            "5번째 줄입니다.\n",
            "\n",
            "6번째 줄입니다.\n",
            "\n",
            "7번째 줄입니다.\n",
            "\n",
            "8번째 줄입니다.\n",
            "\n",
            "9번째 줄입니다.\n",
            "\n",
            "10번째 줄입니다.\n",
            "\n"
          ],
          "name": "stdout"
        }
      ]
    },
    {
      "cell_type": "markdown",
      "metadata": {
        "id": "tnRzzx63WN_X",
        "colab_type": "text"
      },
      "source": [
        "### 사용자 입력을 이용한 화면 출력"
      ]
    },
    {
      "cell_type": "code",
      "metadata": {
        "id": "_YSXY3w4WRae",
        "colab_type": "code",
        "colab": {
          "base_uri": "https://localhost:8080/",
          "height": 215
        },
        "outputId": "3920a68e-b720-49a7-c727-6d674bfba8d8"
      },
      "source": [
        "while 1:\n",
        "    data = input()\n",
        "    if not data:\n",
        "        break\n",
        "    print(data)"
      ],
      "execution_count": 8,
      "outputs": [
        {
          "output_type": "stream",
          "text": [
            "1\n",
            "1\n",
            "0\n",
            "0\n",
            "-1\n",
            "-1\n",
            "1\n",
            "1\n",
            "0\n",
            "0\n",
            "\n"
          ],
          "name": "stdout"
        }
      ]
    },
    {
      "cell_type": "markdown",
      "metadata": {
        "id": "EmWZlIpLWSk-",
        "colab_type": "text"
      },
      "source": [
        "### 2. readlines() 함수"
      ]
    },
    {
      "cell_type": "code",
      "metadata": {
        "id": "CLuKHp1sWU1X",
        "colab_type": "code",
        "colab": {
          "base_uri": "https://localhost:8080/",
          "height": 377
        },
        "outputId": "55268015-95cb-406b-d0e8-43bc7620b15d"
      },
      "source": [
        "f = open(\"새파일.txt\", \"r\")\n",
        "lines = f.readlines()\n",
        "for line in lines:\n",
        "    print(line)  # , end=\"\")\n",
        "f.close()"
      ],
      "execution_count": 9,
      "outputs": [
        {
          "output_type": "stream",
          "text": [
            "1번째 줄입니다.\n",
            "\n",
            "2번째 줄입니다.\n",
            "\n",
            "3번째 줄입니다.\n",
            "\n",
            "4번째 줄입니다.\n",
            "\n",
            "5번째 줄입니다.\n",
            "\n",
            "6번째 줄입니다.\n",
            "\n",
            "7번째 줄입니다.\n",
            "\n",
            "8번째 줄입니다.\n",
            "\n",
            "9번째 줄입니다.\n",
            "\n",
            "10번째 줄입니다.\n",
            "\n"
          ],
          "name": "stdout"
        }
      ]
    },
    {
      "cell_type": "markdown",
      "metadata": {
        "id": "H3XuGO_Te6Gv",
        "colab_type": "text"
      },
      "source": [
        "### 3. read() 함수\n"
      ]
    },
    {
      "cell_type": "code",
      "metadata": {
        "id": "6v7GwtW_e8i2",
        "colab_type": "code",
        "colab": {
          "base_uri": "https://localhost:8080/",
          "height": 215
        },
        "outputId": "b46c866e-51de-4d14-bb0e-866cf518a039"
      },
      "source": [
        "f = open(\"새파일.txt\", \"r\")\n",
        "data = f.read()\n",
        "print(data)\n",
        "f.close()"
      ],
      "execution_count": 10,
      "outputs": [
        {
          "output_type": "stream",
          "text": [
            "1번째 줄입니다.\n",
            "2번째 줄입니다.\n",
            "3번째 줄입니다.\n",
            "4번째 줄입니다.\n",
            "5번째 줄입니다.\n",
            "6번째 줄입니다.\n",
            "7번째 줄입니다.\n",
            "8번째 줄입니다.\n",
            "9번째 줄입니다.\n",
            "10번째 줄입니다.\n",
            "\n"
          ],
          "name": "stdout"
        }
      ]
    },
    {
      "cell_type": "markdown",
      "metadata": {
        "id": "KNMIxbFIWWoR",
        "colab_type": "text"
      },
      "source": [
        "### 파일에 새로운 내용 추가하기\n",
        "\n",
        "### 파일에 원래 있던 값을 유지하면서 단지 새로운 값만 추가\n",
        "### 파일을 추가 모드('a')로 열고 쓴다."
      ]
    },
    {
      "cell_type": "markdown",
      "metadata": {
        "id": "SzEG0qXhWcN_",
        "colab_type": "text"
      },
      "source": [
        "### adddata.py"
      ]
    },
    {
      "cell_type": "code",
      "metadata": {
        "id": "B-xsY1MjWdyX",
        "colab_type": "code",
        "colab": {}
      },
      "source": [
        "f = open(\"새파일.txt\", \"a\")\n",
        "for i in range(11, 20):\n",
        "    data = \"%d번째 줄입니다.\\n\" % i\n",
        "    f.write(data)\n",
        "f.close()"
      ],
      "execution_count": 0,
      "outputs": []
    },
    {
      "cell_type": "markdown",
      "metadata": {
        "id": "zfyxe0FwWes3",
        "colab_type": "text"
      },
      "source": [
        "### 수정된 파일 확인"
      ]
    },
    {
      "cell_type": "code",
      "metadata": {
        "id": "ru5oYSYGWgQW",
        "colab_type": "code",
        "colab": {
          "base_uri": "https://localhost:8080/",
          "height": 377
        },
        "outputId": "cf749ee6-a779-44f6-a33f-b136c935e14b"
      },
      "source": [
        "f = open(\"새파일.txt\", \"r\")\n",
        "data = f.read()\n",
        "print(data)\n",
        "f.close()"
      ],
      "execution_count": 12,
      "outputs": [
        {
          "output_type": "stream",
          "text": [
            "1번째 줄입니다.\n",
            "2번째 줄입니다.\n",
            "3번째 줄입니다.\n",
            "4번째 줄입니다.\n",
            "5번째 줄입니다.\n",
            "6번째 줄입니다.\n",
            "7번째 줄입니다.\n",
            "8번째 줄입니다.\n",
            "9번째 줄입니다.\n",
            "10번째 줄입니다.\n",
            "11번째 줄입니다.\n",
            "12번째 줄입니다.\n",
            "13번째 줄입니다.\n",
            "14번째 줄입니다.\n",
            "15번째 줄입니다.\n",
            "16번째 줄입니다.\n",
            "17번째 줄입니다.\n",
            "18번째 줄입니다.\n",
            "19번째 줄입니다.\n",
            "\n"
          ],
          "name": "stdout"
        }
      ]
    },
    {
      "cell_type": "markdown",
      "metadata": {
        "id": "-MKFj6c5WiVm",
        "colab_type": "text"
      },
      "source": [
        "### with문과 함께 사용하기\n",
        "\n",
        "### with문을 사용하면 with 블록을 벗어나는 순간\n",
        "### 열린 파일 객체 f가 자동으로 close 된다."
      ]
    },
    {
      "cell_type": "code",
      "metadata": {
        "id": "MGa3yEz_Wnon",
        "colab_type": "code",
        "colab": {}
      },
      "source": [
        "f = open(\"foo.txt\", \"w\")\n",
        "f.write(\"Life is too short, you need python\")\n",
        "f.close()\n",
        "\n",
        "with open(\"foo1.txt\", \"w\") as f:\n",
        "    f.write(\"Life is too short, you need python\")"
      ],
      "execution_count": 0,
      "outputs": []
    },
    {
      "cell_type": "markdown",
      "metadata": {
        "id": "scbea3q5Wozv",
        "colab_type": "text"
      },
      "source": [
        "### sys 모듈로 매개변수 주기"
      ]
    },
    {
      "cell_type": "markdown",
      "metadata": {
        "id": "d5AsEtTTWslf",
        "colab_type": "text"
      },
      "source": [
        "### sys1.py"
      ]
    },
    {
      "cell_type": "code",
      "metadata": {
        "id": "ED17wruNWtuP",
        "colab_type": "code",
        "colab": {
          "base_uri": "https://localhost:8080/",
          "height": 53
        },
        "outputId": "0b335a3a-51bb-49b5-dbf8-bda693d81301"
      },
      "source": [
        "import sys\n",
        "\n",
        "args = sys.argv[1:]\n",
        "for i in args:\n",
        "    print(i)"
      ],
      "execution_count": 18,
      "outputs": [
        {
          "output_type": "stream",
          "text": [
            "-f\n",
            "/root/.local/share/jupyter/runtime/kernel-32d0f30e-1e3d-420e-a3e1-cd7d74443c22.json\n"
          ],
          "name": "stdout"
        }
      ]
    },
    {
      "cell_type": "markdown",
      "metadata": {
        "id": "5eBBb9IRWv73",
        "colab_type": "text"
      },
      "source": [
        "### sys2.py"
      ]
    },
    {
      "cell_type": "code",
      "metadata": {
        "id": "p02SaiPhWxWf",
        "colab_type": "code",
        "colab": {
          "base_uri": "https://localhost:8080/",
          "height": 35
        },
        "outputId": "b72d413d-902c-4e47-edaf-04d8624b3ed4"
      },
      "source": [
        "import sys\n",
        "args = sys.argv[1:]\n",
        "for i in args:\n",
        "    print(i.upper(), end=' ')"
      ],
      "execution_count": 19,
      "outputs": [
        {
          "output_type": "stream",
          "text": [
            "-F /ROOT/.LOCAL/SHARE/JUPYTER/RUNTIME/KERNEL-32D0F30E-1E3D-420E-A3E1-CD7D74443C22.JSON "
          ],
          "name": "stdout"
        }
      ]
    },
    {
      "cell_type": "markdown",
      "metadata": {
        "id": "IcylsSKaWySA",
        "colab_type": "text"
      },
      "source": [
        "### Author: swarthyPig\n",
        "### 파이썬 코드: ch4_03_file_io.py"
      ]
    }
  ]
}