{
  "nbformat": 4,
  "nbformat_minor": 0,
  "metadata": {
    "colab": {
      "name": "ch4_exercises.ipynb",
      "provenance": [],
      "collapsed_sections": [],
      "include_colab_link": true
    },
    "kernelspec": {
      "name": "python3",
      "display_name": "Python 3"
    }
  },
  "cells": [
    {
      "cell_type": "markdown",
      "metadata": {
        "id": "view-in-github",
        "colab_type": "text"
      },
      "source": [
        "<a href=\"https://colab.research.google.com/github/swarthyPig/SM13/blob/master/ch04/ch4_exercises.ipynb\" target=\"_parent\"><img src=\"https://colab.research.google.com/assets/colab-badge.svg\" alt=\"Open In Colab\"/></a>"
      ]
    },
    {
      "cell_type": "markdown",
      "metadata": {
        "id": "ovY5jkD5dpxE",
        "colab_type": "text"
      },
      "source": [
        "## ch4_exercises.ipynb"
      ]
    },
    {
      "cell_type": "markdown",
      "metadata": {
        "id": "SZw6UnxQWYBe",
        "colab_type": "text"
      },
      "source": [
        "## Q1.\n",
        "> 주어진 자연수가 홀수인지 짝수인지 판별해 주는 함수(is_odd)를 작성해 보자.\n"
      ]
    },
    {
      "cell_type": "code",
      "metadata": {
        "id": "rUNNaqJPdg7B",
        "colab_type": "code",
        "colab": {}
      },
      "source": [
        "# [Q1] Code  \n",
        "\n",
        "# 방법1\n",
        "def is_odd1(a):\n",
        "    \n",
        "    return \"짝수\" if a % 2 == 0 else \"홀수\"\n",
        "\n",
        "\n",
        "\n",
        "# 방법2\n",
        "def is_odd2(a):\n",
        "    \n",
        "    print(\"짝수\") if a % 2 == 0 else print(\"홀수\")\n",
        "    \n",
        "    \n",
        "    \n",
        "# lambda 사용\n",
        "is_odd3 = lambda a : \"짝수\" if a % 2 == 0 else \"홀수\"\n",
        "\n"
      ],
      "execution_count": 0,
      "outputs": []
    },
    {
      "cell_type": "code",
      "metadata": {
        "id": "thu3mSUmmod8",
        "colab_type": "code",
        "colab": {
          "base_uri": "https://localhost:8080/",
          "height": 71
        },
        "outputId": "64c7c1fc-4199-4aac-9468-d8c86ca3bcde"
      },
      "source": [
        "# 함수 실행\n",
        "\n",
        "print(is_odd(11))\n",
        "is_odd2(10)\n",
        "print(is_odd3(13))\n"
      ],
      "execution_count": 18,
      "outputs": [
        {
          "output_type": "stream",
          "text": [
            "홀수\n",
            "짝수\n",
            "홀수\n"
          ],
          "name": "stdout"
        }
      ]
    },
    {
      "cell_type": "code",
      "metadata": {
        "id": "JGBdB3udmvhU",
        "colab_type": "code",
        "colab": {
          "base_uri": "https://localhost:8080/",
          "height": 89
        },
        "outputId": "99e4d49c-6c13-482d-942b-41597724185f"
      },
      "source": [
        "# 사용자 입력 받아서 실행\n",
        "\n",
        "num = int(input(\"판단할 숫자를 입력해주세요.\"))\n",
        "\n",
        "print(is_odd(num))\n",
        "is_odd2(num)\n",
        "print(is_odd3(num))"
      ],
      "execution_count": 19,
      "outputs": [
        {
          "output_type": "stream",
          "text": [
            "판단할 숫자를 입력해주세요.10\n",
            "짝수\n",
            "짝수\n",
            "짝수\n"
          ],
          "name": "stdout"
        }
      ]
    },
    {
      "cell_type": "markdown",
      "metadata": {
        "colab_type": "text",
        "id": "re2-XrUYXF1m"
      },
      "source": [
        "## Q2.\n",
        "> 입력으로 들어오는 모든 수의 평균 값을 계산해 주는 함수를 작성해 보자. \n",
        "- (단 입력으로 들어오는 수의 개수는 정해져 있지 않다.)\n",
        "- ※ 평균 값을 구할 때 len 함수를 사용해 보자.\n"
      ]
    },
    {
      "cell_type": "code",
      "metadata": {
        "colab_type": "code",
        "id": "5MBLUZ5WXF1q",
        "colab": {}
      },
      "source": [
        "# [Q2] Code\n",
        "\n",
        "# 방법 1(인수로 값을 줘서 실행)\n",
        "\n",
        "def avg(*number:int):\n",
        "    sum = 0\n",
        "    \n",
        "    for i in number:\n",
        "        sum += i\n",
        "        \n",
        "    return sum/len(number)\n"
      ],
      "execution_count": 0,
      "outputs": []
    },
    {
      "cell_type": "code",
      "metadata": {
        "id": "awTrzW9Wo6Bt",
        "colab_type": "code",
        "colab": {
          "base_uri": "https://localhost:8080/",
          "height": 35
        },
        "outputId": "3d11b5bc-5b32-45ff-e7cb-af36efe6637c"
      },
      "source": [
        "# 함수 실행\n",
        "\n",
        "avg(1, 2, 3, 4, 5)"
      ],
      "execution_count": 92,
      "outputs": [
        {
          "output_type": "execute_result",
          "data": {
            "text/plain": [
              "3.0"
            ]
          },
          "metadata": {
            "tags": []
          },
          "execution_count": 92
        }
      ]
    },
    {
      "cell_type": "code",
      "metadata": {
        "id": "BPsny4jR2oJs",
        "colab_type": "code",
        "colab": {}
      },
      "source": [
        "# 방법 2(사용자에게 입력받아서 실행)\n",
        "\n",
        "def avg2(*number):\n",
        "    \n",
        "    _sum = sum(number[0])\n",
        "    \n",
        "    return _sum/len(number[0])\n"
      ],
      "execution_count": 0,
      "outputs": []
    },
    {
      "cell_type": "code",
      "metadata": {
        "id": "LFOt9jTOzE_8",
        "colab_type": "code",
        "colab": {
          "base_uri": "https://localhost:8080/",
          "height": 107
        },
        "outputId": "0a3083b5-e4a2-43e6-ad71-f09dc96d4e56"
      },
      "source": [
        "num_List = []\n",
        "\n",
        "while True:\n",
        "    num = int(input(\"평균을 구할 숫자를 입력해주세요(0을 누르면 종료)\"))\n",
        "    \n",
        "    if not bool(num) : break # 0을 입력 했을 때 종료\n",
        "        \n",
        "    num_List.append(num)\n",
        "\n",
        "avg2(num_List)\n",
        "    "
      ],
      "execution_count": 113,
      "outputs": [
        {
          "output_type": "stream",
          "text": [
            "평균을 구할 숫자를 입력해주세요(0을 누르면 종료)1\n",
            "평균을 구할 숫자를 입력해주세요(0을 누르면 종료)2\n",
            "평균을 구할 숫자를 입력해주세요(0을 누르면 종료)3\n",
            "평균을 구할 숫자를 입력해주세요(0을 누르면 종료)0\n"
          ],
          "name": "stdout"
        },
        {
          "output_type": "execute_result",
          "data": {
            "text/plain": [
              "2.0"
            ]
          },
          "metadata": {
            "tags": []
          },
          "execution_count": 113
        }
      ]
    },
    {
      "cell_type": "markdown",
      "metadata": {
        "colab_type": "text",
        "id": "UZy8lu_BXGnT"
      },
      "source": [
        "## Q3.\n",
        "> 다음은 두 개의 숫자를 입력받아 더하여 돌려주는 프로그램이다.\n",
        "\n",
        "```\n",
        "input1 = input(\"첫번째 숫자를 입력하세요:\")\n",
        "input2 = input(\"두번째 숫자를 입력하세요:\")\n",
        "\n",
        "total = input1 + input2\n",
        "print(\"두 수의 합은 %s 입니다\" % total)\n",
        "\n",
        "```\n",
        "---\n",
        "> 이 프로그램을 수행해 보자.\n",
        "\n",
        ">> 첫번째 숫자를 입력하세요:3  \n",
        ">> 두번째 숫자를 입력하세요:6\n",
        "- 두 수의 합은 36 입니다\n",
        "- 3과 6을 입력했을 때 9가 아닌 36이라는 결괏값을 돌려주었다.  \n",
        "이 프로그램의 오류를 수정해 보자."
      ]
    },
    {
      "cell_type": "code",
      "metadata": {
        "colab_type": "code",
        "id": "H9T_sXHzXGnW",
        "colab": {
          "base_uri": "https://localhost:8080/",
          "height": 71
        },
        "outputId": "bdf81858-a86a-45d6-f5fc-c262f7da13c8"
      },
      "source": [
        "# [Q3] Code\n",
        "\n",
        "# input함수는 입력받는 값이 문자열이므로 정수로 변경해주면 된다.\n",
        "input1 = int(input(\"첫번째 숫자를 입력하세요:\"))\n",
        "input2 = int(input(\"두번째 숫자를 입력하세요:\"))\n",
        "\n",
        "total = input1 + input2\n",
        "print(\"두 수의 합은 %s 입니다\" % total)\n"
      ],
      "execution_count": 23,
      "outputs": [
        {
          "output_type": "stream",
          "text": [
            "첫번째 숫자를 입력하세요:3\n",
            "두번째 숫자를 입력하세요:6\n",
            "두 수의 합은 9 입니다\n"
          ],
          "name": "stdout"
        }
      ]
    },
    {
      "cell_type": "markdown",
      "metadata": {
        "colab_type": "text",
        "id": "fqypxxqTXHY7"
      },
      "source": [
        "## Q4.\n",
        "> 다음 중 출력 결과가 다른 것 한 개를 골라 보자.\n",
        "\n",
        "```\n",
        "print(\"you\" \"need\" \"python\")\n",
        "print(\"you\"+\"need\"+\"python\")\n",
        "print(\"you\", \"need\", \"python\")\n",
        "print(\"\".join([\"you\", \"need\", \"python\"]))\n",
        "```"
      ]
    },
    {
      "cell_type": "code",
      "metadata": {
        "colab_type": "code",
        "id": "oQ5UnmayXHY-",
        "colab": {
          "base_uri": "https://localhost:8080/",
          "height": 89
        },
        "outputId": "4df2583d-6925-402c-a94b-8d20c68ff1d4"
      },
      "source": [
        "# [Q4] Code\n",
        "\n",
        "print(\"you\" \"need\" \"python\")\n",
        "print(\"you\"+\"need\"+\"python\")\n",
        "print(\"you\", \"need\", \"python\") # 문자열의 띄어쓰기는 \",\" 로 구분한다.\n",
        "print(\"\".join([\"you\", \"need\", \"python\"]))"
      ],
      "execution_count": 24,
      "outputs": [
        {
          "output_type": "stream",
          "text": [
            "youneedpython\n",
            "youneedpython\n",
            "you need python\n",
            "youneedpython\n"
          ],
          "name": "stdout"
        }
      ]
    },
    {
      "cell_type": "markdown",
      "metadata": {
        "colab_type": "text",
        "id": "NKsvciXZXIL-"
      },
      "source": [
        "## Q5.\n",
        "> 다음은 \"test.txt\"라는 파일에 \"Life is too short\" 문자열을 저장한 후 다시 그 파일을 읽어서 출력하는 프로그램이다.\n",
        "\n",
        "```\n",
        "f1 = open(\"test.txt\", 'w')\n",
        "f1.write(\"Life is too short\")\n",
        "\n",
        "f2 = open(\"test.txt\", 'r')\n",
        "print(f2.read())\n",
        "\n",
        "```\n",
        ">> 이 프로그램은 우리가 예상한 \"Life is too short\"라는 문장을 출력하지 않는다.\n",
        "\n",
        ">> 우리가 예상한 값을 출력할 수 있도록 프로그램을 수정해 보자."
      ]
    },
    {
      "cell_type": "code",
      "metadata": {
        "colab_type": "code",
        "id": "5MZQYOVjXIL_",
        "colab": {
          "base_uri": "https://localhost:8080/",
          "height": 71
        },
        "outputId": "aadbb5be-9136-4f8d-ce95-7e5da8a79f35"
      },
      "source": [
        "# [Q5] Code\n",
        "\n",
        "f1 = open(\"test.txt\", 'w')\n",
        "f1.write(\"Life is too short\\n\\n\")\n",
        "\n",
        "f1.close() # f1을 열었으면 닫아주자.\n",
        "\n",
        "f2 = open(\"test.txt\", \"r\")\n",
        "data = f2.read()\n",
        "print(data)\n",
        "\n",
        "f2.close()"
      ],
      "execution_count": 48,
      "outputs": [
        {
          "output_type": "stream",
          "text": [
            "Life is too short\n",
            "\n",
            "\n"
          ],
          "name": "stdout"
        }
      ]
    },
    {
      "cell_type": "markdown",
      "metadata": {
        "colab_type": "text",
        "id": "-3KHtOOoXJBV"
      },
      "source": [
        "## Q6.\n",
        "> 사용자의 입력을 파일(test.txt)에 저장하는 프로그램을 작성해 보자. \n",
        "- (단 프로그램을 다시 실행하더라도 기존에 작성한 내용을 유지하고 새로 입력한 내용을 추가해야 한다.)\n"
      ]
    },
    {
      "cell_type": "code",
      "metadata": {
        "colab_type": "code",
        "id": "AjYR0lUaXJBa",
        "colab": {
          "base_uri": "https://localhost:8080/",
          "height": 35
        },
        "outputId": "1d3bc75f-1586-44db-dee5-3dadb38778e5"
      },
      "source": [
        "# [Q6] Code\n",
        "\n",
        "test = input(\"추가 할 내용을 입력해주세요\")\n",
        "\n",
        "f = open(\"test.txt\", 'a')\n",
        "f.write(\"\\n\"+test) # 줄바꿈 적용\n",
        "\n",
        "f.close()"
      ],
      "execution_count": 73,
      "outputs": [
        {
          "output_type": "stream",
          "text": [
            "추가 할 내용을 입력해주세요add test\n"
          ],
          "name": "stdout"
        }
      ]
    },
    {
      "cell_type": "markdown",
      "metadata": {
        "colab_type": "text",
        "id": "YrS3b88QbmKo"
      },
      "source": [
        "## Q7.\n",
        "> 다음과 같은 내용을 지닌 파일 foo1.txt가 있다. 이 파일의 내용 중 \"java\"라는 문자열을 \"python\"으로 바꾸어서 저장해 보자.\n",
        "\n",
        ">> Life is too short  \n",
        ">> you need java\n",
        "\n",
        "- ※ replace 함수를 사용해 보자.\n"
      ]
    },
    {
      "cell_type": "code",
      "metadata": {
        "colab_type": "code",
        "id": "Ll_2InMWbmKq",
        "colab": {
          "base_uri": "https://localhost:8080/",
          "height": 53
        },
        "outputId": "2a4fa9f0-763e-42cf-c486-5cec8a856878"
      },
      "source": [
        "# [Q7] Code-1\n",
        "\n",
        "# 파일을 읽어서 데이터 값을 찾아온다.\n",
        "f = open(\"foo1.txt\", 'r')\n",
        "data = f.read()\n",
        "print(data)\n",
        "\n",
        "f.close()\n"
      ],
      "execution_count": 67,
      "outputs": [
        {
          "output_type": "stream",
          "text": [
            "Life is too short\n",
            "you need java\n"
          ],
          "name": "stdout"
        }
      ]
    },
    {
      "cell_type": "code",
      "metadata": {
        "id": "a55mtu73wJ5M",
        "colab_type": "code",
        "colab": {}
      },
      "source": [
        "# replace함수를 사용하여 문자열 변경\n",
        "data = data.replace('java','python')\n",
        "\n",
        "f1 = open(\"foo1.txt\", 'w')\n",
        "f1.write(data) # 변경된 문자열로 교체\n",
        "\n",
        "f1.close()"
      ],
      "execution_count": 0,
      "outputs": []
    },
    {
      "cell_type": "code",
      "metadata": {
        "id": "pl32KJinwL3L",
        "colab_type": "code",
        "colab": {
          "base_uri": "https://localhost:8080/",
          "height": 53
        },
        "outputId": "bd28c2fb-cd7a-4597-b036-0f8c6475ce38"
      },
      "source": [
        "f2 = open(\"foo1.txt\",\"r\")\n",
        "result = f2.read()\n",
        "print(result)\n",
        "\n",
        "f2.close()"
      ],
      "execution_count": 69,
      "outputs": [
        {
          "output_type": "stream",
          "text": [
            "Life is too short\n",
            "you need python\n"
          ],
          "name": "stdout"
        }
      ]
    },
    {
      "cell_type": "markdown",
      "metadata": {
        "id": "2ljBDShkbqZO",
        "colab_type": "text"
      },
      "source": [
        "## 코딩 연습 결과를 github에 올리기\n",
        "> 완성된 ipython 노트북 파일을 각자의 github에 올리시오.\n",
        "\n",
        "- github 계정 만들기 (계정이 없는 학생)\n",
        "    1. github에 sign up (Google gmail 계정을 이용해서 만드시오.)\n",
        "- github에 노트 올리기\n",
        "    2. github에 각자의 id로 repo를 만드시오. (한번 만들면 계속 재사용)\n",
        "    3. github repo에 연습결과 노트를 올리시오.\n",
        "        - 제출노트: ch4_exercises_id.ipynb\n"
      ]
    },
    {
      "cell_type": "code",
      "metadata": {
        "id": "OnCR-YNCc8B6",
        "colab_type": "code",
        "colab": {}
      },
      "source": [
        ""
      ],
      "execution_count": 0,
      "outputs": []
    }
  ]
}