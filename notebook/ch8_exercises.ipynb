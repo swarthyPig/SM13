{
  "nbformat": 4,
  "nbformat_minor": 0,
  "metadata": {
    "colab": {
      "name": "ch8_exercises.ipynb",
      "provenance": [],
      "collapsed_sections": [],
      "include_colab_link": true
    },
    "kernelspec": {
      "name": "python3",
      "display_name": "Python 3"
    }
  },
  "cells": [
    {
      "cell_type": "markdown",
      "metadata": {
        "id": "view-in-github",
        "colab_type": "text"
      },
      "source": [
        "<a href=\"https://colab.research.google.com/github/swarthyPig/SM13/blob/master/notebook/ch8_exercises.ipynb\" target=\"_parent\"><img src=\"https://colab.research.google.com/assets/colab-badge.svg\" alt=\"Open In Colab\"/></a>"
      ]
    },
    {
      "cell_type": "markdown",
      "metadata": {
        "id": "ovY5jkD5dpxE",
        "colab_type": "text"
      },
      "source": [
        "# ch8_exercises_Final.ipynb"
      ]
    },
    {
      "cell_type": "markdown",
      "metadata": {
        "id": "SZw6UnxQWYBe",
        "colab_type": "text"
      },
      "source": [
        "Q1. 문자열 바꾸기\n",
        "> 다음과 같은 문자열이 있다.\n",
        "\n",
        "```\n",
        "a:b:c:d\n",
        "```\n",
        "\n",
        "> 문자열의 split와 join 함수를 사용하여 위 문자열을 다음과 같이 고치시오.\n",
        "\n",
        "```\n",
        "a#b#c#d\n",
        "```\n"
      ]
    },
    {
      "cell_type": "code",
      "metadata": {
        "id": "rUNNaqJPdg7B",
        "colab_type": "code",
        "outputId": "dc0b8a40-a6b6-45c1-8a79-8285f7de4a45",
        "colab": {
          "base_uri": "https://localhost:8080/",
          "height": 53
        }
      },
      "source": [
        "# [Q1] Code-1 \n",
        "\n",
        "a = 'a:b:c:d'\n",
        "b = a.split(\":\")\n",
        "\n",
        "print(b)\n",
        "\n",
        "c = \"#\".join(b)\n",
        "print(c)"
      ],
      "execution_count": 0,
      "outputs": [
        {
          "output_type": "stream",
          "text": [
            "['a', 'b', 'c', 'd']\n",
            "a#b#c#d\n"
          ],
          "name": "stdout"
        }
      ]
    },
    {
      "cell_type": "code",
      "metadata": {
        "colab_type": "code",
        "id": "x0OIIHRmDwtd",
        "outputId": "a3c5a322-5167-4edb-c8fe-b1eb9b2ecf16",
        "colab": {
          "base_uri": "https://localhost:8080/",
          "height": 35
        }
      },
      "source": [
        "# [Q1] Code-2\n",
        "\n",
        "print(\"a:b:c:d\".replace(\":\",\"#\"))"
      ],
      "execution_count": 0,
      "outputs": [
        {
          "output_type": "stream",
          "text": [
            "a#b#c#d\n"
          ],
          "name": "stdout"
        }
      ]
    },
    {
      "cell_type": "markdown",
      "metadata": {
        "colab_type": "text",
        "id": "re2-XrUYXF1m"
      },
      "source": [
        "## Q2. 딕셔너리 값 추출하기\n",
        "> 다음은 딕셔너리의 a에서 'C'라는 key에 해당하는 value를 출력하는 프로그램이다.\n",
        "```\n",
        ">>> a = {'A':90, 'B':80}\n",
        ">>> a['C']\n",
        "Traceback (most recent call last):\n",
        "  File \"<stdin>\", line 1, in <module>\n",
        "KeyError: 'C'\n",
        "```\n",
        ">> a 딕셔너리에는 'C'라는 key가 없으므로 위와 같은 오류가 발생한다.  \n",
        ">>'C'에 해당하는 key 값이 없을 경우 오류 대신 70을 얻을 수 있도록 수정하시오."
      ]
    },
    {
      "cell_type": "code",
      "metadata": {
        "colab_type": "code",
        "id": "5MBLUZ5WXF1q",
        "outputId": "0f8fb3ee-3437-48d1-aa7a-a29c9a5bcf01",
        "colab": {
          "base_uri": "https://localhost:8080/",
          "height": 35
        }
      },
      "source": [
        "# [Q2] Code-1\n",
        "\n",
        "a = {'A':90, 'B':80}\n",
        "print(a.get('C', 70))\n"
      ],
      "execution_count": 0,
      "outputs": [
        {
          "output_type": "stream",
          "text": [
            "70\n"
          ],
          "name": "stdout"
        }
      ]
    },
    {
      "cell_type": "code",
      "metadata": {
        "colab_type": "code",
        "id": "viVk7IDSEQZX",
        "outputId": "0806608d-e2a1-4455-c5f2-c7cfaf9366a4",
        "colab": {
          "base_uri": "https://localhost:8080/",
          "height": 35
        }
      },
      "source": [
        "# [Q2] Code-2\n",
        "\n",
        "b = {'A':90, 'B':80}\n",
        "\n",
        "if a.get('C') is None: # 존재하지 않으면 None반환\n",
        "    print(70)\n"
      ],
      "execution_count": 0,
      "outputs": [
        {
          "output_type": "stream",
          "text": [
            "70\n"
          ],
          "name": "stdout"
        }
      ]
    },
    {
      "cell_type": "markdown",
      "metadata": {
        "colab_type": "text",
        "id": "UZy8lu_BXGnT"
      },
      "source": [
        "## Q3. 리스트의 더하기와 extend 함수\n",
        "> 다음과 같은 리스트 a가 있다.\n",
        "```\n",
        "a = [1, 2, 3]\n",
        "```\n",
        "> 리스트 a에 [4, 5]를 + 기호를 사용하여 더한 결과는 다음과 같다.\n",
        "```\n",
        ">>> a = [1, 2, 3]\n",
        ">>> a = a + [4,5]\n",
        ">>> a\n",
        "[1, 2, 3, 4, 5]\n",
        "```\n",
        "> 리스트 a에 [4,5]를 extend를 사용하여 더한 결과는 다음과 같다.\n",
        "```\n",
        ">>> a = [1, 2, 3]\n",
        ">>> a.extend([4, 5])\n",
        ">>> a\n",
        "[1, 2, 3, 4, 5]\n",
        "```\n",
        "\n",
        "> ### + 기호를 사용하여 더한 것과 extend한 것의 차이점이 있을까? 있다면 그 차이점을 설명하시오."
      ]
    },
    {
      "cell_type": "code",
      "metadata": {
        "colab_type": "code",
        "id": "H9T_sXHzXGnW",
        "outputId": "334bfb57-190f-4ac2-a784-5624a91bd086",
        "colab": {
          "base_uri": "https://localhost:8080/",
          "height": 145
        }
      },
      "source": [
        "# [Q3] Explain (코드와 주석으로 설명하시오)\n",
        "\n",
        "# + 는 두 리스트가 합쳐진 새로운 리스트 반환\n",
        "a = [1, 2, 3] \n",
        "print(id(a)) # 139681989801992\n",
        "a = a + [4,5]\n",
        "print(a) \n",
        "print(id(a)) # 139681980249096\n",
        "\n",
        "print(\"\")\n",
        "\n",
        "# extend는 주소값이 변하지 않고 유지됨 \n",
        "b = [1, 2, 3]\n",
        "print(id(b)) # 139681989803912\n",
        "b.extend([4, 5])\n",
        "print(b)\n",
        "print(id(b)) # 139681989803912\n",
        "\n"
      ],
      "execution_count": 0,
      "outputs": [
        {
          "output_type": "stream",
          "text": [
            "140345165020040\n",
            "[1, 2, 3, 4, 5]\n",
            "140345165020360\n",
            "\n",
            "140345165020040\n",
            "[1, 2, 3, 4, 5]\n",
            "140345165020040\n"
          ],
          "name": "stdout"
        }
      ]
    },
    {
      "cell_type": "markdown",
      "metadata": {
        "colab_type": "text",
        "id": "fqypxxqTXHY7"
      },
      "source": [
        "## Q4. 리스트 총합 구하기\n",
        "> 다음은 A학급 학생의 점수를 나타내는 리스트이다. 다음 리스트에서 50점 이상 점수의 총합을 구하시오.\n",
        "```\n",
        "A = [20, 55, 67, 82, 45, 33, 90, 87, 100, 25]\n",
        "```"
      ]
    },
    {
      "cell_type": "code",
      "metadata": {
        "colab_type": "code",
        "id": "oQ5UnmayXHY-",
        "outputId": "a3e6b2cd-d1bf-4b83-df5b-65dbf4e907a1",
        "colab": {
          "base_uri": "https://localhost:8080/",
          "height": 35
        }
      },
      "source": [
        "# [Q4] Code-1\n",
        "\n",
        "A = [20, 55, 67, 82, 45, 33, 90, 87, 100, 25]\n",
        "\n",
        "result = 0\n",
        "while A:                # A 리스트에 값이 있는 동안\n",
        "    mark = A.pop()      # A리스트의 가장 마지막 항목을 하나씩 뽑아냄\n",
        "    if mark >= 50:      # 50점 이상의 점수만 더함\n",
        "        result += mark\n",
        "\n",
        "print(result)           # 481 출력"
      ],
      "execution_count": 0,
      "outputs": [
        {
          "output_type": "stream",
          "text": [
            "481\n"
          ],
          "name": "stdout"
        }
      ]
    },
    {
      "cell_type": "code",
      "metadata": {
        "colab_type": "code",
        "id": "pMQ1e6jpFomt",
        "outputId": "e88cf49a-9a29-46d4-9746-649d2d208280",
        "colab": {
          "base_uri": "https://localhost:8080/",
          "height": 35
        }
      },
      "source": [
        "# [Q4] Code-2\n",
        "\n",
        "print(sum(list(filter(lambda x : x >= 50, [20, 55, 67, 82, 45, 33, 90, 87, 100, 25]))))\n"
      ],
      "execution_count": 0,
      "outputs": [
        {
          "output_type": "stream",
          "text": [
            "481\n"
          ],
          "name": "stdout"
        }
      ]
    },
    {
      "cell_type": "markdown",
      "metadata": {
        "colab_type": "text",
        "id": "NKsvciXZXIL-"
      },
      "source": [
        "## Q5. 피보나치 함수\n",
        "> 첫 번째 항의 값이 0이고 두 번째 항의 값이 1일 때, 이후에 이어지는 항은 이전의 두 항을 더한 값으로 이루어지는 수열을 피보나치 수열이라고 한다.\n",
        "```\n",
        "0, 1, 1, 2, 3, 5, 8, 13, 21, ...\n",
        "```\n",
        "> 입력을 정수 n으로 받았을 때, n 이하까지의 피보나치 수열을 출력하는 함수를 작성해 보자.\n"
      ]
    },
    {
      "cell_type": "code",
      "metadata": {
        "colab_type": "code",
        "id": "5MZQYOVjXIL_",
        "outputId": "ecf41fe9-0d52-4eb3-fcd7-dddbe9ae50f3",
        "colab": {
          "base_uri": "https://localhost:8080/",
          "height": 35
        }
      },
      "source": [
        "# [Q5] Code-1\n",
        "# Time complex is O(2**n)\n",
        "\n",
        "def fib(n):\n",
        "    if n == 0 : return 0          # n이 0일 때는 0을 반환\n",
        "    if n == 1 : return 1          # n이 1일 때는 1을 반환\n",
        "    return fib(n-2) + fib(n-1)    # n이 2 이상일 때는 그 이전의 두 값을 더하여 반환\n",
        "\n",
        "for i in range(10):\n",
        "    print(fib(i), end=\" \")\n"
      ],
      "execution_count": 0,
      "outputs": [
        {
          "output_type": "stream",
          "text": [
            "0 1 1 2 3 5 8 13 21 34 "
          ],
          "name": "stdout"
        }
      ]
    },
    {
      "cell_type": "code",
      "metadata": {
        "id": "MzzxIsRo81Eu",
        "colab_type": "code",
        "outputId": "77cc334b-2cdf-47db-a5c1-36de278998b2",
        "colab": {
          "base_uri": "https://localhost:8080/",
          "height": 55
        }
      },
      "source": [
        "# [Q5] Code-3\n",
        "\n",
        "# DP 알고리즘의 Memoized 방식 \n",
        "# Recursion를 사용하지만 불필요한 부분을 제거함\n",
        "# Time complex is O(n)\n",
        "# Fn = Fn-1 + Fn-2\n",
        "\n",
        "def fib_memoized(n, memo):\n",
        "    if memo[n] is not None:\n",
        "        return memo[n]\n",
        "    if n == 1 or n == 2: # 수열의 첫번째와 두번째는 1이다\n",
        "        return 1\n",
        "    else :\n",
        "        result = fib_memoized(n-1, memo) + fib_memoized(n-2, memo) # 결과값을 변수에 담아 기억시킨다\n",
        "    memo[n] = result\n",
        "    return result\n",
        "\n",
        "def fib_memo(n):\n",
        "    _list = [0]\n",
        "    memo = [None] * (n + 1)\n",
        "\n",
        "    for i in range(1,n):\n",
        "        _list.append(fib_memoized(i, memo))\n",
        "    return _list\n",
        "\n",
        "print(fib_memo(100))\n"
      ],
      "execution_count": 0,
      "outputs": [
        {
          "output_type": "stream",
          "text": [
            "[0, 1, 1, 2, 3, 5, 8, 13, 21, 34, 55, 89, 144, 233, 377, 610, 987, 1597, 2584, 4181, 6765, 10946, 17711, 28657, 46368, 75025, 121393, 196418, 317811, 514229, 832040, 1346269, 2178309, 3524578, 5702887, 9227465, 14930352, 24157817, 39088169, 63245986, 102334155, 165580141, 267914296, 433494437, 701408733, 1134903170, 1836311903, 2971215073, 4807526976, 7778742049, 12586269025, 20365011074, 32951280099, 53316291173, 86267571272, 139583862445, 225851433717, 365435296162, 591286729879, 956722026041, 1548008755920, 2504730781961, 4052739537881, 6557470319842, 10610209857723, 17167680177565, 27777890035288, 44945570212853, 72723460248141, 117669030460994, 190392490709135, 308061521170129, 498454011879264, 806515533049393, 1304969544928657, 2111485077978050, 3416454622906707, 5527939700884757, 8944394323791464, 14472334024676221, 23416728348467685, 37889062373143906, 61305790721611591, 99194853094755497, 160500643816367088, 259695496911122585, 420196140727489673, 679891637638612258, 1100087778366101931, 1779979416004714189, 2880067194370816120, 4660046610375530309, 7540113804746346429, 12200160415121876738, 19740274219868223167, 31940434634990099905, 51680708854858323072, 83621143489848422977, 135301852344706746049, 218922995834555169026]\n"
          ],
          "name": "stdout"
        }
      ]
    },
    {
      "cell_type": "code",
      "metadata": {
        "colab_type": "code",
        "id": "JH2Rm_TkF_eu",
        "outputId": "510970ee-0ba7-4c7a-f9f7-6ef340e9cf0b",
        "colab": {
          "base_uri": "https://localhost:8080/",
          "height": 1000
        }
      },
      "source": [
        "# [Q5] Code-3\n",
        "\n",
        "# DP 알고리즘의 Bottom-Up Approach 방식 \n",
        "# Recursion 을 사용하지 않는 방법\n",
        "# Time complex is O(n)\n",
        "# Fn = Fn-1 + Fn-2\n",
        "\n",
        "def fibo_bottom_up(n):\n",
        "\n",
        "    if n == 1 or n == 2: # 수열의 첫번째와 두번째는 1이다\n",
        "        return 1\n",
        "\n",
        "    bottom_up = [None] * (n + 1) # 구할 번째의 수보다 하나 크도록 list를 생성한다.\n",
        "    bottom_up[1] = 1 # 계산을 위해 list의 1번째에 1을 넣어준다.\n",
        "    bottom_up[2] = 1 # 계산을 위해 list의 2번째에 1을 넣어준다.\n",
        "\n",
        "    for i in range(3, n + 1):\n",
        "        bottom_up[i] = bottom_up[i-1] + bottom_up[i-2] # 수열에 따라 배열에 값을 채워나간다.\n",
        "\n",
        "    return bottom_up[n]\n",
        "\n",
        "def solution(n):\n",
        "    _list2 = [0]\n",
        "    for i in range(1,n):\n",
        "        _list2.append(fibo_bottom_up(i))\n",
        "    return _list2\n",
        "\n",
        "\n",
        "solution(100)"
      ],
      "execution_count": 0,
      "outputs": [
        {
          "output_type": "execute_result",
          "data": {
            "text/plain": [
              "[0,\n",
              " 1,\n",
              " 1,\n",
              " 2,\n",
              " 3,\n",
              " 5,\n",
              " 8,\n",
              " 13,\n",
              " 21,\n",
              " 34,\n",
              " 55,\n",
              " 89,\n",
              " 144,\n",
              " 233,\n",
              " 377,\n",
              " 610,\n",
              " 987,\n",
              " 1597,\n",
              " 2584,\n",
              " 4181,\n",
              " 6765,\n",
              " 10946,\n",
              " 17711,\n",
              " 28657,\n",
              " 46368,\n",
              " 75025,\n",
              " 121393,\n",
              " 196418,\n",
              " 317811,\n",
              " 514229,\n",
              " 832040,\n",
              " 1346269,\n",
              " 2178309,\n",
              " 3524578,\n",
              " 5702887,\n",
              " 9227465,\n",
              " 14930352,\n",
              " 24157817,\n",
              " 39088169,\n",
              " 63245986,\n",
              " 102334155,\n",
              " 165580141,\n",
              " 267914296,\n",
              " 433494437,\n",
              " 701408733,\n",
              " 1134903170,\n",
              " 1836311903,\n",
              " 2971215073,\n",
              " 4807526976,\n",
              " 7778742049,\n",
              " 12586269025,\n",
              " 20365011074,\n",
              " 32951280099,\n",
              " 53316291173,\n",
              " 86267571272,\n",
              " 139583862445,\n",
              " 225851433717,\n",
              " 365435296162,\n",
              " 591286729879,\n",
              " 956722026041,\n",
              " 1548008755920,\n",
              " 2504730781961,\n",
              " 4052739537881,\n",
              " 6557470319842,\n",
              " 10610209857723,\n",
              " 17167680177565,\n",
              " 27777890035288,\n",
              " 44945570212853,\n",
              " 72723460248141,\n",
              " 117669030460994,\n",
              " 190392490709135,\n",
              " 308061521170129,\n",
              " 498454011879264,\n",
              " 806515533049393,\n",
              " 1304969544928657,\n",
              " 2111485077978050,\n",
              " 3416454622906707,\n",
              " 5527939700884757,\n",
              " 8944394323791464,\n",
              " 14472334024676221,\n",
              " 23416728348467685,\n",
              " 37889062373143906,\n",
              " 61305790721611591,\n",
              " 99194853094755497,\n",
              " 160500643816367088,\n",
              " 259695496911122585,\n",
              " 420196140727489673,\n",
              " 679891637638612258,\n",
              " 1100087778366101931,\n",
              " 1779979416004714189,\n",
              " 2880067194370816120,\n",
              " 4660046610375530309,\n",
              " 7540113804746346429,\n",
              " 12200160415121876738,\n",
              " 19740274219868223167,\n",
              " 31940434634990099905,\n",
              " 51680708854858323072,\n",
              " 83621143489848422977,\n",
              " 135301852344706746049,\n",
              " 218922995834555169026]"
            ]
          },
          "metadata": {
            "tags": []
          },
          "execution_count": 9
        }
      ]
    },
    {
      "cell_type": "markdown",
      "metadata": {
        "colab_type": "text",
        "id": "-3KHtOOoXJBV"
      },
      "source": [
        "## Q6. 숫자의 총합 구하기\n",
        "> 사용자로부터 다음과 같은 숫자를 입력받아 입력받은 숫자의 총합을 구하는 프로그램을 작성하시오. (단 숫자는 콤마로 구분하여 입력한다.)\n",
        "\n",
        "```\n",
        "65,45,2,3,45,8\n",
        "```\n"
      ]
    },
    {
      "cell_type": "code",
      "metadata": {
        "colab_type": "code",
        "id": "AjYR0lUaXJBa",
        "outputId": "4d6cfb6c-ffc8-4f49-af74-4d7d9bfc18a7",
        "colab": {
          "base_uri": "https://localhost:8080/",
          "height": 53
        }
      },
      "source": [
        "# [Q6] Code-1\n",
        "\n",
        "user_input = input(\"숫자를 입력하세요: \")\n",
        "numbers = user_input.split(\",\")\n",
        "total = 0\n",
        "for n in numbers:\n",
        "    total += int(n)    # 입력은 문자열이므로 숫자로 변환해야 한다.\n",
        "print(total)"
      ],
      "execution_count": 0,
      "outputs": [
        {
          "output_type": "stream",
          "text": [
            "숫자를 입력하세요: 65, 45, 2, 3, 45, 8\n",
            "168\n"
          ],
          "name": "stdout"
        }
      ]
    },
    {
      "cell_type": "code",
      "metadata": {
        "colab_type": "code",
        "id": "JpkVe0zxGTK1",
        "outputId": "fdb1d345-7cb2-4660-e3dc-c4f5570d6f9e",
        "colab": {
          "base_uri": "https://localhost:8080/",
          "height": 54
        }
      },
      "source": [
        "# [Q6] Code-2\n",
        "\n",
        "print(sum(list(map(int, input().strip().split(',')))))\n"
      ],
      "execution_count": 0,
      "outputs": [
        {
          "output_type": "stream",
          "text": [
            "65,45,2,3,45,8\n",
            "168\n"
          ],
          "name": "stdout"
        }
      ]
    },
    {
      "cell_type": "markdown",
      "metadata": {
        "colab_type": "text",
        "id": "CiMJjZQ_GdyV"
      },
      "source": [
        "## Q7. 한 줄 구구단\n",
        "> 사용자로부터 2~9의 숫자 중 하나를 입력받아 해당 숫자의 구구단을 한 줄로 출력하는 프로그램을 작성하시오.\n",
        "\n",
        "> 실행 예)\n",
        "```\n",
        "구구단을 출력할 숫자를 입력하세요(2~9): 2\n",
        "2 4 6 8 10 12 14 16 18\n",
        "```\n"
      ]
    },
    {
      "cell_type": "code",
      "metadata": {
        "colab_type": "code",
        "id": "_8TQZNIwGdyo",
        "outputId": "f4b52c10-66d9-471a-9046-479d87f9321c",
        "colab": {
          "base_uri": "https://localhost:8080/",
          "height": 53
        }
      },
      "source": [
        "# [Q7] Code-1\n",
        "\n",
        "user_input = input(\"구구단을 출력할 숫자를 입력하세요(2~9):\")\n",
        "dan = int(user_input)       # 입력 문자열을 숫자로 변환\n",
        "for i in range(1, 10):\n",
        "    print(i*dan, end= ' ')  # 한 줄로 출력하기 위해 줄 바꿈 문자 대신 공백 문자를 마지막에 출력한다.\n"
      ],
      "execution_count": 0,
      "outputs": [
        {
          "output_type": "stream",
          "text": [
            "구구단을 출력할 숫자를 입력하세요(2~9):2\n",
            "2 4 6 8 10 12 14 16 18 "
          ],
          "name": "stdout"
        }
      ]
    },
    {
      "cell_type": "code",
      "metadata": {
        "colab_type": "code",
        "id": "HRX-wvenGdyx",
        "outputId": "9400fff1-f7fa-4525-9246-c57994a37a3c",
        "colab": {
          "base_uri": "https://localhost:8080/",
          "height": 53
        }
      },
      "source": [
        "# [Q7] Code-2\n",
        "\n",
        "num = int(input(\"구구단을 출력할 숫자를 입력하세요(2~9):\"))\n",
        "\n",
        "print(\" \".join([str(num * i) for i in range(1,10)]))"
      ],
      "execution_count": 0,
      "outputs": [
        {
          "output_type": "stream",
          "text": [
            "구구단을 출력할 숫자를 입력하세요(2~9):3\n",
            "3 6 9 12 15 18 21 24 27\n"
          ],
          "name": "stdout"
        }
      ]
    },
    {
      "cell_type": "markdown",
      "metadata": {
        "colab_type": "text",
        "id": "YrS3b88QbmKo"
      },
      "source": [
        "## Q8. 역순 저장\n",
        "> 다음과 같은 내용의 파일 abc.txt가 있다.\n",
        "```\n",
        "AAA\n",
        "BBB\n",
        "CCC\n",
        "DDD\n",
        "EEE\n",
        "```\n",
        "> 이 파일의 내용을 다음과 같이 역순으로 바꾸어 저장하시오.\n",
        "```\n",
        "EEE\n",
        "DDD\n",
        "CCC\n",
        "BBB\n",
        "AAA\n",
        "```"
      ]
    },
    {
      "cell_type": "code",
      "metadata": {
        "colab_type": "code",
        "id": "Ll_2InMWbmKq",
        "colab": {}
      },
      "source": [
        "# [Q8] Code-1\n",
        "\n",
        "f = open('abc.txt', 'r')\n",
        "lines = f.readlines()    # 모든 라인을 읽음\n",
        "f.close()\n",
        "\n",
        "lines.reverse()          # 읽은 라인을 역순으로 정렬\n",
        "\n",
        "f = open('abc.txt', 'w')\n",
        "for line in lines:\n",
        "    line = line.strip()  # 포함되어 있는 줄 바꿈 문자 제거\n",
        "    f.write(line)\n",
        "    f.write('\\n')        # 줄 바꿈 문자 삽입\n",
        "f.close()"
      ],
      "execution_count": 0,
      "outputs": []
    },
    {
      "cell_type": "code",
      "metadata": {
        "colab_type": "code",
        "id": "N3uG53JsHIYX",
        "colab": {}
      },
      "source": [
        "# [Q8] Code-2\n",
        "\n",
        "with open('abc.txt', 'r') as f:\n",
        "    lines = f.readlines()\n",
        "\n",
        "with open('abc.txt', 'w') as f :\n",
        "    for i in lines[::-1]:\n",
        "        f.write(i.strip())\n",
        "        f.write('\\n')\n"
      ],
      "execution_count": 0,
      "outputs": []
    },
    {
      "cell_type": "markdown",
      "metadata": {
        "colab_type": "text",
        "id": "OcSDHHYkK6lZ"
      },
      "source": [
        "## Q9. 평균값 구하기\n",
        "> 다음과 같이 총 10줄로 이루어진 sample.txt 파일이 있다. sample.txt 파일의 숫자 값을 모두 읽어 총합과 평균 값을 구한 후 평균 값을 result.txt 파일에 쓰는 프로그램을 작성하시오.\n",
        "```\n",
        "70\n",
        "60\n",
        "55\n",
        "75\n",
        "95\n",
        "90\n",
        "80\n",
        "80\n",
        "85\n",
        "100\n",
        "```\n"
      ]
    },
    {
      "cell_type": "code",
      "metadata": {
        "colab_type": "code",
        "id": "GmaaVGqrK6le",
        "colab": {}
      },
      "source": [
        "# [Q9] Code-1\n",
        "\n",
        "f = open(\"sample.txt\")\n",
        "lines = f.readlines( )  # sample.txt를 줄 단위로 모두 읽는다.\n",
        "f.close( )\n",
        "\n",
        "total = 0\n",
        "for line in lines:\n",
        "    score = int(line)  # 줄에 적힌 점수를 숫자형으로 변환한다.\n",
        "    total += score\n",
        "average = total / len(lines)\n",
        "\n",
        "f = open(\"result.txt\", \"w\")\n",
        "f.write(str(average))\n",
        "f.close()"
      ],
      "execution_count": 0,
      "outputs": []
    },
    {
      "cell_type": "code",
      "metadata": {
        "colab_type": "code",
        "id": "kgMy9LVYHfRF",
        "colab": {}
      },
      "source": [
        "# [Q9] Code-2\n",
        "\n",
        "with open(\"sample.txt\") as f :\n",
        "    lines = f.readlines()\n",
        "\n",
        "with open(\"result.txt\", \"w\") as f:\n",
        "    average = sum(list(map(lambda x : int(x.strip()), lines)))/len(lines)\n",
        "    f.write(str(average))"
      ],
      "execution_count": 0,
      "outputs": []
    },
    {
      "cell_type": "markdown",
      "metadata": {
        "colab_type": "text",
        "id": "anwB_DjuK60j"
      },
      "source": [
        "## Q10. 사칙연산 계산기\n",
        "> 다음과 같이 동작하는 클래스 Calculator를 작성하시오.\n",
        "```\n",
        ">>> cal1 = Calculator([1,2,3,4,5])\n",
        ">>> cal1.sum() # 합계\n",
        "15\n",
        ">>> cal1.avg() # 평균\n",
        "3.0\n",
        ">>> cal2 = Calculator([6,7,8,9,10])\n",
        ">>> cal2.sum() # 합계\n",
        "40\n",
        ">>> cal2.avg() # 평균\n",
        "8.0\n",
        "```\n"
      ]
    },
    {
      "cell_type": "code",
      "metadata": {
        "colab_type": "code",
        "id": "QJTNoSqtMrIM",
        "outputId": "78bb1de7-0bb4-4a21-fe11-8b78c34043d2",
        "colab": {
          "base_uri": "https://localhost:8080/",
          "height": 89
        }
      },
      "source": [
        "# [Q10] Code-1\n",
        "\n",
        "class Calculator:\n",
        "    def __init__(self, numberList): \n",
        "        self.numberList = numberList\n",
        "\n",
        "    def add(self): \n",
        "        result = 0\n",
        "        for num in self.numberList: \n",
        "            result += num\n",
        "        return result\n",
        "\n",
        "    def avg(self):\n",
        "        total = self.add()\n",
        "        return total / len(self.numberList)\n",
        "\n",
        "cal1 = Calculator([1,2,3,4,5]) \n",
        "print(cal1.add())\n",
        "print(cal1.avg())\n",
        "\n",
        "cal2 = Calculator([6,7,8,9,10]) \n",
        "print(cal2.add())\n",
        "print(cal2.avg())"
      ],
      "execution_count": 0,
      "outputs": [
        {
          "output_type": "stream",
          "text": [
            "15\n",
            "3.0\n",
            "40\n",
            "8.0\n"
          ],
          "name": "stdout"
        }
      ]
    },
    {
      "cell_type": "code",
      "metadata": {
        "colab_type": "code",
        "id": "91hia3WgH2gW",
        "outputId": "d4f97878-f20b-4b9b-b1ab-19e528511b0e",
        "colab": {
          "base_uri": "https://localhost:8080/",
          "height": 89
        }
      },
      "source": [
        "# [Q10] Code-2\n",
        "\n",
        "class Calculator2(object):\n",
        "\n",
        "    def __init__(self, num_list):\n",
        "        self.num_list = num_list\n",
        "    \n",
        "    def add(self):\n",
        "        return sum(self.num_list)\n",
        "\n",
        "    def avg(self):\n",
        "        return sum(self.num_list)/len(self.num_list)\n",
        "\n",
        "cal1 = Calculator2([1,2,3,4,5]) \n",
        "print (cal1.add())\n",
        "print (cal1.avg())\n",
        "\n",
        "cal2 = Calculator2([6,7,8,9,10]) \n",
        "print (cal2.add())\n",
        "print (cal2.avg())"
      ],
      "execution_count": 0,
      "outputs": [
        {
          "output_type": "stream",
          "text": [
            "15\n",
            "3.0\n",
            "40\n",
            "8.0\n"
          ],
          "name": "stdout"
        }
      ]
    },
    {
      "cell_type": "markdown",
      "metadata": {
        "id": "om4sRiRhMosn",
        "colab_type": "text"
      },
      "source": [
        "\n",
        "\n",
        "---\n",
        "\n",
        "# 다음부터는 다음 주 (wk11)에 완성."
      ]
    },
    {
      "cell_type": "markdown",
      "metadata": {
        "id": "gNnjBaJvH_51",
        "colab_type": "text"
      },
      "source": [
        "\n",
        "\n",
        "---\n",
        "\n",
        "\n"
      ]
    },
    {
      "cell_type": "markdown",
      "metadata": {
        "colab_type": "text",
        "id": "8xQf6xJ4K7M_"
      },
      "source": [
        "## Q11. 모듈 사용 방법\n",
        "> ./doit 디렉터리에 mymod.py 파이썬 모듈이 있다고 가정해 보자. 명령 프롬프트 창에서 파이썬 셸을 열어 이 모듈을 import해서 사용할 수 있는 방법을 모두 기술하시오. (즉 다음과 같이 import mymod를 수행할 때 오류가 없어야 한다.)\n",
        "```\n",
        ">>> import mymod\n",
        ">>>\n",
        "```"
      ]
    },
    {
      "cell_type": "code",
      "metadata": {
        "colab_type": "code",
        "id": "4zv7LXPjJiCH",
        "colab": {}
      },
      "source": [
        "!mkdir doit\n",
        "# 실행 후 새로 고침!\n",
        "# mymod.py 를 업로드한다."
      ],
      "execution_count": 0,
      "outputs": []
    },
    {
      "cell_type": "code",
      "metadata": {
        "colab_type": "code",
        "id": "JA_3n4g8JiB7",
        "colab": {}
      },
      "source": [
        "!mv mymod.py ./doit\n",
        "# 실행 후 새로 고침!"
      ],
      "execution_count": 0,
      "outputs": []
    },
    {
      "cell_type": "code",
      "metadata": {
        "colab_type": "code",
        "id": "UCO7aRh5Msx6",
        "colab": {}
      },
      "source": [
        "# [Q11] Code-1\n",
        "# sys모듈 사용하기\n",
        "\n",
        "import sys\n",
        "sys.path.append(\"doit\")\n",
        "import mymod\n"
      ],
      "execution_count": 0,
      "outputs": []
    },
    {
      "cell_type": "code",
      "metadata": {
        "colab_type": "code",
        "id": "aX_wLb53IgUl",
        "colab": {}
      },
      "source": [
        "# [Q11] Code-2\n",
        "# 현재 디렉터리 사용하기\n",
        "\n",
        "import mymod\n"
      ],
      "execution_count": 0,
      "outputs": []
    },
    {
      "cell_type": "markdown",
      "metadata": {
        "colab_type": "text",
        "id": "Q6QYCZ9HM3DW"
      },
      "source": [
        "## Q12. 오류와 예외 처리\n",
        "> 다음 코드의 실행 결과를 예측하고 그 이유에 대해 설명하시오.\n",
        "\n",
        "```\n",
        "result = 0\n",
        "\n",
        "try:\n",
        "    [1, 2, 3][3]\n",
        "    \"a\"+1\n",
        "    4 / 0\n",
        "except TypeError:\n",
        "    result += 1\n",
        "except ZeroDivisionError:\n",
        "    result += 2\n",
        "except IndexError:\n",
        "    result += 3\n",
        "finally:\n",
        "    result += 4\n",
        "\n",
        "print(result)\n",
        "```\n"
      ]
    },
    {
      "cell_type": "code",
      "metadata": {
        "id": "hDf0Js4KLOrl",
        "colab_type": "code",
        "outputId": "d875a47b-c68b-4cfd-816e-da51c10f204c",
        "colab": {
          "base_uri": "https://localhost:8080/",
          "height": 35
        }
      },
      "source": [
        "# [Q12] Explain (코드와 주석으로 설명하시오)\n",
        "result = 0\n",
        " \n",
        "try:\n",
        "    [1, 2, 3][3] # IndexError, 인덱스의 사용법이 잘못되었음\n",
        "    \"a\"+1 # TypeError, 문자열타입과 숫자 타입은 덧셈이 불가능함\n",
        "    4 / 0 # ZeroDivisionError # 정수를 0으로 나눌 때 발생함\n",
        "except TypeError:\n",
        "    result += 1\n",
        "except ZeroDivisionError:\n",
        "    result += 2\n",
        "except IndexError:\n",
        "    result += 3\n",
        "finally: # 예외처리와 관계없이 무조건 실행되는 블럭\n",
        "    result += 4\n",
        " \n",
        "print(result)\n"
      ],
      "execution_count": 0,
      "outputs": [
        {
          "output_type": "stream",
          "text": [
            "7\n"
          ],
          "name": "stdout"
        }
      ]
    },
    {
      "cell_type": "markdown",
      "metadata": {
        "colab_type": "text",
        "id": "x2IYgozSM3gd"
      },
      "source": [
        "## Q13. DashInsert 함수\n",
        "> DashInsert 함수는 숫자로 구성된 문자열을 입력받은 뒤 문자열 안에서 홀수가 연속되면 두 수 사이에 - 를 추가하고, 짝수가 연속되면 * 를 추가하는 기능을 갖고 있다. DashInsert 함수를 완성하시오.\n",
        "```\n",
        "입력 예시: 4546793\n",
        "출력 예시: 454*67-9-3\n",
        "```\n"
      ]
    },
    {
      "cell_type": "code",
      "metadata": {
        "colab_type": "code",
        "id": "FiKNOu9HM3DX",
        "outputId": "e67f647d-cb46-4cd4-832b-64db87ebc82e",
        "colab": {
          "base_uri": "https://localhost:8080/",
          "height": 35
        }
      },
      "source": [
        "# [Q13] Code-1\n",
        "\n",
        "data = \"4546793\"\n",
        "numbers = list(map(int, data))   # 숫자 문자열을 숫자 리스트로 변경\n",
        "result = []\n",
        "\n",
        "for i, num in enumerate(numbers):\n",
        "    result.append(str(num))\n",
        "    if i < len(numbers)-1:                   # 다음 수가 있다면\n",
        "        is_odd = num % 2 == 1                # 현재 수가 홀수\n",
        "        is_next_odd = numbers[i+1] % 2 == 1  # 다음 수가 홀수\n",
        "        if is_odd and is_next_odd:           # 연속 홀수\n",
        "            result.append(\"-\")\n",
        "        elif not is_odd and not is_next_odd: # 연속 짝수\n",
        "            result.append(\"*\")\n",
        "\n",
        "print(\"\".join(result))"
      ],
      "execution_count": 0,
      "outputs": [
        {
          "output_type": "stream",
          "text": [
            "454*67-9-3\n"
          ],
          "name": "stdout"
        }
      ]
    },
    {
      "cell_type": "code",
      "metadata": {
        "colab_type": "code",
        "id": "d_hmy1RZLqBg",
        "outputId": "152b51ec-4d3a-435d-a80e-9a86eb9852b0",
        "colab": {
          "base_uri": "https://localhost:8080/",
          "height": 35
        }
      },
      "source": [
        "# [Q13] Code-2\n",
        "\n",
        "from functools import reduce\n",
        "\n",
        "print(reduce(lambda x, y: x + [\"*\",\"\",\"-\"][int(x[-1]) % 2 + int(y) % 2] + y, \"4546793\"))\n",
        "# [\"*\",\"\",\"-\"][0] 은 a = [\"*\",\"\",\"-\"] , a[0]과 같은 코드\n",
        "# reduce함수는 값을 중첩시킨다."
      ],
      "execution_count": 0,
      "outputs": [
        {
          "output_type": "stream",
          "text": [
            "454*67-9-3\n"
          ],
          "name": "stdout"
        }
      ]
    },
    {
      "cell_type": "markdown",
      "metadata": {
        "colab_type": "text",
        "id": "HDbz71sNL2Qt"
      },
      "source": [
        "## Q14. 문자열 압축하기\n",
        "> 문자열을 입력받아 같은 문자가 연속적으로 반복되는 경우에 그 반복 횟수를 표시해 문자열을 압축하여 표시하시오.\n",
        "```\n",
        "입력 예시: aaabbcccccca\n",
        "출력 예시: a3b2c6a1\n",
        "```\n",
        "\n"
      ]
    },
    {
      "cell_type": "code",
      "metadata": {
        "colab_type": "code",
        "id": "Hs88sVjjL2Qw",
        "outputId": "35db875c-4442-4ef8-fa9b-4eaa2ff7d28d",
        "colab": {
          "base_uri": "https://localhost:8080/",
          "height": 35
        }
      },
      "source": [
        "# [Q14] Code-1\n",
        "def compress_string(s):\n",
        "    _c = \"\"\n",
        "    cnt = 0\n",
        "    result = \"\"\n",
        "    for c in s:\n",
        "        if c!=_c:\n",
        "            _c = c\n",
        "            if cnt: \n",
        "                result += str(cnt)\n",
        "            result += c\n",
        "            cnt = 1\n",
        "        else:\n",
        "            cnt +=1\n",
        "    if cnt: \n",
        "        result += str(cnt)\n",
        "    return result\n",
        "\n",
        "print (compress_string(\"aaabbcccccca\"))  # a3b2c6a1 출력\n"
      ],
      "execution_count": 0,
      "outputs": [
        {
          "output_type": "stream",
          "text": [
            "a3b2c6a1\n"
          ],
          "name": "stdout"
        }
      ]
    },
    {
      "cell_type": "code",
      "metadata": {
        "colab_type": "code",
        "id": "XF4F0DW0L2Q1",
        "outputId": "ce1c7026-9f10-4392-8a97-5eb0aca373f3",
        "colab": {
          "base_uri": "https://localhost:8080/",
          "height": 35
        }
      },
      "source": [
        "# [Q14] Code-2\n",
        "\n",
        "data = \"aaabbcccccca\" + chr(32) # 끝에 공백 추가 함으로써 마지막까지 탐색 가능\n",
        "rst = ''\n",
        "count = 1\n",
        "\n",
        "for i in range(len(data) - 1):\n",
        "    if data[i] == data[i + 1]:\n",
        "        count += 1\n",
        "    else:\n",
        "        rst += data[i] + str(count)\n",
        "        count = 1\n",
        "print(rst)\n",
        "\n",
        "\n"
      ],
      "execution_count": 0,
      "outputs": [
        {
          "output_type": "stream",
          "text": [
            "a3b2c6a1\n"
          ],
          "name": "stdout"
        }
      ]
    },
    {
      "cell_type": "code",
      "metadata": {
        "id": "rBkTtPjsz_Um",
        "colab_type": "code",
        "outputId": "9f45526f-107d-4f0c-dd95-d204f98d906a",
        "colab": {
          "base_uri": "https://localhost:8080/",
          "height": 54
        }
      },
      "source": [
        "# [Q14] Code-3\n",
        "\n",
        "import re\n",
        "\n",
        "data1 = \"aaabbcccccca\"\n",
        "rst1 = \"\"\n",
        "# r 문자는 raw string으로 백슬래시 문자를 해석하지 않고 남겨두기 때문에 정규표현식과 같은 곳에 유용하다. \n",
        "# findall : string에서 pattern과 매치되는 모든 경우를 찾아 리스트로 반환 \n",
        "filted = re.findall(r\"(\\w)(\\1*)\", data1) # \\\\w -> \\w(영숫자 문자에 대응), \\\\1* -> \\1* (한개이상의 문자)\n",
        "# 1+가 되면 문자가 1개만 있을때 매칭이 되지않음\n",
        "\n",
        "for x, y in filted:\n",
        "\n",
        "    rst1 += x\n",
        "\n",
        "    if not len(y) == 0:\n",
        "        rst1 += str(len(y) + 1)  \n",
        "    else :\n",
        "        rst1 += str(1) \n",
        "\n",
        "print(rst1)\n",
        "print(filted)"
      ],
      "execution_count": 0,
      "outputs": [
        {
          "output_type": "stream",
          "text": [
            "a3b2c6a1\n",
            "[('a', 'aa'), ('b', 'b'), ('c', 'ccccc'), ('a', '')]\n"
          ],
          "name": "stdout"
        }
      ]
    },
    {
      "cell_type": "code",
      "metadata": {
        "id": "ULg0wuJ79t_k",
        "colab_type": "code",
        "outputId": "39be3229-77b1-474c-dacd-0668bf4903ae",
        "colab": {
          "base_uri": "https://localhost:8080/",
          "height": 54
        }
      },
      "source": [
        "# [Q14] Code-4\n",
        "\n",
        "import re\n",
        "\n",
        "data2 = \"aaabbcccccca\"\n",
        "rst2 = \"\"\n",
        " \n",
        "filted = re.findall(r\"((\\w)\\2*)\", data1)\n",
        "\n",
        "for x, y in filted:\n",
        "\n",
        "    rst2 += y\n",
        "\n",
        "    if not len(x) == 0:\n",
        "        rst2 += str(len(x))  \n",
        "\n",
        "print(rst2)\n",
        "print(filted)"
      ],
      "execution_count": 0,
      "outputs": [
        {
          "output_type": "stream",
          "text": [
            "a3b2c6a1\n",
            "[('aaa', 'a'), ('bb', 'b'), ('cccccc', 'c'), ('a', 'a')]\n"
          ],
          "name": "stdout"
        }
      ]
    },
    {
      "cell_type": "code",
      "metadata": {
        "id": "DA-DPmGf8qDH",
        "colab_type": "code",
        "outputId": "3b60bea6-b3ad-405b-ed11-38fcffa50057",
        "colab": {
          "base_uri": "https://localhost:8080/",
          "height": 35
        }
      },
      "source": [
        "# [Q14] Code-5\n",
        "\n",
        "import re, functools\n",
        "\n",
        "# str.__add__ :  문자열의 덧셈을 구현\n",
        "# reduce(function, iterable[, initializer])\n",
        "\n",
        "data3 = \"aaabbcccccca\"\n",
        "\n",
        "print(functools.reduce(str.__add__, (y+str(len(x)) for x,y in re.findall(r\"((\\w)\\2*)\", data3))))"
      ],
      "execution_count": 0,
      "outputs": [
        {
          "output_type": "stream",
          "text": [
            "a3b2c6a1\n"
          ],
          "name": "stdout"
        }
      ]
    },
    {
      "cell_type": "markdown",
      "metadata": {
        "colab_type": "text",
        "id": "tCF274jtL3Vk"
      },
      "source": [
        "## Q15. Duplicate Numbers\n",
        "> 0 ~ 9의 문자로 된 숫자를 입력받았을 때, 이 입력값이 0 ~ 9의 모든 숫자를 각각 한 번씩만 사용한 것인지 확인하는 함수를 작성하시오.\n",
        "```\n",
        "입력 예시: 0123456789 01234 01234567890 6789012345 012322456789\n",
        "출력 예시: true false false true false\n",
        "```\n"
      ]
    },
    {
      "cell_type": "code",
      "metadata": {
        "colab_type": "code",
        "id": "3uQFw6jGL3Vm",
        "outputId": "3cbb7fc0-9998-4fa3-a8d7-d149badc5e5e",
        "colab": {
          "base_uri": "https://localhost:8080/",
          "height": 108
        }
      },
      "source": [
        "# [Q15] Code-1\n",
        "\n",
        "def chkDupNum(s):\n",
        "    result = []\n",
        "    for num in s:\n",
        "        if num not in result:\n",
        "            result.append(num)\n",
        "        else:\n",
        "            return False\n",
        "    return len(result) == 10\n",
        "\n",
        "print(chkDupNum(\"0123456789\"))      # True 리턴\n",
        "print(chkDupNum(\"01234\"))           # False 리턴\n",
        "print(chkDupNum(\"01234567890\"))     # False 리턴\n",
        "print(chkDupNum(\"6789012345\"))      # True 리턴\n",
        "print(chkDupNum(\"012322456789\"))    # False 리턴"
      ],
      "execution_count": 0,
      "outputs": [
        {
          "output_type": "stream",
          "text": [
            "True\n",
            "False\n",
            "False\n",
            "True\n",
            "False\n"
          ],
          "name": "stdout"
        }
      ]
    },
    {
      "cell_type": "code",
      "metadata": {
        "colab_type": "code",
        "id": "Bdt_UGgZL3Vr",
        "outputId": "82749171-48d0-4016-f1b1-0c0e44f3f3a4",
        "colab": {
          "base_uri": "https://localhost:8080/",
          "height": 108
        }
      },
      "source": [
        "# [Q15] Code-2\n",
        "\n",
        "def chkDupNum2(s):\n",
        "\n",
        "    dump = [0, 1, 2, 3, 4, 5, 6, 7, 8, 9]\n",
        "    dump2 = []\n",
        "\n",
        "    for i in range(len(s)):\n",
        "        dump2.append(int(s[i]))\n",
        "\n",
        "    dump2 = sorted(dump2)\n",
        "\n",
        "    if dump == dump2 :\n",
        "        return \"True\"\n",
        "    else :\n",
        "        return \"False\"\n",
        "\n",
        "\n",
        "print(chkDupNum2(\"0123456789\")) # True 리턴\n",
        "print(chkDupNum2(\"01234\"))  # False 리턴\n",
        "print(chkDupNum2(\"01234567890\"))  # False 리턴\n",
        "print(chkDupNum2(\"6789012345\"))  # True 리턴\n",
        "print(chkDupNum2(\"012322456789\"))  # False 리턴"
      ],
      "execution_count": 97,
      "outputs": [
        {
          "output_type": "stream",
          "text": [
            "True\n",
            "False\n",
            "False\n",
            "True\n",
            "False\n"
          ],
          "name": "stdout"
        }
      ]
    },
    {
      "cell_type": "code",
      "metadata": {
        "id": "2KA0EKr4F6MA",
        "colab_type": "code",
        "colab": {
          "base_uri": "https://localhost:8080/",
          "height": 108
        },
        "outputId": "b340463d-9ac5-4c8a-9724-d5e3a4c90630"
      },
      "source": [
        "# [Q15] Code-3\n",
        "\n",
        "def chkDupNum3(s):\n",
        "\n",
        "    return \"True\" if len(set(s)) == 10 and len(s) == 10 else \"False\"\n",
        "\n",
        "print(chkDupNum3(\"0123456789\")) # True 리턴\n",
        "print(chkDupNum3(\"01234\"))  # False 리턴\n",
        "print(chkDupNum3(\"01234567890\"))  # False 리턴\n",
        "print(chkDupNum3(\"6789012345\"))  # True 리턴\n",
        "print(chkDupNum3(\"012322456789\"))  # False 리턴"
      ],
      "execution_count": 108,
      "outputs": [
        {
          "output_type": "stream",
          "text": [
            "True\n",
            "False\n",
            "False\n",
            "True\n",
            "False\n"
          ],
          "name": "stdout"
        }
      ]
    },
    {
      "cell_type": "markdown",
      "metadata": {
        "colab_type": "text",
        "id": "QdPWKi1gL4UE"
      },
      "source": [
        "## Q16. 모스 부호 해독\n",
        "> 문자열 형식으로 입력받은 모스 부호(dot:. dash:-)를 해독하여 영어 문장으로 출력하는 프로그램을 작성하시오.\n",
        "\n",
        "- 글자와 글자 사이는 공백 1개, 단어와 단어 사이는 공백 2개로 구분한다.\n",
        "- 예를 들어 다음 모스 부호는 \"HE SLEEPS EARLY\"로 해석해야 한다.\n",
        "```\n",
        ".... .  ... .-.. . . .--. ...  . .- .-. .-.. -.--\n",
        "```\n",
        "> 모스부호 규칙 표\n",
        "```\n",
        "문자 부호\t문자   부호\n",
        "A\t .-\t    N\t    -.\n",
        "B\t -...\tO\t    ---\n",
        "C\t -.-.\tP\t    .--.\n",
        "D\t -..\tQ\t    --.-\n",
        "E\t .\t    R\t    .-.\n",
        "F\t ..-.\tS\t    ...\n",
        "G\t --.\tT\t    -\n",
        "H\t ....\tU\t    ..-\n",
        "I\t ..\t    V\t    ...-\n",
        "J\t .---\tW\t    .--\n",
        "K\t -.-\tX\t    -..-\n",
        "L\t .-..\tY\t    -.--\n",
        "M\t --\t    Z\t    --..\n",
        "```"
      ]
    },
    {
      "cell_type": "code",
      "metadata": {
        "colab_type": "code",
        "id": "ciZbyRFrL4UF",
        "colab": {
          "base_uri": "https://localhost:8080/",
          "height": 35
        },
        "outputId": "17d27642-16a6-4028-c292-d6935fa239fa"
      },
      "source": [
        "# [Q16] Code-1\n",
        "\n",
        "dic = {\n",
        "    '.-':'A','-...':'B','-.-.':'C','-..':'D','.':'E','..-.':'F',\n",
        "    '--.':'G','....':'H','..':'I','.---':'J','-.-':'K','.-..':'L',\n",
        "    '--':'M','-.':'N','---':'O','.--.':'P','--.-':'Q','.-.':'R',\n",
        "    '...':'S','-':'T','..-':'U','...-':'V','.--':'W','-..-':'X',\n",
        "    '-.--':'Y','--..':'Z'\n",
        "}\n",
        "\n",
        "def morse(src):\n",
        "    result = []\n",
        "    for word in src.split(\"  \"):\n",
        "        for char in word.split(\" \"):\n",
        "            result.append(dic[char])\n",
        "        result.append(\" \")\n",
        "    return \"\".join(result)\n",
        "\n",
        "\n",
        "print(morse('.... .  ... .-.. . . .--. ...  . .- .-. .-.. -.--'))\n"
      ],
      "execution_count": 109,
      "outputs": [
        {
          "output_type": "stream",
          "text": [
            "HE SLEEPS EARLY \n"
          ],
          "name": "stdout"
        }
      ]
    },
    {
      "cell_type": "code",
      "metadata": {
        "colab_type": "code",
        "id": "x9-Qq3mVL4UJ",
        "colab": {
          "base_uri": "https://localhost:8080/",
          "height": 35
        },
        "outputId": "4e3ae460-fd7b-439a-866e-ec5994f0fa5b"
      },
      "source": [
        "# [Q16] Code-2\n",
        "\n",
        "dic = {'.-':'A','-...':'B','-.-.':'C','-..':'D','.':'E','..-.':'F',\n",
        "    '--.':'G','....':'H','..':'I','.---':'J','-.-':'K','.-..':'L',\n",
        "    '--':'M','-.':'N','---':'O','.--.':'P','--.-':'Q','.-.':'R',\n",
        "    '...':'S','-':'T','..-':'U','...-':'V','.--':'W','-..-':'X',\n",
        "    '-.--':'Y','--..':'Z'\n",
        "}\n",
        "\n",
        "morse = \".... .  ... .-.. . . .--. ...  . .- .-. .-.. -.--\"\n",
        "\n",
        "word = morse.split(\" \")\n",
        "\n",
        "for i in word:\n",
        "\n",
        "    if i == '':\n",
        "        print(' ', end='')\n",
        "    else :\n",
        "        print(dic[i], end='')\n"
      ],
      "execution_count": 129,
      "outputs": [
        {
          "output_type": "stream",
          "text": [
            "HE SLEEPS EARLY"
          ],
          "name": "stdout"
        }
      ]
    },
    {
      "cell_type": "markdown",
      "metadata": {
        "id": "nazB2KXYOm5R",
        "colab_type": "text"
      },
      "source": [
        "## Regular Expression\n",
        "- import re"
      ]
    },
    {
      "cell_type": "markdown",
      "metadata": {
        "colab_type": "text",
        "id": "AN8kEO30L5NE"
      },
      "source": [
        "## Q17. 기초 메타 문자\n",
        "> 다음 중 정규식 a[.]{3,}b과 매치되는 문자열은 무엇일까?\n",
        "\n",
        "\n",
        "```\n",
        "acccb\n",
        "a....b\n",
        "aaab\n",
        "a.cccb\n",
        "```\n"
      ]
    },
    {
      "cell_type": "code",
      "metadata": {
        "colab_type": "code",
        "id": "uKQWoUqhL5NG",
        "colab": {
          "base_uri": "https://localhost:8080/",
          "height": 90
        },
        "outputId": "213b633b-062c-408e-e663-05652873cf5c"
      },
      "source": [
        "# [Q17] Code\n",
        "\n",
        "import re\n",
        "\n",
        "# a[.]{3,}b => a와 b사이에 .이 3개 이상\n",
        "\n",
        "print(re.match(\"a[.]{3,}b\",\"acccb\"))# None\n",
        "print(re.match(\"a[.]{3,}b\",\"a....b\"))# 매치 객체 출력\n",
        "print(re.match(\"a[.]{3,}b\",\"aaab\"))# None\n",
        "print(re.match(\"a[.]{3,}b\",\"a.cccb\"))# None"
      ],
      "execution_count": 131,
      "outputs": [
        {
          "output_type": "stream",
          "text": [
            "None\n",
            "<_sre.SRE_Match object; span=(0, 6), match='a....b'>\n",
            "None\n",
            "None\n"
          ],
          "name": "stdout"
        }
      ]
    },
    {
      "cell_type": "markdown",
      "metadata": {
        "colab_type": "text",
        "id": "0dEWfwATL6DE"
      },
      "source": [
        "## Q18. 문자열 검색\n",
        "> 다음 코드의 결괏값은 무엇일까?\n",
        "\n",
        "```\n",
        ">>> import re\n",
        ">>> p = re.compile(\"[a-z]+\")\n",
        ">>> m = p.search(\"5 python\")\n",
        ">>> m.start() + m.end()\n",
        "```\n"
      ]
    },
    {
      "cell_type": "code",
      "metadata": {
        "colab_type": "code",
        "id": "Ip11Dmo7L6DH",
        "colab": {
          "base_uri": "https://localhost:8080/",
          "height": 35
        },
        "outputId": "a10f0f22-95e5-4d8f-83ee-d9220fcba556"
      },
      "source": [
        "# [Q18] Code\n",
        "\n",
        "import re\n",
        "p = re.compile(\"[a-z]+\")\n",
        "m = p.search(\"5 python\")\n",
        "m.start() + m.end() # 시작인덱스는 2 이고 마지막 인덱스는 8 이므로 합이 10이 출력된다."
      ],
      "execution_count": 133,
      "outputs": [
        {
          "output_type": "execute_result",
          "data": {
            "text/plain": [
              "10"
            ]
          },
          "metadata": {
            "tags": []
          },
          "execution_count": 133
        }
      ]
    },
    {
      "cell_type": "markdown",
      "metadata": {
        "colab_type": "text",
        "id": "8QizaqrUL62E"
      },
      "source": [
        "## Q19. 그루핑\n",
        "> 다음과 같은 문자열에서 휴대폰 번호 뒷자리인 숫자 4개를 ####로 바꾸는 프로그램을 정규식을 사용하여 작성하시오.\n",
        "\n",
        "```\n",
        "park 010-9999-9988\n",
        "kim 010-9909-7789\n",
        "lee 010-8789-7768\n",
        "```\n"
      ]
    },
    {
      "cell_type": "code",
      "metadata": {
        "colab_type": "code",
        "id": "bfRvchIlL62H",
        "colab": {
          "base_uri": "https://localhost:8080/",
          "height": 108
        },
        "outputId": "3dac5f70-a7c5-47c8-9ac9-8193a2723234"
      },
      "source": [
        "# [Q19] Code\n",
        "\n",
        "import re\n",
        "\n",
        "s = \"\"\"\n",
        "park 010-9999-9988\n",
        "kim 010-9909-7789\n",
        "lee 010-8789-7768\n",
        "\"\"\"\n",
        "\n",
        "pat = re.compile(\"(\\d{3}[-]\\d{4})[-]\\d{4}\")\n",
        "# re.sub(pattern, repl, string, count, flags)\n",
        "# 명명그룹 : \\g<name>\n",
        "# \\g<1> => 비 명명그룹\n",
        "result = pat.sub(\"\\g<1>-####\", s)\n",
        "\n",
        "print(result)"
      ],
      "execution_count": 134,
      "outputs": [
        {
          "output_type": "stream",
          "text": [
            "\n",
            "park 010-9999-####\n",
            "kim 010-9909-####\n",
            "lee 010-8789-####\n",
            "\n"
          ],
          "name": "stdout"
        }
      ]
    },
    {
      "cell_type": "markdown",
      "metadata": {
        "colab_type": "text",
        "id": "0DumiUQoL7jk"
      },
      "source": [
        "## Q20. 전방 탐색\n",
        "> 다음은 이메일 주소를 나타내는 정규식이다. 이 정규식은 park@naver.com, kim@daum.net, lee@myhome.co.kr 등과 매치된다. 긍정형 전방 탐색 기법을 사용하여 .com, .net이 아닌 이메일 주소는 제외시키는 정규식을 작성하시오.\n",
        "\n",
        "```\n",
        ".*[@].*[.].*$\n",
        "```\n"
      ]
    },
    {
      "cell_type": "code",
      "metadata": {
        "colab_type": "code",
        "id": "9S9UUOkFL7jl",
        "colab": {
          "base_uri": "https://localhost:8080/",
          "height": 72
        },
        "outputId": "7e15963e-8d13-4cf6-98c3-b81c7dda0f4c"
      },
      "source": [
        "# [Q20] Code\n",
        "\n",
        "import re\n",
        "\n",
        " # [.] -> 마침표, [@] -> @\n",
        " # . 은 줄바꿈 문자를 제외한 모든 문자와 매칭 \n",
        " # * 앞에오는 문자가 0개를 포함하여 몇개가 오든 매치됨.\n",
        " # ? 앞에 있는 문자가 없거나 하나 있을 때 매치된다.\n",
        " # $ 문자열의 제일 마지막과 매치 \n",
        "pat = re.compile(\".*[@].*[.](?=com$|net$).*$\")\n",
        "\n",
        "print(pat.match(\"pahkey@gmail.com\"))\n",
        "print(pat.match(\"kim@daum.net\"))\n",
        "print(pat.match(\"lee@myhome.co.kr\"))"
      ],
      "execution_count": 135,
      "outputs": [
        {
          "output_type": "stream",
          "text": [
            "<_sre.SRE_Match object; span=(0, 16), match='pahkey@gmail.com'>\n",
            "<_sre.SRE_Match object; span=(0, 12), match='kim@daum.net'>\n",
            "None\n"
          ],
          "name": "stdout"
        }
      ]
    },
    {
      "cell_type": "markdown",
      "metadata": {
        "id": "2ljBDShkbqZO",
        "colab_type": "text"
      },
      "source": [
        "## 코딩 연습 결과를 github에 올리기\n",
        "> 완성된 ipython 노트북 파일을 각자의 github에 올리시오.\n",
        "\n",
        "- github 계정 만들기 (계정이 없는 학생)\n",
        "    1. github에 sign up (Google gmail 계정을 이용해서 만드시오.)\n",
        "- github에 노트 올리기\n",
        "    2. github에 각자의 id로 repo를 만드시오. (한번 만들면 계속 재사용)\n",
        "    3. github repo에 연습결과 노트를 올리시오.\n",
        "        - 제출노트: ch8_exercises_id.ipynb\n"
      ]
    },
    {
      "cell_type": "code",
      "metadata": {
        "id": "OnCR-YNCc8B6",
        "colab_type": "code",
        "colab": {}
      },
      "source": [
        ""
      ],
      "execution_count": 0,
      "outputs": []
    }
  ]
}