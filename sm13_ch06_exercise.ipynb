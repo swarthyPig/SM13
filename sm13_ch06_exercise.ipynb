{
  "nbformat": 4,
  "nbformat_minor": 0,
  "metadata": {
    "colab": {
      "name": "sm13_ch06_exercise.ipynb",
      "provenance": [],
      "collapsed_sections": [],
      "include_colab_link": true
    },
    "kernelspec": {
      "name": "python3",
      "display_name": "Python 3"
    }
  },
  "cells": [
    {
      "cell_type": "markdown",
      "metadata": {
        "id": "view-in-github",
        "colab_type": "text"
      },
      "source": [
        "<a href=\"https://colab.research.google.com/github/swarthyPig/SM13/blob/master/sm13_ch06_exercise.ipynb\" target=\"_parent\"><img src=\"https://colab.research.google.com/assets/colab-badge.svg\" alt=\"Open In Colab\"/></a>"
      ]
    },
    {
      "cell_type": "markdown",
      "metadata": {
        "id": "TwImiNtRPO5d",
        "colab_type": "text"
      },
      "source": [
        "# 06장 파이썬 프로그래밍, 어떻게 시작해야 될까?"
      ]
    },
    {
      "cell_type": "markdown",
      "metadata": {
        "id": "nYfKJ2zPPC3d",
        "colab_type": "text"
      },
      "source": [
        "## 06-1\n",
        "### 내가 프로그램을 만들 수 있을까?"
      ]
    },
    {
      "cell_type": "code",
      "metadata": {
        "id": "38qu5sN_PvgF",
        "colab_type": "code",
        "colab": {
          "base_uri": "https://localhost:8080/",
          "height": 35
        },
        "outputId": "6888b81e-7379-45ad-8a01-265578a5f34c"
      },
      "source": [
        "def GuGu(n):\n",
        "    result = []\n",
        "    i = 1\n",
        "    while i < 10:\n",
        "        result.append(n * i)\n",
        "        i = i + 1\n",
        "    return result\n",
        "\n",
        "print(GuGu(2))"
      ],
      "execution_count": 1,
      "outputs": [
        {
          "output_type": "stream",
          "text": [
            "[2, 4, 6, 8, 10, 12, 14, 16, 18]\n"
          ],
          "name": "stdout"
        }
      ]
    },
    {
      "cell_type": "code",
      "metadata": {
        "id": "I8GkuTeHQVcO",
        "colab_type": "code",
        "colab": {
          "base_uri": "https://localhost:8080/",
          "height": 35
        },
        "outputId": "6b8b3cfa-1285-4368-9124-d22a48143d55"
      },
      "source": [
        "def GuGu2(n):\n",
        "    result = []\n",
        "    for i in range(1, 10):\n",
        "        result.append(i*n)\n",
        "    return result\n",
        "\n",
        "print(GuGu2(2))"
      ],
      "execution_count": 7,
      "outputs": [
        {
          "output_type": "stream",
          "text": [
            "[2, 4, 6, 8, 10, 12, 14, 16, 18]\n"
          ],
          "name": "stdout"
        }
      ]
    },
    {
      "cell_type": "code",
      "metadata": {
        "id": "vF9Bhg95QeOV",
        "colab_type": "code",
        "colab": {
          "base_uri": "https://localhost:8080/",
          "height": 35
        },
        "outputId": "13bcff68-4fe5-484d-a77e-c841d16c0ef8"
      },
      "source": [
        "def GuGu3(n):\n",
        "    return [n * i for i in range(1,10)]\n",
        "\n",
        "print(GuGu3(2))"
      ],
      "execution_count": 6,
      "outputs": [
        {
          "output_type": "stream",
          "text": [
            "[2, 4, 6, 8, 10, 12, 14, 16, 18]\n"
          ],
          "name": "stdout"
        }
      ]
    },
    {
      "cell_type": "code",
      "metadata": {
        "id": "218Hc83aRFRt",
        "colab_type": "code",
        "colab": {
          "base_uri": "https://localhost:8080/",
          "height": 35
        },
        "outputId": "c0c5ba02-0112-41c6-ff43-dce550b30289"
      },
      "source": [
        "def GuGu4(n):\n",
        "    return list(map(lambda x:x*n, range(1,10)))\n",
        "\n",
        "print(GuGu4(2))"
      ],
      "execution_count": 5,
      "outputs": [
        {
          "output_type": "stream",
          "text": [
            "[2, 4, 6, 8, 10, 12, 14, 16, 18]\n"
          ],
          "name": "stdout"
        }
      ]
    },
    {
      "cell_type": "markdown",
      "metadata": {
        "id": "_ca18sAHPa31",
        "colab_type": "text"
      },
      "source": [
        "## 06-2\n",
        "### 3과 5의 배수 합하기"
      ]
    },
    {
      "cell_type": "code",
      "metadata": {
        "id": "xAzr1qvNRu1H",
        "colab_type": "code",
        "colab": {
          "base_uri": "https://localhost:8080/",
          "height": 35
        },
        "outputId": "a5490c13-502a-4a46-98a6-8fdb79ca1718"
      },
      "source": [
        "result = 0\n",
        "\n",
        "for n in range(1, 1000):\n",
        "    if n % 3 == 0 or n % 5 == 0:\n",
        "        result += n\n",
        "        \n",
        "print(result)"
      ],
      "execution_count": 9,
      "outputs": [
        {
          "output_type": "stream",
          "text": [
            "233168\n"
          ],
          "name": "stdout"
        }
      ]
    },
    {
      "cell_type": "code",
      "metadata": {
        "id": "YGeqYTmuS1WN",
        "colab_type": "code",
        "colab": {
          "base_uri": "https://localhost:8080/",
          "height": 35
        },
        "outputId": "044c0efb-2b92-4d05-f85b-fe0c5393c004"
      },
      "source": [
        "result2 = 0\n",
        "\n",
        "n2 = 1\n",
        "while n2 < 1000:\n",
        "    if n2 % 3 == 0 or n2 % 5 == 0:\n",
        "        result2 += n2\n",
        "    n2 += 1\n",
        "\n",
        "print(result2)"
      ],
      "execution_count": 11,
      "outputs": [
        {
          "output_type": "stream",
          "text": [
            "233168\n"
          ],
          "name": "stdout"
        }
      ]
    },
    {
      "cell_type": "code",
      "metadata": {
        "id": "MphbKr1NTeZ1",
        "colab_type": "code",
        "colab": {
          "base_uri": "https://localhost:8080/",
          "height": 35
        },
        "outputId": "86acd69a-a9f0-49ba-89e1-fb594f999f43"
      },
      "source": [
        "print(sum([i for i in range(1,1000) if i % 3 == 0 or i % 5 == 0]))"
      ],
      "execution_count": 12,
      "outputs": [
        {
          "output_type": "stream",
          "text": [
            "233168\n"
          ],
          "name": "stdout"
        }
      ]
    },
    {
      "cell_type": "code",
      "metadata": {
        "id": "dynU7JRNT2UN",
        "colab_type": "code",
        "colab": {
          "base_uri": "https://localhost:8080/",
          "height": 35
        },
        "outputId": "8b0be83d-6324-4eb5-b95c-ee6399d7d2b6"
      },
      "source": [
        "print(sum(list(filter(lambda x : x % 3 == 0 or x % 5 == 0, range(1,1000)))))"
      ],
      "execution_count": 13,
      "outputs": [
        {
          "output_type": "stream",
          "text": [
            "233168\n"
          ],
          "name": "stdout"
        }
      ]
    },
    {
      "cell_type": "markdown",
      "metadata": {
        "id": "LNvOvdJZPgSM",
        "colab_type": "text"
      },
      "source": [
        "## 06-3\n",
        "### 게시판 페이징 하기"
      ]
    },
    {
      "cell_type": "code",
      "metadata": {
        "id": "s0VYGs3hUcFW",
        "colab_type": "code",
        "colab": {
          "base_uri": "https://localhost:8080/",
          "height": 90
        },
        "outputId": "0be930dd-890d-4d4f-e164-31ace0b30aac"
      },
      "source": [
        "def getTotalPage(m, n):\n",
        "    if m % n == 0:\n",
        "        return m // n\n",
        "    else:\n",
        "        return m // n + 1\n",
        "\n",
        "print(getTotalPage(5, 10))\n",
        "print(getTotalPage(15, 10))\n",
        "print(getTotalPage(25, 10))\n",
        "print(getTotalPage(30, 10))"
      ],
      "execution_count": 14,
      "outputs": [
        {
          "output_type": "stream",
          "text": [
            "1\n",
            "2\n",
            "3\n",
            "3\n"
          ],
          "name": "stdout"
        }
      ]
    },
    {
      "cell_type": "code",
      "metadata": {
        "id": "Dmf_KswMU1sN",
        "colab_type": "code",
        "colab": {
          "base_uri": "https://localhost:8080/",
          "height": 90
        },
        "outputId": "54cf2568-d674-45a7-bc39-1bc98b5907a2"
      },
      "source": [
        "def getTotalPage(m, n):\n",
        "    \n",
        "    return m // n if m % n == 0 else m // n + 1\n",
        "\n",
        "print(getTotalPage(5, 10))\n",
        "print(getTotalPage(15, 10))\n",
        "print(getTotalPage(25, 10))\n",
        "print(getTotalPage(30, 10))"
      ],
      "execution_count": 15,
      "outputs": [
        {
          "output_type": "stream",
          "text": [
            "1\n",
            "2\n",
            "3\n",
            "3\n"
          ],
          "name": "stdout"
        }
      ]
    },
    {
      "cell_type": "markdown",
      "metadata": {
        "id": "SbtwH_5HPiZM",
        "colab_type": "text"
      },
      "source": [
        "## 06-4\n",
        "### 간단한 메모장 만들기"
      ]
    },
    {
      "cell_type": "code",
      "metadata": {
        "id": "a6aDtrafV3Ae",
        "colab_type": "code",
        "colab": {}
      },
      "source": [
        "import sys\n",
        "\n",
        "option = sys.argv[1]\n",
        "\n",
        "if option == '-a':\n",
        "    memo = sys.argv[2]\n",
        "    f = open('memo.txt', 'a')\n",
        "    f.write(memo)\n",
        "    f.write('\\n')\n",
        "    f.close()\n",
        "elif option == '-v':\n",
        "    f = open('memo.txt')\n",
        "    memo = f.read()\n",
        "    f.close()\n",
        "    print(memo)"
      ],
      "execution_count": 0,
      "outputs": []
    },
    {
      "cell_type": "code",
      "metadata": {
        "id": "iwVeeH0JV6zS",
        "colab_type": "code",
        "colab": {}
      },
      "source": [
        "run memo.py -a \"Life is too short\" "
      ],
      "execution_count": 0,
      "outputs": []
    },
    {
      "cell_type": "code",
      "metadata": {
        "id": "OjohNV4NWnA3",
        "colab_type": "code",
        "colab": {}
      },
      "source": [
        "run memo.py -a \"You need python\""
      ],
      "execution_count": 0,
      "outputs": []
    },
    {
      "cell_type": "code",
      "metadata": {
        "id": "V2sttzFIWr1O",
        "colab_type": "code",
        "colab": {
          "base_uri": "https://localhost:8080/",
          "height": 72
        },
        "outputId": "917736bb-d9a6-487e-f7f2-37008ec395e0"
      },
      "source": [
        "run memo.py -v"
      ],
      "execution_count": 20,
      "outputs": [
        {
          "output_type": "stream",
          "text": [
            "Life is too short\n",
            "You need python\n",
            "\n"
          ],
          "name": "stdout"
        }
      ]
    },
    {
      "cell_type": "code",
      "metadata": {
        "id": "xdLpvK7IXQX9",
        "colab_type": "code",
        "colab": {}
      },
      "source": [
        "import sys\n",
        "\n",
        "option = sys.argv[1]\n",
        "\n",
        "if option == '-a':\n",
        "    memo = sys.argv[2:]\n",
        "    with open('memo.txt', 'a') as f:\n",
        "        for i in memo:\n",
        "            f.write(i + '\\n')\n",
        "elif option == '-v':\n",
        "    with open('memo.txt') as f:\n",
        "       memo = f.read()\n",
        "    print(memo)"
      ],
      "execution_count": 0,
      "outputs": []
    },
    {
      "cell_type": "code",
      "metadata": {
        "id": "FRU9KTH8XSsn",
        "colab_type": "code",
        "colab": {}
      },
      "source": [
        "run memo.py -a \"Life is too short\" \"You need python\""
      ],
      "execution_count": 0,
      "outputs": []
    },
    {
      "cell_type": "code",
      "metadata": {
        "id": "DMGWh6xeXVUW",
        "colab_type": "code",
        "colab": {
          "base_uri": "https://localhost:8080/",
          "height": 72
        },
        "outputId": "5802d26d-4998-47f1-d39f-8f7a27d2f11b"
      },
      "source": [
        "run memo.py -v"
      ],
      "execution_count": 38,
      "outputs": [
        {
          "output_type": "stream",
          "text": [
            "Life is too short\n",
            "You need python\n",
            "\n"
          ],
          "name": "stdout"
        }
      ]
    },
    {
      "cell_type": "markdown",
      "metadata": {
        "id": "4RAJwgl4Pls0",
        "colab_type": "text"
      },
      "source": [
        "## 06-5\n",
        "### 탭을 4개의 공백으로 바꾸기"
      ]
    },
    {
      "cell_type": "code",
      "metadata": {
        "id": "VGoJHelUZLlv",
        "colab_type": "code",
        "colab": {}
      },
      "source": [
        "import sys\n",
        "\n",
        "src = sys.argv[1]\n",
        "dst = sys.argv[2]\n",
        "\n",
        "f = open(src)\n",
        "tab_content = f.read()\n",
        "f.close()\n",
        "\n",
        "space_content = tab_content.replace(\"\\t\", \" \"*4)\n",
        "\n",
        "f = open(dst, 'w')\n",
        "f.write(space_content)\n",
        "f.close()"
      ],
      "execution_count": 0,
      "outputs": []
    },
    {
      "cell_type": "code",
      "metadata": {
        "id": "u3EYqbwpZMTO",
        "colab_type": "code",
        "colab": {}
      },
      "source": [
        "run tabto4.py a.txt b.txt"
      ],
      "execution_count": 0,
      "outputs": []
    },
    {
      "cell_type": "code",
      "metadata": {
        "id": "n2DaTTDnaOQy",
        "colab_type": "code",
        "colab": {
          "base_uri": "https://localhost:8080/",
          "height": 108
        },
        "outputId": "994aadba-7c5c-4434-d566-8e2c110108a2"
      },
      "source": [
        "with open('a.txt', 'r') as f:\n",
        "    print(f.read())\n",
        "\n",
        "print()\n",
        "\n",
        "with open('b.txt', 'r') as f:\n",
        "    print(f.read())"
      ],
      "execution_count": 45,
      "outputs": [
        {
          "output_type": "stream",
          "text": [
            "Life    is  too short\n",
            "You need    python\n",
            "\n",
            "Life    is  too short\n",
            "You need    python\n"
          ],
          "name": "stdout"
        }
      ]
    },
    {
      "cell_type": "code",
      "metadata": {
        "id": "nknKHXFpg0Eu",
        "colab_type": "code",
        "colab": {}
      },
      "source": [
        "import sys\n",
        "\n",
        "src = sys.argv[1]\n",
        "dst = sys.argv[2]\n",
        "\n",
        "with open(src) as f:\n",
        "    tab_content = f.read()\n",
        "\n",
        "space_content = tab_content.replace(\"\\t\", \" \"*4)\n",
        "\n",
        "with open(dst, 'w') as f:\n",
        "    f.write(space_content)"
      ],
      "execution_count": 0,
      "outputs": []
    },
    {
      "cell_type": "code",
      "metadata": {
        "id": "KqzH_7jRgpwv",
        "colab_type": "code",
        "colab": {}
      },
      "source": [
        "run tabto4.py a.txt b.txt"
      ],
      "execution_count": 0,
      "outputs": []
    },
    {
      "cell_type": "code",
      "metadata": {
        "id": "nAkEh7ccg1-_",
        "colab_type": "code",
        "colab": {
          "base_uri": "https://localhost:8080/",
          "height": 108
        },
        "outputId": "1af30de1-5334-408a-85f0-94308aed2fe2"
      },
      "source": [
        "with open('a.txt', 'r') as f:\n",
        "    print(f.read())\n",
        "\n",
        "print()\n",
        "\n",
        "with open('b.txt', 'r') as f:\n",
        "    print(f.read())"
      ],
      "execution_count": 49,
      "outputs": [
        {
          "output_type": "stream",
          "text": [
            "Life    is  too short\n",
            "You need    python\n",
            "\n",
            "Life    is  too short\n",
            "You need    python\n"
          ],
          "name": "stdout"
        }
      ]
    },
    {
      "cell_type": "markdown",
      "metadata": {
        "id": "rrqk1pNHPp2V",
        "colab_type": "text"
      },
      "source": [
        "## 06-6\n",
        "### 하위 디렉터리 검색하기"
      ]
    },
    {
      "cell_type": "code",
      "metadata": {
        "id": "fIxpi1kahpI5",
        "colab_type": "code",
        "colab": {}
      },
      "source": [
        "import os\n",
        "\n",
        "def search(dirname):\n",
        "    try:\n",
        "        filenames = os.listdir(dirname)\n",
        "        for filename in filenames:\n",
        "            full_filename = os.path.join(dirname, filename)\n",
        "            if os.path.isdir(full_filename):\n",
        "                search(full_filename)\n",
        "            else:\n",
        "                ext = os.path.splitext(full_filename)[-1]\n",
        "                if ext == '.py':\n",
        "                    print(full_filename)\n",
        "    except PermissionError:\n",
        "        pass\n",
        "\n",
        "search(\"c:/\")"
      ],
      "execution_count": 0,
      "outputs": []
    },
    {
      "cell_type": "code",
      "metadata": {
        "id": "cBEHFoodhqXJ",
        "colab_type": "code",
        "colab": {}
      },
      "source": [
        "import os\n",
        "\n",
        "for (path, dir, files) in os.walk(\"c:/\"):\n",
        "    for filename in files:\n",
        "        ext = os.path.splitext(filename)[-1]\n",
        "        if ext == '.py':\n",
        "            print(\"%s/%s\" % (path, filename))"
      ],
      "execution_count": 0,
      "outputs": []
    }
  ]
}